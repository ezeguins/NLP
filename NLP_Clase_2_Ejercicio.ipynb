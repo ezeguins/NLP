{
  "cells": [
    {
      "cell_type": "markdown",
      "metadata": {
        "id": "Ue5hxxkdAQJg"
      },
      "source": [
        "# CEIA\n",
        "\n",
        "\n",
        "## Procesamiento de lenguaje natural\n",
        "### Bot con Spacy utilizando un corpus de wikipedia de Argentinos Juniors\n",
        "\n",
        "#### Para poder utilizar el algoritmo en Español se utiliza la libería Spacy-Stanza\n",
        "\n",
        "##### CONCLUSIONES: No se pudo lograr volver a procesar con el algoritmo Spacy-Stanza (\"nlp()\") solamente el texto ingresado por el usuario. Al tener que volver a procesar todo el texto el sistema es muy lento.\n"
      ]
    },
    {
      "cell_type": "code",
      "execution_count": 62,
      "metadata": {
        "id": "kCED1hh-Ioyf"
      },
      "outputs": [],
      "source": [
        "import json\n",
        "import string\n",
        "import random\n",
        "import re\n",
        "import urllib.request\n",
        "\n",
        "import numpy as np\n",
        "\n",
        "# Para leer y parsear el texto en HTML de wikipedia\n",
        "import bs4 as bs\n"
      ]
    },
    {
      "cell_type": "code",
      "execution_count": 3,
      "metadata": {
        "colab": {
          "base_uri": "https://localhost:8080/",
          "height": 0
        },
        "id": "18f6EO4mqMjf",
        "outputId": "1cdef026-054c-4aee-9558-c14c2d8867f3"
      },
      "outputs": [
        {
          "output_type": "stream",
          "name": "stdout",
          "text": [
            "\u001b[K     |████████████████████████████████| 6.4 MB 5.9 MB/s \n",
            "\u001b[31mERROR: pip's dependency resolver does not currently take into account all the packages that are installed. This behaviour is the source of the following dependency conflicts.\n",
            "en-core-web-sm 3.3.0 requires spacy<3.4.0,>=3.3.0.dev0, but you have spacy 3.1.0 which is incompatible.\u001b[0m\n",
            "\u001b[K     |████████████████████████████████| 342 kB 6.8 MB/s \n",
            "\u001b[?25h"
          ]
        }
      ],
      "source": [
        "# La última versión de spacy-stanza (>1.0) es compatible solo con spacy >=3.0\n",
        "# Nota: spacy 3.0 incorpora al pepiline nlp transformers\n",
        "!pip install -U spacy==3.1 --quiet\n",
        "!pip install -U spacy-stanza==1.0.0 --quiet"
      ]
    },
    {
      "cell_type": "code",
      "execution_count": 4,
      "metadata": {
        "colab": {
          "base_uri": "https://localhost:8080/",
          "height": 487,
          "referenced_widgets": [
            "ba2f743c574d402d89c02a40cedfb39c",
            "f7042d2611bc4c6795e64003754c2e27",
            "927124ac44c44b71b36dc96c0fed0a2f",
            "ad687ad100c546c0ada0f89968badd0e",
            "4ee8264799de4d59a380892b3fd20a33",
            "dd2e15b07a584c9795a81e855719d17d",
            "b379f75f555d49d7b11e73da51d0a15d",
            "860aee660483405a85c3961d736bd0df",
            "bc5c1ecd5aa147c0a82677ce99caed96",
            "dd3146a2a4a64ecf9419426b5c6cc17e",
            "4b17ead124214fcf8e94fbcb9f24c629",
            "62e8c36b7e5140438d130ed0035ee014",
            "9830e34c9cc3440980f3a05d07c30d0e",
            "8e45cfe2dd424744b42aaf26ac130062",
            "3734825ff38b4c78a0107a1cc27c9c9f",
            "60e753feaea4455bbb1b2f6e9af0d59b",
            "c613dbc1e32f4ff8aef228dc9c2431a3",
            "51529817315547148b0643b0eefbe5c6",
            "b35d58b4ff374f12b9c49dcbef944295",
            "7576e95ed49341f49f7e6d05b46401b2",
            "01e65a8dc1ed4f6b8f637990b68b4e16",
            "46fead93aa5b42a0beea22040d7a2616"
          ]
        },
        "id": "hSkZMtZNqQHS",
        "outputId": "3af11522-aca0-4a8e-c0c5-5e2d957901ed"
      },
      "outputs": [
        {
          "output_type": "display_data",
          "data": {
            "text/plain": [
              "Downloading https://raw.githubusercontent.com/stanfordnlp/stanza-resources/main/resources_1.2.2.json:   0%|   …"
            ],
            "application/vnd.jupyter.widget-view+json": {
              "version_major": 2,
              "version_minor": 0,
              "model_id": "ba2f743c574d402d89c02a40cedfb39c"
            }
          },
          "metadata": {}
        },
        {
          "output_type": "stream",
          "name": "stderr",
          "text": [
            "2022-07-07 12:53:50 INFO: Downloading default packages for language: es (Spanish)...\n"
          ]
        },
        {
          "output_type": "display_data",
          "data": {
            "text/plain": [
              "Downloading http://nlp.stanford.edu/software/stanza/1.2.2/es/default.zip:   0%|          | 0.00/566M [00:00<?,…"
            ],
            "application/vnd.jupyter.widget-view+json": {
              "version_major": 2,
              "version_minor": 0,
              "model_id": "62e8c36b7e5140438d130ed0035ee014"
            }
          },
          "metadata": {}
        },
        {
          "output_type": "stream",
          "name": "stderr",
          "text": [
            "2022-07-07 12:55:42 INFO: Finished downloading models and saved to /root/stanza_resources.\n",
            "2022-07-07 12:55:42 INFO: Loading these models for language: es (Spanish):\n",
            "=======================\n",
            "| Processor | Package |\n",
            "-----------------------\n",
            "| tokenize  | ancora  |\n",
            "| mwt       | ancora  |\n",
            "| pos       | ancora  |\n",
            "| lemma     | ancora  |\n",
            "| depparse  | ancora  |\n",
            "| ner       | conll02 |\n",
            "=======================\n",
            "\n",
            "2022-07-07 12:55:42 INFO: Use device: cpu\n",
            "2022-07-07 12:55:42 INFO: Loading: tokenize\n",
            "2022-07-07 12:55:42 INFO: Loading: mwt\n",
            "2022-07-07 12:55:42 INFO: Loading: pos\n",
            "2022-07-07 12:55:42 INFO: Loading: lemma\n",
            "2022-07-07 12:55:42 INFO: Loading: depparse\n",
            "2022-07-07 12:55:42 INFO: Loading: ner\n",
            "2022-07-07 12:55:44 INFO: Done loading processors!\n"
          ]
        }
      ],
      "source": [
        "import stanza\n",
        "import spacy_stanza\n",
        "# Vamos a usar SpaCy-Stanza. Stanza es una librería de NLP de Stanford\n",
        "# SpaCy armó un wrapper para los pipelines y modelos de Stanza\n",
        "# https://stanfordnlp.github.io/stanza/\n",
        "\n",
        "# Descargar el diccionario en español y armar el pipeline de NLP con spacy. \n",
        "stanza.download(\"es\")\n",
        "nlp = spacy_stanza.load_pipeline(\"es\")"
      ]
    },
    {
      "cell_type": "code",
      "execution_count": 5,
      "metadata": {
        "id": "iV_g_TgcqfbI"
      },
      "outputs": [],
      "source": [
        "import re\n",
        "import unicodedata\n",
        "\n",
        "# El preprocesamento en castellano requiere más trabajo\n",
        "\n",
        "# Referencia de regex:\n",
        "# https://docs.python.org/3/library/re.html\n",
        "\n",
        "def preprocess_clean_text(text):    \n",
        "    # sacar tildes de las palabras\n",
        "    text = unicodedata.normalize('NFKD', text).encode('ascii', 'ignore').decode('utf-8', 'ignore')\n",
        "    # quitar caracteres especiales\n",
        "    pattern = r'[^a-zA-z0-9.,!?/:;\\\"\\'\\s]' \n",
        "    text = re.sub(pattern, '', text)\n",
        "    pattern = r'[^a-zA-z.,!?/:;\\\"\\'\\s]' \n",
        "    # quitar números\n",
        "    text = re.sub(pattern, '', text)\n",
        "    # quitar caracteres de puntiación\n",
        "    text = ''.join([c for c in text if c not in string.punctuation])\n",
        "    return text"
      ]
    },
    {
      "cell_type": "markdown",
      "metadata": {
        "id": "DMOa4JPSCJ29"
      },
      "source": [
        "### Datos\n",
        "Se consumira los datos del artículo de wikipedia sobre el club Argentinos Juniors"
      ]
    },
    {
      "cell_type": "code",
      "execution_count": 6,
      "metadata": {
        "id": "RIO7b8GjAC17"
      },
      "outputs": [],
      "source": [
        "raw_html = urllib.request.urlopen('https://es.wikipedia.org/wiki/Asociaci%C3%B3n_Atl%C3%A9tica_Argentinos_Juniors')\n",
        "raw_html = raw_html.read()\n",
        "\n",
        "article_html = bs.BeautifulSoup(raw_html, 'lxml')\n",
        "\n",
        "article_paragraphs = article_html.find_all('p')\n",
        "\n",
        "article_text = ''\n",
        "\n",
        "for para in article_paragraphs:\n",
        "    article_text += para.text\n",
        "\n",
        "article_text = article_text.lower()"
      ]
    },
    {
      "cell_type": "code",
      "execution_count": 7,
      "metadata": {
        "colab": {
          "base_uri": "https://localhost:8080/",
          "height": 128
        },
        "id": "pUH30a1_rOkS",
        "outputId": "a8e5f904-ce01-4468-a121-913c59019137"
      },
      "outputs": [
        {
          "output_type": "execute_result",
          "data": {
            "text/plain": [
              "'la asociación atlética argentinos juniors, conocida como argentinos juniors o simplemente argentinos, es una grande centenaria institución polideportiva fundada el 15 de agosto de 1904 en el barrio de villa crespo, ciudad autónoma de buenos aires, argentina. participa en la liga profesional de fútbol argentino. para mayo del 2022 el club poseia 13.799 socios. \\nsu disciplina más destacada es el fútbol, en el que es reconocido por la fifa como uno de los 11 clubes clásicos de la argentina,[1]\\u200b siendo reconocido ante todo por ser un club formador de numerosos futbolistas de proyección internacional como diego armando maradona, fernando redondo, juan román riquelme, claudio borghi, esteban cambiasso, sergio batista, juan pablo sorin, fernando cáceres, leonel gancedo, diego placente, nicolás pareja, néstor ortigoza, lucas biglia, lucas barrios, federico insúa, leonardo pisculichi, andrés d\\'alessandro, fabricio coloccini,esteban rolón, juan ramírez y nicolás iván gonzález (entre otros). por tal motivo, es reconocido tanto por la afa como por la prensa especializada como el semillero del mundo.[2]\\u200b\\nposee 3 predios propios en la ciudad de buenos aires que suman 15 hectáreas, para su gran cantidad de actividades sociales, culturales, recreativas y deportivas: el complejo polideportivo \"las malvinas\" en el barrio de la paternal, el centro de entrenamiento y formación para el fútbol amateur (ceffa) en bajo flores donde se encuentra el moderno centro de futbol profesional, denominado \"sergio daniel batista\" y su estadio de fútbol, el \"diego armando maradona\", que se encuentra ubicado en villa general mitre.[3]\\u200b\\nen su historia se ha adjudicado 3 títulos en la primera división del fútbol argentino, siendo campeón por primera vez en el campeonato de primera división de 1984.[4]\\u200b luego ganaría el nacional 1985[5]\\u200b y posteriormente el clausura 2010.[6]\\u200b en el plano internacional fue el quinto de los ocho equipos argentinos en conquistar la copa libertadores de américa tras ganarla en su primera participación, en el año 1985,[7]\\u200b lo que le permitió participar en la copa intercontinental (la cual perdió en definición por penales contra la juventus de italia en el que fue designado por la fifa como el mejor partido en la historia de dicho certamen)[2]\\u200b y la copa interamericana, que ganó en diciembre de 1986.[8]\\u200b también alcanzó las semifinales tanto en la supercopa 1989[9]\\u200b como en la copa sudamericana 2008.[10]\\u200b\\nes el duodécimo equipo en la clasificación histórica de la primera división de argentina y ha disputado la mayoría de las temporadas en esa categoría.\\nel 14 de agosto de 1904, un grupo de amigos vinculados por sus ideas anarquistas que se destacaban ampliamente jugando al fútbol disputan un pergamino entre sus respectivos equipos: sol de la victoria y mártires de chicago, este último nombre elegido para conmemorar a los obreros fallecidos en la revuelta de haymarket, quienes dieron origen al 1º de mayo como día internacional de los trabajadores. el encuentro se disputó en un potrero que se encontraba en las inmediaciones de donde actualmente está el monumento al cid campeador. encabezados por los hermanos josé y carlos agostini, que querían encontrar un lugar donde reunirse más a menudo, logran ablandar al sereno de una obra en construcción en la avenida corrientes y aráoz. al día siguiente, 15 de agosto, en ese lugar entre andamios y ladrillos, se celebra el acto de fundación del nuevo club, invitando a todos los participantes del encuentro referenciado más arriba.\\nson socios fundadores entre otros julián ducasse, luis y ángel cagnoli, los nombrados hermanos agostini, carlos y josé braga, luis cavatorta, francisco demarco, vicente pirro, ernesto capurro, juan curballati, alfredo sifredi, antonio castellano y leandro ravera bianchi, quien es nombrado presidente de la institución.\\nel flamante club comienza a organizarse y una de las primeras cuestiones era armar el sello oficial del club. los jóvenes habían definido que el nombre fuera asociación atlética y futbolística argentinos unidos de villa crespo, pero cuando fueron a encargar el sello el propio fabricante sugiere cambiarlo por uno más corto y es allí donde deciden el definitivo asociación atlética argentinos juniors.\\ninmediatamente a su fundación, el club adoptó los colores rojo y blanco, con predominancia del primero para identificarse, en homenaje a la elección del dr. alfredo palacios como diputado nacional por el partido socialista. se dejó así de lado al verde y blanco que identificaba al antecesor equipo mártires de chicago. ante la intención de afiliarse por tercera vez a la argentina association football league, la más prestigiosa de entonces, existía cierto temor respecto a ser rechazados nuevamente por la asociación , por lo que optan por afiliarse a la liga central de football, una liga menor que agrupaba a clubes de barrio y de empresas comerciales. en 1905 inicia sus competencias y su primer partido le depara una desastrosa derrota por 12-1 frente al club la prensa. no obstante el nefasto arranque, el incipiente argentinos juniors se consagraría campeón en el primer campeonato que disputó. por entonces, el club seguía jugando sus encuentros allí donde se habían reunido sus fundadores por primera vez, en el potrero ubicado en la avenida gaona y la calle añasco -hoy dr. nicolás repetto-.\\ncomo la ocupación del predio era irregular, el club es desalojado y alquila un predio en villa ballester, donde ejerce la localía durante el siguiente año, retornando a su zona de origen en 1907, entonces en la intersección de parral y luis viale. dos años después se consigue finalmente la preciada plaza en la asociación. tras una breve excursión por villa urquiza, vuelven al predio de parral. en 1912 se produce un cisma entre los clubes que formaban la asociación, y los equipos que intentaban quitarle su poderío a la misma ofrecen a argentinos un ascenso inmediato a cambio de seguirlos, opción rechazada de plano ya que la promoción debía ganarse en el terreno de juego y no en los escritorios. se persevera en la división intermedia, mudanza a fraga y estomba mediante. también se vuelven a adoptar temporalmente los colores verde y blanco, por existir otros equipos con casaca rojiblanca en la misma divisional.[11]\\u200b\\nya en 1921, se consigue el preciado ascenso a primera división tras ganar un torneo reducido, y cuatro años después la localía se establece finalmente en la paternal, alquilándose un lote en avenida san martín y punta arenas donde se construye un estadio moderno para la época con una capacidad de 10\\xa0000 espectadores. la nueva cancha traería buena suerte, ya que en 1926 se conseguiría el primer subcampeonato del equipo, cuya principal figura era luis vaccaro. el crecimiento deportivo e institucional se reflejaba en el aumento del padrón societario, siendo argentinos uno de los 14 clubes de fútbol del país que superaban los 1000 socios.[12]\\u200b\\nargentinos era uno de los clubes en mejores condiciones en el amateurismo y eso conduce a que en 1931 sea impulsor de la creación de la primera liga profesional del país, junto con otros 17 clubes. los inicios son complejos, ya que los salarios de los deportistas pasaron a ser cargas muy onerosas. las dificultades económicas conducen a que en 1934 se obligue al club a fusionarse con atlanta para poder seguir compitiendo. la unión resultaría nefasta, perdiéndose casi todos los partidos, aunque duraría menos de 6 meses. atlanta sería suspendido y se desafiliaría por cuestiones internas, mientras que argentinos enfrentaba una realidad muy compleja. con la unificación de las dos ligas existentes y la creación de la asociación del fútbol argentino, se crea un sistema de ascensos y descensos que comenzaría a regir en 1937. ese mismo año se consumaría el descenso del club, inmerso en una situación económica crítica, que condujo también a que sea desalojado del estadio de avenida san martín y punta arenas, no pudiendo afrontar los gastos del alquiler.[12]\\u200b\\nsin ninguno de sus privilegios y en una situación muy precaria, debía afrontarse el torneo de segunda división. la falta de un estadio propio implica jugar de local en el estadio del viejo rival del amateurismo sportivo palermo o en la más cercana cancha de ferro. dos años después, compitiendo como se podía en la b, es electo presidente gastón garcía miramón, quien alquila de su bolsillo el predio de boyacá y médanos -actual juan agustín garcía-, donde el club juega todavía hoy, además de hacerse con materiales para erigir un humilde estadio de tablones de madera. la inauguración sería en 1940, en un partido ante barracas central, que argentinos ganaría por 2-1, dando inicio a una campaña en que se consagraría campeón de la división sin ser promovido a la división de honor por una cuestión burocrática, debido a que no tenía un estadio en buenas condiciones para afrontar la máxima categoría, obteniendo a cambio una magra indemnización económica por parte de la afa.[12]\\u200b[13]\\u200b\\ndesde entonces, el desempeño mejoraría gradualmente y se dejaría de lado la irregularidad. la incorporación del gran goleador héctor ingunza en 1943 otorga un salto de calidad al equipo, que gana en convocatoria y consagra su arraigo definitivo en el barrio. las actividades sociales y culturales se multiplican, creciendo nuevamente el padrón de asociados e incorporándose otros deportes además del fútbol profesional. en 1948 el equipo marchaba puntero, pero una huelga de futbolistas interrumpe el campeonato y la afa decreta el ascenso de ferro y atlanta sin mayores fundamentos, perjudicando arbitrariamente al club. la inflexión se marcará seis años después. argentinos finalizará en la segunda posición, contando con la mejor ofensiva. y en 1955, finalmente se conseguiría un ascenso ganado de manera formidable. 18 años luego de descender, los criollos, como se apodaba entonces al equipo, volvían a su lugar de origen a lo grande.[13]\\u200b\\nel retorno a la primera división se dio con un partido en el viejo gasómetro ante san lorenzo, con la presencia de una multitud de hinchas del club de la paternal que vieron finalmente su sueño cumplido de codearse nuevamente con los grandes del fútbol nacional. el primer año fue difícil y la permanencia en primera se consiguió de manera angustiosa. posteriormente, el equipo se afianzaría sobre la base de dos grandes pilares, que siguen siendo sus principales rasgos identitarios: un fútbol vistoso y ofensivo, donde prima jugar bien por sobre ganar, y la producción constante de jugadores de primer nivel en las divisiones inferiores. en aquellos años se dieron las primeras muestras de la calidad de la cantera, con cracks como pederzoli, pando, oscar distéfano y nappe, algunos de los cuales tendrían futuro de selección nacional.[13]\\u200b fue por este entonces que argentinos juniors recibió el apelativo de bichos colorados, por tratarse de un humilde equipo de la primera división de camiseta roja que se hacía muy fuerte como local y que presentaba un verdadero escollo principalmente para los equipos grandes.\\nel año 1960 resultó consagratorio para el club y se lista entre los más importantes de su historia deportiva. por primera vez argentinos tenía un equipo poderoso, basado en las joyas de su cantera como pando, sciarra, ditro, sainz o moreno, algunas incorporaciones desde equipos del ascenso como carceo o hugo gonzález, jugadores traídos desde el interior del país como canseco, tejerina y villalba, y otros descartados de equipos grandes como valentino, ramacciotti y malazzo. este equipo insignia peleó el campeonato hasta la penúltima fecha, caracterizándose por un juego tan vistoso como efectivo. debe destacarse que, hasta 1967, ningún equipo además de boca, river, racing, independiente o san lorenzo, había conquistado un campeonato de primera división. así adquiría más valor el primer tercer puesto profesional de la escuadra de la paternal.[14]\\u200b\\nluego de aquella hazaña, el equipo fue diezmado, aunque se mantuvo una regularidad tibia, fundamentada en la continua renovación del plantel a partir de las inferiores, período en que se destaca la aparición en primera en 1966 de un talentoso volante de contención, muy identificado con el club, josé néstor pékerman, quien luego se retiraría siendo joven y haría un excelente trabajo en las divisiones inferiores. hacia finales de la década de 1960, los problemas con el descenso se hicieron moneda corriente, con una salvada en las últimas fechas en 1969 incluida. dos años más tarde, un equipo prácticamente salido de las juveniles, con figuras como hugo pena, chiche sosa y rafael moreno, consigue otra permanencia agónica tras vencer al futuro campeón independiente en la penúltima fecha. ese resultado condenó al descenso a otro equipo que solía disputar la permanencia, platense, naciendo desde entonces una gran rivalidad entre estos dos clubes.[14]\\u200b\\nargentinos juniors era un equipo consolidado en primera desde hacía casi veinte años, teniendo como una premisa principal el trabajo con las divisiones inferiores. es por aquellos años que el entrenador de juveniles francis cornejo forma un equipo infantil para disputar los torneos evita de 1973. quizás uno de los más fanáticos hinchas de argentinos que se hayan visto, cornejo no quiso inscribir a ese equipo con el nombre \\'argentinos juniors\\' con el temor de perder algún partido por paliza y poner en discusión el prestigio del club. por eso, inscribe bajo el nombre los cebollitas a aquellos jugadores que todavía no tenían edad para ingresar a la novena división del bicho. lejos de las inseguridades del entrenador, cebollitas quizás sea el equipo infantil más famoso de la historia del fútbol argentino, debido a que resultó ser una máquina de ganar, manteniendo una impresionante racha invicta de 136 partidos y ganando la mayoría de ellos, en numerosas ocasiones con resultados abrumadores.[15]\\u200b\\nlos cebollitas consiguieron notoriedad nacional, llegando a ser mencionados en la prensa y a encarar giras por países como perú y uruguay, algo inédito para un equipo de chicos de 12 y 13 años de edad. el capitán de ese equipo, un zurdo de villa fiorito, partido de lomas de zamora, petiso, flaquito y con mucho pelo negro y enrulado, y también el jugador más joven, pronto se destacó por sobre el resto, concitando la atención de los medios nacionales. cebollitas fue el primer paso de una leyenda, de diego armando maradona, el pelusa, a la postre el mejor futbolista argentino del siglo xx. la formación habitual que cornejo ponía en cancha estaba compuesta por ojeda; trotta, chaile, chammah, montaña; lucero, dalla buona, maradona -capitán-; duré, carrizo y delgado. ganaron los dos campeonatos evita que disputaron (1973 y 1974) y también los torneos de 9.ª y 8.ª división de afa.[16]\\u200b\\nmanteniéndose siempre en primera división pero generalmente lejos de los puestos de vanguardia, argentinos solamente podía estar orgulloso de su cantera. en 1976, esa cantera le brindaría al club un privilegio único e inigualable en la historia del fútbol argentino, incomparable con cualquier título o revelación. el martes 20 de octubre de aquel año, en un partido contra talleres de córdoba válido por el torneo metropolitano jugado en el estadio de juan agustín garcía y boyacá, haría su debut en primera división con el dorsal 16 uno de los mejores futbolistas de todos los tiempos:[17]\\u200b[18]\\u200b[19]\\u200b diego armando maradona, el crack de cebollitas, que apenas contaba con dos años y medio en las divisiones inferiores del club y a quien le faltaban diez días para cumplir 16 años de edad, siendo el jugador más joven en debutar en la primera división hasta aquel entonces. el partido fue ganado por talleres por la mínima diferencia, pero el ingreso de diego cambió la dinámica del partido, destacándose el hecho de que le tiró un caño a su marcador del equipo cordobés en la primera pelota que disputó.[20]\\u200b\\nla calidad y el coraje que mostró maradona convencieron al director técnico juan carlos montes de convocarlo permanentemente a los partidos de la primera pese a su corta edad. convirtió sus primeros dos goles en la división mayor pocos días después, el 14 de noviembre del mismo año, ante san lorenzo de mar del plata,[21]\\u200b[22]\\u200b en un partido que argentinos ganó por 5 a 2. virtudes como las de maradona eran extraordinarias desde todo punto de vista. con apenas 16 años de edad contaba con las aptitudes que lo consagrarían entre los mejores de todos los tiempos: capacidad goleadora, una excelente técnica, mucha picardía para jugar, buena pegada en balones parados, mucha potencia, velocidad, panorama y sobre todo una enorme capacidad de desequilibrio. poco tardó en conseguir la titularidad como número 10 del equipo, y tan pronto como en febrero de 1977 fue convocado a la selección nacional por el dt césar luis menotti, para un amistoso frente a su par de hungría. dentro de un equipo que contaba con figuras de la talla de américo gallego, hugo gatti, osvaldo ardiles y rené houseman, diego no desentonó. ingresó a los 20 minutos del segundo tiempo en reemplazo de otro jugador de clase internacional como leopoldo jacinto luque y pudo colocar un pase gol en la victoria por 5-1.\\nla trascendencia mundial que adquirieron tanto el propio jugador como el club donde se desempeñaba como profesional no han tenido parangón en la historia del fútbol argentino. argentinos y maradona tuvieron una explosión de popularidad. el club consiguió una relevancia dentro y fuera del país que antes no tenía, incrementando exponencialmente el número de hinchas y simpatizantes, llenando canchas de local y de visitante, pues todo futbolero quería ver al pibe de oro. medios locales y extranjeros seguían los pasos de maradona, quien otorgó al club un importantísimo salto de calidad futbolístico. tal era la notoriedad conseguida que frecuentemente argentinos debía ejercer la localía fuera de la paternal para poder albergar a la enorme cantidad de público que seguía al equipo. se dejó de lado la pelea por el descenso y ya en 1978 el equipo peleaba codo a codo en la vanguardia de la primera división, finalizando en el quinto lugar del metropolitano de aquel año y consiguiendo el primer subcampeonato oficial del club en 1980, a 9 puntos del campeón, river plate. argentinos tuvo la desventaja de no poder contar con su figura en los partidos decisivos, puesto que se encontraba concentrado con el seleccionado nacional.\\nen aquel período, maradona estableció un récord que aún no pudo ser igualado: se consagró como máximo goleador de la división en cinco campeonatos consecutivos (metropolitano 1978, metropolitano 1979, nacional 1979, metropolitano 1980 y nacional 1980, este último donde alcanzaría los 100 goles en primera y donde también sería visto desde la tribuna por el representante de queen, jim beach, lo que fue el origen de su encuentro con freddie mercury [23]\\u200b). también, con 116 conquistas, fue el máximo goleador histórico en la primera división de argentinos juniors.[22]\\u200b durante su estadía en el club siguió siendo convocado con frecuencia a la selección mayor pese a su corta edad, aunque no estuvo entre los jugadores que ganarían el mundial 78. conseguiría su primer título como jugador en el campeonato mundial juvenil de japón 1979, siendo el capitán, formando una temible dupla ofensiva con ramón díaz, siendo elegido el mejor jugador del campeonato y convirtiendo el último gol en la final ante la unión soviética.[14]\\u200b además, el mismo año ganaría el olimpia de oro al deportista argentino del año.\\npese al éxito, los triunfos, goleadas memorables y la inserción del club en la primera plana nacional, las condiciones económicas de argentinos no eran las ideales, y hubo varios intentos de otros equipos, principalmente river plate, boca juniors y el barcelona español, para hacerse con los servicios del pelusa. una de las primeras salidas que encontró la comisión directiva presidida por próspero cónsoli, fue la de realizar giras por el interior para recaudar dinero y poder pagar el elevado contrato de diego. las mismas solían ser exitosas y registrar grandes recaudaciones, pero tenían impacto negativo sobre el físico de los jugadores, que veían mermada su capacidad en los partidos oficiales. la otra, una innovación absoluta, fue la de incluir un patrocinante en la camiseta. a cambio de la inclusión de un discreto letrero en el sector superior izquierdo del frente de la camiseta y del pantalón, la empresa de aeronavegación austral se convirtió en la primera marca en la historia del fútbol argentino en aparecer en la camiseta de un equipo, haciéndose cargo de pagar el contrato de maradona durante 1980. réplicas de esa histórica camiseta se siguen vendiendo incluso hoy. finalmente, en 1981, tras febriles negociaciones, diego fue cedido a préstamo con opción de compra a boca juniors, a cambio de 4 millones de dólares y a ceder los pases de los jugadores carlos randazzo, el loco salinas, eduardo rotondi y osvaldo santos y los préstamos por un año de mario zanabria y miguel ángel bordón, cerrando así una brillante etapa de cuatro años con dos meses y 166 partidos jugados en la primera división del club que lo vio nacer y lo formó ,desde los 9 años.\\nla partida de maradona del equipo se hizo sentir profundamente. el equipo pasó del subcampeonato obtenido con su figura indiscutible en 1980 a un comienzo promisorio en 1981 que se iría desdibujando gradualmente con el correr de los partidos al no hallarse un buen funcionamiento colectivo. de la intrascendencia en mitad de tabla con un equipo que jugaba mal y carecía de referentes, se acabó en un insólito penúltimo puesto hacia el final del metropolitano, que como en viejas épocas comprometía la permanencia del equipo en primera. el fixture indicaba que el 15 de agosto -día del 77° aniversario de la institución-, en la última fecha, argentinos recibía como local a san lorenzo, que, sumido en una crisis institucional, deportiva y económica que entre otras catastróficas consecuencias lo había despojado de su estadio, era el equipo que marchaba en la antepenúltima colocación, apenas un punto por encima del tifón. el único resultado que permitiría la permanencia de argentinos en la a era un triunfo. jugado en el estadio de ferro que registró su récord histórico de asistencia, el encuentro fue pleno en tensión y fricción, acorde con lo que se estaba disputando. tal es así que a los 17 minutos del primer tiempo, el árbitro espósito cobra penal por una mano casual en el área del lateral magallanes, de argentinos. el golero uruguayo alles contuvo tanto el penal como el rebote del jugador delgado del cuervo. sobre el final del primer tiempo, una violenta falta en el área grande del hueso glaría, de san lorenzo, sobre el citado magallanes, también se hace acreedora de la pena máxima. salinas, uno de los jugadores cedidos por boca a cambio de maradona, cambió la falta por gol. la segunda mitad fue toda para san lorenzo, quien empujó, luchó, metió, pero no pudo convertir, ante una estupenda tarea de alles. cuando terminó el partido se había consumado un milagro: el humilde club de la paternal hacía historia siendo el primer equipo en el fútbol argentino que mandó a un \"grande\" a la primera b.[24]\\u200b[25]\\u200b\\nluego de semejante hazaña, maradona regresó al club, siendo que boca no estaba en condiciones de enfrentar las obligaciones pactadas por el préstamo. el 10 no volvió a jugar en argentinos, siendo de inmediato transferido al barcelona español, en el que debutaría luego del mundial de españa de ese año. el equipo culé pagó al contado 5.800.000 dólares, dinero suficiente como para incorporar un plantel completo o hacer un estadio nuevo de última generación. la dirigencia de entonces priorizó la realización de muy importantes obras en el complejo polideportivo las malvinas, incluyendo disciplinas deportivas nuevas para el club, pero quizás, desperdiciando una oportunidad única, que no se volvería a repetir. tal fue la desatención respecto del fútbol, que ese año el equipo volvería a conservar la categoría en la última jornada.[25]\\u200b\\nluego de tales vacilaciones, ante la urgencia de mejores resultados, ya con una nueva cd, encabezada por el nuevo presidente domingo tesone, se encaró un proyecto a largo plazo con miras a cobrar protagonismo en el fútbol profesional. una de las primeras medidas fue la contratación del prestigioso técnico ángel labruna en enero de 1983, quien no solamente trajo consigo una nueva filosofía de juego -que, entre otras cosas incluyó mudar la localía al estadio de ferro-, porque argumentaba que el estilo de juego de argentinos merecía un campo de juego más grande, ya que en ese entonces la cancha medía 96 por 65 metros, sino también ciertos jugadores de experiencia como el pato fillol, pepe castro y el chivo pavoni. ese equipo tiene un buen rendimiento, aunque no consigue campeonar, siendo relegado por el poderoso independiente de ricardo bochini. en el mes de septiembre, el feo labruna es internado para realizarse una cirugía de vesícula. mientras era visitado por su hijo omar y el pato fillol, falleció de un paro cardíaco. contaba con 64 años de edad.[26]\\u200b\\nhuérfano del mentor de su proyecto futbolístico, argentinos contrata a roberto saporiti como director técnico. se daba inicio a la época dorada del club, que se iniciaría con la conquista del metropolitano 1984. en ese torneo, el equipo de la paternal se mantuvo siempre en los puestos de vanguardia desplegando un fútbol brillante, vistoso y ofensivo, que se convertiría en su marca distintiva y le ganaría la simpatía de buena parte del público futbolero. el rival a vencer era el equipo con quien compartía la localía, el ferro de carlos timoteo griguol, con cacho saccardi como principal figura, y que llevaba adelante un estilo futbolístico más bien opuesto.\\nel título se definió recién en la última fecha. argentinos y el verde llegaban igualados en puntaje, debiendo recibir el primero a temperley y visitar el segundo a estudiantes de la plata, equipo que marchaba en la tercera posición pero sin chances de salir campeón. los partidos se jugaron en simultáneo el domingo 23 de diciembre de 1984, ante sendos estadios repletos. el tifón conseguiría su primer título oficial tras vencer por 1 a 0 con gol de penal de jorge mario olguín a los 35 minutos del primer tiempo y ante el empate en 1 en la plata. el encuentro debió suspenderse a los 86\\' por la invasión de los hinchas de argentinos al campo de juego.[27]\\u200b\\nla tabla de posiciones terminó de esta forma:[4]\\u200b\\nel goleador de ese campeonato fue pedro pasculli, con 21 conquistas, siendo además el top scorer del año con 30 goles. una de las particularidades de ese equipo es que su formación base es muy recordada por el público en general: quique vidallé, carmelo villalba, el chivo pavoni, jorge olguín, el ruso domenech -capitán-; el nene commisso, el checho batista, el panza videla; pepe castro, pedro pasculli y carlos ereros. por otra parte también integraron el equipo campeón: césar mendoza, miguel ángel lemme, carlos alberto mayor, carlos olarán, pellegrini, claudio borghi, carlos morete, renato corsi, juan josé lópez y armando dely valdés. ese mismo equipo titular, con eventuales variantes, formaría la base de las siguientes tres conquistas del club, que se dieron en los dos años siguientes.\\n\\nalineación:\\ncomo campeón vigente del metropolitano 1984, argentinos afrontó el nacional 1985 con el mismo plantel que había conseguido el primer título en los 80 años de vida del club. quizás la única variante fue la irrupción definitiva como titular de uno de los jugadores más talentosos que hayan surgido de su cantera: el bichi borghi, que se adueñó de la camiseta 9. tras el alejamiento de saporiti de la dirección técnica, se contrató a josé yudica como dt, quien había salido campeón con quilmes hacía siete años y había conseguido el inmediato ascenso de san lorenzo tres años atrás.\\nel grupo de la primera ronda parecía sencillo de antemano para el campeón argentino. debía enfrentar a chacarita, belgrano de córdoba y central norte. argentinos finalizó primero en el grupo de manera invicta, incluyendo una categórica victoria por 8-0 ante el equipo de salta, goleada en la que pasculli convirtió cinco goles, ganándose una convocatoria a la selección nacional. en la siguiente rueda dio cuenta de ferro por un contundente 3-0, clasificándose para la siguiente fase donde debía enfrentar al buen equipo de vélez. los enfrentamientos contra el equipo de liniers serían a ida y vuelta. argentinos ejerció la localía en el primer partido en la bombonera, ganando 2-0 con un gol olímpico del panza videla incluido, y la revancha fue en el amalfitani, donde la v azulada triunfó por el mismo marcador. la paridad en el resultado global condujo a una definición por penales, donde vidallé fue la figura del visitante, que clasificó a la final del torneo.\\ntras jugar una repesca, el mismo equipo de vélez clasificó a la definición contra el bicho, que debía jugarse en un estadio neutral, el monumental, también a partido y revancha. el primer encuentro fue un empate en 1 con gol de borghi, que luego se perdería en la definición por penales. en el partido definitivo, pepe castro convirtió para el equipo de la paternal a los 5 del segundo tiempo, empatando comas ocho minutos más tarde. después, el tifón contó con un penal a favor, que fue pateado por olguín y atajado por navarro montoya, el juvenil arquero velezano. quince minutos después, un zapatazo cruzado desde los bordes del área grande a cargo del checho batista puso cifras definitivas. argentinos juniors se consagraba bicampeón.[28]\\u200b la rivalidad deportiva entre estas dos instituciones cercanas en la ciudad se profundizó mucho luego de esta serie de enfrentamientos, llegándose a incidentes violentos que configuraron un profundo antagonismo entre ellas que todavía persiste.\\ncampeón nacional 1985\\nalineación:\\nen el mismo año en que el bicho se consagraría por segunda vez consecutiva campeón en el plano local, debía debutar en la copa libertadores por haberse adjudicado el metropolitano de 1984. la primera fase que debería afrontar se adivinaba compleja, siendo que el grupo estaba integrado por los conjuntos cariocas fluminense y vasco da gama, y por uno de los mejores equipos argentinos de aquel entonces, ferro. pese a haber debutado en la copa con una derrota 1 - 0 frente a este último equipo, el bicho se repondría y haría historia en brasil, triunfando tanto frente al vasco da gama por 2 - 1 como ante fluminense por la mínima, en el mítico estadio maracaná. tras los partidos de vuelta, disputados en caballito, que depararon un empate agónico en 2 contra vasco da gama y un claro triunfo 3 - 1 ante el tricolor carioca, el club de la paternal conseguiría la clasificación a la siguiente rueda luego de vencer 3 a 1 en un partido de desempate al otro equipo argentino que lo igualaba en puntaje.\\nen la fase semifinal completó el grupo conformado por blooming de bolivia y el campeón vigente de la libertadores y de la intercontinental, independiente. tras empatar en 2 contra el diablo como local, rescatar un 1 - 1 de su excursión a santa cruz de la sierra y un triunfo en la revancha contra el mismo rival, argentinos encaraba la definición debiendo ganarle sí o sí al poderoso equipo de avellaneda como visitante para alcanzar la final. el partido decisivo se lista entre los enfrentamientos más memorables en la historia de la copa ya que resultó altamente emotivo además de haber sido jugado en gran nivel. el tifón se fue al entretiempo ganando 2 a 1 (tras los goles de castro y videla -este último, de penal- y el descuento de percudani para el equipo local) y al regreso del descanso defendió el resultado recurriendo a su juego de buen pie, pese a los embates permanentes del rojo. faltando dos minutos para el final del partido, este equipo contó con un penal, pateado por marangoni y contenido por quique vidallé -quien había cometido la infracción-, sellándose así el resultado. las crónicas de la época y las imágenes que han quedado dan cuenta de que locales y visitantes abandonaron el terreno de juego entre grandes ovaciones que provenían de ambas parcialidades, en agradecimiento al espectáculo entregado. el bicho alcanzaba la final continental en su primera participación en el torneo, habiendo dejado en el camino durísimos rivales y mostrando pasajes de gran nivel de juego.\\nla final debía disputarse frente al conjunto colombiano américa de cali, que contaba con figuras como los argentinos julio césar falcioni y ricardo gareca o el juvenil colombiano antony de ávila. el primer partido disputado en el estadio monumental de buenos aires fue un triunfo por la mínima a favor del conjunto de la paternal, con gol del nene commisso. en la revancha en cali el resultado fue el mismo, pero a favor del equipo colombiano. el reglamento de entonces determinaba que ante tal paridad debía disputarse un partido de desempate en terreno neutral (se eligió el estadio defensores del chaco de asunción), que terminó en empate 1 a 1 tras los goles de commisso a los 37\\' del primer tiempo y del flaco gareca cuatro minutos más tarde. tras un segundo tiempo y dos tiempos suplementarios de 15\\' donde no se pudo quebrar la paridad, el partido debió definirse por tiros desde el punto penal. luego de las conversiones de olguín, batista, pavoni y borghi para argentinos, y de gareca, cabañas, herrera y soto para el equipo colombiano, vidallé contuvo el disparo de de ávila, dejando la definición en los pies del panza videla, quien, con categoría, superó a falcioni. de tal manera, tras una durísima competición que se estiró hasta el último disparo de la serie, argentinos inscribía su nombre en el muy selecto grupo de campeones de américa, con la particularidad de alcanzar la gloria en su primera participación en el torneo.[29]\\u200b\\nalineación en la final:\\ncomo vigente campeón de américa, el club tenía el derecho de disputar la copa intercontinental 1985 ante el campeón de la copa de campeones de europa, la juventus de italia, que contaba con figuras de clase mundial como los campeones del mundo en 1982 gaetano scirea y antonio cabrini, el volante creativo francés michel platini y el delantero danés michael laudrup, siendo dirigidos por giovanni trapattoni. este partido se disputó el 8 de diciembre de 1985 en el estadio olímpico de tokio ante 62.000 personas y quedó grabado en la memoria colectiva como la mejor final intercontinental de la historia,[30]\\u200b[31]\\u200b[32]\\u200b[33]\\u200b[34]\\u200b[35]\\u200b siendo así recordada incluso por la propia fifa.[36]\\u200b\\nuna de las principales características del partido fue su paridad, quizás impensada en la previa. el irreverente equipo argentino seguía desplegando su juego ofensivo y vistoso ante uno de los mejores equipos del planeta. tal era la confianza en su propio talento que poseía argentinos que ereros abrió el marcador a los 55 minutos de juego. ocho minutos más tarde, con la juventus asediando el área del bicho, el árbitro alemán volker roth cobraría penal para el equipo italiano, que platini cambiaría por gol. el crédito sudamericano no se amilanaría y volvería a ponerse en ventaja, esta vez de la mano del pepe castro 12 minutos más tarde. con quince minutos para dar vuelta el encuentro, el equipo turinés volvió a su técnica de asedio constante, consiguiendo restablecer la paridad a falta de ocho minutos para el fin del encuentro, por intermedio del danés laudrup. el resultado 2-2 condujo a la disputa de dos tiempos suplementarios de 15 minutos donde la paridad no pudo quebrarse y a otra definición por penales, la tercera por esa vía que debía afrontar el tifón en 1985. tacconi, el arquero italiano, contuvo el penal de pavoni, y sergio batista envió el suyo por encima del travesaño. poco importó que olguín y juan josé lópez convirtieran para argentinos o que laudrup fallara su penal. juventus se consagraría campeón del mundo; no obstante el juego desplegado por el cuadro de la paternal sería elogiado principalmente por la prensa argentina.[35]\\u200b\\nalineación:\\n\\nel empate con la juventus no sería el final del ciclo triunfal del club a mediados de la década de 1980. restaba disputar la copa interamericana contra el campeón de la copa de campeones de la concacaf 1985, el defence force de trinidad y tobago. debido a la mala organización, los clubes debían ponerse de acuerdo entre ellos para definir la sede del encuentro. esto demoró la disputa de la copa hasta el 10 de diciembre de 1986, más de un año después de la disputa de la intercontinental ya referida. ya sin su principal figura, claudio borghi, quien había sido transferido al a. c. milan de italia, y con el regreso de roberto saporiti a la dirección técnica en reemplazo de yudica, argentinos visitó al equipo trinitense en el estadio nacional de puerto españa, venciéndolo por 1-0 con gol del panameño armando dely valdés a los 27 minutos del primer tiempo. de esta forma, argentinos conseguía su cuarto título oficial en menos de dos años.[8]\\u200b[37]\\u200b\\nalineación:\\n\\nluego de un período sumamente fructífero desde todo punto de vista, el equipo atravesó un proceso de recambio que, a priori, no implicaba una pérdida de calidad en el plantel. la partida de jugadores como borghi en 1986 o de batista en 1988 se vio compensada con el alumbramiento de jugadores de la talla del notable volante central fernando redondo[38]\\u200b o de néstor lorenzo[39]\\u200b en el exitoso 1985 o los defensores carlos mac allister[40]\\u200b y fernando cáceres[41]\\u200b en 1986. entretanto, el club debía afrontar la defensa del título continental en la copa libertadores 1986. en un grupo semifinal integrado por barcelona de ecuador y el river plate del bambino veira, el campeón vigente empató en puntos con su compatriota, debiendo jugar un desempate en el estadio de vélez donde perdería la chance de volver a disputar la final por diferencia de gol. el equipo millonario acabaría ganando el torneo.[42]\\u200b\\nen el plano local, argentinos seguía teniendo una escuadra competitiva, pero la pérdida de algunos jugadores clave lo relegaría de los primeros planos. la irregularidad se hizo moneda corriente, pasando de un meritorio 4.º lugar en el campeonato 1985/86 a la decimoséptima colocación al año siguiente, para recuperar terreno en la temporada 1987/88, donde se formaría nuevamente un equipo vistoso, elegante y de mucha categoría apodado los globetrotters de la paternal bajo la batuta de redondo,[43]\\u200b que lograría ingresar al club a la liguilla clasificación de aquella temporada. hallando cierta regularidad, y contando con la carta de gol de un jugador llegado desde instituto de córdoba, oscar dertycia, el club se mantendría en la mitad superior de la tabla hasta finalizar la década, período en el cual se destaca la mejor participación del club en la supercopa sudamericana, alcanzando el tercer lugar en 1989. en la temporada 1990/91, la irregularidad volvería a hacerse presente, con un meritorio cuarto puesto en el torneo apertura que brindaría otro ingreso a la liguilla pre-libertadores, contra un puesto 18 en el clausura, que dejaría al club en la 13° posición en la tabla general. simultáneamente a estos vaivenes deportivos, la falta de éxitos comenzaba a notarse en otros ámbitos. una fuerte crisis económica azotaría a la institución, y se sucederían groseras falencias y desmanejos en la gestión. quizás la más nefasta fue la oscura maniobra que devino en que no se enviaran a la afa las renovaciones de los contratos de los jugadores del primer equipo para 1990 y que todos ellos quedaran libres. en la confusión, fernando redondo, la figura de aquel equipo, se marchó con el pase en su poder, haciendo perder al club una suma de dinero muy importante.[25]\\u200b\\ntambién en aquella época, la cd, encabezada por el presidente domingo tesone y el vice roberto lópez decidieron la compra de un predio de 11ha en bajo flores con miras a crear un campo de entrenamiento, un centro de formación para futbolistas juveniles de primer nivel, una pensión e incluso una concentración para el primer equipo. el lote, ubicado entre las avenidas riestra, castañares y lafuente y la calle portela fue comprado en 1989, a cambio de la entrega de la vieja sede social del club, ubicada en la calle artigas, donde hoy funciona el centro cultural resurgimiento, y del pago de 12 cuotas semestrales. todas las comodidades planificadas en aquel entonces fueron construidas luego de años de trabajo, incluso la concentración para la primera división, que se inaugura en mayo de 2021. el hoy denominado centro de entrenamiento y formación del fútbol amateur (ceffa) es un predio de primer nivel con todas las comodidades necesarias para el desarrollo de las actividades de las divisiones, infantiles, juveniles, tanto masculinos como femeninas y de la primera división profesional, contando además con un total de nueve canchas de 11, siendo 2 sintéticas.[44]\\u200b\\nregresando al plano futbolístico, en la década de 1990 comenzaría un notorio declive, que se evidenciaría en los constantes padecimientos del equipo respecto del descenso a la segunda división. tan temprano como en la temporada 91/92, el equipo conducido por el exjugador chiche sosa penaría durante todo el torneo clausura por mantener la categoría, consiguiéndolo en las fechas finales pero ingresando en la compleja dinámica de luchar por la permanencia en la división de privilegio. incluso en circunstancias difíciles como esta, el club tuvo el honor de seguir gozando de los frutos de su cantera, con los debuts de jugadores notables como diego cagna en 1988[45]\\u200b y el pipa gancedo[46]\\u200b\\nen 1991. más allá de este aliciente, las dificultades económicas y deportivas se acrecentaban, salvándose del descenso por apenas siete unidades en 1993. tales eran los problemas que la dirigencia aceptó un proyecto acercado por la empresa torneos y competencias que ofrecía la incorporación de varios jugadores de nivel por cuenta de la firma, entre quienes se mencionaba la chance de un retorno de diego maradona, pero que incluía la cláusula de mudar la localía a la ciudad de mendoza, lo que condujo que los socios de la institución rechazaran de plano el proyecto. a pesar de todo, y con la continuidad de sosa en la dirección técnica, el plan se llevó a cabo y resultó un estrepitoso fracaso, pues los resultados deportivos fueron mediocres y las incorporaciones de nivel no fueron tales, pudiéndose destacar únicamente al guardameta colombiano faryd mondragón. el equipo acabó nuevamente a siete puntos del descenso y el denominado proyecto mendoza no tuvo continuidad.[47]\\u200b el regreso a la capital federal trajo consigo una campaña fuera de lo común. en el torneo apertura 1994 el equipo acabó en la 4.ª colocación, peleando el campeonato hasta el final, para finalizar último en el siguiente clausura, sin poder despegarse de la zona de permanencia en primera. fue en esa irregular temporada cuando el gran lateral izquierdo juan pablo sorín debutó en la primera del club, contando con apenas 18 años de edad.[48]\\u200b[25]\\u200b la temporada 1995/96 comenzó con un acontecimiento sin precedentes en la historia del fútbol argentino. el bicho debía participar en la supercopa sudamericana 1995 y, ante la carencia de un campo de juego propio, hizo las veces de local ante atlético nacional de medellín en el estadio orange bowl de miami, estados unidos. el partido fue 1-3 en favor del equipo colombiano y argentinos, como acostumbraba desde 1991, fue eliminado en la primera ronda.[49]\\u200b finalmente, en la siguiente temporada se consumó la pérdida de la categoría, luego de 41 años ininterrumpidos en primera, y algo más de diez años después del ciclo más exitoso en la historia del club.[25]\\u200b\\nviéndose relegado de la permanencia a la divisional a la que pertenecía según dictaban sus antecedentes, argentinos enfrentó el torneo de la primera b nacional 1996/97 apelando a los recursos habituales del club: un dt de la casa como osvaldo sosa, la presencia en el primer equipo de jugadores de inferiores de la talla de jorge quinteros,[50]\\u200b diego placente,[51]\\u200b césar la paglia[52]\\u200b y leonardo mas,[53]\\u200b y algunas apuestas adquiridas a equipos del ascenso como rolando schiavi. el torneo de segunda división resultaría complejo y más aún considerando las dificultades institucionales que se atravesaban, pero el retorno a primera se lograría inmediatamente y ganando el torneo sin discusión, pese a tener una formación austera y plagada de juveniles que demostrarían su valía en años venideros. el duro torneo se coronó con un triunfo por 1-0 frente a gimnasia y tiro de salta en el estadio de deportivo español ante una multitud que agotó las 30\\xa0000 localidades disponibles y que luego marchó en caravana hasta la paternal para celebrar la conquista.[54]\\u200b[55]\\u200b[56]\\u200b[57]\\u200b[25]\\u200b el gol del triunfo frente al equipo salteño sería obra del polo quinteros, grata revelación de aquel torneo, quien formara una notable dupla de ataque junto al hondureño eduardo bennett. como muestra de la jerarquía de aquel equipo, cabe decir que jugó 42 partidos ganando 22, empatando 14 y perdiendo solamente 6, sumando en total 52 puntos.[25]\\u200b\\nla alegría por el regreso a la primera división sería efímera. el club no lograba recuperarse de su dura crisis económica y, como consecuencia de la deplorable situación institucional se continuaron los graves desmanejos por parte de los directivos, entre los cuales quizás el más nocivo para la institución haya sido la venta a boca juniors a cambio de muy poco dinero[58]\\u200b de las fichas de varios promisorios futbolistas juveniles que aún no habían debutado en primera, entre los cuales se destaca el caso paradigmático de juan román riquelme,[59]\\u200b quien se formó en argentinos pero debutó oficialmente en el club de la ribera. un tiempo atrás, el padre del promisorio volante central de inferiores esteban cambiasso[60]\\u200b apeló a la patria potestad para obtener el pase de su hijo tras haberle conseguido una prueba en el real madrid, operación que no dejaría dinero al club.[25]\\u200b sin embargo, años más tarde la comisión directiva de entonces iniciaría un pleito en fifa y luego de algunos años el real madrid debió abonarle a la institución de la paternal u$s2000000,- como resarcimiento para poder utilizar a los hermanos cambiasso. además de eso, se habían iniciado las obras para construir finalmente el nuevo estadio, en el mismo lote de juan agustín garcía y boyacá donde se encontraba el viejo estadio de madera ya demolido, las cuales resultaron una carga sumamente onerosa. más allá de esos problemas de índole institucional, las campañas del bicho una vez vuelto a su división fueron de mayor a menor, volviendo a pelear por no descender al poco tiempo de haber recuperado la categoría. esto no significaba que el club hubiera perdido su poderío en las divisiones formativas, ya que en aquel tiempo se asentaron en el primer equipo grandes jugadores como federico insúa,[61]\\u200b mariano herrón,[62]\\u200b diego markic,[63]\\u200b cristian ledesma[64]\\u200b y julio arca,[65]\\u200b además de la permanencia en el plantel por varios años de schiavi, bennett y quinteros.\\nla más clara muestra respecto de las dificultades que afrontó el club tras su retorno es que la campaña en la \"a\" se inició con unos satisfactorios 57 puntos en la temporada 97/98, pasando luego a unas aceptables 49 unidades a la temporada siguiente, cosechando 10 unidades menos en la 99/2000 y comenzando a acercarse a la zona de riesgo en la tabla de promedios, y obteniendo la regular suma de 43 en la 2000/01, temporada en la que por primera vez se debió jugar una promoción para conservar la categoría pese a acabar en el 4.º lugar en el torneo clausura, solo por detrás de san lorenzo, river y boca. en aquella serie de reválida, el club se impuso con justeza ante instituto de córdoba tras empatar sin goles en la provincia mediterránea y finalizar 1-1 en el partido de vuelta jugado en ferro, permaneciendo en primera por la regla de ventaja deportiva. ya para la temporada siguiente el plantel se encontraba diezmado y el club al borde de la quiebra en medio de la crisis deportiva y financiera, al punto de hallarse embargado e inhabilitado para realizar incorporaciones, debiendo afrontar el decisivo torneo clausura con una mayoría de juveniles, entre los cuales se destacaba leonardo pisculichi.[66]\\u200b la magra cosecha de 45 unidades, sumada al bajo promedio que aquejaba al equipo, lo condenó a volver a jugar en la división de plata del fútbol argentino, tras sólo 5 temporadas consecutivas en primera.\\nhubo que barajar y dar de nuevo a partir de la segunda mitad de 2002. una vez establecida una nueva comisión directiva se armó una plantilla con la intención de regresar pronto al lugar de pertenencia de la institución. a cargo de ricardo rezza (ex-director técnico de temperley), experimentado técnico del ascenso —que sería reemplazado por ricardo gareca (actual director técnico de la selección del perú) tras un irregular ciclo—, se configuró un equipo competitivo y con salarios de primera división, compuesto por una buena cuota de juveniles promisorios como el mencionado pisculichi, lucas biglia,[67]\\u200b julio barroso,[68]\\u200b walter garcía,[69]\\u200b pablo barzola,[70]\\u200b gastón machín,[71]\\u200b nico pareja[72]\\u200b y lucas barrios, mezclados con experimentados en las divisiones de ascenso como el topo gómez y ceferino díaz, figura del torneo previo de la b nacional. si bien argentinos terminó esa temporada en la segunda colocación detrás de atlético de rafaela, no se consiguió el ascenso, ya que el reglamento estipulaba disputar una final contra el equipo que hubiera terminado en tercer lugar. se jugó una serie a ida y vuelta frente a quilmes, equipo que ostentaba un nefasto récord de 13 finales perdidas de manera consecutiva luchando por el ascenso, y que era conducido por gustavo alfaro. la serie, extremadamente cerrada y mal jugada por argentinos, definida en el estadio de ferro, donde argentinos aún fungía de local, terminó favoreciendo al equipo cervecero, que ganó 1-0 en el estadio centenario y empató sin goles en el partido de vuelta. la última oportunidad de ascender, la promoción contra nueva chicago en doble partido disputado en la cancha de san lorenzo, tampoco pudo devolver al club a la división de privilegio pero en medio de la crisis deportiva y financiera los bichos colorados tendría que esperar un año más por malos resultados con el técnico ricardo gareca (actual director técnico de la selección del perú) y por malos manejos administrativos que lo tenían al borde de un colapso económico sumido en una crisis económica.\\nsegundo año consecutivo de argentinos juniors en la primera b nacional, la no obtención del objetivo inmediato condujo a la renuncia inmediata de gareca y una depuración del plantel, donde los jugadores experimentados de dudosa calidad que llenaban espacios fueron reemplazados por juveniles. en la temporada 2003/04 de la b nacional, el equipo apeló al regreso de dos hijos pródigos para recuperar su plaza en primera y a un tercer retorno, tan postergado que ya parecía difícil. por un lado, el goleador polo quinteros volvió al club tras un periplo por san lorenzo, el fútbol de españa y el fútbol de chile, y por el otro, sergio batista (ex-director técnico de la selección de baréin) retornó al club de sus amores, ahora como director técnico y con la determinación de regresar pronto a la \"a\". además de eso, el 26 de diciembre de 2003 se inauguró finalmente con una gran fiesta el nuevo estadio de material, denominado diego armando maradona, obra del arquitecto héctor caracciolo, socio vitalicio de la institución, apoyado por una notable sub comisión de obras que trabajó durante casi 8 años, logrando afrontar la segunda mitad de la temporada en casa propia luego de 20 años vagando por diferentes escenarios del país y el exterior. la campaña comenzó de manera positiva y el equipo se mantuvo siempre en puestos de vanguardia, pero un tramo final donde se produjo un acentuado declive en los resultados condujo a quedar en el 4.º lugar de la tabla general, detrás de los ascendidos instituto de córdoba y almagro y de huracán de tres arroyos. sin chances de un ascenso directo, el club debió afrontar un torneo reducido para alcanzar la promoción, y tras imponerse en el mismo disputó una dura serie de promoción contra talleres de córdoba, club que había concluido el clausura 2004 en el tercer lugar, y que había luchado hasta la penúltima fecha por el título. el bicho se impuso por dos goles a uno tanto en el partido de ida disputado en el flamante estadio diego armando maradona como en el partido de vuelta en el chateau carreras de córdoba. los goles de ese último partido fueron convertidos por cachete oberman, uno de los mejores jugadores del campeonato, y por el inefable jorge quinteros,[73]\\u200b quien tiene la peculiar marca de haber convertido los últimos dos goles en los últimos dos ascensos del club.[74]\\u200b\\nhabiendo vuelto a primera división tras dos temporadas en la b nacional después de perder su invicto en el estadio diego armando maradona, vs el club atlético los andes por 1 a 0, justo en el año de su centenario, argentinos encaró nuevamente la lucha por mantener la plaza que la historia le reservaba. el comienzo fue muy duro, ya que tanto en la temporada inaugural como en la 2005/06 se jugaron sendas promociones para mantener la categoría. el equipo no conseguía levantar la cabeza por completo pese a que obtuvo una sorpresiva fortaleza como local. el diego armando maradona empezó a ser un verdadero escollo en el fixture para los demás equipos, principalmente para los grandes. ninguno de los cinco miembros de ese grupo pudo conseguir un triunfo en la primera temporada en que el tifón volvió a su histórico terreno de juego: san lorenzo, boca y racing perderían por la mínima, independiente caería 3-0 con un memorable gol del defensor ariel seltzer desde atrás de mitad de cancha y river empataría en 3 tantos. el problema era que no se podía trasladar ese buen rendimiento fuera de la paternal. se sucedieron los directores técnicos sin lograr revertir la racha negativa, hasta que en el año 2006, luego de sortear la promoción contra huracán, se contrató a un dt sin antecedentes en primera división que fue recomendado por diego maradona: ricardo caruso lombardi. dueño de un estilo particular, mediático, polémico y provocador, este exjugador del club[75]\\u200b tenía una amplia y exitosa trayectoria en el ascenso, particularmente dirigiendo a tigre. inmediatamente a su llegada, caruso se dedicó a recabar una multitud de jugadores ignotos de equipos del ascenso o de ligas menores del exterior. así llegaron a la institución masivamente gabriel peñalba y álvaro pereira en condición de libres desde quilmes -de la b nacional-, andrés scotti desde el rubin kazan -de rusia-, el juvenil gabriel hauche -desde temperley, de la tercera división-, emmanuel gigliotti -desde lamadrid, equipo de la cuarta categoría-, juan sabia -quien venía de descender a la b nacional en gimnasia y esgrima de jujuy-, roberto battión -previamente en unión de santa fe- y juan mercier, llegado desde el viejo rival platense, lo que le ocasionó una fuerte resistencia entre el público en un primer momento. muchos de esos jugadores alcanzaron rendimientos notables y fueron vendidos por el club en cifras millonarias algunas temporadas más tarde, aunque otros varios fueron dejados en libertad de acción rápidamente, algunos incluso sin debutar (como gigliotti). de la mano del plantel comandado por caruso, que se completaba como es de esperarse con una gran camada de canteranos entre quienes destacan néstor ortigoza y matías caruzzo, argentinos se volvió un equipo durísimo, quizás conservador, pero muy complejo de enfrentar en cualquier estadio. tal fue así que en la temporada 2006/07 el equipo se salvaría de jugar la promoción y del descenso, abordando el siguiente año con mayor tranquilidad. desafortunadamente, la personalidad de caruso no encajaba con lo que la dirigencia pretendía y las rispideces mutuas devinieron en una repentina renuncia del entrenador. su sucesor, néstor gorosito, de más bajo perfil, logró encauzar un plantel ya armado cuya principal arma era la fabulosa dupla de volantes centrales compuesta por ortigoza y mercier, y se volvió prácticamente infalible como local. la buena campaña realizada con pipo en el banco condujo a un hecho tan inesperado como satisfactorio: argentinos sumó el tercer mejor puntaje de la temporada y clasificó a la copa sudamericana 2008, regresando a las competencias continentales luego de más de 12 años de ausencia.[76]\\u200b[74]\\u200b\\ndespués de años de padecimientos y con una plana directiva enfocada en recuperar la imagen del club, el bicho volvía a tener un equipo sólido en todas sus líneas y competitivo, contando con un extraordinario mediocampo conformado por el doble cinco ortigoza y mercier, sumados a palito pereira y el flaco peñalba y a la picante ofensiva con el clásico delantero central nicolás pavlovich y el extremo gabriel hauche, respaldados por canuto, caruzzo, scotti y escudero en la línea de fondo y con sebastián torrico en la valla. el buen funcionamiento colectivo llevó a que ese equipo alcance las semifinales de la sudamericana tras imponerse sucesivamente a san lorenzo, san luis de méxico y palmeiras de brasil, con un resonante triunfo por 1-0 en el estadio palestra itália de san pablo. luego, el poderoso estudiantes de la plata de andújar, la brujita verón, el chapu braña, el chino benítez y josé luis calderón daría cuenta de argentinos en la semifinal, tras el empate en 1 en el maradona y el ajustado triunfo por 1-0 en el estadio único con gol de caldera, jugador que dos años más tarde se consagraría ídolo del bicho en circunstancias muy distintas. argentinos había regresado a los primeros planos internacionales tras apenas cuatro años en primera, luego de enfrentar situaciones durísimas una década atrás.[10]\\u200b\\nal cabo de ese año, gorosito iría a dirigir a river plate y muchos de los jugadores destacados serían vendidos, en varios casos al exterior, como escudero y pereira, transferidos respectivamente al corinthians y al cfr cluj en cifras superiores al millón de dólares. entretanto, el ex asistente técnico de marcelo bielsa, claudio vivas, se hizo cargo del equipo en su primera experiencia como dt. contando aún con la base del equipo que había quedado tercero en la sudamericana, vivas realizó una campaña pésima, reuniendo apenas 13 puntos en 15 fechas, con la particularidad de haber perdido una buena cantidad de partidos en los últimos diez minutos de juego. el club finalizó aquel campeonato en la última posición, aunque el sucesor de vivas se encargaría de enderezar sobradamente el rumbo del equipo. ante una situación que se avizoraba crítica en el mediano plazo, la dirigencia apostó a repatriar a uno de los máximos ídolos de la institución, claudio daniel el bichi borghi, ya por entonces entrenador consagrado tras una gran cosecha de títulos en colo colo, para afrontar, otra vez, la lucha por mantener la categoría. ni siquiera el más optimista fue capaz de anticipar el cambio radical que se avecinaba en juan agustín garcía y boyacá.[77]\\u200b\\ninmediatamente a su llegada, borghi hizo varias modificaciones en el plantel profesional, incorporando jugadores de su conocimiento como el delantero el chuco sosa y el arquero chileno nicolás peric, repatriando canteranos como cachete oberman y trayendo algunos otros menos conocidos que descubrió en partidos amistosos que presenció, como facundo coria.[78]\\u200b el debut de argentinos en el apertura deparaba una visita a la bombonera, terreno históricamente hostil para el bicho. desde ese partido, el equipo empezó a sorprender. si bien el resultado fue empate en 2 goles, argentinos pudo adueñarse de la pelota, manejar las acciones, hacer frente al rival y convertirle, lo cual era notable considerando que se enfrentaban uno de los mejores planteles del país con otro que venía de terminar último en el campeonato previo. argentinos fue una de las más gratas revelaciones de aquel certamen, junto al banfield de julio falcioni, que acabaría consagrándose, aunque cierta irregularidad a mediados del torneo y un número considerable de empates -ocho- lo mantuvieron lejos de la lucha por el campeonato. de cualquier forma, la mano de borghi era evidente en los resultados: habiendo tomado al equipo último, débil y flaco en puntos, en pocos meses lo llevó a tener un gran despliegue, un rendimiento parejo como local y como visitante, perder apenas tres encuentros de 19 jugados y reunir 32 unidades. aquella fue la mejor cosecha de puntos del club desde su retorno a primera. el equipo acabó en la 6.ª colocación.\\nluego de realizar los trabajos de la pretemporada veraniega en la ciudad chilena de temuco[79]\\u200b y de incorporar al juvenil arquero luis alberto ojeda, proveniente de unión de santa fe, y al veterano delantero josé luis calderón, libre de estudiantes de la plata,[80]\\u200b[81]\\u200b argentinos debutó contra boca en su estadio con otro empate en dos goles. el partido se destacó por ser el debut de calderón con la camiseta de argentinos y por definirse sobre la hora, con un gol de ismael sosa. nuevamente, el torneo empezaba con irregularidad. la segunda fecha depararía una dolorosa derrota por 3-0 a manos del vigente campeón banfield en el sur, compensada en la siguiente jornada con una sorprendente goleada a favor por 6-3, también de visitante, frente a lanús.[82]\\u200b tras resultados no muy alentadores como una derrota como local frente a godoy cruz o un empate contra atlético tucumán en el norte, la fecha 7 implicó un punto de quiebre. argentinos se impuso apenas por 1-0 frente a estudiantes de la plata, con gol de calderón, pero el equipo demostró un gran fútbol, superando ampliamente al campeón de américa de entonces. desde ese partido, el tifón no volvería a ser derrotado,[83]\\u200b alcanzando victorias resonantes frente a vélez de local o frente a racing, river y rosario central en sus respectivos estadios.\\nla decimoséptima fecha ya contaba con un grupo de cuatro equipos que se dirimirían el título. el independiente conducido por el tolo gallego y el estudiantes de pachorra sabella marchaban con cierta ventaja frente al bicho del bichi y el sorprendente godoy cruz del turco asad. a priori, las oportunidades de argentinos eran escasas. todavía tenía que jugar contra san lorenzo en el nuevo gasómetro y recibir a independiente en la paternal, además del cierre frente al débil huracán en el palacio ducó. habiendo ya igualado su campaña previa de 32 puntos, marchaba por detrás de estudiantes -34 unidades- y apenas un punto por delante del rojo. la pelea por el título parecía quedar atrás cuando el primer tiempo contra el cuervo acababa con un 1-0 en contra, consecuencia de un partido mal jugado por el equipo visitante. tras la reanudación, y con una actuación consagratoria de ismael sosa quien marcó dos tantos, argentinos terminó ganando por 2-1, encarando el juego contra independiente todavía en una posición expectante respecto al título. precisamente el equipo de avellaneda era dueño del pase de sosa, goleador de argentinos con 9 tantos, razón por la cual no se pudo contar con su carta de gol en la penúltima jornada.\\nel partido de la fecha 18 en que independiente visitó a argentinos juniors acabó siendo uno de los más memorables en los últimos tiempos del fútbol argentino[84]\\u200b[85]\\u200b[86]\\u200b[87]\\u200b[88]\\u200b[89]\\u200b[90]\\u200b[91]\\u200b y se lista entre los 8 partidos más importantes de la historia del club de la paternal, equiparado con la conquista de la libertadores o el subcampeonato intercontinental.[92]\\u200b tras sufrir la lesión de su arquero nicolás peric al inicio del encuentro, argentinos ganaba por 1-0 a los 26 minutos con gol de nicolás pavlovich. apenas un minuto y medio después, independiente empataría con un gol olímpico de un jugador surgido de las inferiores de argentinos, leonel núñez. al inicio del segundo tiempo, otro exjugador de argentinos, darío gandín, pondría el 1-2 en favor del visitante, que 20 minutos más tarde aumentaría la ventaja tras una nueva conquista de núñez. mientras se sucedían ataques sin éxito del visitante, presto a liquidar el partido, borghi realizó un cambio insólito, reemplazando al lateral-volante gonzalo prósperi por el defensor central ignacio canuto, quien se situó en la posición de enganche. desde ahí, canuto puso un preciso centro para que a los 28\\' pavlovich convirtiera nuevamente, poniendo las acciones 2-3. en un final para el infarto, el defensor juan sabia convirtió su segundo tanto en primera división con un potente disparo al ángulo, empatando el partido en 3 a los 89 minutos de partido. el milagro se consumó cuatro minutos más tarde, cuando el capitán del equipo local, matías caruzzo, puso el 4-3 definitivo a falta de 30 segundos para terminar el juego. simultáneamente, estudiantes de la plata no pudo dar cuenta de rosario central,[85]\\u200b empatando 0-0 y sufriendo la expulsión de su mejor jugador, juan sebastián verón, tras un violento codazo. el 16 de mayo de 2010, en la fecha decisiva, ante una multitud de más de 15.400 hinchas visitantes que agotaron las localidades que huracán puso a disposición,[93]\\u200b argentinos ganó con comodidad por 2-1 al conjunto quemero y se consagró campeón local por tercera vez en su historia, 25 años después de su último título nacional.[6]\\u200b las principales figuras de aquel conjunto fueron su capitán matías caruzzo, el tándem ortigoza-mercier en el mediocampo, el goleador ismael sosa y josé luis calderón, vital para el equipo tanto dentro como fuera de la cancha.[94]\\u200b por su parte, claudio borghi estableció un récord al ser el primer técnico en salir campeón como jugador y como entrenador en el club. la cosecha de 73 unidades en toda la temporada fue la mayor en un año en la historia de la institución.[83]\\u200b[77]\\u200b[95]\\u200b\\nla tabla de posiciones finalizó de la siguiente forma:[96]\\u200b\\nalineación habitual:\\n\\nluego de la finalización del torneo clausura 2010 donde argentinos juniors consiguió el título, borghi cumplió con su palabra y no renovó su vínculo con la institución,[97]\\u200b siendo inmediatamente contratado por boca. la dirigencia confió en pedro troglio y su cuerpo técnico para afrontar el interesante año que se avecinaba, con las copas sudamericana 2010 y libertadores 2011 en la mira. al mismo tiempo que borghi dejaba su cargo se produjo un auténtico éxodo de jugadores. peric, caruzzo, coria, sosa, pavlovich, raymonda y canuto se fueron a diferentes equipos, y calderón se retiró luego de un breve retorno a su primer club, cambaceres. como contrapartida, regresaron algunos exjugadores del club como franco niell, sergio escudero y el arquero nicolás navarro, y se incorporó al ex goleador de gimnasia, gonzalo vargas, y al promisorio delantero de la reserva xeneize nicolás blandi. la campaña en el apertura 2010 fue más pobre de lo que se esperaba, finalizando en el decimotercer lugar, permaneciendo casi siempre en la mitad inferior de la tabla de posiciones y consiguiendo el primer triunfo recién en la 8.ª jornada. de ese torneo solamente se puede destacar una goleada por 4-2 al lobo en el bosque y un inesperado triunfo como visitante por 2-0 frente al nuevo equipo de borghi, boca juniors. por otra parte, tras dos partidos muy mal jugados, el equipo quedó eliminado en la primera ronda de la copa sudamericana por el futuro campeón de esa edición, independiente de avellaneda. otro título saliente del segundo semestre de 2010 fue la escrituración a nombre del club de los terrenos del estadio y del centro de entrenamiento y formación del fútbol amateur (ceffa). a cambio de la condonación de una deuda impositiva existente, el club devolvió a la ciudad 2 de las hectáreas de ese último predio.[98]\\u200b\\nal año siguiente, tras realizar la pretemporada en mar del plata y algunos días antes de iniciar la competencia en la libertadores, el club transfirió a su capitán y figura néstor ortigoza a san lorenzo.[99]\\u200b la institución de bajo flores atravesaba una dura situación económica, la que condujo a que mantuviera una deuda cercana al millón de dólares[100]\\u200b[101]\\u200b por la obligación contraída para contar con el volante central incluso un año después de la transferencia,[102]\\u200b deuda que se terminaría cancelando con documentos 370 días después del pase del jugador.[103]\\u200b la mayor competencia continental de clubes tenía deparado un grupo durísimo para argentinos: debía medirse ni más ni menos con fluminense, campeón de brasil y con figuras de la talla de deco y rafael moura, américa de méxico, vigente campeón mexicano, y nacional de montevideo, ganador del certamen uruguayo.[104]\\u200b a tales efectos, ante la sequía goleadora de vargas, se contrató al ariete paraguayo santiago salcedo. el debut en la temporada fue un nada despreciable empate en dos tantos contra el poderoso tricolor carioca en el engenhao de río de janeiro.[105]\\u200b sorprendentemente, argentinos picó en punta en su grupo de la libertadores tras vencer por un categórico 3-1 al equipo mexicano en el diego armando maradona en la segunda fecha,[106]\\u200b aprovechando el empate de los otros dos clubes. la primera rueda de enfrentamientos se cerró con un trabajado triunfo por la mínima ante nacional en el parque central con gol de niell, gran figura y goleador del equipo en esos partidos.[107]\\u200b en la siguiente vuelta, los poderosos equipos harían sentir su jerarquía, venciendo a argentinos en las revanchas y eliminándolo en la primera ronda pese a haber llevado adelante un digno papel. el último partido, un duro 2-4 como local contra fluminense, tuvo notoriedad por incluir una batalla campal al final del partido.[108]\\u200b\\npor otra parte, el torneo local simultáneo con esa copa fue digno de destacarse. argentinos sumó la buena cifra de 30 unidades, acabando en la 5.ª colocación y clasificando a la sudamericana por segundo año consecutivo y por tercera vez en su historia. en aquel torneo apenas perdió tres partidos (a manos de godoy cruz, boca y olimpo) y fue el equipo con menos derrotas del certamen. esos buenos resultados llevaron a que la dirigencia ratifique la confianza en troglio y renueve su vínculo. lamentablemente, el segundo ciclo empezaría bastante mal, con una racha de 6 empates consecutivos (las cinco primeras jornadas del apertura y el debut en la sudamericana ante vélez) que recién se cortaría con un doloroso 4-0 en contra en el amalfitani por la revancha del torneo continental, sucedido luego por una caída por el mismo resultado ante lanús en la paternal y por una derrota 4-3 contra un estudiantes de la plata ya lejos de sus mejores rendimientos. esta seguidilla condujo a la renuncia de troglio y el retorno de pipo gorosito a la dirección técnica de la institución. este logra encauzar nuevamente a un equipo cuyo promedio había vuelto a bajar pronunciadamente, rescatando un 0-0 de su encuentro con el puntero y futuro campeón boca juniors en la 9.ª fecha, y reencontrándose con el triunfo en la jornada siguiente, venciendo 2-1 a belgrano de córdoba en el estadio mario alberto kempes. la segunda mitad del torneo sería más tranquila, destacándose un triunfo 3-1 sobre vélez en la paternal, señal de la remontada del equipo. terminó en la decimoquinta colocación con 22 unidades.\\nen 2012, el equipo de gorosito había iniciado la competencia en el clausura con cierta irregularidad, aunque un desafortunado hecho extrafutbolístico cambiaría el curso de los acontecimientos. en las horas previas al cotejo frente a san lorenzo por la 3.ª fecha, el director técnico sufrió un grave accidente de tránsito que le demandaría un largo proceso de recuperación[109]\\u200b y renunció de inmediato a su cargo.[110]\\u200b el cuerpo técnico abandonó sus tareas tras el mencionado partido contra el cuervo (derrota por la mínima) y tras el triunfo por 3-1 sobre independiente en el estadio libertadores de américa. la dirigencia contrató como sucesor a leonardo astrada.[111]\\u200b el negro dirigió al equipo desde la 5.ª jornada y tuvo un rendimiento bastante irregular, consiguiendo varios puntos como visitante (triunfos sobre lanús, tigre y vélez) y finalizando el torneo en la 8.ª colocación con 27 puntos.\\nmás allá de lo estrictamente deportivo, en ese semestre el club sería protagonista de otro hecho muy peculiar. el día 17 de mayo de 2012 estrenó en cines porteños la película documental bichos criollos sobre la historia de la institución, primera obra de esas características en ser parte del circuito comercial argentino. a su estreno concurrieron varios de los célebres futbolistas en ella entrevistados, periodistas ligados al ambiente del fútbol, directivos de otras instituciones y exjugadores identificados con el club como néstor ortigoza.[112]\\u200b[113]\\u200b durante el mes de agosto de aquel año fue exhibido en el centro cultural resurgimiento, ubicado en la antigua sede social del club, muy cerca del estadio, luego de dejar de ser proyectado en cines.[114]\\u200b luego, fue presentado en las ciudades de tandil, puerto madryn y gaiman en la argentina[115]\\u200b[116]\\u200b y en los festivales cinefoot de río de janeiro y el festival de cine de berlín.[117]\\u200b\\nel segundo semestre del año resultaría nefasto. el equipo fue eliminado por tigre tras una goleada en la primera ronda de la sudamericana y arrancaría el torneo inicial con una categórica derrota por 3-0 ante vélez. la segunda fecha traería peores noticias: el equipo perdió por 2-0 ante racing como local y la flamante incorporación, el peruano josé fernández, sufriría una lesión que lo marginaría hasta el final del campeonato. astrada dejaría su cargo tras la fecha 14, habiendo sumado apenas 14 puntos y ubicándose entre los últimos de la tabla. tras varias negociaciones y un interinato de dos fechas de carlos mayor (un triunfo y un empate),[118]\\u200b sería reemplazado por gabriel schurrer, quien rescataría un punto como visitante de river en su debut y perdería el resto de los partidos. con apenas 19 unidades en igual cantidad de partidos y terminando en la decimosexta posición, argentinos una vez más se acercaba a la lucha por la permanencia.\\nschurrer resultó ser el técnico con el peor registro en la historia del club. dirigió siete encuentros, empató uno y perdió el resto. el equipo convirtió cuatro goles, de los cuales ninguno sirvió para sumar unidades, y recibió trece.[119]\\u200b la situación en el torneo final, donde se definirían los descensos, era alarmante: el equipo marchaba en la última colocación con comodidad, llevaba ocho jornadas consecutivas sin triunfos y tenía un bajo promedio, muy cerca de equipos como san martín de san juan, independiente o unión, que estaban en zona de descenso. lo apremiante de la situación llevó a realizar un llamado de urgencia a otro viejo conocido, ricardo caruso lombardi, con una gran experiencia en este tipo de situaciones. el segundo ciclo de caruso en el club contó con la desventaja de tener que llevarse a cabo con un plantel mal armado y descompensado, con varios jugadores veteranos como diego placente, aníbal matellán, ariel garcé y leandro caruso en dudosas condiciones físicas y futbolísticas, y una enorme cantidad de jugadores juveniles. teniendo en cuenta esos factores se explica la muy pobre cosecha de puntos, que incluyó derrotas duras que comprometieron aún más al equipo con la permanencia, como el 3-1 a manos del independiente que más adelante descendería o la derrota como visitante ante san martín de san juan. pese a todos los problemas y el bajo nivel futbolístico, pese a tener que recurrir a juveniles como droopy gómez ante la falta de profesionales por la remoción del plantel de aquellos que no estaban en condiciones de jugar,[120]\\u200b[121]\\u200b[122]\\u200b pese a entredichos mediáticos con otros personajes del ámbito futbolero o con jugadores del propio plantel[123]\\u200b[124]\\u200b[125]\\u200b y pese a una versión periodística que mencionaba que el presidente del club habría vendido la permanencia en primera a independiente a cambio de la presidencia de la asociación del fútbol argentino,[126]\\u200b caruso y el equipo consiguieron permanecer en primera división, pese a haber estado a dos unidades de descender, y coronaron la faena con un notable triunfo por 1-0 en la 19.ª fecha ante el campeón newell\\'s old boys en el estadio marcelo bielsa.[127]\\u200b\\nluego de un torneo inicial con un rendimiento regular donde consiguió 25 puntos y acabó en la 13.° posición -incluyendo un fugaz paso por el primer puesto en las jornadas 3 y 6-, caruso dejó la dirección técnica del club.[128]\\u200b inesperadamente, el ídolo claudio borghi retornó al cargo por voluntad propia en el receso veraniego, dispuesto a afrontar el desafío de dejar al club en la primera división.[129]\\u200b tras su segunda asunción como director técnico, una de las tribunas del estadio fue bautizada con su nombre. también se dio el regreso de leonardo pisculichi, jugador salido de la institución. a pesar de todas las expectativas generadas por estas caras nuevas, argentinos no podría evitar el descenso, tras un torneo nefasto en el que consiguió solo 15 puntos. finalmente, el 27 de abril de 2014, a causa del empate 1-1 entre olimpo y river, argentinos juniors perdió la categoría y descendió a la b nacional luego de 10 años de permanencia.[130]\\u200b[131]\\u200b\\nargentinos juniors encaraba la más que atípica b nacional de 10 ascensos en busca de la \"refundación\" (término usado por borghi) tanto deportiva como institucional. a esto ayudaron las vueltas de jugadores emblema salidos del semillero del mundo. estos eran juan román riquelme, cristian ledesma y matias caruzzo. todo esto sumado a otras incorporaciones de alto nivel para la categoría, hacían de argentinos juniors uno de los clubes con presupuesto más alto y uno de los claros candidatos al ascenso.\\npero pese a contar con un plantel mejor del que tenía en la primera división, borghi no le encontraba el rumbo al equipo y argentinos se alejaba lentamente de la zona de ascenso. finalmente, el 25 de octubre de 2014 borghi renunció como técnico mientras se encontraba a siete puntos de los puestos de ascenso y en semifinales de la copa argentina 2014. su reemplazante sería néstor gorosito, cumpliendo su tercer ciclo en el club,[132]\\u200b quién, a pesar de una contundente eliminación en la copa, logró torcer el rumbo del equipo y lograr el ascenso en la última fecha al finalizar primero (junto a otros dos equipos) de la zona a con 31 puntos.\\na fines del 2015 finaliza el ciclo segura, enmarcado en un desgobierno alarmante, ganando las elecciones c. malaspina de 38 años, como presidente del club, siendo el presidente más joven en la historia de la institución, comenzando una nueva etapa de renovación. se contrata a jorge polo quinteros como secretario técnico y asume la dirección técnica del plantel profesional carlos mayor, ex jugador campeón de la época dorada y también ex dt de las divisiones juveniles.\\nel equipo vuelve a descender el 21 de mayo de 2016 tras una muy pobre campaña, que a pesar de contar con grandes jugadores como cristian ledesma, federico insúa y camilo vargas, el bicho únicamente consiguió 2 victorias, 6 empates y 8 derrotas, concretando así su quinto descenso de categoría en su historia. para el inicio del torneo de la b nacional donde debe jugar argentinos y con la mente puesta en el rápido regreso a primera se contrata a gabriel heinze como dt.[133]\\u200b luego renuncia jorge polo quinteros como secretario técnico. argentinos finaliza en la segunda posición en el nacional b en el año 2016, estando en puestos de ascenso, ya que ascienden 2 equipos a primera, pero en julio de 2017.\\nen el 2017 y bajo la dirección técnica de gabriel heinze, argentinos sacó una diferencia arrolladora ante sus rivales. ganó de local, de visitante, goleó, y jugó bien. el país habló de la revolución futbolística del bicho. ascendió a 4 fechas de terminar el torneo, ganándole 1-0 de local a gimnasia y esgrima de jujuy con gol de nicolás gonzález a los 43 del st. cuatro días más tarde, en mataderos, argentinos, incluso con suplentes, superó a nueva chicago ganándole por 2-1 y coronándose campeón. finalizó el torneo con 88 puntos y 11 puntos de diferencia sobre el segundo, chacarita juniors. heinze finaliza su contrato y decide no renovarlo a pesar de la insistencia de los jugadores, la parcialidad y los directivos. asume alfredo berti para jugar nuevamente en \"su lugar\", la denominada ahora superliga argentina de fútbol.\\ntras la arrolladora temporada en la b nacional, y con berti en el banco, se inicio la superliga argentina de futbol, cayendo 2-1 en el debut contra patronato. argentinos tuvo un campeonato regular, entrelazando victorias y derrotas, finalizando en la 12º posición, con victorias destacadas ante boca por 2-0 en la paternal, una victoria ante rosario central por 1-3 en rosario, un 2-0 ante racing, y un 1-3 ante gimnasia en la plata, clasificando a la copa sudamericana 2019. \\nalgunos jugadores destacados como leonardo pisculichi, en su segunda vuelta al \"club de sus amores\", braian romero, nicolás iván gonzález, que sería vendido al vfb stuttgart de alemania, en la venta récord de la historia del club y alexis mac allister, la \"joya\" del equipo, luego vendido en otra gran cifra a un equipo d la premier inglés.\\nel equipo a fines de 2018 no supo mantener un buen rendimiento, la salida de berti llevó a contratar como nuevo director técnico a ezequiel carboni, que acabaría siendo despedido como uno de los peores del club: empató 1 partido y perdió 5. a mitad del torneo debido a los malos resultados, y por el no poder salir de los últimos puestos más el temor de volver a descender por tercera vez en la década, se contrata a diego dabove como nuevo director técnico. dabove y el equipo dejaron una mejor imagen que, pese a no poder evitar la última posición, se vio mejoría en el desarrollo de los partidos, el plantel se levantaría en la copa de la superliga argentina, llegando a semifinales dejando atrás a independiente, san lorenzo y gimnasia, quedando eliminado ante boca por un global de 0-1, a la postre subcampeón del torneo.  el bicho inició la temporada superliga argentina 2019-20  complicado con los promedios, y con una temprana eliminación de la copa sudamericana en octavos de final ante colón de santa fe. argentinos tuvo un muy buen inicio del campeonato en 2019, con destacadas actuaciones de local, finalizando el año puntero con 30 puntos superando a boca juniors con 29.\\nel inicio del 2020 no fue el mejor para argentinos, perdiendo rápidamente la punta tras varios empates en su estadio. finalmente, el equipo de la paternal quedó en la 5º posición con 39 puntos, sin perder un solo partido jugando como local en todo el torneo, perdiendo en diferencia de gol con velez sarsfield y racing club . el equipo contó con buenos jugadores como el veterano santiago silva, elías gómez, los defensores carlos quintana y miguel torrén, el arquero lucas chaves y damián batallini, este último por su buen rendimiento sonó para varios equipos del futbol argentino, siendo en 2020 finalmente vendido a méxico por 3 millones de dólares.  finalizado el torneo, argentinos jugó la copa de la superliga argentina 2020, solo jugando un encuentro ganándole a club atlético lanús de visitante, con gol de cabeza de kevin mac allister . el torneo no se siguió disputando debido a la pandemia del coronavirus. finalmente, argentinos, quedó en la 4º posición en la tabla de clasificación a copas, clasificando a la copa libertadores 2021.\\ntras el parón por la pandemia durante más de 7 meses, el 31 de octubre de 2020 argentinos volvió al futbol con un empate a 0 ante san lorenzo. en un grupo junto al ciclón, estudiantes, y aldosivi a 2 partidos contra cada uno. el equipo de dabove pasó la fase de grupos con 10 puntos detrás de san lorenzo con 12, ganándole a estudiantes en la plata y en la paternal por 1-0, y a aldosivi en mar del plata por 1-4. en la fase final de la copa, el equipo quedó en un grupo donde el primero accedería a la final, junto a independiente, boca, river, arsenal y huracán. argentinos no logró este objetivo, quedando tercero de grupo tras empatar con river en el libertadores de america, ganarle a arsenal y huracán de visitante por la mínima, y empatar finalmente 2-2 contra boca en el diego armando maradona, que finalmente se alzaría con la copa.\\nconcluida la copa diego armando maradona, tras una actuación decente, se iba a iniciar la copa de la liga profesional 2021. pero días antes del torneo, diego dabove comunicó que no seguiría en el club, yendo finalmente a san lorenzo. dabove se fue del club con 26 victorias, 19 empates y 13 derrotas. el reemplazante de diego sería gabriel milito. \\nel comienzo del nuevo proyecto del bicho fue decepcionante: se perdió en el debut ante rosario central (2-1), 21 años después ante platense (0-1) y ante vélez (0-2). ya se empezaba a cuestionar la estadía de milito en el club, cuando sorpresivamente argentinos venció a river en el monumental por 0-1, con un gran gol de gabriel florentín en los últimos minutos. luego de esta gran victoria, argentinos tuvo una notable mejoría: en el siguiente partido derrotó a godoy cruz por 2-0, se eliminó a colón de santa fé por 1-0 de la copa argentina (equipo que posteriormente ganaría la copa de la liga) con gol del paraguayo gabriel ávalos, una gran victoria con 2 jugadores menos ante arsenal de sarandí (3-2) y empates ante san lorenzo (1-1), central córdoba y colón (ambos por 0-0).\\nargentinos juniors se ubicó en el grupo f, junto a universidad católica de chile, atlético nacional de colombia, y nacional de uruguay. contra todos los pronósticos, argentinos se quedó cómodamente con el grupo, venciendo en el debut a nacional por 2-0 en la paternal, a universidad católica en chile por el mismo resultado (0-2) y a atlético nacional también de visitante por 2-0. 3 fechas antes el equipo de milito ya había confirmado su presencia en los octavos de final, dándose el lujo de poder perder ante la universidad católica de chile por 0-1 (jugando gran parte del partido con un jugador menos tras la expulsión de gabriel hauche) y ante nacional en uruguay (2-0). aunque finalmente venciendo  otra vez a atlético nacional por 1-0 con gol de emanuel herrera. el equipo de la paternal luego de una gran fase de grupos se enfrentaría a river plate en los octavos de final. en el partido de ida en el monumental empatarían 1-1 con goles de matias suárez y gabriel hauche, y en el partido de vuelta river plate sacaría una diferencia de 0-2 en la paternal dejando a argentinos juniors eliminado de la copa libertadores.\\nargentinos juega sus partidos de local en el estadio diego armando maradona, ubicado entre las calles juan agustín garcía, boyacá, gavilán y san blas, nombrado así en honor al segundo mejor futbolista argentino de todos los tiempos quien surgió de sus divisiones inferiores y debutó oficialmente en esa cancha. este estadio es en algunas oportunidades criticado debido a las dimensiones del campo de juego, aunque sus medidas reglamentarias de 100 metros por 67 son mayores a las de otros clubes de primera división, como lo fueron olimpo de bahía blanca o atlético de rafaela y prácticamente iguales(solo 1,5 metros menos a las de banfield y unión de santa fe). los buenos resultados de argentinos juniors jugando como local conducen a recurrir a las dimensiones del campo de juego como una excusa para sus adversarios.\\ntras demolerse la vieja estructura de tablones de madera y de atravesarse una larga obra de reconstrucción, el flamante estadio, obra del arquitecto héctor caracciolo, fue inaugurado con una gran fiesta el 26 de diciembre de 2003. unas 30 000 personas se acercaron al evento, que tuvo como punto saliente dos encuentros entre el pleno del equipo multicampeón de mediados de la década de 1980, dirigido por roberto saporiti, frente al plantel que había conseguido el ascenso en 1997, a cargo de su dt osvaldo chiche sosa. luego, el segundo partido enfrentó a un combinado dirigido por josé pékerman de viejas glorias del club de la talla de fillol, sorín, esteban cambiasso, dertycia, gancedo y rafael moreno -quien ostenta el récord de mayor cantidad de goles convertidos para el club en un solo partido, con 6 conquistas en un triunfo 8-0 sobre lanús en 1972-, reforzado con algunos otros allegados como andrés d\\'alessandro, hincha de argentinos, vecino del barrio y quien años después se asociaría,[134]\\u200b frente a la selección argentina sub-20, a cargo de hugo tocalli.[74]\\u200b[135]\\u200b\\ncabe destacar que, además del debut absoluto de diego maradona, este estadio también fue escenario del debut de lionel messi en la selección argentina sub 20, en un amistoso contra su par de paraguay disputado el 29 de junio de 2004, cuando el astro del barcelona contaba con 17 años de edad.[136]\\u200b\\nbajo las graderías ubicadas en la calle gavilán, se ubica el museo \"el templo del fútbol\", uno de los únicos tres museos dedicados a un equipo de balompié en el país, junto a los de boca y river. a diferencia de los otros dos, este cuenta con la particularidad de haber sido realizado a pulmón por sus propios hinchas y socios con recursos aportados por el club, sin la necesidad de recurrir a una empresa privada para su desarrollo. si bien modesta, la sala se da el lujo de exhibir piezas tales como los cinco trofeos conquistados por el equipo de fútbol (incluida la copa libertadores 1985), indumentarias desde 1910 hasta la actualidad, memorabilia aportada por distintos jugadores y sus allegados y un rincón especial dedicado al hijo dilecto de la casa, diego armando maradona, donde se exhibe un breve video documental que narra su notable paso por la institución.[137]\\u200b\\nel museo abre sus puertas los días lunes, miércoles y viernes y cuenta con entradas de precios muy accesibles, gratis en el caso de los menores de 12 años. además, durante los partidos de local se llevan a cabo visitas guiadas orientadas mayormente al turismo extranjero, que incluyen la visita al museo, los vestuarios, la sala de prensa, el hall central y el campo de juego, además del acceso a la platea media para presenciar el encuentro.[138]\\u200b\\n\\npara algunos argentinos juniors disputa el clásico con platense.[139]\\u200b sus primeros cotejos fueron hace 115\\xa0años, en 1907 por la liga central de football amateur. pero la rivalidad entre \"bichos\" y \"calamares\" nació 41\\xa0años atrás, a partir de dos duelos decisivos muy recordados y sospechados y por lamentables peleas entre las hinchadas.[140]\\u200b  el 23 de noviembre de 1980 tras un encuentro que ambos disputaron en la cancha de argentinos, y luego de que el local ganó el partido y dejó a su oponente fuera del torneo,[141]\\u200b\\nargentinos - platense: vuelve un clásico que despuntó con el último partido oficial de maradona con la camiseta del bicho. diario la nación, 21 de febrero de 2021[142]\\u200blas parcialidades se enfrentaron dentro y fuera de la vieja cancha de boyacá, naciendo la enemistad, precedida de varios incidentes entre las hinchadas de ambos clubes al transcurrir las décadas.[143]\\u200b en 1996, argentinos perdió la categoría, y tres años más tarde se daría el caso inverso, platense se vería condenado a jugar en segunda división. el equipo de saavedra[144]\\u200b recién logró volver en 2021 a primera división y si bien las instituciones llevaban más de dos décadas sin enfrentarse, la cercanía de los barrios más representativos de cada club, saavedra para platense y la paternal en caso de argentinos, que se ubican a 7 kilómetros el uno del otro generaron una mayor rivalidad barrial que siempre ha permanecido en el ámbito de este importante clásico porteño.[145]\\u200b[146]\\u200b[147]\\u200b[148]\\u200b\\npj: partidos jugados, gp: ganador platense, ga: ganador argentinos, e: empate \\n\\ngolp: goles del platense, gola: goles de argentinos\\notro añejo clásico barrial es atlanta[150]\\u200b que enfrenta a los barrios porteños representativos de cada equipo la paternal y villa crespo a solo 3,4 km de distancia entre ambos estadios. cabe recordar que argentinos se fundó en villa crespo y que su primera denominación incluía el nombre de dicho barrio. disputaron su primer duelo oficial de la era amateur en la vieja cancha de argentinos en av. san martín y punta arenas hace 94\\xa0años, el 6 de mayo de 1928 con empate en dos tantos.[151]\\u200b compitieron unidos forzadamente por afa, en el campeonato de primera división 1934, lo que generó el origen de esta rivalidad, ya que las parcialidades de ambos equipos estaban en desacuerdo con la fusión y las hinchadas de sendos clubes asistían a los partidos en gradas diferentes dentro del mismo estadio.[152]\\u200b cuentan con un amplio historial debido a que se enfrentaron 35 temporadas en primera división y otras cuatro en primera b. disputaron su último encuentro oficial el 24 de septiembre de 1984 con triunfo de argentinos 3 a 2.[153]\\u200b\\n.mw-parser-output .flexquote{display:flex;flex-direction:column;background-color:#f9f9f9;border-left:3px solid #c8ccd1;font-size:90%;margin:1em 4em;padding:.4em .8em}.mw-parser-output .flexquote>.flex{display:flex;flex-direction:row}.mw-parser-output .flexquote>.flex>.quote{width:100%}.mw-parser-output .flexquote>.flex>.separator{border-left:1px solid #c8ccd1;border-top:1px solid #c8ccd1;margin:.4em .8em}.mw-parser-output .flexquote>.cite{text-align:right}@media all and (max-width:600px){.mw-parser-output .flexquote>.flex{flex-direction:column}}\\nen una noche de futsal espectacular, argentinos juniors recibió a atlanta en el polideportivo “las malvinas” e igualó un partido que podría haber ganado. finalmente, pese al gran trabajo defensivo de argentinos, el empate llegó a los 18’ y el clásico barrial terminó igualado por 5-5.si bien hace décadas que no se enfrentan la rivalidad aún perdura y se denominan clásicos los encuentros en otras disciplinas deportivas. la convivencia barrial y la enemistad sigue latente con varios incidentes entre sus hinchadas.[154]\\u200b[155]\\u200b el 8 de septiembre de 2002 la crónica describe \"villa crespo y la paternal un duelo de nunca acabar\". atlanta jugaba de local por una fecha de la b metropolitana y argentinos juniors visitaba a el porvenir. parte de su hinchada que se dirigía por juan b. justo con dirección a villa crespo, unos cincuenta barras del conjunto de la paternal ingresaron a la calle humboldt, entre muñecas y murillo, para enfrentarse con la barra de atlanta. la hinchada local todavía no había llegado, por tal motivo los de argentinos por medio de ladrillos y elementos contundentes atacaron a los aficionados bohemios que se encontraban en el lugar, un pequeño grupo de atlanta, salió en defensa de su gente hasta que llegó el accionar policial que disperso con gases y balas de goma a ambas parcialidades.[156]\\u200b la semana posterior se generó preocupación en los organismos de seguridad dado el temor de que la hinchada de atlanta se cruce con la de argentinos juniors, pues integrantes de ambas parcialidades se amenazaron durante la semana vía internet, por lo que tuvieron que modificar horarios de los partidos.[157]\\u200b\\npj: partidos jugados, aj: ganador argentinos juniors, a: ganador atlanta, e: empate \\n\\ngolaj: goles de argentinos juniors, gola: goles de atlanta\\notras rivalidades tradicionales son:\\ntambién existen rivalidades con boca juniors, estudiantes de la plata, quilmes y nueva chicago.[nota 4]\\u200b[163]\\u200b\\nel escudo de la asociación atlética argentinos juniors utilizado en la actualidad consta de una bandera roja con una banda diagonal blanca que la atraviesa del extremo superior derecho hasta el extremo inferior izquierdo, con la leyenda \"mens sana in corpore sano\" a su alrededor y contorneado por un círculo azul que posee dentro la inscripción \"asociación atlética argentinos juniors\"\\nlas tablas detallan en orden cronológico los nombres de las firmas proveedoras de indumentaria y los patrocinadores que tuvo argentinos juniors desde 1977.[164]\\u200b\\nargentinos cuenta con numerosas peñas y filiales, 22 de ellas repartidas en diversos puntos de la argentina y también otras 10 en el exterior:[165]\\u200b[166]\\u200b\\nargentinos se impuso por 20-19 ante racing club. se efectuaron 44 ejecuciones. los 11 jugadores de ambos equipos patearon dos veces cada uno.[176]\\u200b[177]\\u200b\\n\\xa0\\xa0\\xa0\\xa0 campeón.\\n\\xa0\\xa0\\xa0\\xa0subcampeón.\\n\\xa0\\xa0\\xa0\\xa0tercer lugar.\\n\\xa0\\xa0\\xa0\\xa0 ascenso.\\n\\xa0\\xa0\\xa0\\xa0 descenso.\\nla institución reclama para sí el apelativo de semillero del mundo[186]\\u200b debido a la gran cantidad de jugadores de nivel internacional argentinos y extranjeros que han surgido de sus divisiones inferiores, cuya mayor expresión fue diego armando maradona.[187]\\u200b por cuestiones principalmente de índole extradeportiva, algunos de esos grandes jugadores tuvieron pasos fugaces por la primera división del club o no llegaron a debutar, pero así y todo se cuentan entre los baluartes de la cantera por haber sido formados en la institución.[188]\\u200b\\nuna enumeración somera de los cracks surgidos de la prolífica cantera se lista a continuación. en cursiva figuran aquellos que dejaron la institución antes de debutar en primera, en negrita figuran aquellos que han sido campeones mundiales juveniles con argentina, se identifica con un asterisco (*) a aquellos que han jugado copas del mundo para la selección argentina, con dos asteriscos (**) a aquellos que forman o formaron parte sostenidamente de sus respectivas selecciones nacionales, con una estrella dorada () a quienes han ganado la copa mundial de la fifa y con la sigla (dt) a aquellos que han sido entrenadores del seleccionado nacional:\\notros futbolistas notables que han vestido la camiseta del club, sin haber sido formados en las divisiones inferiores, son el mono héctor ingunza, orlando juan nappe, josé leandro andrade, fernando paternoster, tranquilino garcete, amadeo ortega, ramón mutis, juan evaristo, domingo alberto tarasconi, ángel grippa, ernesto albarracín, francisco sohn, mario sciarra, rafael moreno, luis maría rongo, martín pando, enrique chazarreta, alberto perazzo, rubén galletti, alberto mariotti, juan carlos oleniak, rubén pagnanini, omar larrosa, luis gerónimo lópez, carlos munutti, carlos salinas, jorge pellegrini, mario hernán videla, carmelo villalba, enrique vidallé, emilio commisso, ubaldo fillol, pedro pasculli, gabriel peñalba, osvaldo chiche sosa, oscar dertycia, carlos morete, ángel landucci, jorge mario olguín, enrique wolff, julio olarticoechea, oscar román acosta, el gringo giusti, carlos ereros, hugo tocalli, josé antonio pepe castro, josé luis pavoni, osvaldo coloccini, wálter perazzo, ramiro castillo, patricio hernández, mario zanabria, alfredo graciani, walter silvani, líber vespa, carlos goyén, efford chabala, faryd mondragón, iván kaviedes, eduardo bennett, marcelo pontiroli, fernando gamboa, facundo bonvín, roberto acuña, hugo brizuela, leandro desábato, gustavo morínigo, gustavo quinteros, el burrito martinez, gonzalo vargas, gabriel hauche, ignacio canuto, juan mercier, facundo coria, andrés scotti, emmanuel gigliotti, santiago salcedo, álvaro pereira, ismael sosa, josé luis calderón, nicolás pavlovich, rolando schiavi, juan sabia, nicolás blandi, juan anangonó, emilio hernández, pedro pablo hernández, ariel garcé, daniel alberto villalva, pablo migliore, josé sand, camilo vargas, beto da silva, jonathan sandoval, raúl bobadilla, miguel torrén, braian romero, santiago silva.\\n gabriel milito\\n\\nla siguiente tabla muestra todas las apariciones y goles en partidos oficiales con el primer equipo del argentinos juniors. además de los partidos de liga esta incluye todos los partidos en las competiciones nacionales e internacionales. no incluye apariciones ni goles en partidos amistosos.\\n\\xa0\\xa0\\xa0\\xa0\\xa0en activo. \\xa0\\xa0\\xa0\\xa0\\xa0en activo con el club.\\n\\n\\xa0\\xa0\\xa0\\xa0\\xa0en activo. \\xa0\\xa0\\xa0\\xa0\\xa0en activo con el club.\\nla actividad social y deportiva del club incluye, además del fútbol profesional, la práctica federada y recreativa de las siguientes 24 disciplinas:[189]\\u200b\\nargentinos juniors fue uno de los clubes fundacionales del fútbol sala de la afa. actualmente milita en la primera b. en su estancia en la primera división obtuvo 2 títulos.\\nparticipó del primer campeonato en 1986 donde finalizó noveno, sólo por encima de platense y gimnasia y esgrima la plata.\\nen 1994 se reincorporó tras 8 años. con la creación de 2 torneos por año, argentinos consiguió salir campeón: obtuvo el torneo apertura en 2000, en 2002 logró el subcampeonato en el clausura, y fue nuevamente campeón en el apertura 2004.\\nen 2011 sufrió su primer y, al momento, único descenso a la primera b.[190]\\u200b\\nen la temporada 2020, terminó segundo en la zona 3 y accedió a los cuartos de final por los ascensos y el campeonato. en dicha instancia venció a gimnasia y esgrima la plata, pero en semifinales cayó ante newell\\'s old boys.\\nel actual presidente de la república argentina alberto fernández(2019-2023), es un reconocido hincha del club.\\n\\n'"
            ],
            "application/vnd.google.colaboratory.intrinsic+json": {
              "type": "string"
            }
          },
          "metadata": {},
          "execution_count": 7
        }
      ],
      "source": [
        "# Demos un vistazo\n",
        "article_text"
      ]
    },
    {
      "cell_type": "code",
      "execution_count": 8,
      "metadata": {
        "colab": {
          "base_uri": "https://localhost:8080/",
          "height": 0
        },
        "id": "BtGLJjt6rQhK",
        "outputId": "bf5f03fb-1343-4a11-9732-2f7adb80310f"
      },
      "outputs": [
        {
          "output_type": "stream",
          "name": "stdout",
          "text": [
            "Cantidad de caracteres en la nota: 100469\n"
          ]
        }
      ],
      "source": [
        "print(\"Cantidad de caracteres en la nota:\", len(article_text))"
      ]
    },
    {
      "cell_type": "markdown",
      "metadata": {
        "id": "FVHxBRNzCMOS"
      },
      "source": [
        "### 2 - Preprocesamiento\n",
        "- Remover caracteres especiales\n",
        "- Quitar espacios o saltos"
      ]
    },
    {
      "cell_type": "code",
      "execution_count": 9,
      "metadata": {
        "colab": {
          "base_uri": "https://localhost:8080/",
          "height": 128
        },
        "id": "8CN-7Q5ywAhj",
        "outputId": "27b5ae00-3212-42e5-e786-cec82ce0f5ed"
      },
      "outputs": [
        {
          "output_type": "execute_result",
          "data": {
            "text/plain": [
              "'la asociacion atletica argentinos juniors conocida como argentinos juniors o simplemente argentinos es una grande centenaria institucion polideportiva fundada el  de agosto de  en el barrio de villa crespo ciudad autonoma de buenos aires argentina participa en la liga profesional de futbol argentino para mayo del  el club poseia  socios \\nsu disciplina mas destacada es el futbol en el que es reconocido por la fifa como uno de los  clubes clasicos de la argentina siendo reconocido ante todo por ser un club formador de numerosos futbolistas de proyeccion internacional como diego armando maradona fernando redondo juan roman riquelme claudio borghi esteban cambiasso sergio batista juan pablo sorin fernando caceres leonel gancedo diego placente nicolas pareja nestor ortigoza lucas biglia lucas barrios federico insua leonardo pisculichi andres dalessandro fabricio colocciniesteban rolon juan ramirez y nicolas ivan gonzalez entre otros por tal motivo es reconocido tanto por la afa como por la prensa especializada como el semillero del mundo\\nposee  predios propios en la ciudad de buenos aires que suman  hectareas para su gran cantidad de actividades sociales culturales recreativas y deportivas el complejo polideportivo las malvinas en el barrio de la paternal el centro de entrenamiento y formacion para el futbol amateur ceffa en bajo flores donde se encuentra el moderno centro de futbol profesional denominado sergio daniel batista y su estadio de futbol el diego armando maradona que se encuentra ubicado en villa general mitre\\nen su historia se ha adjudicado  titulos en la primera division del futbol argentino siendo campeon por primera vez en el campeonato de primera division de  luego ganaria el nacional  y posteriormente el clausura  en el plano internacional fue el quinto de los ocho equipos argentinos en conquistar la copa libertadores de america tras ganarla en su primera participacion en el ano  lo que le permitio participar en la copa intercontinental la cual perdio en definicion por penales contra la juventus de italia en el que fue designado por la fifa como el mejor partido en la historia de dicho certamen y la copa interamericana que gano en diciembre de  tambien alcanzo las semifinales tanto en la supercopa  como en la copa sudamericana \\nes el duodecimo equipo en la clasificacion historica de la primera division de argentina y ha disputado la mayoria de las temporadas en esa categoria\\nel  de agosto de  un grupo de amigos vinculados por sus ideas anarquistas que se destacaban ampliamente jugando al futbol disputan un pergamino entre sus respectivos equipos sol de la victoria y martires de chicago este ultimo nombre elegido para conmemorar a los obreros fallecidos en la revuelta de haymarket quienes dieron origen al o de mayo como dia internacional de los trabajadores el encuentro se disputo en un potrero que se encontraba en las inmediaciones de donde actualmente esta el monumento al cid campeador encabezados por los hermanos jose y carlos agostini que querian encontrar un lugar donde reunirse mas a menudo logran ablandar al sereno de una obra en construccion en la avenida corrientes y araoz al dia siguiente  de agosto en ese lugar entre andamios y ladrillos se celebra el acto de fundacion del nuevo club invitando a todos los participantes del encuentro referenciado mas arriba\\nson socios fundadores entre otros julian ducasse luis y angel cagnoli los nombrados hermanos agostini carlos y jose braga luis cavatorta francisco demarco vicente pirro ernesto capurro juan curballati alfredo sifredi antonio castellano y leandro ravera bianchi quien es nombrado presidente de la institucion\\nel flamante club comienza a organizarse y una de las primeras cuestiones era armar el sello oficial del club los jovenes habian definido que el nombre fuera asociacion atletica y futbolistica argentinos unidos de villa crespo pero cuando fueron a encargar el sello el propio fabricante sugiere cambiarlo por uno mas corto y es alli donde deciden el definitivo asociacion atletica argentinos juniors\\ninmediatamente a su fundacion el club adopto los colores rojo y blanco con predominancia del primero para identificarse en homenaje a la eleccion del dr alfredo palacios como diputado nacional por el partido socialista se dejo asi de lado al verde y blanco que identificaba al antecesor equipo martires de chicago ante la intencion de afiliarse por tercera vez a la argentina association football league la mas prestigiosa de entonces existia cierto temor respecto a ser rechazados nuevamente por la asociacion  por lo que optan por afiliarse a la liga central de football una liga menor que agrupaba a clubes de barrio y de empresas comerciales en  inicia sus competencias y su primer partido le depara una desastrosa derrota por  frente al club la prensa no obstante el nefasto arranque el incipiente argentinos juniors se consagraria campeon en el primer campeonato que disputo por entonces el club seguia jugando sus encuentros alli donde se habian reunido sus fundadores por primera vez en el potrero ubicado en la avenida gaona y la calle anasco hoy dr nicolas repetto\\ncomo la ocupacion del predio era irregular el club es desalojado y alquila un predio en villa ballester donde ejerce la localia durante el siguiente ano retornando a su zona de origen en  entonces en la interseccion de parral y luis viale dos anos despues se consigue finalmente la preciada plaza en la asociacion tras una breve excursion por villa urquiza vuelven al predio de parral en  se produce un cisma entre los clubes que formaban la asociacion y los equipos que intentaban quitarle su poderio a la misma ofrecen a argentinos un ascenso inmediato a cambio de seguirlos opcion rechazada de plano ya que la promocion debia ganarse en el terreno de juego y no en los escritorios se persevera en la division intermedia mudanza a fraga y estomba mediante tambien se vuelven a adoptar temporalmente los colores verde y blanco por existir otros equipos con casaca rojiblanca en la misma divisional\\nya en  se consigue el preciado ascenso a primera division tras ganar un torneo reducido y cuatro anos despues la localia se establece finalmente en la paternal alquilandose un lote en avenida san martin y punta arenas donde se construye un estadio moderno para la epoca con una capacidad de   espectadores la nueva cancha traeria buena suerte ya que en  se conseguiria el primer subcampeonato del equipo cuya principal figura era luis vaccaro el crecimiento deportivo e institucional se reflejaba en el aumento del padron societario siendo argentinos uno de los  clubes de futbol del pais que superaban los  socios\\nargentinos era uno de los clubes en mejores condiciones en el amateurismo y eso conduce a que en  sea impulsor de la creacion de la primera liga profesional del pais junto con otros  clubes los inicios son complejos ya que los salarios de los deportistas pasaron a ser cargas muy onerosas las dificultades economicas conducen a que en  se obligue al club a fusionarse con atlanta para poder seguir compitiendo la union resultaria nefasta perdiendose casi todos los partidos aunque duraria menos de  meses atlanta seria suspendido y se desafiliaria por cuestiones internas mientras que argentinos enfrentaba una realidad muy compleja con la unificacion de las dos ligas existentes y la creacion de la asociacion del futbol argentino se crea un sistema de ascensos y descensos que comenzaria a regir en  ese mismo ano se consumaria el descenso del club inmerso en una situacion economica critica que condujo tambien a que sea desalojado del estadio de avenida san martin y punta arenas no pudiendo afrontar los gastos del alquiler\\nsin ninguno de sus privilegios y en una situacion muy precaria debia afrontarse el torneo de segunda division la falta de un estadio propio implica jugar de local en el estadio del viejo rival del amateurismo sportivo palermo o en la mas cercana cancha de ferro dos anos despues compitiendo como se podia en la b es electo presidente gaston garcia miramon quien alquila de su bolsillo el predio de boyaca y medanos actual juan agustin garcia donde el club juega todavia hoy ademas de hacerse con materiales para erigir un humilde estadio de tablones de madera la inauguracion seria en  en un partido ante barracas central que argentinos ganaria por  dando inicio a una campana en que se consagraria campeon de la division sin ser promovido a la division de honor por una cuestion burocratica debido a que no tenia un estadio en buenas condiciones para afrontar la maxima categoria obteniendo a cambio una magra indemnizacion economica por parte de la afa\\ndesde entonces el desempeno mejoraria gradualmente y se dejaria de lado la irregularidad la incorporacion del gran goleador hector ingunza en  otorga un salto de calidad al equipo que gana en convocatoria y consagra su arraigo definitivo en el barrio las actividades sociales y culturales se multiplican creciendo nuevamente el padron de asociados e incorporandose otros deportes ademas del futbol profesional en  el equipo marchaba puntero pero una huelga de futbolistas interrumpe el campeonato y la afa decreta el ascenso de ferro y atlanta sin mayores fundamentos perjudicando arbitrariamente al club la inflexion se marcara seis anos despues argentinos finalizara en la segunda posicion contando con la mejor ofensiva y en  finalmente se conseguiria un ascenso ganado de manera formidable  anos luego de descender los criollos como se apodaba entonces al equipo volvian a su lugar de origen a lo grande\\nel retorno a la primera division se dio con un partido en el viejo gasometro ante san lorenzo con la presencia de una multitud de hinchas del club de la paternal que vieron finalmente su sueno cumplido de codearse nuevamente con los grandes del futbol nacional el primer ano fue dificil y la permanencia en primera se consiguio de manera angustiosa posteriormente el equipo se afianzaria sobre la base de dos grandes pilares que siguen siendo sus principales rasgos identitarios un futbol vistoso y ofensivo donde prima jugar bien por sobre ganar y la produccion constante de jugadores de primer nivel en las divisiones inferiores en aquellos anos se dieron las primeras muestras de la calidad de la cantera con cracks como pederzoli pando oscar distefano y nappe algunos de los cuales tendrian futuro de seleccion nacional fue por este entonces que argentinos juniors recibio el apelativo de bichos colorados por tratarse de un humilde equipo de la primera division de camiseta roja que se hacia muy fuerte como local y que presentaba un verdadero escollo principalmente para los equipos grandes\\nel ano  resulto consagratorio para el club y se lista entre los mas importantes de su historia deportiva por primera vez argentinos tenia un equipo poderoso basado en las joyas de su cantera como pando sciarra ditro sainz o moreno algunas incorporaciones desde equipos del ascenso como carceo o hugo gonzalez jugadores traidos desde el interior del pais como canseco tejerina y villalba y otros descartados de equipos grandes como valentino ramacciotti y malazzo este equipo insignia peleo el campeonato hasta la penultima fecha caracterizandose por un juego tan vistoso como efectivo debe destacarse que hasta  ningun equipo ademas de boca river racing independiente o san lorenzo habia conquistado un campeonato de primera division asi adquiria mas valor el primer tercer puesto profesional de la escuadra de la paternal\\nluego de aquella hazana el equipo fue diezmado aunque se mantuvo una regularidad tibia fundamentada en la continua renovacion del plantel a partir de las inferiores periodo en que se destaca la aparicion en primera en  de un talentoso volante de contencion muy identificado con el club jose nestor pekerman quien luego se retiraria siendo joven y haria un excelente trabajo en las divisiones inferiores hacia finales de la decada de  los problemas con el descenso se hicieron moneda corriente con una salvada en las ultimas fechas en  incluida dos anos mas tarde un equipo practicamente salido de las juveniles con figuras como hugo pena chiche sosa y rafael moreno consigue otra permanencia agonica tras vencer al futuro campeon independiente en la penultima fecha ese resultado condeno al descenso a otro equipo que solia disputar la permanencia platense naciendo desde entonces una gran rivalidad entre estos dos clubes\\nargentinos juniors era un equipo consolidado en primera desde hacia casi veinte anos teniendo como una premisa principal el trabajo con las divisiones inferiores es por aquellos anos que el entrenador de juveniles francis cornejo forma un equipo infantil para disputar los torneos evita de  quizas uno de los mas fanaticos hinchas de argentinos que se hayan visto cornejo no quiso inscribir a ese equipo con el nombre argentinos juniors con el temor de perder algun partido por paliza y poner en discusion el prestigio del club por eso inscribe bajo el nombre los cebollitas a aquellos jugadores que todavia no tenian edad para ingresar a la novena division del bicho lejos de las inseguridades del entrenador cebollitas quizas sea el equipo infantil mas famoso de la historia del futbol argentino debido a que resulto ser una maquina de ganar manteniendo una impresionante racha invicta de  partidos y ganando la mayoria de ellos en numerosas ocasiones con resultados abrumadores\\nlos cebollitas consiguieron notoriedad nacional llegando a ser mencionados en la prensa y a encarar giras por paises como peru y uruguay algo inedito para un equipo de chicos de  y  anos de edad el capitan de ese equipo un zurdo de villa fiorito partido de lomas de zamora petiso flaquito y con mucho pelo negro y enrulado y tambien el jugador mas joven pronto se destaco por sobre el resto concitando la atencion de los medios nacionales cebollitas fue el primer paso de una leyenda de diego armando maradona el pelusa a la postre el mejor futbolista argentino del siglo xx la formacion habitual que cornejo ponia en cancha estaba compuesta por ojeda trotta chaile chammah montana lucero dalla buona maradona capitan dure carrizo y delgado ganaron los dos campeonatos evita que disputaron  y  y tambien los torneos de a y a division de afa\\nmanteniendose siempre en primera division pero generalmente lejos de los puestos de vanguardia argentinos solamente podia estar orgulloso de su cantera en  esa cantera le brindaria al club un privilegio unico e inigualable en la historia del futbol argentino incomparable con cualquier titulo o revelacion el martes  de octubre de aquel ano en un partido contra talleres de cordoba valido por el torneo metropolitano jugado en el estadio de juan agustin garcia y boyaca haria su debut en primera division con el dorsal  uno de los mejores futbolistas de todos los tiempos diego armando maradona el crack de cebollitas que apenas contaba con dos anos y medio en las divisiones inferiores del club y a quien le faltaban diez dias para cumplir  anos de edad siendo el jugador mas joven en debutar en la primera division hasta aquel entonces el partido fue ganado por talleres por la minima diferencia pero el ingreso de diego cambio la dinamica del partido destacandose el hecho de que le tiro un cano a su marcador del equipo cordobes en la primera pelota que disputo\\nla calidad y el coraje que mostro maradona convencieron al director tecnico juan carlos montes de convocarlo permanentemente a los partidos de la primera pese a su corta edad convirtio sus primeros dos goles en la division mayor pocos dias despues el  de noviembre del mismo ano ante san lorenzo de mar del plata en un partido que argentinos gano por  a  virtudes como las de maradona eran extraordinarias desde todo punto de vista con apenas  anos de edad contaba con las aptitudes que lo consagrarian entre los mejores de todos los tiempos capacidad goleadora una excelente tecnica mucha picardia para jugar buena pegada en balones parados mucha potencia velocidad panorama y sobre todo una enorme capacidad de desequilibrio poco tardo en conseguir la titularidad como numero  del equipo y tan pronto como en febrero de  fue convocado a la seleccion nacional por el dt cesar luis menotti para un amistoso frente a su par de hungria dentro de un equipo que contaba con figuras de la talla de americo gallego hugo gatti osvaldo ardiles y rene houseman diego no desentono ingreso a los  minutos del segundo tiempo en reemplazo de otro jugador de clase internacional como leopoldo jacinto luque y pudo colocar un pase gol en la victoria por \\nla trascendencia mundial que adquirieron tanto el propio jugador como el club donde se desempenaba como profesional no han tenido parangon en la historia del futbol argentino argentinos y maradona tuvieron una explosion de popularidad el club consiguio una relevancia dentro y fuera del pais que antes no tenia incrementando exponencialmente el numero de hinchas y simpatizantes llenando canchas de local y de visitante pues todo futbolero queria ver al pibe de oro medios locales y extranjeros seguian los pasos de maradona quien otorgo al club un importantisimo salto de calidad futbolistico tal era la notoriedad conseguida que frecuentemente argentinos debia ejercer la localia fuera de la paternal para poder albergar a la enorme cantidad de publico que seguia al equipo se dejo de lado la pelea por el descenso y ya en  el equipo peleaba codo a codo en la vanguardia de la primera division finalizando en el quinto lugar del metropolitano de aquel ano y consiguiendo el primer subcampeonato oficial del club en  a  puntos del campeon river plate argentinos tuvo la desventaja de no poder contar con su figura en los partidos decisivos puesto que se encontraba concentrado con el seleccionado nacional\\nen aquel periodo maradona establecio un record que aun no pudo ser igualado se consagro como maximo goleador de la division en cinco campeonatos consecutivos metropolitano  metropolitano  nacional  metropolitano  y nacional  este ultimo donde alcanzaria los  goles en primera y donde tambien seria visto desde la tribuna por el representante de queen jim beach lo que fue el origen de su encuentro con freddie mercury  tambien con  conquistas fue el maximo goleador historico en la primera division de argentinos juniors durante su estadia en el club siguio siendo convocado con frecuencia a la seleccion mayor pese a su corta edad aunque no estuvo entre los jugadores que ganarian el mundial  conseguiria su primer titulo como jugador en el campeonato mundial juvenil de japon  siendo el capitan formando una temible dupla ofensiva con ramon diaz siendo elegido el mejor jugador del campeonato y convirtiendo el ultimo gol en la final ante la union sovietica ademas el mismo ano ganaria el olimpia de oro al deportista argentino del ano\\npese al exito los triunfos goleadas memorables y la insercion del club en la primera plana nacional las condiciones economicas de argentinos no eran las ideales y hubo varios intentos de otros equipos principalmente river plate boca juniors y el barcelona espanol para hacerse con los servicios del pelusa una de las primeras salidas que encontro la comision directiva presidida por prospero consoli fue la de realizar giras por el interior para recaudar dinero y poder pagar el elevado contrato de diego las mismas solian ser exitosas y registrar grandes recaudaciones pero tenian impacto negativo sobre el fisico de los jugadores que veian mermada su capacidad en los partidos oficiales la otra una innovacion absoluta fue la de incluir un patrocinante en la camiseta a cambio de la inclusion de un discreto letrero en el sector superior izquierdo del frente de la camiseta y del pantalon la empresa de aeronavegacion austral se convirtio en la primera marca en la historia del futbol argentino en aparecer en la camiseta de un equipo haciendose cargo de pagar el contrato de maradona durante  replicas de esa historica camiseta se siguen vendiendo incluso hoy finalmente en  tras febriles negociaciones diego fue cedido a prestamo con opcion de compra a boca juniors a cambio de  millones de dolares y a ceder los pases de los jugadores carlos randazzo el loco salinas eduardo rotondi y osvaldo santos y los prestamos por un ano de mario zanabria y miguel angel bordon cerrando asi una brillante etapa de cuatro anos con dos meses y  partidos jugados en la primera division del club que lo vio nacer y lo formo desde los  anos\\nla partida de maradona del equipo se hizo sentir profundamente el equipo paso del subcampeonato obtenido con su figura indiscutible en  a un comienzo promisorio en  que se iria desdibujando gradualmente con el correr de los partidos al no hallarse un buen funcionamiento colectivo de la intrascendencia en mitad de tabla con un equipo que jugaba mal y carecia de referentes se acabo en un insolito penultimo puesto hacia el final del metropolitano que como en viejas epocas comprometia la permanencia del equipo en primera el fixture indicaba que el  de agosto dia del  aniversario de la institucion en la ultima fecha argentinos recibia como local a san lorenzo que sumido en una crisis institucional deportiva y economica que entre otras catastroficas consecuencias lo habia despojado de su estadio era el equipo que marchaba en la antepenultima colocacion apenas un punto por encima del tifon el unico resultado que permitiria la permanencia de argentinos en la a era un triunfo jugado en el estadio de ferro que registro su record historico de asistencia el encuentro fue pleno en tension y friccion acorde con lo que se estaba disputando tal es asi que a los  minutos del primer tiempo el arbitro esposito cobra penal por una mano casual en el area del lateral magallanes de argentinos el golero uruguayo alles contuvo tanto el penal como el rebote del jugador delgado del cuervo sobre el final del primer tiempo una violenta falta en el area grande del hueso glaria de san lorenzo sobre el citado magallanes tambien se hace acreedora de la pena maxima salinas uno de los jugadores cedidos por boca a cambio de maradona cambio la falta por gol la segunda mitad fue toda para san lorenzo quien empujo lucho metio pero no pudo convertir ante una estupenda tarea de alles cuando termino el partido se habia consumado un milagro el humilde club de la paternal hacia historia siendo el primer equipo en el futbol argentino que mando a un grande a la primera b\\nluego de semejante hazana maradona regreso al club siendo que boca no estaba en condiciones de enfrentar las obligaciones pactadas por el prestamo el  no volvio a jugar en argentinos siendo de inmediato transferido al barcelona espanol en el que debutaria luego del mundial de espana de ese ano el equipo cule pago al contado  dolares dinero suficiente como para incorporar un plantel completo o hacer un estadio nuevo de ultima generacion la dirigencia de entonces priorizo la realizacion de muy importantes obras en el complejo polideportivo las malvinas incluyendo disciplinas deportivas nuevas para el club pero quizas desperdiciando una oportunidad unica que no se volveria a repetir tal fue la desatencion respecto del futbol que ese ano el equipo volveria a conservar la categoria en la ultima jornada\\nluego de tales vacilaciones ante la urgencia de mejores resultados ya con una nueva cd encabezada por el nuevo presidente domingo tesone se encaro un proyecto a largo plazo con miras a cobrar protagonismo en el futbol profesional una de las primeras medidas fue la contratacion del prestigioso tecnico angel labruna en enero de  quien no solamente trajo consigo una nueva filosofia de juego que entre otras cosas incluyo mudar la localia al estadio de ferro porque argumentaba que el estilo de juego de argentinos merecia un campo de juego mas grande ya que en ese entonces la cancha media  por  metros sino tambien ciertos jugadores de experiencia como el pato fillol pepe castro y el chivo pavoni ese equipo tiene un buen rendimiento aunque no consigue campeonar siendo relegado por el poderoso independiente de ricardo bochini en el mes de septiembre el feo labruna es internado para realizarse una cirugia de vesicula mientras era visitado por su hijo omar y el pato fillol fallecio de un paro cardiaco contaba con  anos de edad\\nhuerfano del mentor de su proyecto futbolistico argentinos contrata a roberto saporiti como director tecnico se daba inicio a la epoca dorada del club que se iniciaria con la conquista del metropolitano  en ese torneo el equipo de la paternal se mantuvo siempre en los puestos de vanguardia desplegando un futbol brillante vistoso y ofensivo que se convertiria en su marca distintiva y le ganaria la simpatia de buena parte del publico futbolero el rival a vencer era el equipo con quien compartia la localia el ferro de carlos timoteo griguol con cacho saccardi como principal figura y que llevaba adelante un estilo futbolistico mas bien opuesto\\nel titulo se definio recien en la ultima fecha argentinos y el verde llegaban igualados en puntaje debiendo recibir el primero a temperley y visitar el segundo a estudiantes de la plata equipo que marchaba en la tercera posicion pero sin chances de salir campeon los partidos se jugaron en simultaneo el domingo  de diciembre de  ante sendos estadios repletos el tifon conseguiria su primer titulo oficial tras vencer por  a  con gol de penal de jorge mario olguin a los  minutos del primer tiempo y ante el empate en  en la plata el encuentro debio suspenderse a los  por la invasion de los hinchas de argentinos al campo de juego\\nla tabla de posiciones termino de esta forma\\nel goleador de ese campeonato fue pedro pasculli con  conquistas siendo ademas el top scorer del ano con  goles una de las particularidades de ese equipo es que su formacion base es muy recordada por el publico en general quique vidalle carmelo villalba el chivo pavoni jorge olguin el ruso domenech capitan el nene commisso el checho batista el panza videla pepe castro pedro pasculli y carlos ereros por otra parte tambien integraron el equipo campeon cesar mendoza miguel angel lemme carlos alberto mayor carlos olaran pellegrini claudio borghi carlos morete renato corsi juan jose lopez y armando dely valdes ese mismo equipo titular con eventuales variantes formaria la base de las siguientes tres conquistas del club que se dieron en los dos anos siguientes\\n\\nalineacion\\ncomo campeon vigente del metropolitano  argentinos afronto el nacional  con el mismo plantel que habia conseguido el primer titulo en los  anos de vida del club quizas la unica variante fue la irrupcion definitiva como titular de uno de los jugadores mas talentosos que hayan surgido de su cantera el bichi borghi que se adueno de la camiseta  tras el alejamiento de saporiti de la direccion tecnica se contrato a jose yudica como dt quien habia salido campeon con quilmes hacia siete anos y habia conseguido el inmediato ascenso de san lorenzo tres anos atras\\nel grupo de la primera ronda parecia sencillo de antemano para el campeon argentino debia enfrentar a chacarita belgrano de cordoba y central norte argentinos finalizo primero en el grupo de manera invicta incluyendo una categorica victoria por  ante el equipo de salta goleada en la que pasculli convirtio cinco goles ganandose una convocatoria a la seleccion nacional en la siguiente rueda dio cuenta de ferro por un contundente  clasificandose para la siguiente fase donde debia enfrentar al buen equipo de velez los enfrentamientos contra el equipo de liniers serian a ida y vuelta argentinos ejercio la localia en el primer partido en la bombonera ganando  con un gol olimpico del panza videla incluido y la revancha fue en el amalfitani donde la v azulada triunfo por el mismo marcador la paridad en el resultado global condujo a una definicion por penales donde vidalle fue la figura del visitante que clasifico a la final del torneo\\ntras jugar una repesca el mismo equipo de velez clasifico a la definicion contra el bicho que debia jugarse en un estadio neutral el monumental tambien a partido y revancha el primer encuentro fue un empate en  con gol de borghi que luego se perderia en la definicion por penales en el partido definitivo pepe castro convirtio para el equipo de la paternal a los  del segundo tiempo empatando comas ocho minutos mas tarde despues el tifon conto con un penal a favor que fue pateado por olguin y atajado por navarro montoya el juvenil arquero velezano quince minutos despues un zapatazo cruzado desde los bordes del area grande a cargo del checho batista puso cifras definitivas argentinos juniors se consagraba bicampeon la rivalidad deportiva entre estas dos instituciones cercanas en la ciudad se profundizo mucho luego de esta serie de enfrentamientos llegandose a incidentes violentos que configuraron un profundo antagonismo entre ellas que todavia persiste\\ncampeon nacional \\nalineacion\\nen el mismo ano en que el bicho se consagraria por segunda vez consecutiva campeon en el plano local debia debutar en la copa libertadores por haberse adjudicado el metropolitano de  la primera fase que deberia afrontar se adivinaba compleja siendo que el grupo estaba integrado por los conjuntos cariocas fluminense y vasco da gama y por uno de los mejores equipos argentinos de aquel entonces ferro pese a haber debutado en la copa con una derrota    frente a este ultimo equipo el bicho se repondria y haria historia en brasil triunfando tanto frente al vasco da gama por    como ante fluminense por la minima en el mitico estadio maracana tras los partidos de vuelta disputados en caballito que depararon un empate agonico en  contra vasco da gama y un claro triunfo    ante el tricolor carioca el club de la paternal conseguiria la clasificacion a la siguiente rueda luego de vencer  a  en un partido de desempate al otro equipo argentino que lo igualaba en puntaje\\nen la fase semifinal completo el grupo conformado por blooming de bolivia y el campeon vigente de la libertadores y de la intercontinental independiente tras empatar en  contra el diablo como local rescatar un    de su excursion a santa cruz de la sierra y un triunfo en la revancha contra el mismo rival argentinos encaraba la definicion debiendo ganarle si o si al poderoso equipo de avellaneda como visitante para alcanzar la final el partido decisivo se lista entre los enfrentamientos mas memorables en la historia de la copa ya que resulto altamente emotivo ademas de haber sido jugado en gran nivel el tifon se fue al entretiempo ganando  a  tras los goles de castro y videla este ultimo de penal y el descuento de percudani para el equipo local y al regreso del descanso defendio el resultado recurriendo a su juego de buen pie pese a los embates permanentes del rojo faltando dos minutos para el final del partido este equipo conto con un penal pateado por marangoni y contenido por quique vidalle quien habia cometido la infraccion sellandose asi el resultado las cronicas de la epoca y las imagenes que han quedado dan cuenta de que locales y visitantes abandonaron el terreno de juego entre grandes ovaciones que provenian de ambas parcialidades en agradecimiento al espectaculo entregado el bicho alcanzaba la final continental en su primera participacion en el torneo habiendo dejado en el camino durisimos rivales y mostrando pasajes de gran nivel de juego\\nla final debia disputarse frente al conjunto colombiano america de cali que contaba con figuras como los argentinos julio cesar falcioni y ricardo gareca o el juvenil colombiano antony de avila el primer partido disputado en el estadio monumental de buenos aires fue un triunfo por la minima a favor del conjunto de la paternal con gol del nene commisso en la revancha en cali el resultado fue el mismo pero a favor del equipo colombiano el reglamento de entonces determinaba que ante tal paridad debia disputarse un partido de desempate en terreno neutral se eligio el estadio defensores del chaco de asuncion que termino en empate  a  tras los goles de commisso a los  del primer tiempo y del flaco gareca cuatro minutos mas tarde tras un segundo tiempo y dos tiempos suplementarios de  donde no se pudo quebrar la paridad el partido debio definirse por tiros desde el punto penal luego de las conversiones de olguin batista pavoni y borghi para argentinos y de gareca cabanas herrera y soto para el equipo colombiano vidalle contuvo el disparo de de avila dejando la definicion en los pies del panza videla quien con categoria supero a falcioni de tal manera tras una durisima competicion que se estiro hasta el ultimo disparo de la serie argentinos inscribia su nombre en el muy selecto grupo de campeones de america con la particularidad de alcanzar la gloria en su primera participacion en el torneo\\nalineacion en la final\\ncomo vigente campeon de america el club tenia el derecho de disputar la copa intercontinental  ante el campeon de la copa de campeones de europa la juventus de italia que contaba con figuras de clase mundial como los campeones del mundo en  gaetano scirea y antonio cabrini el volante creativo frances michel platini y el delantero danes michael laudrup siendo dirigidos por giovanni trapattoni este partido se disputo el  de diciembre de  en el estadio olimpico de tokio ante  personas y quedo grabado en la memoria colectiva como la mejor final intercontinental de la historia siendo asi recordada incluso por la propia fifa\\nuna de las principales caracteristicas del partido fue su paridad quizas impensada en la previa el irreverente equipo argentino seguia desplegando su juego ofensivo y vistoso ante uno de los mejores equipos del planeta tal era la confianza en su propio talento que poseia argentinos que ereros abrio el marcador a los  minutos de juego ocho minutos mas tarde con la juventus asediando el area del bicho el arbitro aleman volker roth cobraria penal para el equipo italiano que platini cambiaria por gol el credito sudamericano no se amilanaria y volveria a ponerse en ventaja esta vez de la mano del pepe castro  minutos mas tarde con quince minutos para dar vuelta el encuentro el equipo turines volvio a su tecnica de asedio constante consiguiendo restablecer la paridad a falta de ocho minutos para el fin del encuentro por intermedio del danes laudrup el resultado  condujo a la disputa de dos tiempos suplementarios de  minutos donde la paridad no pudo quebrarse y a otra definicion por penales la tercera por esa via que debia afrontar el tifon en  tacconi el arquero italiano contuvo el penal de pavoni y sergio batista envio el suyo por encima del travesano poco importo que olguin y juan jose lopez convirtieran para argentinos o que laudrup fallara su penal juventus se consagraria campeon del mundo no obstante el juego desplegado por el cuadro de la paternal seria elogiado principalmente por la prensa argentina\\nalineacion\\n\\nel empate con la juventus no seria el final del ciclo triunfal del club a mediados de la decada de  restaba disputar la copa interamericana contra el campeon de la copa de campeones de la concacaf  el defence force de trinidad y tobago debido a la mala organizacion los clubes debian ponerse de acuerdo entre ellos para definir la sede del encuentro esto demoro la disputa de la copa hasta el  de diciembre de  mas de un ano despues de la disputa de la intercontinental ya referida ya sin su principal figura claudio borghi quien habia sido transferido al a c milan de italia y con el regreso de roberto saporiti a la direccion tecnica en reemplazo de yudica argentinos visito al equipo trinitense en el estadio nacional de puerto espana venciendolo por  con gol del panameno armando dely valdes a los  minutos del primer tiempo de esta forma argentinos conseguia su cuarto titulo oficial en menos de dos anos\\nalineacion\\n\\nluego de un periodo sumamente fructifero desde todo punto de vista el equipo atraveso un proceso de recambio que a priori no implicaba una perdida de calidad en el plantel la partida de jugadores como borghi en  o de batista en  se vio compensada con el alumbramiento de jugadores de la talla del notable volante central fernando redondo o de nestor lorenzo en el exitoso  o los defensores carlos mac allister y fernando caceres en  entretanto el club debia afrontar la defensa del titulo continental en la copa libertadores  en un grupo semifinal integrado por barcelona de ecuador y el river plate del bambino veira el campeon vigente empato en puntos con su compatriota debiendo jugar un desempate en el estadio de velez donde perderia la chance de volver a disputar la final por diferencia de gol el equipo millonario acabaria ganando el torneo\\nen el plano local argentinos seguia teniendo una escuadra competitiva pero la perdida de algunos jugadores clave lo relegaria de los primeros planos la irregularidad se hizo moneda corriente pasando de un meritorio o lugar en el campeonato  a la decimoseptima colocacion al ano siguiente para recuperar terreno en la temporada  donde se formaria nuevamente un equipo vistoso elegante y de mucha categoria apodado los globetrotters de la paternal bajo la batuta de redondo que lograria ingresar al club a la liguilla clasificacion de aquella temporada hallando cierta regularidad y contando con la carta de gol de un jugador llegado desde instituto de cordoba oscar dertycia el club se mantendria en la mitad superior de la tabla hasta finalizar la decada periodo en el cual se destaca la mejor participacion del club en la supercopa sudamericana alcanzando el tercer lugar en  en la temporada  la irregularidad volveria a hacerse presente con un meritorio cuarto puesto en el torneo apertura que brindaria otro ingreso a la liguilla prelibertadores contra un puesto  en el clausura que dejaria al club en la  posicion en la tabla general simultaneamente a estos vaivenes deportivos la falta de exitos comenzaba a notarse en otros ambitos una fuerte crisis economica azotaria a la institucion y se sucederian groseras falencias y desmanejos en la gestion quizas la mas nefasta fue la oscura maniobra que devino en que no se enviaran a la afa las renovaciones de los contratos de los jugadores del primer equipo para  y que todos ellos quedaran libres en la confusion fernando redondo la figura de aquel equipo se marcho con el pase en su poder haciendo perder al club una suma de dinero muy importante\\ntambien en aquella epoca la cd encabezada por el presidente domingo tesone y el vice roberto lopez decidieron la compra de un predio de ha en bajo flores con miras a crear un campo de entrenamiento un centro de formacion para futbolistas juveniles de primer nivel una pension e incluso una concentracion para el primer equipo el lote ubicado entre las avenidas riestra castanares y lafuente y la calle portela fue comprado en  a cambio de la entrega de la vieja sede social del club ubicada en la calle artigas donde hoy funciona el centro cultural resurgimiento y del pago de  cuotas semestrales todas las comodidades planificadas en aquel entonces fueron construidas luego de anos de trabajo incluso la concentracion para la primera division que se inaugura en mayo de  el hoy denominado centro de entrenamiento y formacion del futbol amateur ceffa es un predio de primer nivel con todas las comodidades necesarias para el desarrollo de las actividades de las divisiones infantiles juveniles tanto masculinos como femeninas y de la primera division profesional contando ademas con un total de nueve canchas de  siendo  sinteticas\\nregresando al plano futbolistico en la decada de  comenzaria un notorio declive que se evidenciaria en los constantes padecimientos del equipo respecto del descenso a la segunda division tan temprano como en la temporada  el equipo conducido por el exjugador chiche sosa penaria durante todo el torneo clausura por mantener la categoria consiguiendolo en las fechas finales pero ingresando en la compleja dinamica de luchar por la permanencia en la division de privilegio incluso en circunstancias dificiles como esta el club tuvo el honor de seguir gozando de los frutos de su cantera con los debuts de jugadores notables como diego cagna en  y el pipa gancedo\\nen  mas alla de este aliciente las dificultades economicas y deportivas se acrecentaban salvandose del descenso por apenas siete unidades en  tales eran los problemas que la dirigencia acepto un proyecto acercado por la empresa torneos y competencias que ofrecia la incorporacion de varios jugadores de nivel por cuenta de la firma entre quienes se mencionaba la chance de un retorno de diego maradona pero que incluia la clausula de mudar la localia a la ciudad de mendoza lo que condujo que los socios de la institucion rechazaran de plano el proyecto a pesar de todo y con la continuidad de sosa en la direccion tecnica el plan se llevo a cabo y resulto un estrepitoso fracaso pues los resultados deportivos fueron mediocres y las incorporaciones de nivel no fueron tales pudiendose destacar unicamente al guardameta colombiano faryd mondragon el equipo acabo nuevamente a siete puntos del descenso y el denominado proyecto mendoza no tuvo continuidad el regreso a la capital federal trajo consigo una campana fuera de lo comun en el torneo apertura  el equipo acabo en la a colocacion peleando el campeonato hasta el final para finalizar ultimo en el siguiente clausura sin poder despegarse de la zona de permanencia en primera fue en esa irregular temporada cuando el gran lateral izquierdo juan pablo sorin debuto en la primera del club contando con apenas  anos de edad la temporada  comenzo con un acontecimiento sin precedentes en la historia del futbol argentino el bicho debia participar en la supercopa sudamericana  y ante la carencia de un campo de juego propio hizo las veces de local ante atletico nacional de medellin en el estadio orange bowl de miami estados unidos el partido fue  en favor del equipo colombiano y argentinos como acostumbraba desde  fue eliminado en la primera ronda finalmente en la siguiente temporada se consumo la perdida de la categoria luego de  anos ininterrumpidos en primera y algo mas de diez anos despues del ciclo mas exitoso en la historia del club\\nviendose relegado de la permanencia a la divisional a la que pertenecia segun dictaban sus antecedentes argentinos enfrento el torneo de la primera b nacional  apelando a los recursos habituales del club un dt de la casa como osvaldo sosa la presencia en el primer equipo de jugadores de inferiores de la talla de jorge quinteros diego placente cesar la paglia y leonardo mas y algunas apuestas adquiridas a equipos del ascenso como rolando schiavi el torneo de segunda division resultaria complejo y mas aun considerando las dificultades institucionales que se atravesaban pero el retorno a primera se lograria inmediatamente y ganando el torneo sin discusion pese a tener una formacion austera y plagada de juveniles que demostrarian su valia en anos venideros el duro torneo se corono con un triunfo por  frente a gimnasia y tiro de salta en el estadio de deportivo espanol ante una multitud que agoto las   localidades disponibles y que luego marcho en caravana hasta la paternal para celebrar la conquista el gol del triunfo frente al equipo salteno seria obra del polo quinteros grata revelacion de aquel torneo quien formara una notable dupla de ataque junto al hondureno eduardo bennett como muestra de la jerarquia de aquel equipo cabe decir que jugo  partidos ganando  empatando  y perdiendo solamente  sumando en total  puntos\\nla alegria por el regreso a la primera division seria efimera el club no lograba recuperarse de su dura crisis economica y como consecuencia de la deplorable situacion institucional se continuaron los graves desmanejos por parte de los directivos entre los cuales quizas el mas nocivo para la institucion haya sido la venta a boca juniors a cambio de muy poco dinero de las fichas de varios promisorios futbolistas juveniles que aun no habian debutado en primera entre los cuales se destaca el caso paradigmatico de juan roman riquelme quien se formo en argentinos pero debuto oficialmente en el club de la ribera un tiempo atras el padre del promisorio volante central de inferiores esteban cambiasso apelo a la patria potestad para obtener el pase de su hijo tras haberle conseguido una prueba en el real madrid operacion que no dejaria dinero al club sin embargo anos mas tarde la comision directiva de entonces iniciaria un pleito en fifa y luego de algunos anos el real madrid debio abonarle a la institucion de la paternal us como resarcimiento para poder utilizar a los hermanos cambiasso ademas de eso se habian iniciado las obras para construir finalmente el nuevo estadio en el mismo lote de juan agustin garcia y boyaca donde se encontraba el viejo estadio de madera ya demolido las cuales resultaron una carga sumamente onerosa mas alla de esos problemas de indole institucional las campanas del bicho una vez vuelto a su division fueron de mayor a menor volviendo a pelear por no descender al poco tiempo de haber recuperado la categoria esto no significaba que el club hubiera perdido su poderio en las divisiones formativas ya que en aquel tiempo se asentaron en el primer equipo grandes jugadores como federico insua mariano herron diego markic cristian ledesma y julio arca ademas de la permanencia en el plantel por varios anos de schiavi bennett y quinteros\\nla mas clara muestra respecto de las dificultades que afronto el club tras su retorno es que la campana en la a se inicio con unos satisfactorios  puntos en la temporada  pasando luego a unas aceptables  unidades a la temporada siguiente cosechando  unidades menos en la  y comenzando a acercarse a la zona de riesgo en la tabla de promedios y obteniendo la regular suma de  en la  temporada en la que por primera vez se debio jugar una promocion para conservar la categoria pese a acabar en el o lugar en el torneo clausura solo por detras de san lorenzo river y boca en aquella serie de revalida el club se impuso con justeza ante instituto de cordoba tras empatar sin goles en la provincia mediterranea y finalizar  en el partido de vuelta jugado en ferro permaneciendo en primera por la regla de ventaja deportiva ya para la temporada siguiente el plantel se encontraba diezmado y el club al borde de la quiebra en medio de la crisis deportiva y financiera al punto de hallarse embargado e inhabilitado para realizar incorporaciones debiendo afrontar el decisivo torneo clausura con una mayoria de juveniles entre los cuales se destacaba leonardo pisculichi la magra cosecha de  unidades sumada al bajo promedio que aquejaba al equipo lo condeno a volver a jugar en la division de plata del futbol argentino tras solo  temporadas consecutivas en primera\\nhubo que barajar y dar de nuevo a partir de la segunda mitad de  una vez establecida una nueva comision directiva se armo una plantilla con la intencion de regresar pronto al lugar de pertenencia de la institucion a cargo de ricardo rezza exdirector tecnico de temperley experimentado tecnico del ascenso que seria reemplazado por ricardo gareca actual director tecnico de la seleccion del peru tras un irregular ciclo se configuro un equipo competitivo y con salarios de primera division compuesto por una buena cuota de juveniles promisorios como el mencionado pisculichi lucas biglia julio barroso walter garcia pablo barzola gaston machin nico pareja y lucas barrios mezclados con experimentados en las divisiones de ascenso como el topo gomez y ceferino diaz figura del torneo previo de la b nacional si bien argentinos termino esa temporada en la segunda colocacion detras de atletico de rafaela no se consiguio el ascenso ya que el reglamento estipulaba disputar una final contra el equipo que hubiera terminado en tercer lugar se jugo una serie a ida y vuelta frente a quilmes equipo que ostentaba un nefasto record de  finales perdidas de manera consecutiva luchando por el ascenso y que era conducido por gustavo alfaro la serie extremadamente cerrada y mal jugada por argentinos definida en el estadio de ferro donde argentinos aun fungia de local termino favoreciendo al equipo cervecero que gano  en el estadio centenario y empato sin goles en el partido de vuelta la ultima oportunidad de ascender la promocion contra nueva chicago en doble partido disputado en la cancha de san lorenzo tampoco pudo devolver al club a la division de privilegio pero en medio de la crisis deportiva y financiera los bichos colorados tendria que esperar un ano mas por malos resultados con el tecnico ricardo gareca actual director tecnico de la seleccion del peru y por malos manejos administrativos que lo tenian al borde de un colapso economico sumido en una crisis economica\\nsegundo ano consecutivo de argentinos juniors en la primera b nacional la no obtencion del objetivo inmediato condujo a la renuncia inmediata de gareca y una depuracion del plantel donde los jugadores experimentados de dudosa calidad que llenaban espacios fueron reemplazados por juveniles en la temporada  de la b nacional el equipo apelo al regreso de dos hijos prodigos para recuperar su plaza en primera y a un tercer retorno tan postergado que ya parecia dificil por un lado el goleador polo quinteros volvio al club tras un periplo por san lorenzo el futbol de espana y el futbol de chile y por el otro sergio batista exdirector tecnico de la seleccion de barein retorno al club de sus amores ahora como director tecnico y con la determinacion de regresar pronto a la a ademas de eso el  de diciembre de  se inauguro finalmente con una gran fiesta el nuevo estadio de material denominado diego armando maradona obra del arquitecto hector caracciolo socio vitalicio de la institucion apoyado por una notable sub comision de obras que trabajo durante casi  anos logrando afrontar la segunda mitad de la temporada en casa propia luego de  anos vagando por diferentes escenarios del pais y el exterior la campana comenzo de manera positiva y el equipo se mantuvo siempre en puestos de vanguardia pero un tramo final donde se produjo un acentuado declive en los resultados condujo a quedar en el o lugar de la tabla general detras de los ascendidos instituto de cordoba y almagro y de huracan de tres arroyos sin chances de un ascenso directo el club debio afrontar un torneo reducido para alcanzar la promocion y tras imponerse en el mismo disputo una dura serie de promocion contra talleres de cordoba club que habia concluido el clausura  en el tercer lugar y que habia luchado hasta la penultima fecha por el titulo el bicho se impuso por dos goles a uno tanto en el partido de ida disputado en el flamante estadio diego armando maradona como en el partido de vuelta en el chateau carreras de cordoba los goles de ese ultimo partido fueron convertidos por cachete oberman uno de los mejores jugadores del campeonato y por el inefable jorge quinteros quien tiene la peculiar marca de haber convertido los ultimos dos goles en los ultimos dos ascensos del club\\nhabiendo vuelto a primera division tras dos temporadas en la b nacional despues de perder su invicto en el estadio diego armando maradona vs el club atletico los andes por  a  justo en el ano de su centenario argentinos encaro nuevamente la lucha por mantener la plaza que la historia le reservaba el comienzo fue muy duro ya que tanto en la temporada inaugural como en la  se jugaron sendas promociones para mantener la categoria el equipo no conseguia levantar la cabeza por completo pese a que obtuvo una sorpresiva fortaleza como local el diego armando maradona empezo a ser un verdadero escollo en el fixture para los demas equipos principalmente para los grandes ninguno de los cinco miembros de ese grupo pudo conseguir un triunfo en la primera temporada en que el tifon volvio a su historico terreno de juego san lorenzo boca y racing perderian por la minima independiente caeria  con un memorable gol del defensor ariel seltzer desde atras de mitad de cancha y river empataria en  tantos el problema era que no se podia trasladar ese buen rendimiento fuera de la paternal se sucedieron los directores tecnicos sin lograr revertir la racha negativa hasta que en el ano  luego de sortear la promocion contra huracan se contrato a un dt sin antecedentes en primera division que fue recomendado por diego maradona ricardo caruso lombardi dueno de un estilo particular mediatico polemico y provocador este exjugador del club tenia una amplia y exitosa trayectoria en el ascenso particularmente dirigiendo a tigre inmediatamente a su llegada caruso se dedico a recabar una multitud de jugadores ignotos de equipos del ascenso o de ligas menores del exterior asi llegaron a la institucion masivamente gabriel penalba y alvaro pereira en condicion de libres desde quilmes de la b nacional andres scotti desde el rubin kazan de rusia el juvenil gabriel hauche desde temperley de la tercera division emmanuel gigliotti desde lamadrid equipo de la cuarta categoria juan sabia quien venia de descender a la b nacional en gimnasia y esgrima de jujuy roberto battion previamente en union de santa fe y juan mercier llegado desde el viejo rival platense lo que le ocasiono una fuerte resistencia entre el publico en un primer momento muchos de esos jugadores alcanzaron rendimientos notables y fueron vendidos por el club en cifras millonarias algunas temporadas mas tarde aunque otros varios fueron dejados en libertad de accion rapidamente algunos incluso sin debutar como gigliotti de la mano del plantel comandado por caruso que se completaba como es de esperarse con una gran camada de canteranos entre quienes destacan nestor ortigoza y matias caruzzo argentinos se volvio un equipo durisimo quizas conservador pero muy complejo de enfrentar en cualquier estadio tal fue asi que en la temporada  el equipo se salvaria de jugar la promocion y del descenso abordando el siguiente ano con mayor tranquilidad desafortunadamente la personalidad de caruso no encajaba con lo que la dirigencia pretendia y las rispideces mutuas devinieron en una repentina renuncia del entrenador su sucesor nestor gorosito de mas bajo perfil logro encauzar un plantel ya armado cuya principal arma era la fabulosa dupla de volantes centrales compuesta por ortigoza y mercier y se volvio practicamente infalible como local la buena campana realizada con pipo en el banco condujo a un hecho tan inesperado como satisfactorio argentinos sumo el tercer mejor puntaje de la temporada y clasifico a la copa sudamericana  regresando a las competencias continentales luego de mas de  anos de ausencia\\ndespues de anos de padecimientos y con una plana directiva enfocada en recuperar la imagen del club el bicho volvia a tener un equipo solido en todas sus lineas y competitivo contando con un extraordinario mediocampo conformado por el doble cinco ortigoza y mercier sumados a palito pereira y el flaco penalba y a la picante ofensiva con el clasico delantero central nicolas pavlovich y el extremo gabriel hauche respaldados por canuto caruzzo scotti y escudero en la linea de fondo y con sebastian torrico en la valla el buen funcionamiento colectivo llevo a que ese equipo alcance las semifinales de la sudamericana tras imponerse sucesivamente a san lorenzo san luis de mexico y palmeiras de brasil con un resonante triunfo por  en el estadio palestra italia de san pablo luego el poderoso estudiantes de la plata de andujar la brujita veron el chapu brana el chino benitez y jose luis calderon daria cuenta de argentinos en la semifinal tras el empate en  en el maradona y el ajustado triunfo por  en el estadio unico con gol de caldera jugador que dos anos mas tarde se consagraria idolo del bicho en circunstancias muy distintas argentinos habia regresado a los primeros planos internacionales tras apenas cuatro anos en primera luego de enfrentar situaciones durisimas una decada atras\\nal cabo de ese ano gorosito iria a dirigir a river plate y muchos de los jugadores destacados serian vendidos en varios casos al exterior como escudero y pereira transferidos respectivamente al corinthians y al cfr cluj en cifras superiores al millon de dolares entretanto el ex asistente tecnico de marcelo bielsa claudio vivas se hizo cargo del equipo en su primera experiencia como dt contando aun con la base del equipo que habia quedado tercero en la sudamericana vivas realizo una campana pesima reuniendo apenas  puntos en  fechas con la particularidad de haber perdido una buena cantidad de partidos en los ultimos diez minutos de juego el club finalizo aquel campeonato en la ultima posicion aunque el sucesor de vivas se encargaria de enderezar sobradamente el rumbo del equipo ante una situacion que se avizoraba critica en el mediano plazo la dirigencia aposto a repatriar a uno de los maximos idolos de la institucion claudio daniel el bichi borghi ya por entonces entrenador consagrado tras una gran cosecha de titulos en colo colo para afrontar otra vez la lucha por mantener la categoria ni siquiera el mas optimista fue capaz de anticipar el cambio radical que se avecinaba en juan agustin garcia y boyaca\\ninmediatamente a su llegada borghi hizo varias modificaciones en el plantel profesional incorporando jugadores de su conocimiento como el delantero el chuco sosa y el arquero chileno nicolas peric repatriando canteranos como cachete oberman y trayendo algunos otros menos conocidos que descubrio en partidos amistosos que presencio como facundo coria el debut de argentinos en el apertura deparaba una visita a la bombonera terreno historicamente hostil para el bicho desde ese partido el equipo empezo a sorprender si bien el resultado fue empate en  goles argentinos pudo aduenarse de la pelota manejar las acciones hacer frente al rival y convertirle lo cual era notable considerando que se enfrentaban uno de los mejores planteles del pais con otro que venia de terminar ultimo en el campeonato previo argentinos fue una de las mas gratas revelaciones de aquel certamen junto al banfield de julio falcioni que acabaria consagrandose aunque cierta irregularidad a mediados del torneo y un numero considerable de empates ocho lo mantuvieron lejos de la lucha por el campeonato de cualquier forma la mano de borghi era evidente en los resultados habiendo tomado al equipo ultimo debil y flaco en puntos en pocos meses lo llevo a tener un gran despliegue un rendimiento parejo como local y como visitante perder apenas tres encuentros de  jugados y reunir  unidades aquella fue la mejor cosecha de puntos del club desde su retorno a primera el equipo acabo en la a colocacion\\nluego de realizar los trabajos de la pretemporada veraniega en la ciudad chilena de temuco y de incorporar al juvenil arquero luis alberto ojeda proveniente de union de santa fe y al veterano delantero jose luis calderon libre de estudiantes de la plata argentinos debuto contra boca en su estadio con otro empate en dos goles el partido se destaco por ser el debut de calderon con la camiseta de argentinos y por definirse sobre la hora con un gol de ismael sosa nuevamente el torneo empezaba con irregularidad la segunda fecha depararia una dolorosa derrota por  a manos del vigente campeon banfield en el sur compensada en la siguiente jornada con una sorprendente goleada a favor por  tambien de visitante frente a lanus tras resultados no muy alentadores como una derrota como local frente a godoy cruz o un empate contra atletico tucuman en el norte la fecha  implico un punto de quiebre argentinos se impuso apenas por  frente a estudiantes de la plata con gol de calderon pero el equipo demostro un gran futbol superando ampliamente al campeon de america de entonces desde ese partido el tifon no volveria a ser derrotado alcanzando victorias resonantes frente a velez de local o frente a racing river y rosario central en sus respectivos estadios\\nla decimoseptima fecha ya contaba con un grupo de cuatro equipos que se dirimirian el titulo el independiente conducido por el tolo gallego y el estudiantes de pachorra sabella marchaban con cierta ventaja frente al bicho del bichi y el sorprendente godoy cruz del turco asad a priori las oportunidades de argentinos eran escasas todavia tenia que jugar contra san lorenzo en el nuevo gasometro y recibir a independiente en la paternal ademas del cierre frente al debil huracan en el palacio duco habiendo ya igualado su campana previa de  puntos marchaba por detras de estudiantes  unidades y apenas un punto por delante del rojo la pelea por el titulo parecia quedar atras cuando el primer tiempo contra el cuervo acababa con un  en contra consecuencia de un partido mal jugado por el equipo visitante tras la reanudacion y con una actuacion consagratoria de ismael sosa quien marco dos tantos argentinos termino ganando por  encarando el juego contra independiente todavia en una posicion expectante respecto al titulo precisamente el equipo de avellaneda era dueno del pase de sosa goleador de argentinos con  tantos razon por la cual no se pudo contar con su carta de gol en la penultima jornada\\nel partido de la fecha  en que independiente visito a argentinos juniors acabo siendo uno de los mas memorables en los ultimos tiempos del futbol argentino y se lista entre los  partidos mas importantes de la historia del club de la paternal equiparado con la conquista de la libertadores o el subcampeonato intercontinental tras sufrir la lesion de su arquero nicolas peric al inicio del encuentro argentinos ganaba por  a los  minutos con gol de nicolas pavlovich apenas un minuto y medio despues independiente empataria con un gol olimpico de un jugador surgido de las inferiores de argentinos leonel nunez al inicio del segundo tiempo otro exjugador de argentinos dario gandin pondria el  en favor del visitante que  minutos mas tarde aumentaria la ventaja tras una nueva conquista de nunez mientras se sucedian ataques sin exito del visitante presto a liquidar el partido borghi realizo un cambio insolito reemplazando al lateralvolante gonzalo prosperi por el defensor central ignacio canuto quien se situo en la posicion de enganche desde ahi canuto puso un preciso centro para que a los  pavlovich convirtiera nuevamente poniendo las acciones  en un final para el infarto el defensor juan sabia convirtio su segundo tanto en primera division con un potente disparo al angulo empatando el partido en  a los  minutos de partido el milagro se consumo cuatro minutos mas tarde cuando el capitan del equipo local matias caruzzo puso el  definitivo a falta de  segundos para terminar el juego simultaneamente estudiantes de la plata no pudo dar cuenta de rosario central empatando  y sufriendo la expulsion de su mejor jugador juan sebastian veron tras un violento codazo el  de mayo de  en la fecha decisiva ante una multitud de mas de  hinchas visitantes que agotaron las localidades que huracan puso a disposicion argentinos gano con comodidad por  al conjunto quemero y se consagro campeon local por tercera vez en su historia  anos despues de su ultimo titulo nacional las principales figuras de aquel conjunto fueron su capitan matias caruzzo el tandem ortigozamercier en el mediocampo el goleador ismael sosa y jose luis calderon vital para el equipo tanto dentro como fuera de la cancha por su parte claudio borghi establecio un record al ser el primer tecnico en salir campeon como jugador y como entrenador en el club la cosecha de  unidades en toda la temporada fue la mayor en un ano en la historia de la institucion\\nla tabla de posiciones finalizo de la siguiente forma\\nalineacion habitual\\n\\nluego de la finalizacion del torneo clausura  donde argentinos juniors consiguio el titulo borghi cumplio con su palabra y no renovo su vinculo con la institucion siendo inmediatamente contratado por boca la dirigencia confio en pedro troglio y su cuerpo tecnico para afrontar el interesante ano que se avecinaba con las copas sudamericana  y libertadores  en la mira al mismo tiempo que borghi dejaba su cargo se produjo un autentico exodo de jugadores peric caruzzo coria sosa pavlovich raymonda y canuto se fueron a diferentes equipos y calderon se retiro luego de un breve retorno a su primer club cambaceres como contrapartida regresaron algunos exjugadores del club como franco niell sergio escudero y el arquero nicolas navarro y se incorporo al ex goleador de gimnasia gonzalo vargas y al promisorio delantero de la reserva xeneize nicolas blandi la campana en el apertura  fue mas pobre de lo que se esperaba finalizando en el decimotercer lugar permaneciendo casi siempre en la mitad inferior de la tabla de posiciones y consiguiendo el primer triunfo recien en la a jornada de ese torneo solamente se puede destacar una goleada por  al lobo en el bosque y un inesperado triunfo como visitante por  frente al nuevo equipo de borghi boca juniors por otra parte tras dos partidos muy mal jugados el equipo quedo eliminado en la primera ronda de la copa sudamericana por el futuro campeon de esa edicion independiente de avellaneda otro titulo saliente del segundo semestre de  fue la escrituracion a nombre del club de los terrenos del estadio y del centro de entrenamiento y formacion del futbol amateur ceffa a cambio de la condonacion de una deuda impositiva existente el club devolvio a la ciudad  de las hectareas de ese ultimo predio\\nal ano siguiente tras realizar la pretemporada en mar del plata y algunos dias antes de iniciar la competencia en la libertadores el club transfirio a su capitan y figura nestor ortigoza a san lorenzo la institucion de bajo flores atravesaba una dura situacion economica la que condujo a que mantuviera una deuda cercana al millon de dolares por la obligacion contraida para contar con el volante central incluso un ano despues de la transferencia deuda que se terminaria cancelando con documentos  dias despues del pase del jugador la mayor competencia continental de clubes tenia deparado un grupo durisimo para argentinos debia medirse ni mas ni menos con fluminense campeon de brasil y con figuras de la talla de deco y rafael moura america de mexico vigente campeon mexicano y nacional de montevideo ganador del certamen uruguayo a tales efectos ante la sequia goleadora de vargas se contrato al ariete paraguayo santiago salcedo el debut en la temporada fue un nada despreciable empate en dos tantos contra el poderoso tricolor carioca en el engenhao de rio de janeiro sorprendentemente argentinos pico en punta en su grupo de la libertadores tras vencer por un categorico  al equipo mexicano en el diego armando maradona en la segunda fecha aprovechando el empate de los otros dos clubes la primera rueda de enfrentamientos se cerro con un trabajado triunfo por la minima ante nacional en el parque central con gol de niell gran figura y goleador del equipo en esos partidos en la siguiente vuelta los poderosos equipos harian sentir su jerarquia venciendo a argentinos en las revanchas y eliminandolo en la primera ronda pese a haber llevado adelante un digno papel el ultimo partido un duro  como local contra fluminense tuvo notoriedad por incluir una batalla campal al final del partido\\npor otra parte el torneo local simultaneo con esa copa fue digno de destacarse argentinos sumo la buena cifra de  unidades acabando en la a colocacion y clasificando a la sudamericana por segundo ano consecutivo y por tercera vez en su historia en aquel torneo apenas perdio tres partidos a manos de godoy cruz boca y olimpo y fue el equipo con menos derrotas del certamen esos buenos resultados llevaron a que la dirigencia ratifique la confianza en troglio y renueve su vinculo lamentablemente el segundo ciclo empezaria bastante mal con una racha de  empates consecutivos las cinco primeras jornadas del apertura y el debut en la sudamericana ante velez que recien se cortaria con un doloroso  en contra en el amalfitani por la revancha del torneo continental sucedido luego por una caida por el mismo resultado ante lanus en la paternal y por una derrota  contra un estudiantes de la plata ya lejos de sus mejores rendimientos esta seguidilla condujo a la renuncia de troglio y el retorno de pipo gorosito a la direccion tecnica de la institucion este logra encauzar nuevamente a un equipo cuyo promedio habia vuelto a bajar pronunciadamente rescatando un  de su encuentro con el puntero y futuro campeon boca juniors en la a fecha y reencontrandose con el triunfo en la jornada siguiente venciendo  a belgrano de cordoba en el estadio mario alberto kempes la segunda mitad del torneo seria mas tranquila destacandose un triunfo  sobre velez en la paternal senal de la remontada del equipo termino en la decimoquinta colocacion con  unidades\\nen  el equipo de gorosito habia iniciado la competencia en el clausura con cierta irregularidad aunque un desafortunado hecho extrafutbolistico cambiaria el curso de los acontecimientos en las horas previas al cotejo frente a san lorenzo por la a fecha el director tecnico sufrio un grave accidente de transito que le demandaria un largo proceso de recuperacion y renuncio de inmediato a su cargo el cuerpo tecnico abandono sus tareas tras el mencionado partido contra el cuervo derrota por la minima y tras el triunfo por  sobre independiente en el estadio libertadores de america la dirigencia contrato como sucesor a leonardo astrada el negro dirigio al equipo desde la a jornada y tuvo un rendimiento bastante irregular consiguiendo varios puntos como visitante triunfos sobre lanus tigre y velez y finalizando el torneo en la a colocacion con  puntos\\nmas alla de lo estrictamente deportivo en ese semestre el club seria protagonista de otro hecho muy peculiar el dia  de mayo de  estreno en cines portenos la pelicula documental bichos criollos sobre la historia de la institucion primera obra de esas caracteristicas en ser parte del circuito comercial argentino a su estreno concurrieron varios de los celebres futbolistas en ella entrevistados periodistas ligados al ambiente del futbol directivos de otras instituciones y exjugadores identificados con el club como nestor ortigoza durante el mes de agosto de aquel ano fue exhibido en el centro cultural resurgimiento ubicado en la antigua sede social del club muy cerca del estadio luego de dejar de ser proyectado en cines luego fue presentado en las ciudades de tandil puerto madryn y gaiman en la argentina y en los festivales cinefoot de rio de janeiro y el festival de cine de berlin\\nel segundo semestre del ano resultaria nefasto el equipo fue eliminado por tigre tras una goleada en la primera ronda de la sudamericana y arrancaria el torneo inicial con una categorica derrota por  ante velez la segunda fecha traeria peores noticias el equipo perdio por  ante racing como local y la flamante incorporacion el peruano jose fernandez sufriria una lesion que lo marginaria hasta el final del campeonato astrada dejaria su cargo tras la fecha  habiendo sumado apenas  puntos y ubicandose entre los ultimos de la tabla tras varias negociaciones y un interinato de dos fechas de carlos mayor un triunfo y un empate seria reemplazado por gabriel schurrer quien rescataria un punto como visitante de river en su debut y perderia el resto de los partidos con apenas  unidades en igual cantidad de partidos y terminando en la decimosexta posicion argentinos una vez mas se acercaba a la lucha por la permanencia\\nschurrer resulto ser el tecnico con el peor registro en la historia del club dirigio siete encuentros empato uno y perdio el resto el equipo convirtio cuatro goles de los cuales ninguno sirvio para sumar unidades y recibio trece la situacion en el torneo final donde se definirian los descensos era alarmante el equipo marchaba en la ultima colocacion con comodidad llevaba ocho jornadas consecutivas sin triunfos y tenia un bajo promedio muy cerca de equipos como san martin de san juan independiente o union que estaban en zona de descenso lo apremiante de la situacion llevo a realizar un llamado de urgencia a otro viejo conocido ricardo caruso lombardi con una gran experiencia en este tipo de situaciones el segundo ciclo de caruso en el club conto con la desventaja de tener que llevarse a cabo con un plantel mal armado y descompensado con varios jugadores veteranos como diego placente anibal matellan ariel garce y leandro caruso en dudosas condiciones fisicas y futbolisticas y una enorme cantidad de jugadores juveniles teniendo en cuenta esos factores se explica la muy pobre cosecha de puntos que incluyo derrotas duras que comprometieron aun mas al equipo con la permanencia como el  a manos del independiente que mas adelante descenderia o la derrota como visitante ante san martin de san juan pese a todos los problemas y el bajo nivel futbolistico pese a tener que recurrir a juveniles como droopy gomez ante la falta de profesionales por la remocion del plantel de aquellos que no estaban en condiciones de jugar pese a entredichos mediaticos con otros personajes del ambito futbolero o con jugadores del propio plantel y pese a una version periodistica que mencionaba que el presidente del club habria vendido la permanencia en primera a independiente a cambio de la presidencia de la asociacion del futbol argentino caruso y el equipo consiguieron permanecer en primera division pese a haber estado a dos unidades de descender y coronaron la faena con un notable triunfo por  en la a fecha ante el campeon newells old boys en el estadio marcelo bielsa\\nluego de un torneo inicial con un rendimiento regular donde consiguio  puntos y acabo en la  posicion incluyendo un fugaz paso por el primer puesto en las jornadas  y  caruso dejo la direccion tecnica del club inesperadamente el idolo claudio borghi retorno al cargo por voluntad propia en el receso veraniego dispuesto a afrontar el desafio de dejar al club en la primera division tras su segunda asuncion como director tecnico una de las tribunas del estadio fue bautizada con su nombre tambien se dio el regreso de leonardo pisculichi jugador salido de la institucion a pesar de todas las expectativas generadas por estas caras nuevas argentinos no podria evitar el descenso tras un torneo nefasto en el que consiguio solo  puntos finalmente el  de abril de  a causa del empate  entre olimpo y river argentinos juniors perdio la categoria y descendio a la b nacional luego de  anos de permanencia\\nargentinos juniors encaraba la mas que atipica b nacional de  ascensos en busca de la refundacion termino usado por borghi tanto deportiva como institucional a esto ayudaron las vueltas de jugadores emblema salidos del semillero del mundo estos eran juan roman riquelme cristian ledesma y matias caruzzo todo esto sumado a otras incorporaciones de alto nivel para la categoria hacian de argentinos juniors uno de los clubes con presupuesto mas alto y uno de los claros candidatos al ascenso\\npero pese a contar con un plantel mejor del que tenia en la primera division borghi no le encontraba el rumbo al equipo y argentinos se alejaba lentamente de la zona de ascenso finalmente el  de octubre de  borghi renuncio como tecnico mientras se encontraba a siete puntos de los puestos de ascenso y en semifinales de la copa argentina  su reemplazante seria nestor gorosito cumpliendo su tercer ciclo en el club quien a pesar de una contundente eliminacion en la copa logro torcer el rumbo del equipo y lograr el ascenso en la ultima fecha al finalizar primero junto a otros dos equipos de la zona a con  puntos\\na fines del  finaliza el ciclo segura enmarcado en un desgobierno alarmante ganando las elecciones c malaspina de  anos como presidente del club siendo el presidente mas joven en la historia de la institucion comenzando una nueva etapa de renovacion se contrata a jorge polo quinteros como secretario tecnico y asume la direccion tecnica del plantel profesional carlos mayor ex jugador campeon de la epoca dorada y tambien ex dt de las divisiones juveniles\\nel equipo vuelve a descender el  de mayo de  tras una muy pobre campana que a pesar de contar con grandes jugadores como cristian ledesma federico insua y camilo vargas el bicho unicamente consiguio  victorias  empates y  derrotas concretando asi su quinto descenso de categoria en su historia para el inicio del torneo de la b nacional donde debe jugar argentinos y con la mente puesta en el rapido regreso a primera se contrata a gabriel heinze como dt luego renuncia jorge polo quinteros como secretario tecnico argentinos finaliza en la segunda posicion en el nacional b en el ano  estando en puestos de ascenso ya que ascienden  equipos a primera pero en julio de \\nen el  y bajo la direccion tecnica de gabriel heinze argentinos saco una diferencia arrolladora ante sus rivales gano de local de visitante goleo y jugo bien el pais hablo de la revolucion futbolistica del bicho ascendio a  fechas de terminar el torneo ganandole  de local a gimnasia y esgrima de jujuy con gol de nicolas gonzalez a los  del st cuatro dias mas tarde en mataderos argentinos incluso con suplentes supero a nueva chicago ganandole por  y coronandose campeon finalizo el torneo con  puntos y  puntos de diferencia sobre el segundo chacarita juniors heinze finaliza su contrato y decide no renovarlo a pesar de la insistencia de los jugadores la parcialidad y los directivos asume alfredo berti para jugar nuevamente en su lugar la denominada ahora superliga argentina de futbol\\ntras la arrolladora temporada en la b nacional y con berti en el banco se inicio la superliga argentina de futbol cayendo  en el debut contra patronato argentinos tuvo un campeonato regular entrelazando victorias y derrotas finalizando en la o posicion con victorias destacadas ante boca por  en la paternal una victoria ante rosario central por  en rosario un  ante racing y un  ante gimnasia en la plata clasificando a la copa sudamericana  \\nalgunos jugadores destacados como leonardo pisculichi en su segunda vuelta al club de sus amores braian romero nicolas ivan gonzalez que seria vendido al vfb stuttgart de alemania en la venta record de la historia del club y alexis mac allister la joya del equipo luego vendido en otra gran cifra a un equipo d la premier ingles\\nel equipo a fines de  no supo mantener un buen rendimiento la salida de berti llevo a contratar como nuevo director tecnico a ezequiel carboni que acabaria siendo despedido como uno de los peores del club empato  partido y perdio  a mitad del torneo debido a los malos resultados y por el no poder salir de los ultimos puestos mas el temor de volver a descender por tercera vez en la decada se contrata a diego dabove como nuevo director tecnico dabove y el equipo dejaron una mejor imagen que pese a no poder evitar la ultima posicion se vio mejoria en el desarrollo de los partidos el plantel se levantaria en la copa de la superliga argentina llegando a semifinales dejando atras a independiente san lorenzo y gimnasia quedando eliminado ante boca por un global de  a la postre subcampeon del torneo  el bicho inicio la temporada superliga argentina   complicado con los promedios y con una temprana eliminacion de la copa sudamericana en octavos de final ante colon de santa fe argentinos tuvo un muy buen inicio del campeonato en  con destacadas actuaciones de local finalizando el ano puntero con  puntos superando a boca juniors con \\nel inicio del  no fue el mejor para argentinos perdiendo rapidamente la punta tras varios empates en su estadio finalmente el equipo de la paternal quedo en la o posicion con  puntos sin perder un solo partido jugando como local en todo el torneo perdiendo en diferencia de gol con velez sarsfield y racing club  el equipo conto con buenos jugadores como el veterano santiago silva elias gomez los defensores carlos quintana y miguel torren el arquero lucas chaves y damian batallini este ultimo por su buen rendimiento sono para varios equipos del futbol argentino siendo en  finalmente vendido a mexico por  millones de dolares  finalizado el torneo argentinos jugo la copa de la superliga argentina  solo jugando un encuentro ganandole a club atletico lanus de visitante con gol de cabeza de kevin mac allister  el torneo no se siguio disputando debido a la pandemia del coronavirus finalmente argentinos quedo en la o posicion en la tabla de clasificacion a copas clasificando a la copa libertadores \\ntras el paron por la pandemia durante mas de  meses el  de octubre de  argentinos volvio al futbol con un empate a  ante san lorenzo en un grupo junto al ciclon estudiantes y aldosivi a  partidos contra cada uno el equipo de dabove paso la fase de grupos con  puntos detras de san lorenzo con  ganandole a estudiantes en la plata y en la paternal por  y a aldosivi en mar del plata por  en la fase final de la copa el equipo quedo en un grupo donde el primero accederia a la final junto a independiente boca river arsenal y huracan argentinos no logro este objetivo quedando tercero de grupo tras empatar con river en el libertadores de america ganarle a arsenal y huracan de visitante por la minima y empatar finalmente  contra boca en el diego armando maradona que finalmente se alzaria con la copa\\nconcluida la copa diego armando maradona tras una actuacion decente se iba a iniciar la copa de la liga profesional  pero dias antes del torneo diego dabove comunico que no seguiria en el club yendo finalmente a san lorenzo dabove se fue del club con  victorias  empates y  derrotas el reemplazante de diego seria gabriel milito \\nel comienzo del nuevo proyecto del bicho fue decepcionante se perdio en el debut ante rosario central   anos despues ante platense  y ante velez  ya se empezaba a cuestionar la estadia de milito en el club cuando sorpresivamente argentinos vencio a river en el monumental por  con un gran gol de gabriel florentin en los ultimos minutos luego de esta gran victoria argentinos tuvo una notable mejoria en el siguiente partido derroto a godoy cruz por  se elimino a colon de santa fe por  de la copa argentina equipo que posteriormente ganaria la copa de la liga con gol del paraguayo gabriel avalos una gran victoria con  jugadores menos ante arsenal de sarandi  y empates ante san lorenzo  central cordoba y colon ambos por \\nargentinos juniors se ubico en el grupo f junto a universidad catolica de chile atletico nacional de colombia y nacional de uruguay contra todos los pronosticos argentinos se quedo comodamente con el grupo venciendo en el debut a nacional por  en la paternal a universidad catolica en chile por el mismo resultado  y a atletico nacional tambien de visitante por   fechas antes el equipo de milito ya habia confirmado su presencia en los octavos de final dandose el lujo de poder perder ante la universidad catolica de chile por  jugando gran parte del partido con un jugador menos tras la expulsion de gabriel hauche y ante nacional en uruguay  aunque finalmente venciendo  otra vez a atletico nacional por  con gol de emanuel herrera el equipo de la paternal luego de una gran fase de grupos se enfrentaria a river plate en los octavos de final en el partido de ida en el monumental empatarian  con goles de matias suarez y gabriel hauche y en el partido de vuelta river plate sacaria una diferencia de  en la paternal dejando a argentinos juniors eliminado de la copa libertadores\\nargentinos juega sus partidos de local en el estadio diego armando maradona ubicado entre las calles juan agustin garcia boyaca gavilan y san blas nombrado asi en honor al segundo mejor futbolista argentino de todos los tiempos quien surgio de sus divisiones inferiores y debuto oficialmente en esa cancha este estadio es en algunas oportunidades criticado debido a las dimensiones del campo de juego aunque sus medidas reglamentarias de  metros por  son mayores a las de otros clubes de primera division como lo fueron olimpo de bahia blanca o atletico de rafaela y practicamente igualessolo  metros menos a las de banfield y union de santa fe los buenos resultados de argentinos juniors jugando como local conducen a recurrir a las dimensiones del campo de juego como una excusa para sus adversarios\\ntras demolerse la vieja estructura de tablones de madera y de atravesarse una larga obra de reconstruccion el flamante estadio obra del arquitecto hector caracciolo fue inaugurado con una gran fiesta el  de diciembre de  unas   personas se acercaron al evento que tuvo como punto saliente dos encuentros entre el pleno del equipo multicampeon de mediados de la decada de  dirigido por roberto saporiti frente al plantel que habia conseguido el ascenso en  a cargo de su dt osvaldo chiche sosa luego el segundo partido enfrento a un combinado dirigido por jose pekerman de viejas glorias del club de la talla de fillol sorin esteban cambiasso dertycia gancedo y rafael moreno quien ostenta el record de mayor cantidad de goles convertidos para el club en un solo partido con  conquistas en un triunfo  sobre lanus en  reforzado con algunos otros allegados como andres dalessandro hincha de argentinos vecino del barrio y quien anos despues se asociaria frente a la seleccion argentina sub a cargo de hugo tocalli\\ncabe destacar que ademas del debut absoluto de diego maradona este estadio tambien fue escenario del debut de lionel messi en la seleccion argentina sub  en un amistoso contra su par de paraguay disputado el  de junio de  cuando el astro del barcelona contaba con  anos de edad\\nbajo las graderias ubicadas en la calle gavilan se ubica el museo el templo del futbol uno de los unicos tres museos dedicados a un equipo de balompie en el pais junto a los de boca y river a diferencia de los otros dos este cuenta con la particularidad de haber sido realizado a pulmon por sus propios hinchas y socios con recursos aportados por el club sin la necesidad de recurrir a una empresa privada para su desarrollo si bien modesta la sala se da el lujo de exhibir piezas tales como los cinco trofeos conquistados por el equipo de futbol incluida la copa libertadores  indumentarias desde  hasta la actualidad memorabilia aportada por distintos jugadores y sus allegados y un rincon especial dedicado al hijo dilecto de la casa diego armando maradona donde se exhibe un breve video documental que narra su notable paso por la institucion\\nel museo abre sus puertas los dias lunes miercoles y viernes y cuenta con entradas de precios muy accesibles gratis en el caso de los menores de  anos ademas durante los partidos de local se llevan a cabo visitas guiadas orientadas mayormente al turismo extranjero que incluyen la visita al museo los vestuarios la sala de prensa el hall central y el campo de juego ademas del acceso a la platea media para presenciar el encuentro\\n\\npara algunos argentinos juniors disputa el clasico con platense sus primeros cotejos fueron hace  anos en  por la liga central de football amateur pero la rivalidad entre bichos y calamares nacio  anos atras a partir de dos duelos decisivos muy recordados y sospechados y por lamentables peleas entre las hinchadas  el  de noviembre de  tras un encuentro que ambos disputaron en la cancha de argentinos y luego de que el local gano el partido y dejo a su oponente fuera del torneo\\nargentinos  platense vuelve un clasico que despunto con el ultimo partido oficial de maradona con la camiseta del bicho diario la nacion  de febrero de las parcialidades se enfrentaron dentro y fuera de la vieja cancha de boyaca naciendo la enemistad precedida de varios incidentes entre las hinchadas de ambos clubes al transcurrir las decadas en  argentinos perdio la categoria y tres anos mas tarde se daria el caso inverso platense se veria condenado a jugar en segunda division el equipo de saavedra recien logro volver en  a primera division y si bien las instituciones llevaban mas de dos decadas sin enfrentarse la cercania de los barrios mas representativos de cada club saavedra para platense y la paternal en caso de argentinos que se ubican a  kilometros el uno del otro generaron una mayor rivalidad barrial que siempre ha permanecido en el ambito de este importante clasico porteno\\npj partidos jugados gp ganador platense ga ganador argentinos e empate \\n\\ngolp goles del platense gola goles de argentinos\\notro anejo clasico barrial es atlanta que enfrenta a los barrios portenos representativos de cada equipo la paternal y villa crespo a solo  km de distancia entre ambos estadios cabe recordar que argentinos se fundo en villa crespo y que su primera denominacion incluia el nombre de dicho barrio disputaron su primer duelo oficial de la era amateur en la vieja cancha de argentinos en av san martin y punta arenas hace  anos el  de mayo de  con empate en dos tantos compitieron unidos forzadamente por afa en el campeonato de primera division  lo que genero el origen de esta rivalidad ya que las parcialidades de ambos equipos estaban en desacuerdo con la fusion y las hinchadas de sendos clubes asistian a los partidos en gradas diferentes dentro del mismo estadio cuentan con un amplio historial debido a que se enfrentaron  temporadas en primera division y otras cuatro en primera b disputaron su ultimo encuentro oficial el  de septiembre de  con triunfo de argentinos  a \\nmwparseroutput flexquotedisplayflexflexdirectioncolumnbackgroundcolorfffborderleftpx solid cccdfontsizemarginem empaddingem emmwparseroutput flexquoteflexdisplayflexflexdirectionrowmwparseroutput flexquoteflexquotewidthmwparseroutput flexquoteflexseparatorborderleftpx solid cccdbordertoppx solid cccdmarginem emmwparseroutput flexquotecitetextalignrightmedia all and maxwidthpxmwparseroutput flexquoteflexflexdirectioncolumn\\nen una noche de futsal espectacular argentinos juniors recibio a atlanta en el polideportivo las malvinas e igualo un partido que podria haber ganado finalmente pese al gran trabajo defensivo de argentinos el empate llego a los  y el clasico barrial termino igualado por si bien hace decadas que no se enfrentan la rivalidad aun perdura y se denominan clasicos los encuentros en otras disciplinas deportivas la convivencia barrial y la enemistad sigue latente con varios incidentes entre sus hinchadas el  de septiembre de  la cronica describe villa crespo y la paternal un duelo de nunca acabar atlanta jugaba de local por una fecha de la b metropolitana y argentinos juniors visitaba a el porvenir parte de su hinchada que se dirigia por juan b justo con direccion a villa crespo unos cincuenta barras del conjunto de la paternal ingresaron a la calle humboldt entre munecas y murillo para enfrentarse con la barra de atlanta la hinchada local todavia no habia llegado por tal motivo los de argentinos por medio de ladrillos y elementos contundentes atacaron a los aficionados bohemios que se encontraban en el lugar un pequeno grupo de atlanta salio en defensa de su gente hasta que llego el accionar policial que disperso con gases y balas de goma a ambas parcialidades la semana posterior se genero preocupacion en los organismos de seguridad dado el temor de que la hinchada de atlanta se cruce con la de argentinos juniors pues integrantes de ambas parcialidades se amenazaron durante la semana via internet por lo que tuvieron que modificar horarios de los partidos\\npj partidos jugados aj ganador argentinos juniors a ganador atlanta e empate \\n\\ngolaj goles de argentinos juniors gola goles de atlanta\\notras rivalidades tradicionales son\\ntambien existen rivalidades con boca juniors estudiantes de la plata quilmes y nueva chicagonota \\nel escudo de la asociacion atletica argentinos juniors utilizado en la actualidad consta de una bandera roja con una banda diagonal blanca que la atraviesa del extremo superior derecho hasta el extremo inferior izquierdo con la leyenda mens sana in corpore sano a su alrededor y contorneado por un circulo azul que posee dentro la inscripcion asociacion atletica argentinos juniors\\nlas tablas detallan en orden cronologico los nombres de las firmas proveedoras de indumentaria y los patrocinadores que tuvo argentinos juniors desde \\nargentinos cuenta con numerosas penas y filiales  de ellas repartidas en diversos puntos de la argentina y tambien otras  en el exterior\\nargentinos se impuso por  ante racing club se efectuaron  ejecuciones los  jugadores de ambos equipos patearon dos veces cada uno\\n     campeon\\n    subcampeon\\n    tercer lugar\\n     ascenso\\n     descenso\\nla institucion reclama para si el apelativo de semillero del mundo debido a la gran cantidad de jugadores de nivel internacional argentinos y extranjeros que han surgido de sus divisiones inferiores cuya mayor expresion fue diego armando maradona por cuestiones principalmente de indole extradeportiva algunos de esos grandes jugadores tuvieron pasos fugaces por la primera division del club o no llegaron a debutar pero asi y todo se cuentan entre los baluartes de la cantera por haber sido formados en la institucion\\nuna enumeracion somera de los cracks surgidos de la prolifica cantera se lista a continuacion en cursiva figuran aquellos que dejaron la institucion antes de debutar en primera en negrita figuran aquellos que han sido campeones mundiales juveniles con argentina se identifica con un asterisco  a aquellos que han jugado copas del mundo para la seleccion argentina con dos asteriscos  a aquellos que forman o formaron parte sostenidamente de sus respectivas selecciones nacionales con una estrella dorada  a quienes han ganado la copa mundial de la fifa y con la sigla dt a aquellos que han sido entrenadores del seleccionado nacional\\notros futbolistas notables que han vestido la camiseta del club sin haber sido formados en las divisiones inferiores son el mono hector ingunza orlando juan nappe jose leandro andrade fernando paternoster tranquilino garcete amadeo ortega ramon mutis juan evaristo domingo alberto tarasconi angel grippa ernesto albarracin francisco sohn mario sciarra rafael moreno luis maria rongo martin pando enrique chazarreta alberto perazzo ruben galletti alberto mariotti juan carlos oleniak ruben pagnanini omar larrosa luis geronimo lopez carlos munutti carlos salinas jorge pellegrini mario hernan videla carmelo villalba enrique vidalle emilio commisso ubaldo fillol pedro pasculli gabriel penalba osvaldo chiche sosa oscar dertycia carlos morete angel landucci jorge mario olguin enrique wolff julio olarticoechea oscar roman acosta el gringo giusti carlos ereros hugo tocalli jose antonio pepe castro jose luis pavoni osvaldo coloccini walter perazzo ramiro castillo patricio hernandez mario zanabria alfredo graciani walter silvani liber vespa carlos goyen efford chabala faryd mondragon ivan kaviedes eduardo bennett marcelo pontiroli fernando gamboa facundo bonvin roberto acuna hugo brizuela leandro desabato gustavo morinigo gustavo quinteros el burrito martinez gonzalo vargas gabriel hauche ignacio canuto juan mercier facundo coria andres scotti emmanuel gigliotti santiago salcedo alvaro pereira ismael sosa jose luis calderon nicolas pavlovich rolando schiavi juan sabia nicolas blandi juan anangono emilio hernandez pedro pablo hernandez ariel garce daniel alberto villalva pablo migliore jose sand camilo vargas beto da silva jonathan sandoval raul bobadilla miguel torren braian romero santiago silva\\n gabriel milito\\n\\nla siguiente tabla muestra todas las apariciones y goles en partidos oficiales con el primer equipo del argentinos juniors ademas de los partidos de liga esta incluye todos los partidos en las competiciones nacionales e internacionales no incluye apariciones ni goles en partidos amistosos\\n     en activo      en activo con el club\\n\\n     en activo      en activo con el club\\nla actividad social y deportiva del club incluye ademas del futbol profesional la practica federada y recreativa de las siguientes  disciplinas\\nargentinos juniors fue uno de los clubes fundacionales del futbol sala de la afa actualmente milita en la primera b en su estancia en la primera division obtuvo  titulos\\nparticipo del primer campeonato en  donde finalizo noveno solo por encima de platense y gimnasia y esgrima la plata\\nen  se reincorporo tras  anos con la creacion de  torneos por ano argentinos consiguio salir campeon obtuvo el torneo apertura en  en  logro el subcampeonato en el clausura y fue nuevamente campeon en el apertura \\nen  sufrio su primer y al momento unico descenso a la primera b\\nen la temporada  termino segundo en la zona  y accedio a los cuartos de final por los ascensos y el campeonato en dicha instancia vencio a gimnasia y esgrima la plata pero en semifinales cayo ante newells old boys\\nel actual presidente de la republica argentina alberto fernandez es un reconocido hincha del club\\n\\n'"
            ],
            "application/vnd.google.colaboratory.intrinsic+json": {
              "type": "string"
            }
          },
          "metadata": {},
          "execution_count": 9
        }
      ],
      "source": [
        "article_text_preprocesado = preprocess_clean_text(article_text)\n",
        "article_text_preprocesado "
      ]
    },
    {
      "cell_type": "code",
      "execution_count": 10,
      "metadata": {
        "colab": {
          "base_uri": "https://localhost:8080/",
          "height": 0
        },
        "id": "PA5F0s4UsMpf",
        "outputId": "2c2eca53-a9a9-4c21-e8b8-da6f4703582e"
      },
      "outputs": [
        {
          "output_type": "stream",
          "name": "stdout",
          "text": [
            "Cantidad de caracteres en el texto: 96191\n"
          ]
        }
      ],
      "source": [
        "print(\"Cantidad de caracteres en el texto:\", len(article_text_preprocesado))"
      ]
    },
    {
      "cell_type": "markdown",
      "metadata": {
        "id": "DKNcDGcisajf"
      },
      "source": [
        "### 3 - Dividir el texto en sentencias. Seleccionamos los primeros 10.000 caracteres porque no alcanza la memoria del Colab para el texto entero"
      ]
    },
    {
      "cell_type": "code",
      "execution_count": 41,
      "metadata": {
        "colab": {
          "base_uri": "https://localhost:8080/",
          "height": 0
        },
        "id": "reXBOFQ7sdlB",
        "outputId": "7519606b-6319-4d56-e0e4-067e6d3c1a97"
      },
      "outputs": [
        {
          "output_type": "stream",
          "name": "stderr",
          "text": [
            "/usr/local/lib/python3.7/dist-packages/stanza/models/common/beam.py:86: UserWarning: __floordiv__ is deprecated, and its behavior will change in a future version of pytorch. It currently rounds toward 0 (like the 'trunc' function NOT 'floor'). This results in incorrect rounding for negative values. To keep the current behavior, use torch.div(a, b, rounding_mode='trunc'), or for actual floor division, use torch.div(a, b, rounding_mode='floor').\n",
            "  prevK = bestScoresId // numWords\n",
            "/usr/local/lib/python3.7/dist-packages/ipykernel_launcher.py:1: UserWarning: Due to multiword token expansion or an alignment issue, the original text has been replaced by space-separated expanded tokens.\n",
            "  \"\"\"Entry point for launching an IPython kernel.\n",
            "/usr/local/lib/python3.7/dist-packages/ipykernel_launcher.py:1: UserWarning: Can't set named entities because of multi-word token expansion or because the character offsets don't map to valid tokens produced by the Stanza tokenizer:\n",
            "Words: ['la', 'asociación', 'atlética', 'argentinos', 'juniors', ',', 'conocida', 'como', 'argentinos', 'juniors', 'o', 'simplemente', 'argentinos', ',', 'es', 'una', 'grande', 'centenaria', 'institución', 'polideportiva', 'fundada', 'el', '15', 'de', 'agosto', 'de', '1904', 'en', 'el', 'barrio', 'de', 'villa', 'crespo', ',', 'ciudad', 'autónoma', 'de', 'buenos', 'aires', ',', 'argentina', '.', 'participa', 'en', 'la', 'liga', 'profesional', 'de', 'fútbol', 'argentino', '.', 'para', 'mayo', 'de', 'el', '2022', 'el', 'club', 'poseia', '13.799', 'socios', '.', 'su', 'disciplina', 'más', 'destacada', 'es', 'el', 'fútbol', ',', 'en', 'el', 'que', 'es', 'reconocido', 'por', 'la', 'fifa', 'como', 'uno', 'de', 'los', '11', 'clubes', 'clásicos', 'de', 'la', 'argentina', ',', '[1]', '\\u200b', 'siendo', 'reconocido', 'ante', 'todo', 'por', 'ser', 'un', 'club', 'formador', 'de', 'numerosos', 'futbolistas', 'de', 'proyección', 'internacional', 'como', 'diego', 'armando', 'maradona', ',', 'fernando', 'redondo', ',', 'juan', 'román', 'riquelme', ',', 'claudio', 'borghi', ',', 'esteban', 'cambiasso', ',', 'sergio', 'batista', ',', 'juan', 'pablo', 'sorin', ',', 'fernando', 'cáceres', ',', 'leonel', 'gancedo', ',', 'diego', 'placente', ',', 'nicolás', 'pareja', ',', 'néstor', 'ortigoza', ',', 'lucas', 'biglia', ',', 'lucas', 'barrios', ',', 'federico', 'insúa', ',', 'leonardo', 'pisculichi', ',', 'andrés', \"d'alessandro\", ',', 'fabricio', 'coloccini', ',', 'esteban', 'rolón', ',', 'juan', 'ramírez', 'y', 'nicolás', 'iván', 'gonzález', '(', 'entre', 'otros', ')', '.', 'por', 'tal', 'motivo', ',', 'es', 'reconocido', 'tanto', 'por', 'la', 'afa', 'como', 'por', 'la', 'prensa', 'especializada', 'como', 'el', 'semillero', 'de', 'el', 'mundo', '.[2', ']', '\\u200b', 'posee', '3', 'predios', 'propios', 'en', 'la', 'ciudad', 'de', 'buenos', 'aires', 'que', 'suman', '15', 'hectáreas', ',', 'para', 'su', 'gran', 'cantidad', 'de', 'actividades', 'sociales', ',', 'culturales', ',', 'recreativas', 'y', 'deportivas', ':', 'el', 'complejo', 'polideportivo', '\"', 'las', 'malvinas', '\"', 'en', 'el', 'barrio', 'de', 'la', 'paternal', ',', 'el', 'centro', 'de', 'entrenamiento', 'y', 'formación', 'para', 'el', 'fútbol', 'amateur', '(', 'ceffa', ')', 'en', 'bajo', 'flores', 'donde', 'se', 'encuentra', 'el', 'moderno', 'centro', 'de', 'futbol', 'profesional', ',', 'denominado', '\"', 'sergio', 'daniel', 'batista', '\"', 'y', 'su', 'estadio', 'de', 'fútbol', ',', 'el', '\"', 'diego', 'armando', 'maradona', '\"', ',', 'que', 'se', 'encuentra', 'ubicado', 'en', 'villa', 'general', 'mitre', '.[3]', '\\u200b', 'en', 'su', 'historia', 'se', 'ha', 'adjudicado', '3', 'títulos', 'en', 'la', 'primera', 'división', 'de', 'el', 'fútbol', 'argentino', ',', 'siendo', 'campeón', 'por', 'primera', 'vez', 'en', 'el', 'campeonato', 'de', 'primera', 'división', 'de', '1984.[4', ']', '\\u200b', 'luego', 'ganaría', 'el', 'nacional', '1985[5]', '\\u200b', 'y', 'posteriormente', 'el', 'clausura', '2010.[6]', '\\u200b', 'en', 'el', 'plano', 'internacional', 'fue', 'el', 'quinto', 'de', 'los', 'ocho', 'equipos', 'argentinos', 'en', 'conquistar', 'la', 'copa', 'libertadores', 'de', 'américa', 'tras', 'ganar', 'la', 'en', 'su', 'primera', 'participación', ',', 'en', 'el', 'año', '1985,[7]', '\\u200b', 'lo', 'que', 'le', 'permitió', 'participar', 'en', 'la', 'copa', 'intercontinental', '(', 'la', 'cual', 'perdió', 'en', 'definición', 'por', 'penales', 'contra', 'la', 'juventus', 'de', 'italia', 'en', 'el', 'que', 'fue', 'designado', 'por', 'la', 'fifa', 'como', 'el', 'mejor', 'partido', 'en', 'la', 'historia', 'de', 'dicho', 'certamen', ')', '[2]', '\\u200b', 'y', 'la', 'copa', 'interamericana', ',', 'que', 'ganó', 'en', 'diciembre', 'de', '1986.[8]', '\\u200b', 'también', 'alcanzó', 'las', 'semifinales', 'tanto', 'en', 'la', 'supercopa', '1989[9]', '\\u200b', 'como', 'en', 'la', 'copa', 'sudamericana', '2008.[10]', '\\u200b', 'es', 'el', 'duodécimo', 'equipo', 'en', 'la', 'clasificación', 'histórica', 'de', 'la', 'primera', 'división', 'de', 'argentina', 'y', 'ha', 'disputado', 'la', 'mayoría', 'de', 'las', 'temporadas', 'en', 'esa', 'categoría', '.', 'el', '14', 'de', 'agosto', 'de', '1904', ',', 'un', 'grupo', 'de', 'amigos', 'vinculados', 'por', 'sus', 'ideas', 'anarquistas', 'que', 'se', 'destacaban', 'ampliamente', 'jugando', 'a', 'el', 'fútbol', 'disputan', 'un', 'pergamino', 'entre', 'sus', 'respectivos', 'equipos', ':', 'sol', 'de', 'la', 'victoria', 'y', 'mártires', 'de', 'chicago', ',', 'este', 'último', 'nombre', 'elegido', 'para', 'conmemorar', 'a', 'los', 'obreros', 'fallecidos', 'en', 'la', 'revuelta', 'de', 'haymarket', ',', 'quienes', 'dieron', 'origen', 'a', 'el', '1º', 'de', 'mayo', 'como', 'día', 'internacional', 'de', 'los', 'trabajadores', '.', 'el', 'encuentro', 'se', 'disputó', 'en', 'un', 'potrero', 'que', 'se', 'encontraba', 'en', 'las', 'inmediaciones', 'de', 'donde', 'actualmente', 'está', 'el', 'monumento', 'a', 'el', 'cid', 'campeador', '.', 'encabezados', 'por', 'los', 'hermanos', 'josé', 'y', 'car', 'los', 'agostini', ',', 'que', 'querían', 'encontrar', 'un', 'lugar', 'donde', 'reunir', 'se', 'más', 'a', 'menudo', ',', 'logran', 'ablandar', 'a', 'el', 'sereno', 'de', 'una', 'obra', 'en', 'construcción', 'en', 'la', 'avenida', 'corrientes', 'y', 'aráoz', '.', 'a', 'el', 'día', 'siguiente', ',', '15', 'de', 'agosto', ',', 'en', 'ese', 'lugar', 'entre', 'andamios', 'y', 'ladrillos', ',', 'se', 'celebra', 'el', 'acto', 'de', 'fundación', 'de', 'el', 'nuevo', 'club', ',', 'invitando', 'a', 'todos', 'los', 'participantes', 'de', 'el', 'encuentro', 'referenciado', 'más', 'arriba', '.', 'son', 'socios', 'fundadores', 'entre', 'otros', 'julián', 'ducasse', ',', 'luis', 'y', 'ángel', 'cagnoli', ',', 'los', 'nombrados', 'hermanos', 'agostini', ',', 'carlos', 'y', 'josé', 'braga', ',', 'luis', 'cavatorta', ',', 'francisco', 'demarco', ',', 'vicente', 'pirro', ',', 'ernesto', 'capurro', ',', 'juan', 'curballati', ',', 'alfredo', 'sifredi', ',', 'antonio', 'castellano', 'y', 'leandro', 'ravera', 'bianchi', ',', 'quien', 'es', 'nombrado', 'presidente', 'de', 'la', 'institución', '.', 'el', 'flamante', 'club', 'comienza', 'a', 'organizar', 'se', 'y', 'una', 'de', 'las', 'primeras', 'cuestiones', 'era', 'armar', 'el', 'sello', 'oficial', 'de', 'el', 'club', '.', 'los', 'jóvenes', 'habían', 'definido', 'que', 'el', 'nombre', 'fuera', 'asociación', 'atlética', 'y', 'futbolística', 'argentinos', 'unidos', 'de', 'villa', 'crespo', ',', 'pero', 'cuando', 'fueron', 'a', 'encargar', 'el', 'sello', 'el', 'propio', 'fabricante', 'sugiere', 'cambiar', 'lo', 'por', 'uno', 'más', 'corto', 'y', 'es', 'allí', 'donde', 'deciden', 'el', 'definitivo', 'asociación', 'atlética', 'argentinos', 'juniors', '.', 'inmediatamente', 'a', 'su', 'fundación', ',', 'el', 'club', 'adoptó', 'los', 'colores', 'rojo', 'y', 'blanco', ',', 'con', 'predominancia', 'de', 'el', 'primero', 'para', 'identificar', 'se', ',', 'en', 'homenaje', 'a', 'la', 'elección', 'de', 'el', 'dr.', 'alfredo', 'palacios', 'como', 'diputado', 'nacional', 'por', 'el', 'partido', 'socialista', '.', 'se', 'dejó', 'así', 'de', 'lado', 'a', 'el', 'verde', 'y', 'blanco', 'que', 'identificaba', 'a', 'el', 'antecesor', 'equipo', 'mártires', 'de', 'chicago', '.', 'ante', 'la', 'intención', 'de', 'afiliar', 'se', 'por', 'tercera', 'vez', 'a', 'la', 'argentina', 'association', 'football', 'league', ',', 'la', 'más', 'prestigiosa', 'de', 'entonces', ',', 'existía', 'cierto', 'temor', 'respecto', 'a', 'ser', 'rechazados', 'nuevamente', 'por', 'la', 'asociación', ',', 'por', 'lo', 'que', 'optan', 'por', 'afiliar', 'se', 'a', 'la', 'liga', 'central', 'de', 'football', ',', 'una', 'liga', 'menor', 'que', 'agrupaba', 'a', 'clubes', 'de', 'barrio', 'y', 'de', 'empresas', 'comerciales', '.', 'en', '1905', 'inicia', 'sus', 'competencias', 'y', 'su', 'primer', 'partido', 'le', 'depara', 'una', 'desastrosa', 'derrota', 'por', '12-1', 'frente', 'a', 'el', 'club', 'la', 'prensa', '.', 'no', 'obstante', 'el', 'nefasto', 'arranque', ',', 'el', 'incipiente', 'argentinos', 'juniors', 'se', 'consagraría', 'campeón', 'en', 'el', 'primer', 'campeonato', 'que', 'disputó', '.', 'por', 'entonces', ',', 'el', 'club', 'seguía', 'jugando', 'sus', 'encuentros', 'allí', 'donde', 'se', 'habían', 'reunido', 'sus', 'fundadores', 'por', 'primera', 'vez', ',', 'en', 'el', 'potrero', 'ubicado', 'en', 'la', 'avenida', 'gaona', 'y', 'la', 'calle', 'añasco', '-', 'hoy', 'dr.', 'nicolás', 'repetto-', '.', 'como', 'la', 'ocupación', 'de', 'el', 'predio', 'era', 'irregular', ',', 'el', 'club', 'es', 'desalojado', 'y', 'alquila', 'un', 'predio', 'en', 'villa', 'ballester', ',', 'donde', 'ejerce', 'la', 'localía', 'durante', 'el', 'siguiente', 'año', ',', 'retornando', 'a', 'su', 'zona', 'de', 'origen', 'en', '1907', ',', 'entonces', 'en', 'la', 'intersección', 'de', 'parral', 'y', 'luis', 'viale', '.', 'dos', 'años', 'después', 'se', 'consigue', 'finalmente', 'la', 'preciada', 'plaza', 'en', 'la', 'asociación', '.', 'tras', 'una', 'breve', 'excursión', 'por', 'villa', 'urquiza', ',', 'vuelven', 'a', 'el', 'predio', 'de', 'parral', '.', 'en', '1912', 'se', 'produce', 'un', 'cisma', 'entre', 'los', 'clubes', 'que', 'formaban', 'la', 'asociación', ',', 'y', 'los', 'equipos', 'que', 'intentaban', 'quitar', 'le', 'su', 'poderío', 'a', 'la', 'misma', 'ofrecen', 'a', 'argentinos', 'un', 'ascenso', 'inmediato', 'a', 'cambio', 'de', 'seguir', 'los', ',', 'opción', 'rechazada', 'de', 'plano', 'ya', 'que', 'la', 'promoción', 'debía', 'ganar', 'se', 'en', 'el', 'terreno', 'de', 'juego', 'y', 'no', 'en', 'los', 'escritorios', '.', 'se', 'persevera', 'en', 'la', 'división', 'intermedia', ',', 'mudanza', 'a', 'fraga', 'y', 'estomba', 'mediante', '.', 'también', 'se', 'vuelven', 'a', 'adoptar', 'temporalmente', 'los', 'colores', 'verde', 'y', 'blanco', ',', 'por', 'existir', 'otros', 'equipos', 'con', 'casaca', 'rojiblanca', 'en', 'la', 'misma', 'divisional', '.[11', ']', '\\u200b', 'ya', 'en', '1921', ',', 'se', 'consigue', 'el', 'preciado', 'ascenso', 'a', 'primera', 'división', 'tras', 'ganar', 'un', 'torneo', 'reducido', ',', 'y', 'cuatro', 'años', 'después', 'la', 'localía', 'se', 'establece', 'finalmente', 'en', 'la', 'paternal', ',', 'alquilando', 'se', 'un', 'lote', 'en', 'avenida', 'san', 'martín', 'y', 'punta', 'arenas', 'donde', 'se', 'construye', 'un', 'estadio', 'moderno', 'para', 'la', 'época', 'con', 'una', 'capacidad', 'de', '10', '000', 'espectadores', '.', 'la', 'nueva', 'cancha', 'traería', 'buena', 'suerte', ',', 'ya', 'que', 'en', '1926', 'se', 'conseguiría', 'el', 'primer', 'subcampeonato', 'de', 'el', 'equipo', ',', 'cuya', 'principal', 'figura', 'era', 'luis', 'vaccaro', '.', 'el', 'crecimiento', 'deportivo', 'e', 'institucional', 'se', 'reflejaba', 'en', 'el', 'aumento', 'de', 'el', 'padrón', 'societario', ',', 'siendo', 'argentinos', 'uno', 'de', 'los', '14', 'clubes', 'de', 'fútbol', 'de', 'el', 'país', 'que', 'superaban', 'los', '1000', 'socios', '.[12]', '\\u200b', 'argentinos', 'era', 'uno', 'de', 'los', 'clubes', 'en', 'mejores', 'condiciones', 'en', 'el', 'amateurismo', 'y', 'eso', 'conduce', 'a', 'que', 'en', '1931', 'sea', 'impulsor', 'de', 'la', 'creación', 'de', 'la', 'primera', 'liga', 'profesional', 'de', 'el', 'país', ',', 'junto', 'con', 'otros', '17', 'clubes', '.', 'los', 'inicios', 'son', 'complejos', ',', 'ya', 'que', 'los', 'salarios', 'de', 'los', 'deportistas', 'pasaron', 'a', 'ser', 'cargas', 'muy', 'onerosas', '.', 'las', 'dificultades', 'económicas', 'conducen', 'a', 'que', 'en', '1934', 'se', 'obligue', 'a', 'el', 'club', 'a', 'fusionar', 'se', 'con', 'atlanta', 'para', 'poder', 'seguir', 'compitiendo', '.', 'la', 'unión', 'resultaría', 'nefasta', ',', 'perdiendo', 'se', 'casi', 'todos', 'los', 'partidos', ',', 'aunque', 'duraría', 'menos', 'de', '6', 'meses', '.', 'atlanta', 'sería', 'suspendido', 'y', 'se', 'desafiliaría', 'por', 'cuestiones', 'internas', ',', 'mientras', 'que', 'argentinos', 'enfrentaba', 'una', 'realidad', 'muy', 'compleja', '.', 'con', 'la', 'unificación', 'de', 'las', 'dos', 'ligas', 'existentes', 'y', 'la', 'creación', 'de', 'la', 'asociación', 'de', 'el', 'fútbol', 'argentino', ',', 'se', 'crea', 'un', 'sistema', 'de', 'ascensos', 'y', 'descensos', 'que', 'comenzaría', 'a', 'regir', 'en', '1937', '.', 'ese', 'mismo', 'año', 'se', 'consumaría', 'el', 'descenso', 'de', 'el', 'club', ',', 'inmerso', 'en', 'una', 'situación', 'económica', 'crítica', ',', 'que', 'condujo', 'también', 'a', 'que', 'sea', 'desalojado', 'de', 'el', 'estadio', 'de', 'avenida', 'san', 'martín', 'y', 'punta', 'arenas', ',', 'no', 'pudiendo', 'afrontar', 'los', 'gastos', 'de', 'el', 'alquiler', '.[12', ']', '\\u200b', 'sin', 'ninguno', 'de', 'sus', 'privilegios', 'y', 'en', 'una', 'situación', 'muy', 'precaria', ',', 'debía', 'afrontar', 'se', 'el', 'torneo', 'de', 'segunda', 'división', '.', 'la', 'falta', 'de', 'un', 'estadio', 'propio', 'implica', 'jugar', 'de', 'local', 'en', 'el', 'estadio', 'de', 'el', 'viejo', 'rival', 'de', 'el', 'amateurismo', 'sportivo', 'palermo', 'o', 'en', 'la', 'más', 'cercana', 'cancha', 'de', 'ferro', '.', 'dos', 'años', 'después', ',', 'compitiendo', 'como', 'se', 'podía', 'en', 'la', 'b', ',', 'es', 'electo', 'presidente', 'gastón', 'garcía', 'miramón', ',', 'quien', 'alquila', 'de', 'su', 'bolsillo', 'el', 'predio', 'de', 'boyacá', 'y', 'médanos', '-actual', 'juan', 'agustín', 'garcía', '-', ',', 'donde', 'el', 'club', 'juega', 'todavía', 'hoy', ',', 'además', 'de', 'hacer', 'se', 'con', 'materiales', 'para', 'erigir', 'un', 'humilde', 'estadio', 'de', 'tablones', 'de', 'madera', '.', 'la', 'inauguración', 'sería', 'en', '1940', ',', 'en', 'un', 'partido', 'ante', 'barracas', 'central', ',', 'que', 'argentinos', 'ganaría', 'por', '2-1', ',', 'dando', 'inicio', 'a', 'una', 'campaña', 'en', 'que', 'se', 'consagraría', 'campeón', 'de', 'la', 'división', 'sin', 'ser', 'promovido', 'a', 'la', 'división', 'de', 'honor', 'por', 'una', 'cuestión', 'burocrática', ',', 'debido', 'a', 'que', 'no', 'tenía', 'un', 'estadio', 'en', 'buenas', 'condiciones', 'para', 'afrontar', 'la', 'máxima', 'categoría', ',', 'obteniendo', 'a', 'cambio', 'una', 'magra', 'indemnización', 'económica', 'por', 'parte', 'de', 'la', 'afa.[12]\\u200b[13', ']', '\\u200b', 'desde', 'entonces', ',', 'el', 'desempeño', 'mejoraría', 'gradualmente', 'y', 'se', 'dejaría', 'de', 'lado', 'la', 'irregularidad', '.', 'la', 'incorporación', 'de', 'el', 'gran', 'goleador', 'héctor', 'ingunza', 'en', '1943', 'otorga', 'un', 'salto', 'de', 'calidad', 'a', 'el', 'equipo', ',', 'que', 'gana', 'en', 'convocatoria', 'y', 'consagra', 'su', 'arraigo', 'definitivo', 'en', 'el', 'barrio', '.', 'las', 'actividades', 'sociales', 'y', 'culturales', 'se', 'multiplican', ',', 'creciendo', 'nuevamente', 'el', 'padrón', 'de', 'asociados', 'e', 'incorporando', 'se', 'otros', 'deportes', 'además', 'de', 'el', 'fútbol', 'profesional', '.', 'en', '1948', 'el', 'equipo', 'marchaba', 'puntero', ',', 'pero', 'una', 'huelga', 'de', 'futbolistas', 'interrumpe', 'el', 'campeonato', 'y', 'la', 'afa', 'decreta', 'el', 'ascenso', 'de', 'ferro', 'y', 'atlanta', 'sin', 'mayores', 'fundamentos', ',', 'perjudicando', 'arbitrariamente', 'a', 'el', 'club', '.', 'la', 'inflexión', 'se', 'marcará', 'seis', 'años', 'después', '.', 'argentinos', 'finalizará', 'en', 'la', 'segunda', 'posición', ',', 'contando', 'con', 'la', 'mejor', 'ofensiva', '.', 'y', 'en', '1955', ',', 'finalmente', 'se', 'conseguiría', 'un', 'ascenso', 'ganado', 'de', 'manera', 'formidable', '.', '18', 'años', 'luego', 'de', 'descender', ',', 'los', 'criollos', ',', 'como', 'se', 'apodaba', 'entonces', 'a', 'el', 'equipo', ',', 'volvían', 'a', 'su', 'lugar', 'de', 'origen', 'a', 'lo', 'grande', '.[13', ']', '\\u200b', 'el', 'retorno', 'a', 'la', 'primera', 'división', 'se', 'dio', 'con', 'un', 'partido', 'en', 'el', 'viejo', 'gasómetro', 'ante']\n",
            "Entities: [('\"sergio daniel batista', 'MISC', 1497, 1519), ('\"diego armando maradona\"', 'MISC', 1548, 1572), ('carlos', 'PER', 3625, 3631), ('avenida gaona', 'LOC', 5286, 5299), ('calle añasco', 'LOC', 5305, 5317), ('avenida san martín', 'LOC', 7899, 7917)]\n",
            "  \"\"\"Entry point for launching an IPython kernel.\n"
          ]
        }
      ],
      "source": [
        "doc = nlp(article_text[0:10000])\n",
        "corpus = [sent.text.strip() for sent in doc.sents]\n",
        "\n",
        "# corpus = nltk.sent_tokenize(text)\n",
        "# words = nltk.word_tokenize(text)"
      ]
    },
    {
      "cell_type": "markdown",
      "metadata": {
        "id": "Dm_VQaXDzt8b"
      },
      "source": [
        ""
      ]
    },
    {
      "cell_type": "code",
      "execution_count": 12,
      "metadata": {
        "colab": {
          "base_uri": "https://localhost:8080/",
          "height": 0
        },
        "id": "J5GloV9fsi6o",
        "outputId": "80d3349e-bf94-4763-d1bc-ddb1c28b472a"
      },
      "outputs": [
        {
          "output_type": "execute_result",
          "data": {
            "text/plain": [
              "['la asociación atlética argentinos juniors , conocida como argentinos juniors o simplemente argentinos , es una grande centenaria institución polideportiva fundada el 15 de agosto de 1904 en el barrio de villa crespo , ciudad autónoma de buenos aires , argentina .',\n",
              " 'participa en la liga profesional de fútbol argentino .']"
            ]
          },
          "metadata": {},
          "execution_count": 12
        }
      ],
      "source": [
        "# Demos un vistazo\n",
        "corpus[:2]"
      ]
    },
    {
      "cell_type": "markdown",
      "metadata": {
        "id": "NlYKyb3OtDse"
      },
      "source": [
        "### 4 - Funciones de ayuda para limpiar y procesar el input del usuario\n",
        "- Lematizar los tokens de la oración\n",
        "- Quitar símbolos de puntuación"
      ]
    },
    {
      "cell_type": "code",
      "execution_count": 56,
      "metadata": {
        "id": "S6eNB5gd3GGO"
      },
      "outputs": [],
      "source": [
        "def perform_lemmatization(tokens):\n",
        "    return [token.lemma_ for token in tokens]\n",
        "        # Realiza la lematización\n",
        "#punctuation_removal = dict((ord(punctuation), None) for punctuation in string.punctuation)\n",
        "def get_processed_text(document):\n",
        "    # 1 - reduce el texto a mínuscula\n",
        "    # 2 - quitar los simbolos de puntuacion\n",
        "    # 3 - realiza la tokenización\n",
        "\n",
        "    return perform_lemmatization(nlp(document))\n"
      ]
    },
    {
      "cell_type": "markdown",
      "metadata": {
        "id": "Jl8r6d9ZuyR9"
      },
      "source": [
        "### 5 - Utilizar vectores TF-IDF y la similitud coseno construido con el corpus de wikipedia"
      ]
    },
    {
      "cell_type": "code",
      "execution_count": 59,
      "metadata": {
        "id": "IRYFHcBfk2Gt"
      },
      "outputs": [],
      "source": [
        "from sklearn.feature_extraction.text import TfidfVectorizer\n",
        "from sklearn.metrics.pairwise import cosine_similarity\n",
        "\n",
        "def generate_response(user_input, doc_lemma_):\n",
        "    response = ''\n",
        "    # Sumar al corpus la pregunta del usuario para calcular\n",
        "    # su cercania con otros documentos/sentencias\n",
        "    #user_input_nlp = nlp(user_input)\n",
        "    doc_lemma_.append(user_input)\n",
        "\n",
        "    # Crear un vectorizar TFIDF que quite las \"stop words\" del ingles y utilice\n",
        "    # nuestra funcion para obtener los tokens lematizados \"get_processed_text\"\n",
        "    word_vectorizer = TfidfVectorizer(tokenizer=get_processed_text)  \n",
        "\n",
        "\n",
        "    # Crear los vectores a partir del corpus\n",
        "    all_word_vectors = word_vectorizer.fit_transform(doc_lemma_)\n",
        "\n",
        "    # Calcular la similitud coseno entre todas los documentos excepto el agregado (el útlimo \"-1\")\n",
        "    # NOTA: con los word embedings veremos más en detalle esta matriz de similitud\n",
        "    similar_vector_values = cosine_similarity(all_word_vectors[-1], all_word_vectors)\n",
        "\n",
        "    # Obtener el índice del vector más cercano a nuestra oración\n",
        "    # --> descartando la similitud contra nuestor vector propio\n",
        "    similar_sentence_number = similar_vector_values.argsort()[0][-2]\n",
        "    matched_vector = similar_vector_values.flatten()\n",
        "    matched_vector.sort()\n",
        "    vector_matched = matched_vector[-2]\n",
        "    #vector_matched = 0\n",
        "    if vector_matched == 0:\n",
        "        response = \"I am sorry, I could not understand you\"\n",
        "    else:\n",
        "        response = doc_lemma_[similar_sentence_number]\n",
        "    \n",
        "    doc_lemma_.remove(user_input)\n",
        "    return response"
      ]
    },
    {
      "cell_type": "markdown",
      "metadata": {
        "id": "OK-BuXPBybSp"
      },
      "source": [
        "### 6 - Ensayar el sistema\n",
        "El sistema intentará encontrar la parte del artículo que más se relaciona con nuestro texto de entrada. Sugerencias ensayar:\n",
        "- Grand slam\n",
        "- tournaments\n",
        "- nadal\n",
        "- artificial intelligence"
      ]
    },
    {
      "cell_type": "code",
      "execution_count": 60,
      "metadata": {
        "id": "Z2X4j8XyydSb"
      },
      "outputs": [],
      "source": [
        "# Se utilizará gradio para ensayar el bot\n",
        "# Herramienta poderosa para crear interfaces rápidas para ensayar modelos\n",
        "# https://gradio.app/\n",
        "import sys\n",
        "!{sys.executable} -m pip install gradio --quiet"
      ]
    },
    {
      "cell_type": "code",
      "execution_count": 61,
      "metadata": {
        "colab": {
          "base_uri": "https://localhost:8080/",
          "height": 1133
        },
        "id": "SZv5MiVzynG1",
        "outputId": "6035aa3a-8335-4eff-e78b-92e0c04fde2d"
      },
      "outputs": [
        {
          "output_type": "stream",
          "name": "stderr",
          "text": [
            "/usr/local/lib/python3.7/dist-packages/gradio/deprecation.py:40: UserWarning: `layout` parameter is deprecated, and it has no effect\n",
            "  warnings.warn(value)\n"
          ]
        },
        {
          "output_type": "stream",
          "name": "stdout",
          "text": [
            "Colab notebook detected. This cell will run indefinitely so that you can see errors and logs. To turn off, set debug=False in launch().\n",
            "Running on public URL: https://24675.gradio.app\n",
            "\n",
            "This share link expires in 72 hours. For free permanent hosting, check out Spaces (https://huggingface.co/spaces)\n"
          ]
        },
        {
          "output_type": "display_data",
          "data": {
            "text/plain": [
              "<IPython.core.display.HTML object>"
            ],
            "text/html": [
              "<div><iframe src=\"https://24675.gradio.app\" width=\"900\" height=\"500\" allow=\"autoplay; camera; microphone;\" frameborder=\"0\" allowfullscreen></iframe></div>"
            ]
          },
          "metadata": {}
        },
        {
          "output_type": "stream",
          "name": "stdout",
          "text": [
            "quien fue el mejor jugador del club?\n"
          ]
        },
        {
          "output_type": "stream",
          "name": "stderr",
          "text": [
            "/usr/local/lib/python3.7/dist-packages/stanza/models/common/beam.py:86: UserWarning: __floordiv__ is deprecated, and its behavior will change in a future version of pytorch. It currently rounds toward 0 (like the 'trunc' function NOT 'floor'). This results in incorrect rounding for negative values. To keep the current behavior, use torch.div(a, b, rounding_mode='trunc'), or for actual floor division, use torch.div(a, b, rounding_mode='floor').\n",
            "  prevK = bestScoresId // numWords\n",
            "/usr/local/lib/python3.7/dist-packages/ipykernel_launcher.py:9: UserWarning: Due to multiword token expansion or an alignment issue, the original text has been replaced by space-separated expanded tokens.\n",
            "  if __name__ == '__main__':\n",
            "/usr/local/lib/python3.7/dist-packages/ipykernel_launcher.py:9: UserWarning: Can't set named entities because of multi-word token expansion or because the character offsets don't map to valid tokens produced by the Stanza tokenizer:\n",
            "Words: ['quien', 'fue', 'el', 'mejor', 'jugador', 'de', 'el', 'club', '?']\n",
            "Entities: []\n",
            "  if __name__ == '__main__':\n"
          ]
        },
        {
          "output_type": "stream",
          "name": "stdout",
          "text": [
            "quien es el presidente del club?\n"
          ]
        },
        {
          "output_type": "stream",
          "name": "stderr",
          "text": [
            "/usr/local/lib/python3.7/dist-packages/stanza/models/common/beam.py:86: UserWarning: __floordiv__ is deprecated, and its behavior will change in a future version of pytorch. It currently rounds toward 0 (like the 'trunc' function NOT 'floor'). This results in incorrect rounding for negative values. To keep the current behavior, use torch.div(a, b, rounding_mode='trunc'), or for actual floor division, use torch.div(a, b, rounding_mode='floor').\n",
            "  prevK = bestScoresId // numWords\n",
            "/usr/local/lib/python3.7/dist-packages/ipykernel_launcher.py:9: UserWarning: Due to multiword token expansion or an alignment issue, the original text has been replaced by space-separated expanded tokens.\n",
            "  if __name__ == '__main__':\n",
            "/usr/local/lib/python3.7/dist-packages/ipykernel_launcher.py:9: UserWarning: Can't set named entities because of multi-word token expansion or because the character offsets don't map to valid tokens produced by the Stanza tokenizer:\n",
            "Words: ['quien', 'es', 'el', 'presidente', 'de', 'el', 'club', '?']\n",
            "Entities: []\n",
            "  if __name__ == '__main__':\n"
          ]
        },
        {
          "output_type": "stream",
          "name": "stdout",
          "text": [
            "presidente de argentinos juniors\n",
            "fundacion\n",
            "mejor jugador de argentinos\n",
            "campeonatos logrados\n",
            "Keyboard interruption in main thread... closing server.\n"
          ]
        },
        {
          "output_type": "execute_result",
          "data": {
            "text/plain": [
              "(<gradio.routes.App at 0x7fd7b427b810>,\n",
              " 'http://127.0.0.1:7860/',\n",
              " 'https://24675.gradio.app')"
            ]
          },
          "metadata": {},
          "execution_count": 61
        }
      ],
      "source": [
        "import gradio as gr\n",
        "\n",
        "def bot_response(human_text):\n",
        "    print(human_text)\n",
        "    return generate_response(human_text.lower(), corpus)\n",
        "\n",
        "iface = gr.Interface(\n",
        "    fn=bot_response,\n",
        "    inputs=[\"textbox\"],\n",
        "    outputs=\"text\",\n",
        "    layout=\"vertical\")\n",
        "\n",
        "iface.launch(debug=True)"
      ]
    },
    {
      "cell_type": "markdown",
      "source": [
        "## CONCLUSIONES: No se pudo lograr volver a procesar con el algoritmo Spacy-Stanza (\"nlp()\") solamente el texto ingresado por el usuario. Al tener que volver a procesar todo el texto el sistema es muy lento."
      ],
      "metadata": {
        "id": "h3ToHlN7GbhS"
      }
    },
    {
      "cell_type": "code",
      "source": [
        ""
      ],
      "metadata": {
        "id": "2NuDAl8vGprP"
      },
      "execution_count": null,
      "outputs": []
    }
  ],
  "metadata": {
    "colab": {
      "collapsed_sections": [],
      "name": "NLP - Clase 2 - Ejercicio.ipynb",
      "provenance": []
    },
    "kernelspec": {
      "display_name": "Python 3",
      "name": "python3"
    },
    "language_info": {
      "name": "python"
    },
    "widgets": {
      "application/vnd.jupyter.widget-state+json": {
        "ba2f743c574d402d89c02a40cedfb39c": {
          "model_module": "@jupyter-widgets/controls",
          "model_name": "HBoxModel",
          "model_module_version": "1.5.0",
          "state": {
            "_dom_classes": [],
            "_model_module": "@jupyter-widgets/controls",
            "_model_module_version": "1.5.0",
            "_model_name": "HBoxModel",
            "_view_count": null,
            "_view_module": "@jupyter-widgets/controls",
            "_view_module_version": "1.5.0",
            "_view_name": "HBoxView",
            "box_style": "",
            "children": [
              "IPY_MODEL_f7042d2611bc4c6795e64003754c2e27",
              "IPY_MODEL_927124ac44c44b71b36dc96c0fed0a2f",
              "IPY_MODEL_ad687ad100c546c0ada0f89968badd0e"
            ],
            "layout": "IPY_MODEL_4ee8264799de4d59a380892b3fd20a33"
          }
        },
        "f7042d2611bc4c6795e64003754c2e27": {
          "model_module": "@jupyter-widgets/controls",
          "model_name": "HTMLModel",
          "model_module_version": "1.5.0",
          "state": {
            "_dom_classes": [],
            "_model_module": "@jupyter-widgets/controls",
            "_model_module_version": "1.5.0",
            "_model_name": "HTMLModel",
            "_view_count": null,
            "_view_module": "@jupyter-widgets/controls",
            "_view_module_version": "1.5.0",
            "_view_name": "HTMLView",
            "description": "",
            "description_tooltip": null,
            "layout": "IPY_MODEL_dd2e15b07a584c9795a81e855719d17d",
            "placeholder": "​",
            "style": "IPY_MODEL_b379f75f555d49d7b11e73da51d0a15d",
            "value": "Downloading https://raw.githubusercontent.com/stanfordnlp/stanza-resources/main/resources_1.2.2.json: "
          }
        },
        "927124ac44c44b71b36dc96c0fed0a2f": {
          "model_module": "@jupyter-widgets/controls",
          "model_name": "FloatProgressModel",
          "model_module_version": "1.5.0",
          "state": {
            "_dom_classes": [],
            "_model_module": "@jupyter-widgets/controls",
            "_model_module_version": "1.5.0",
            "_model_name": "FloatProgressModel",
            "_view_count": null,
            "_view_module": "@jupyter-widgets/controls",
            "_view_module_version": "1.5.0",
            "_view_name": "ProgressView",
            "bar_style": "success",
            "description": "",
            "description_tooltip": null,
            "layout": "IPY_MODEL_860aee660483405a85c3961d736bd0df",
            "max": 24144,
            "min": 0,
            "orientation": "horizontal",
            "style": "IPY_MODEL_bc5c1ecd5aa147c0a82677ce99caed96",
            "value": 24144
          }
        },
        "ad687ad100c546c0ada0f89968badd0e": {
          "model_module": "@jupyter-widgets/controls",
          "model_name": "HTMLModel",
          "model_module_version": "1.5.0",
          "state": {
            "_dom_classes": [],
            "_model_module": "@jupyter-widgets/controls",
            "_model_module_version": "1.5.0",
            "_model_name": "HTMLModel",
            "_view_count": null,
            "_view_module": "@jupyter-widgets/controls",
            "_view_module_version": "1.5.0",
            "_view_name": "HTMLView",
            "description": "",
            "description_tooltip": null,
            "layout": "IPY_MODEL_dd3146a2a4a64ecf9419426b5c6cc17e",
            "placeholder": "​",
            "style": "IPY_MODEL_4b17ead124214fcf8e94fbcb9f24c629",
            "value": " 140k/? [00:00&lt;00:00, 810kB/s]"
          }
        },
        "4ee8264799de4d59a380892b3fd20a33": {
          "model_module": "@jupyter-widgets/base",
          "model_name": "LayoutModel",
          "model_module_version": "1.2.0",
          "state": {
            "_model_module": "@jupyter-widgets/base",
            "_model_module_version": "1.2.0",
            "_model_name": "LayoutModel",
            "_view_count": null,
            "_view_module": "@jupyter-widgets/base",
            "_view_module_version": "1.2.0",
            "_view_name": "LayoutView",
            "align_content": null,
            "align_items": null,
            "align_self": null,
            "border": null,
            "bottom": null,
            "display": null,
            "flex": null,
            "flex_flow": null,
            "grid_area": null,
            "grid_auto_columns": null,
            "grid_auto_flow": null,
            "grid_auto_rows": null,
            "grid_column": null,
            "grid_gap": null,
            "grid_row": null,
            "grid_template_areas": null,
            "grid_template_columns": null,
            "grid_template_rows": null,
            "height": null,
            "justify_content": null,
            "justify_items": null,
            "left": null,
            "margin": null,
            "max_height": null,
            "max_width": null,
            "min_height": null,
            "min_width": null,
            "object_fit": null,
            "object_position": null,
            "order": null,
            "overflow": null,
            "overflow_x": null,
            "overflow_y": null,
            "padding": null,
            "right": null,
            "top": null,
            "visibility": null,
            "width": null
          }
        },
        "dd2e15b07a584c9795a81e855719d17d": {
          "model_module": "@jupyter-widgets/base",
          "model_name": "LayoutModel",
          "model_module_version": "1.2.0",
          "state": {
            "_model_module": "@jupyter-widgets/base",
            "_model_module_version": "1.2.0",
            "_model_name": "LayoutModel",
            "_view_count": null,
            "_view_module": "@jupyter-widgets/base",
            "_view_module_version": "1.2.0",
            "_view_name": "LayoutView",
            "align_content": null,
            "align_items": null,
            "align_self": null,
            "border": null,
            "bottom": null,
            "display": null,
            "flex": null,
            "flex_flow": null,
            "grid_area": null,
            "grid_auto_columns": null,
            "grid_auto_flow": null,
            "grid_auto_rows": null,
            "grid_column": null,
            "grid_gap": null,
            "grid_row": null,
            "grid_template_areas": null,
            "grid_template_columns": null,
            "grid_template_rows": null,
            "height": null,
            "justify_content": null,
            "justify_items": null,
            "left": null,
            "margin": null,
            "max_height": null,
            "max_width": null,
            "min_height": null,
            "min_width": null,
            "object_fit": null,
            "object_position": null,
            "order": null,
            "overflow": null,
            "overflow_x": null,
            "overflow_y": null,
            "padding": null,
            "right": null,
            "top": null,
            "visibility": null,
            "width": null
          }
        },
        "b379f75f555d49d7b11e73da51d0a15d": {
          "model_module": "@jupyter-widgets/controls",
          "model_name": "DescriptionStyleModel",
          "model_module_version": "1.5.0",
          "state": {
            "_model_module": "@jupyter-widgets/controls",
            "_model_module_version": "1.5.0",
            "_model_name": "DescriptionStyleModel",
            "_view_count": null,
            "_view_module": "@jupyter-widgets/base",
            "_view_module_version": "1.2.0",
            "_view_name": "StyleView",
            "description_width": ""
          }
        },
        "860aee660483405a85c3961d736bd0df": {
          "model_module": "@jupyter-widgets/base",
          "model_name": "LayoutModel",
          "model_module_version": "1.2.0",
          "state": {
            "_model_module": "@jupyter-widgets/base",
            "_model_module_version": "1.2.0",
            "_model_name": "LayoutModel",
            "_view_count": null,
            "_view_module": "@jupyter-widgets/base",
            "_view_module_version": "1.2.0",
            "_view_name": "LayoutView",
            "align_content": null,
            "align_items": null,
            "align_self": null,
            "border": null,
            "bottom": null,
            "display": null,
            "flex": null,
            "flex_flow": null,
            "grid_area": null,
            "grid_auto_columns": null,
            "grid_auto_flow": null,
            "grid_auto_rows": null,
            "grid_column": null,
            "grid_gap": null,
            "grid_row": null,
            "grid_template_areas": null,
            "grid_template_columns": null,
            "grid_template_rows": null,
            "height": null,
            "justify_content": null,
            "justify_items": null,
            "left": null,
            "margin": null,
            "max_height": null,
            "max_width": null,
            "min_height": null,
            "min_width": null,
            "object_fit": null,
            "object_position": null,
            "order": null,
            "overflow": null,
            "overflow_x": null,
            "overflow_y": null,
            "padding": null,
            "right": null,
            "top": null,
            "visibility": null,
            "width": null
          }
        },
        "bc5c1ecd5aa147c0a82677ce99caed96": {
          "model_module": "@jupyter-widgets/controls",
          "model_name": "ProgressStyleModel",
          "model_module_version": "1.5.0",
          "state": {
            "_model_module": "@jupyter-widgets/controls",
            "_model_module_version": "1.5.0",
            "_model_name": "ProgressStyleModel",
            "_view_count": null,
            "_view_module": "@jupyter-widgets/base",
            "_view_module_version": "1.2.0",
            "_view_name": "StyleView",
            "bar_color": null,
            "description_width": ""
          }
        },
        "dd3146a2a4a64ecf9419426b5c6cc17e": {
          "model_module": "@jupyter-widgets/base",
          "model_name": "LayoutModel",
          "model_module_version": "1.2.0",
          "state": {
            "_model_module": "@jupyter-widgets/base",
            "_model_module_version": "1.2.0",
            "_model_name": "LayoutModel",
            "_view_count": null,
            "_view_module": "@jupyter-widgets/base",
            "_view_module_version": "1.2.0",
            "_view_name": "LayoutView",
            "align_content": null,
            "align_items": null,
            "align_self": null,
            "border": null,
            "bottom": null,
            "display": null,
            "flex": null,
            "flex_flow": null,
            "grid_area": null,
            "grid_auto_columns": null,
            "grid_auto_flow": null,
            "grid_auto_rows": null,
            "grid_column": null,
            "grid_gap": null,
            "grid_row": null,
            "grid_template_areas": null,
            "grid_template_columns": null,
            "grid_template_rows": null,
            "height": null,
            "justify_content": null,
            "justify_items": null,
            "left": null,
            "margin": null,
            "max_height": null,
            "max_width": null,
            "min_height": null,
            "min_width": null,
            "object_fit": null,
            "object_position": null,
            "order": null,
            "overflow": null,
            "overflow_x": null,
            "overflow_y": null,
            "padding": null,
            "right": null,
            "top": null,
            "visibility": null,
            "width": null
          }
        },
        "4b17ead124214fcf8e94fbcb9f24c629": {
          "model_module": "@jupyter-widgets/controls",
          "model_name": "DescriptionStyleModel",
          "model_module_version": "1.5.0",
          "state": {
            "_model_module": "@jupyter-widgets/controls",
            "_model_module_version": "1.5.0",
            "_model_name": "DescriptionStyleModel",
            "_view_count": null,
            "_view_module": "@jupyter-widgets/base",
            "_view_module_version": "1.2.0",
            "_view_name": "StyleView",
            "description_width": ""
          }
        },
        "62e8c36b7e5140438d130ed0035ee014": {
          "model_module": "@jupyter-widgets/controls",
          "model_name": "HBoxModel",
          "model_module_version": "1.5.0",
          "state": {
            "_dom_classes": [],
            "_model_module": "@jupyter-widgets/controls",
            "_model_module_version": "1.5.0",
            "_model_name": "HBoxModel",
            "_view_count": null,
            "_view_module": "@jupyter-widgets/controls",
            "_view_module_version": "1.5.0",
            "_view_name": "HBoxView",
            "box_style": "",
            "children": [
              "IPY_MODEL_9830e34c9cc3440980f3a05d07c30d0e",
              "IPY_MODEL_8e45cfe2dd424744b42aaf26ac130062",
              "IPY_MODEL_3734825ff38b4c78a0107a1cc27c9c9f"
            ],
            "layout": "IPY_MODEL_60e753feaea4455bbb1b2f6e9af0d59b"
          }
        },
        "9830e34c9cc3440980f3a05d07c30d0e": {
          "model_module": "@jupyter-widgets/controls",
          "model_name": "HTMLModel",
          "model_module_version": "1.5.0",
          "state": {
            "_dom_classes": [],
            "_model_module": "@jupyter-widgets/controls",
            "_model_module_version": "1.5.0",
            "_model_name": "HTMLModel",
            "_view_count": null,
            "_view_module": "@jupyter-widgets/controls",
            "_view_module_version": "1.5.0",
            "_view_name": "HTMLView",
            "description": "",
            "description_tooltip": null,
            "layout": "IPY_MODEL_c613dbc1e32f4ff8aef228dc9c2431a3",
            "placeholder": "​",
            "style": "IPY_MODEL_51529817315547148b0643b0eefbe5c6",
            "value": "Downloading http://nlp.stanford.edu/software/stanza/1.2.2/es/default.zip: 100%"
          }
        },
        "8e45cfe2dd424744b42aaf26ac130062": {
          "model_module": "@jupyter-widgets/controls",
          "model_name": "FloatProgressModel",
          "model_module_version": "1.5.0",
          "state": {
            "_dom_classes": [],
            "_model_module": "@jupyter-widgets/controls",
            "_model_module_version": "1.5.0",
            "_model_name": "FloatProgressModel",
            "_view_count": null,
            "_view_module": "@jupyter-widgets/controls",
            "_view_module_version": "1.5.0",
            "_view_name": "ProgressView",
            "bar_style": "success",
            "description": "",
            "description_tooltip": null,
            "layout": "IPY_MODEL_b35d58b4ff374f12b9c49dcbef944295",
            "max": 565553347,
            "min": 0,
            "orientation": "horizontal",
            "style": "IPY_MODEL_7576e95ed49341f49f7e6d05b46401b2",
            "value": 565553347
          }
        },
        "3734825ff38b4c78a0107a1cc27c9c9f": {
          "model_module": "@jupyter-widgets/controls",
          "model_name": "HTMLModel",
          "model_module_version": "1.5.0",
          "state": {
            "_dom_classes": [],
            "_model_module": "@jupyter-widgets/controls",
            "_model_module_version": "1.5.0",
            "_model_name": "HTMLModel",
            "_view_count": null,
            "_view_module": "@jupyter-widgets/controls",
            "_view_module_version": "1.5.0",
            "_view_name": "HTMLView",
            "description": "",
            "description_tooltip": null,
            "layout": "IPY_MODEL_01e65a8dc1ed4f6b8f637990b68b4e16",
            "placeholder": "​",
            "style": "IPY_MODEL_46fead93aa5b42a0beea22040d7a2616",
            "value": " 566M/566M [01:43&lt;00:00, 5.28MB/s]"
          }
        },
        "60e753feaea4455bbb1b2f6e9af0d59b": {
          "model_module": "@jupyter-widgets/base",
          "model_name": "LayoutModel",
          "model_module_version": "1.2.0",
          "state": {
            "_model_module": "@jupyter-widgets/base",
            "_model_module_version": "1.2.0",
            "_model_name": "LayoutModel",
            "_view_count": null,
            "_view_module": "@jupyter-widgets/base",
            "_view_module_version": "1.2.0",
            "_view_name": "LayoutView",
            "align_content": null,
            "align_items": null,
            "align_self": null,
            "border": null,
            "bottom": null,
            "display": null,
            "flex": null,
            "flex_flow": null,
            "grid_area": null,
            "grid_auto_columns": null,
            "grid_auto_flow": null,
            "grid_auto_rows": null,
            "grid_column": null,
            "grid_gap": null,
            "grid_row": null,
            "grid_template_areas": null,
            "grid_template_columns": null,
            "grid_template_rows": null,
            "height": null,
            "justify_content": null,
            "justify_items": null,
            "left": null,
            "margin": null,
            "max_height": null,
            "max_width": null,
            "min_height": null,
            "min_width": null,
            "object_fit": null,
            "object_position": null,
            "order": null,
            "overflow": null,
            "overflow_x": null,
            "overflow_y": null,
            "padding": null,
            "right": null,
            "top": null,
            "visibility": null,
            "width": null
          }
        },
        "c613dbc1e32f4ff8aef228dc9c2431a3": {
          "model_module": "@jupyter-widgets/base",
          "model_name": "LayoutModel",
          "model_module_version": "1.2.0",
          "state": {
            "_model_module": "@jupyter-widgets/base",
            "_model_module_version": "1.2.0",
            "_model_name": "LayoutModel",
            "_view_count": null,
            "_view_module": "@jupyter-widgets/base",
            "_view_module_version": "1.2.0",
            "_view_name": "LayoutView",
            "align_content": null,
            "align_items": null,
            "align_self": null,
            "border": null,
            "bottom": null,
            "display": null,
            "flex": null,
            "flex_flow": null,
            "grid_area": null,
            "grid_auto_columns": null,
            "grid_auto_flow": null,
            "grid_auto_rows": null,
            "grid_column": null,
            "grid_gap": null,
            "grid_row": null,
            "grid_template_areas": null,
            "grid_template_columns": null,
            "grid_template_rows": null,
            "height": null,
            "justify_content": null,
            "justify_items": null,
            "left": null,
            "margin": null,
            "max_height": null,
            "max_width": null,
            "min_height": null,
            "min_width": null,
            "object_fit": null,
            "object_position": null,
            "order": null,
            "overflow": null,
            "overflow_x": null,
            "overflow_y": null,
            "padding": null,
            "right": null,
            "top": null,
            "visibility": null,
            "width": null
          }
        },
        "51529817315547148b0643b0eefbe5c6": {
          "model_module": "@jupyter-widgets/controls",
          "model_name": "DescriptionStyleModel",
          "model_module_version": "1.5.0",
          "state": {
            "_model_module": "@jupyter-widgets/controls",
            "_model_module_version": "1.5.0",
            "_model_name": "DescriptionStyleModel",
            "_view_count": null,
            "_view_module": "@jupyter-widgets/base",
            "_view_module_version": "1.2.0",
            "_view_name": "StyleView",
            "description_width": ""
          }
        },
        "b35d58b4ff374f12b9c49dcbef944295": {
          "model_module": "@jupyter-widgets/base",
          "model_name": "LayoutModel",
          "model_module_version": "1.2.0",
          "state": {
            "_model_module": "@jupyter-widgets/base",
            "_model_module_version": "1.2.0",
            "_model_name": "LayoutModel",
            "_view_count": null,
            "_view_module": "@jupyter-widgets/base",
            "_view_module_version": "1.2.0",
            "_view_name": "LayoutView",
            "align_content": null,
            "align_items": null,
            "align_self": null,
            "border": null,
            "bottom": null,
            "display": null,
            "flex": null,
            "flex_flow": null,
            "grid_area": null,
            "grid_auto_columns": null,
            "grid_auto_flow": null,
            "grid_auto_rows": null,
            "grid_column": null,
            "grid_gap": null,
            "grid_row": null,
            "grid_template_areas": null,
            "grid_template_columns": null,
            "grid_template_rows": null,
            "height": null,
            "justify_content": null,
            "justify_items": null,
            "left": null,
            "margin": null,
            "max_height": null,
            "max_width": null,
            "min_height": null,
            "min_width": null,
            "object_fit": null,
            "object_position": null,
            "order": null,
            "overflow": null,
            "overflow_x": null,
            "overflow_y": null,
            "padding": null,
            "right": null,
            "top": null,
            "visibility": null,
            "width": null
          }
        },
        "7576e95ed49341f49f7e6d05b46401b2": {
          "model_module": "@jupyter-widgets/controls",
          "model_name": "ProgressStyleModel",
          "model_module_version": "1.5.0",
          "state": {
            "_model_module": "@jupyter-widgets/controls",
            "_model_module_version": "1.5.0",
            "_model_name": "ProgressStyleModel",
            "_view_count": null,
            "_view_module": "@jupyter-widgets/base",
            "_view_module_version": "1.2.0",
            "_view_name": "StyleView",
            "bar_color": null,
            "description_width": ""
          }
        },
        "01e65a8dc1ed4f6b8f637990b68b4e16": {
          "model_module": "@jupyter-widgets/base",
          "model_name": "LayoutModel",
          "model_module_version": "1.2.0",
          "state": {
            "_model_module": "@jupyter-widgets/base",
            "_model_module_version": "1.2.0",
            "_model_name": "LayoutModel",
            "_view_count": null,
            "_view_module": "@jupyter-widgets/base",
            "_view_module_version": "1.2.0",
            "_view_name": "LayoutView",
            "align_content": null,
            "align_items": null,
            "align_self": null,
            "border": null,
            "bottom": null,
            "display": null,
            "flex": null,
            "flex_flow": null,
            "grid_area": null,
            "grid_auto_columns": null,
            "grid_auto_flow": null,
            "grid_auto_rows": null,
            "grid_column": null,
            "grid_gap": null,
            "grid_row": null,
            "grid_template_areas": null,
            "grid_template_columns": null,
            "grid_template_rows": null,
            "height": null,
            "justify_content": null,
            "justify_items": null,
            "left": null,
            "margin": null,
            "max_height": null,
            "max_width": null,
            "min_height": null,
            "min_width": null,
            "object_fit": null,
            "object_position": null,
            "order": null,
            "overflow": null,
            "overflow_x": null,
            "overflow_y": null,
            "padding": null,
            "right": null,
            "top": null,
            "visibility": null,
            "width": null
          }
        },
        "46fead93aa5b42a0beea22040d7a2616": {
          "model_module": "@jupyter-widgets/controls",
          "model_name": "DescriptionStyleModel",
          "model_module_version": "1.5.0",
          "state": {
            "_model_module": "@jupyter-widgets/controls",
            "_model_module_version": "1.5.0",
            "_model_name": "DescriptionStyleModel",
            "_view_count": null,
            "_view_module": "@jupyter-widgets/base",
            "_view_module_version": "1.2.0",
            "_view_name": "StyleView",
            "description_width": ""
          }
        }
      }
    }
  },
  "nbformat": 4,
  "nbformat_minor": 0
}