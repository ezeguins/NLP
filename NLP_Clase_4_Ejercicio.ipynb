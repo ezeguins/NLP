{
  "nbformat": 4,
  "nbformat_minor": 0,
  "metadata": {
    "colab": {
      "name": "NLP_Clase_4_Ejercicio.ipynb",
      "provenance": [],
      "collapsed_sections": []
    },
    "kernelspec": {
      "name": "python3",
      "display_name": "Python 3"
    },
    "language_info": {
      "name": "python"
    },
    "accelerator": "GPU",
    "gpuClass": "standard"
  },
  "cells": [
    {
      "cell_type": "markdown",
      "metadata": {
        "id": "Iv5PEwGzZA9-"
      },
      "source": [
        "### Objetivo\n",
        "El objetivo es utilizar documentos / corpus para crear embeddings de palabras basado en ese contexto utilizando la layer Embedding de Keras. Se utilizará esos embeddings junto con layers LSTM para predeccir la próxima posible palabra."
      ]
    },
    {
      "cell_type": "code",
      "metadata": {
        "id": "Y-QdFbHZYj7C"
      },
      "source": [
        "import random\n",
        "import io\n",
        "import pickle\n",
        "\n",
        "import numpy as np\n",
        "import pandas as pd\n",
        "\n",
        "from tensorflow import keras\n",
        "from tensorflow.keras import layers\n",
        "from keras.utils.np_utils import to_categorical\n",
        "from keras.models import Sequential\n",
        "from keras.layers import Dense, LSTM, Embedding, Dropout"
      ],
      "execution_count": 2,
      "outputs": []
    },
    {
      "cell_type": "markdown",
      "metadata": {
        "id": "xTvXlEKQZdqx"
      },
      "source": [
        "### Datos\n",
        "Utilizaremos como dataset canciones de bandas de habla inglés."
      ]
    },
    {
      "cell_type": "code",
      "source": [
        "# Cargamos los datos de las obras de Borges, utilizada en el TP anterior\n",
        "file = '/content/boc.csv'\n",
        "df = pd.read_csv(file,sep='/n', header=None)\n",
        "# Dataset is now stored in a Pandas Dataframe\n",
        "\n",
        "df.head()"
      ],
      "metadata": {
        "colab": {
          "base_uri": "https://localhost:8080/",
          "height": 263
        },
        "id": "eqmFk_PNUXXo",
        "outputId": "9a83afc5-8f97-4ea0-bcf2-3cfeb95b689a"
      },
      "execution_count": 3,
      "outputs": [
        {
          "output_type": "stream",
          "name": "stderr",
          "text": [
            "/usr/local/lib/python3.7/dist-packages/pandas/util/_decorators.py:311: ParserWarning: Falling back to the 'python' engine because the 'c' engine does not support regex separators (separators > 1 char and different from '\\s+' are interpreted as regex); you can avoid this warning by specifying engine='python'.\n",
            "  return func(*args, **kwargs)\n"
          ]
        },
        {
          "output_type": "execute_result",
          "data": {
            "text/plain": [
              "                                                   0\n",
              "0  Quiero dejar escrita una confesión, que a un t...\n",
              "1  íntima y general, ya que las cosas que. le ocu...\n",
              "2  hombre les ocurren a todos. Estoy hablando de ...\n",
              "3  remoto y perdido, los días de mi santo, los má...\n",
              "4  Yo recibía los regalos y yo pensaba que no era..."
            ],
            "text/html": [
              "\n",
              "  <div id=\"df-fb37baf1-3f21-44ec-9647-e88a6ec6e3ce\">\n",
              "    <div class=\"colab-df-container\">\n",
              "      <div>\n",
              "<style scoped>\n",
              "    .dataframe tbody tr th:only-of-type {\n",
              "        vertical-align: middle;\n",
              "    }\n",
              "\n",
              "    .dataframe tbody tr th {\n",
              "        vertical-align: top;\n",
              "    }\n",
              "\n",
              "    .dataframe thead th {\n",
              "        text-align: right;\n",
              "    }\n",
              "</style>\n",
              "<table border=\"1\" class=\"dataframe\">\n",
              "  <thead>\n",
              "    <tr style=\"text-align: right;\">\n",
              "      <th></th>\n",
              "      <th>0</th>\n",
              "    </tr>\n",
              "  </thead>\n",
              "  <tbody>\n",
              "    <tr>\n",
              "      <th>0</th>\n",
              "      <td>Quiero dejar escrita una confesión, que a un t...</td>\n",
              "    </tr>\n",
              "    <tr>\n",
              "      <th>1</th>\n",
              "      <td>íntima y general, ya que las cosas que. le ocu...</td>\n",
              "    </tr>\n",
              "    <tr>\n",
              "      <th>2</th>\n",
              "      <td>hombre les ocurren a todos. Estoy hablando de ...</td>\n",
              "    </tr>\n",
              "    <tr>\n",
              "      <th>3</th>\n",
              "      <td>remoto y perdido, los días de mi santo, los má...</td>\n",
              "    </tr>\n",
              "    <tr>\n",
              "      <th>4</th>\n",
              "      <td>Yo recibía los regalos y yo pensaba que no era...</td>\n",
              "    </tr>\n",
              "  </tbody>\n",
              "</table>\n",
              "</div>\n",
              "      <button class=\"colab-df-convert\" onclick=\"convertToInteractive('df-fb37baf1-3f21-44ec-9647-e88a6ec6e3ce')\"\n",
              "              title=\"Convert this dataframe to an interactive table.\"\n",
              "              style=\"display:none;\">\n",
              "        \n",
              "  <svg xmlns=\"http://www.w3.org/2000/svg\" height=\"24px\"viewBox=\"0 0 24 24\"\n",
              "       width=\"24px\">\n",
              "    <path d=\"M0 0h24v24H0V0z\" fill=\"none\"/>\n",
              "    <path d=\"M18.56 5.44l.94 2.06.94-2.06 2.06-.94-2.06-.94-.94-2.06-.94 2.06-2.06.94zm-11 1L8.5 8.5l.94-2.06 2.06-.94-2.06-.94L8.5 2.5l-.94 2.06-2.06.94zm10 10l.94 2.06.94-2.06 2.06-.94-2.06-.94-.94-2.06-.94 2.06-2.06.94z\"/><path d=\"M17.41 7.96l-1.37-1.37c-.4-.4-.92-.59-1.43-.59-.52 0-1.04.2-1.43.59L10.3 9.45l-7.72 7.72c-.78.78-.78 2.05 0 2.83L4 21.41c.39.39.9.59 1.41.59.51 0 1.02-.2 1.41-.59l7.78-7.78 2.81-2.81c.8-.78.8-2.07 0-2.86zM5.41 20L4 18.59l7.72-7.72 1.47 1.35L5.41 20z\"/>\n",
              "  </svg>\n",
              "      </button>\n",
              "      \n",
              "  <style>\n",
              "    .colab-df-container {\n",
              "      display:flex;\n",
              "      flex-wrap:wrap;\n",
              "      gap: 12px;\n",
              "    }\n",
              "\n",
              "    .colab-df-convert {\n",
              "      background-color: #E8F0FE;\n",
              "      border: none;\n",
              "      border-radius: 50%;\n",
              "      cursor: pointer;\n",
              "      display: none;\n",
              "      fill: #1967D2;\n",
              "      height: 32px;\n",
              "      padding: 0 0 0 0;\n",
              "      width: 32px;\n",
              "    }\n",
              "\n",
              "    .colab-df-convert:hover {\n",
              "      background-color: #E2EBFA;\n",
              "      box-shadow: 0px 1px 2px rgba(60, 64, 67, 0.3), 0px 1px 3px 1px rgba(60, 64, 67, 0.15);\n",
              "      fill: #174EA6;\n",
              "    }\n",
              "\n",
              "    [theme=dark] .colab-df-convert {\n",
              "      background-color: #3B4455;\n",
              "      fill: #D2E3FC;\n",
              "    }\n",
              "\n",
              "    [theme=dark] .colab-df-convert:hover {\n",
              "      background-color: #434B5C;\n",
              "      box-shadow: 0px 1px 3px 1px rgba(0, 0, 0, 0.15);\n",
              "      filter: drop-shadow(0px 1px 2px rgba(0, 0, 0, 0.3));\n",
              "      fill: #FFFFFF;\n",
              "    }\n",
              "  </style>\n",
              "\n",
              "      <script>\n",
              "        const buttonEl =\n",
              "          document.querySelector('#df-fb37baf1-3f21-44ec-9647-e88a6ec6e3ce button.colab-df-convert');\n",
              "        buttonEl.style.display =\n",
              "          google.colab.kernel.accessAllowed ? 'block' : 'none';\n",
              "\n",
              "        async function convertToInteractive(key) {\n",
              "          const element = document.querySelector('#df-fb37baf1-3f21-44ec-9647-e88a6ec6e3ce');\n",
              "          const dataTable =\n",
              "            await google.colab.kernel.invokeFunction('convertToInteractive',\n",
              "                                                     [key], {});\n",
              "          if (!dataTable) return;\n",
              "\n",
              "          const docLinkHtml = 'Like what you see? Visit the ' +\n",
              "            '<a target=\"_blank\" href=https://colab.research.google.com/notebooks/data_table.ipynb>data table notebook</a>'\n",
              "            + ' to learn more about interactive tables.';\n",
              "          element.innerHTML = '';\n",
              "          dataTable['output_type'] = 'display_data';\n",
              "          await google.colab.output.renderOutput(dataTable, element);\n",
              "          const docLink = document.createElement('div');\n",
              "          docLink.innerHTML = docLinkHtml;\n",
              "          element.appendChild(docLink);\n",
              "        }\n",
              "      </script>\n",
              "    </div>\n",
              "  </div>\n",
              "  "
            ]
          },
          "metadata": {},
          "execution_count": 3
        }
      ]
    },
    {
      "cell_type": "code",
      "metadata": {
        "id": "riT898QlZnmF",
        "colab": {
          "base_uri": "https://localhost:8080/"
        },
        "outputId": "ffa3a940-f002-4c67-81a2-ca7ce8f98560"
      },
      "source": [
        "print(\"Cantidad de documentos:\", df.shape[0])"
      ],
      "execution_count": 4,
      "outputs": [
        {
          "output_type": "stream",
          "name": "stdout",
          "text": [
            "Cantidad de documentos: 36332\n"
          ]
        }
      ]
    },
    {
      "cell_type": "code",
      "source": [
        "# Achicamos la cantidad de documentos porque luego nos quedamos sin memoria RAM para la ejecución\n",
        "df = df[:5000]\n",
        "df.shape[0]"
      ],
      "metadata": {
        "colab": {
          "base_uri": "https://localhost:8080/"
        },
        "id": "fE4lzOi9Yu76",
        "outputId": "d4726188-5d73-47e9-e8ad-7f4ad5b43b76"
      },
      "execution_count": 5,
      "outputs": [
        {
          "output_type": "execute_result",
          "data": {
            "text/plain": [
              "5000"
            ]
          },
          "metadata": {},
          "execution_count": 5
        }
      ]
    },
    {
      "cell_type": "code",
      "metadata": {
        "id": "m5FeTaGvbDbw"
      },
      "source": [
        "from keras.preprocessing.text import Tokenizer # equivalente a ltokenizer de nltk\n",
        "from keras.preprocessing.text import text_to_word_sequence # equivalente a word_teokenize de nltk\n",
        "from keras.preprocessing.sequence import pad_sequences # se utilizará para padding\n",
        "\n",
        "# largo de la secuencia, incluye seq input + word output\n",
        "train_len = 4"
      ],
      "execution_count": 6,
      "outputs": []
    },
    {
      "cell_type": "markdown",
      "metadata": {
        "id": "ohS5Tao1d2KB"
      },
      "source": [
        "### 2 - Preprocesamiento completo\n",
        "Debemos realizar los mismos pasos que en el ejemplo anterior, pero antes de eso debemos transformar ese dataset de filas de oraciones en un texto completo continuo para poder extraer el vocabulario."
      ]
    },
    {
      "cell_type": "code",
      "metadata": {
        "id": "63Z2-Se2t27r",
        "colab": {
          "base_uri": "https://localhost:8080/"
        },
        "outputId": "d0fe3031-8672-4b1a-d9b5-75ce816c2cd5"
      },
      "source": [
        "# Vistazo a las primeras filas\n",
        "df.loc[:15,0]"
      ],
      "execution_count": 7,
      "outputs": [
        {
          "output_type": "execute_result",
          "data": {
            "text/plain": [
              "0     Quiero dejar escrita una confesión, que a un t...\n",
              "1     íntima y general, ya que las cosas que. le ocu...\n",
              "2     hombre les ocurren a todos. Estoy hablando de ...\n",
              "3     remoto y perdido, los días de mi santo, los má...\n",
              "4     Yo recibía los regalos y yo pensaba que no era...\n",
              "5     un chico y que no había hecho nada, absolutame...\n",
              "6     para merecerlos. Pof supuesto, nunca lo dije; ...\n",
              "7     tímida. Desde entonces me has dado tantas cosa...\n",
              "8     tantos los años y los recuerdos. Padre, Norah,...\n",
              "9     tu memoria y en ella la memoria de los mayores...\n",
              "10    patios, los esclavos, el aguace'; c\\ la carga ...\n",
              "11    del Perú y el oprobio de Rosas—, tu prisión va...\n",
              "12    cuando tantos hombres callábamos, las mañanas ...\n",
              "13    del Molino, de Ginebra y de Austin, las compar...\n",
              "14    y sombras, tu fresca ancianidad, tu amor a Dic...\n",
              "15                y a Eca de Queiroz, Madre, vos misma.\n",
              "Name: 0, dtype: object"
            ]
          },
          "metadata": {},
          "execution_count": 7
        }
      ]
    },
    {
      "cell_type": "code",
      "metadata": {
        "id": "kILsSoxTuHEr",
        "colab": {
          "base_uri": "https://localhost:8080/",
          "height": 165
        },
        "outputId": "9125ae2f-27b2-4e54-9ac7-28a786cb1264"
      },
      "source": [
        "# Concatenamos todos los rows en un solo valor\n",
        "corpus = df.apply(lambda row: ' '.join(row.values.astype(str)), axis=0)[0]\n",
        "corpus"
      ],
      "execution_count": 8,
      "outputs": [
        {
          "output_type": "execute_result",
          "data": {
            "text/plain": [
              "'Quiero dejar escrita una confesión, que a un tiempo será íntima y general, ya que las cosas que. le ocurren a un hombre les ocurren a todos. Estoy hablando de algo ya remoto y perdido, los días de mi santo, los más antiguos. Yo recibía los regalos y yo pensaba que no era más que un chico y que no había hecho nada, absolutamente .nada, para merecerlos. Pof supuesto, nunca lo dije; la niñez es tímida. Desde entonces me has dado tantas cosas y son tantos los años y los recuerdos. Padre, Norah, los abuelos, tu memoria y en ella la memoria de los mayores —los patios, los esclavos, el aguace\\'; c\\\\ la carga de los húsares del Perú y el oprobio de Rosas—, tu prisión valerosa, cuando tantos hombres callábamos, las mañanas del Paso del Molino, de Ginebra y de Austin, las compartidas claridades y sombras, tu fresca ancianidad, tu amor a Dickens y a Eca de Queiroz, Madre, vos misma. Aquí estamos hablando los dos, et tout le reste csi littérature, como escribió, con excelente literatura, feríame. J.1..B. Fervor de Buenos Aires (1923) \\\\To he reescrito el libro. He mitigado sus excesos barrocos, he limado asperezas, he tachado sensiblerías y vaguedades y, en el decurso de esta labor a veces grata y otras veces incómoda, he sentido que aquel muchacho que en 1923 lo escribió ya era esencialmente —¿qué. significa esencialmente?— el señor que ahora se resigna o corrige. Somos el mismo; los dos descreemos del fracaso y del éxito, de las escuelas literarias y de sus dogmas; los dos somos devotos de Schopenhauer, de Stevenson y de Whuman. Para mi, Fervor de Buenos Aires prefigura todo lo que haría después. Por lo que dejaba entrever, por lo que prometía de algún modo, lo aprobaron generosamente Enrique Díez-Canedo y Alfonso Reyes. Como los de 1969, los jóvenes de 1923 eran tímidos. Temerosos de una íntima pobreza, trataban como ahora, de escamotearla bajo inocentes novedades ruidosas. Yo, por ejemplo, me propuse demasiados fines: remedar ciertas fealdades (que me gustaban) de Miguel de Unamuno, ser un escritor español del siglo diecisiete, ser Macedonio Fernández, descubrir las metáforas que Lugones ya había descubierto, cantar un Buenos Aires de casas bajas y, hacia el poniente o hacia el sur, de quintas con verjas.. En aquel tiempo, buscaba los atardeceres, los arrabales y la desdicha; ahora, las mañanas, el centro y la serenidad. , J.L.li. Buenos Aires, 18 de agosto de 1969. A QUIEN LEYERE Si las páginas de este libro consienten algún verso feliz, perdóneme el lector la descortesía de haberlo usurpado yo, previamente. Nuestras nadas poco difieren; es trivial y fortuita la circunstancia de que seas tú el lector de estos ejercicios, y yo su redactor. FERVOR DE BUENOS AIRES LAS CALLES Las calles de Buenos Aires ya son mi entraña. No las ávidas calles, incómodas de turba y de ajetreo, sino las calles desganadas del barrio, casi invisibles de habituales, enternecidas de penumbra -y de ocaso y aquellas más afuera ajenas de árboles piadosos donde austeras casitas apenas se aventuran, abrumadas por inmortales distancias, a perderse en la honda visión de cielo y de llanura. Son para el solitario una promesa porque millares de almas singulares las pueblan, únicas ante Dios y en el tiempo y sin duda preciosas. Hacia el Oeste, el Norte y el Sur se han desplegado —y son también la patria— las calles; ojalá en los versos que trazo estén esas banderas. 18 JORGE LUIS BORGES—OBRAS COMPLETAS LA RECOLETA Convencidos de caducidad por tantas nobles certidumbres del polvo, nos demoramos y bajamos la voz entre las lentas filas de panteones, cuya retórica de sombra y de mármol promete o prefigura la deseable dignidad de haber muerto. Bellos son los sepulcros, el desnudo latín y las trabadas fechas fatales, la conjunción del mármol y de la flor y las plazuelas con frescura de patio y los muchos ayeres de la historia hoy detenida y única. Equivocamos esa paz con la muerte y creemos anhelar nuestro fin y anhelamos el sueño y la indiferencia. Vibrante en las espadas y en la pasión y dormida en la hiedra, sólo la vida existe. El espacio y el tiempo son formas suyas, son instrumentos mágicos del alma, y cuando ésta se apague, se apagarán con ella el espacio, el tiempo y la muerte, como al cesar la luz caduca el simulacro de los espejos que ya la tarde fue apagando. Sombra benigna de los árboles, viento con pájaros que sobre las ramas ondea, alma que se dispersa en otras almas, fuera un milagro que alguna vez dejarían de ser, milagro incomprensible, aunque su imaginaria repetición infame con horror nuestros días. Estas cosas pensé en la Recoleta, en el lugar de mi ceniza. FERVOR DE BUENOS AIRES 19 EL SUR Desde uno de tus patios haber mirado las antiguas estrellas, desde el banco de la sombra haber mirado esas luces dispersas \\' que mi ignorancia no ha aprendido a nombrar ni a ordenar en constelaciones, haber sentido el círculo del agua en el secreto aljibe, el olor del jazmín y la madreselva, el silencio del pájaro dormido, el arco del zaguán, la humedad —esas cosas, acaso, son el poema. 20 JORGE LUIS BORGES—OBRAS COMPLETAS CALLE DESCONOCIDA Penumbra de la paloma llamaron los hebreos a la iniciación de la tarde cuando la sombra no entorpece los pasos y la venida de la noche se advierte como una música esperada y antigua, como un grato declive. En esa hora en que la luz tiene una finura de arena, di con una calle ignorada, abierta en noble anchura de terraza, cuyas cornisas y paredes mostraban colores blandos como el mismo cielo que conmovía el fondo. Todos —la medianía de las casas, las modestas balaustradas y llamadores, tal vez una esperanza de niña en los balcones entró en mi vano corazón con limpidez de lágrima. Quizá esa hora de la tarde de plata diera su ternura a la calle, haciéndola tan real como un verso olvidado y recuperado. Sólo después reflexioné que aquella calle de la tarde era ajena, que toda casa es un candelabro donde las vidas de los hombres arden como velas aisladas, que todo inmeditado paso nuestro camina sobre Gólgotas. FERVOR ÜK BUENOS AIRES LA PLAZA SAN MARTÍN A Macedonio Fernández lin busca de la larde íui apurando en vano las calles. Ya estaban los zaguanes entorpecidos de sombra. Con fino bruñimiento de caoba la tarde entera se había remansado en la plaza, serena y sazonada, bienhechora y sutil como una lámpara, clara como una trente, grave como ademán de hombre enlutado. Todo sentir se aquieta bajo la absolución de los árboles —Jacarandas, acaciascuyas piadosas curvas atenúan la. rigidez de la imposible estatua y en cuya red se exalta la gloria de las luces equidistantes del leve azul y de la tierra rojiza. ¡Oué bien se ve la tarde , desde el fácil sosiego de los bancos! Abajo el puerto anhela latitudes lejanas \\\\ la. honda plaza igualadora de almas se abre como la muerte, como el sueño. 22 JORGE LUIS fcORGES—OBRAS COMPLETAS EL TRUCO Cuarenta naipes han desplazado la vida. Pintados talismanes de cartón nos hacen olvidar nuestros destinos y una creación risueña va poblando el tiempo robado con las floridas travesuras de una mitología casera. En los lindes de la. mesa la vida de los otros se detiene. Adentro hay un extraño\\' país: las aventuras del envido\\' y del quiero, la autoridad del as de espadas, como don Juan Manuel, omnipotente, y el siete de oros tintineando esperanza. Una lentitud cimarrona va demorando las palabras y como las alternativas del juego se repiten y se repiten, los jugadores de esta noche copian antiguas bazas: hecho que resucita un poco, muy poco, a las generaciones de los mayores que legaron al tiempo de Buenos Aires los mismos versos\\'y las mismas diabluras. FERVOR DE BUENOS AIRES 23 UN PATIO Con la tarde se cansaron los dos o tres colores del patio. Esta noche* la luna, el claro círculo, no domina su espacio. Patio, cielo encauzado. El patio es el declive por el cual se derrama el cielo en la casa. Serena, la eternidad espera en la encrucijada de estrellas. Grato es vivir en la amistad oscura de un zaguán, de una parra y de un aljibe. 24 JORGK LUIS BORGES—OBRAS COMPLETAS INSCRIPCIÓN SEPULCRAL Para mi bisabuelo, el coronel Isidoro SIMIV Dilató su valor sobre los Ancles. Contrastó montañas y ejércitos. La audacia fue costumbre de su espada. Impuso en la llanura de Junín término venturoso a la batalla y a las lanzas del Perú dio sangre española. Escribió su censo de hazañas en prosa rígida como los clarines belísonos. Eligió el honroso destierro. Ahora es un poco de ceniza y de gloria. FERVOR DE BUENOS AIRES ZS LA ROSA La rosa, la inmarcesible rosa que no canto, la que es peso y fragancia, la del negro jardín en la alta noche, la de cualquier jardín y cualquier tarde, la rosa que resurge de la tenue ceniza por el arte de la alquimia, la rosa de los persas y de Ariosto, la que siempre está sola, la que siempre es la rosa de las rosas, la joven ñor platónica, la ardiente y ciega rosa que no canto, la rosa inalcanzable. 26 JORGE LUIS BORGES—OBRAS COMPLETAS BARRIO RECONQUISTADO Nadie vio la hermosura de las calles hasta que pavoroso en clamor se derrumbó el cielo verdoso en abatimiento de agua y de sombra. El temporal fue unánime y aborrecible a las miradas fue el mundo, pero cuando un arco bendijo con los colores del perdón la tarde, y un olor a tierra mojada alentó los jardines, nos echamos a caminar por las calles cómo por una recuperada heredad, y en los cristales hubo generosidades de sol y en las hojas lucientes dijo su trémula inmortalidad el estío. FERVOR DE BUENOS AIRES 27 SALA VACÍA Los muebles de caoba perpetúan entre la indecisión del brocado su tertulia de siempre. Los daguerrotipos mienten su falsa cercanía de tiempo detenido en un espejo y ante nuestro examen se pierden como fechas inútiles de borrosos aniversarios. Desde hace largo tiempo sus angustiadas voces nos buscan y ahora apenas están en las mañanas iniciales de nuestra infancia. La luz del día de hoy exalta los cristales de la ventana desde la calle de clamor y de vértigo y arrincona y apaga la voz lacia de los antepasados. 28 JORGE LUIS BORGES—OBRAS COMPLETAS ROSAS En la sala tranquila cuyo reloj austero derrama un tiempo ya sin aventuras ni asombro sobre la decente blancura que amortaja la pasión roja de la caoba, alguien, como reproche cariñoso, pronunció el nombre familiar y temido. La imagen del tirano abarrotó el instante, no clara como un mármol en la tarde, sino grande y umbría como la sombra de una montaña remota v conjeturas y memorias sucedieron a la mención eventual como un eco insondable. Famosamente infame su nombre fue desolación en las casas, idolátrico amor en el gauchaje y horror del tajo en la garganta. Hoy el olvido borra su censo de muertes, porque son venales las muertes si las pensamos como parte del Tiempo, esa inmortalidad infatigable que anonada con silenciosa culpa las razas y en cuya herida siempre abierta que el último, dios habrá de restañar el último día. cabe toda la sangre derramada. No sé si Rosas fue sólo un ávido puñal como los abuelos decían; creo que fue como tú y yo> un hecho entre los hechos que vivió en la zozobra cotidiana y dirigió para exaltaciones y penas la incertidumbre de otros. FERVOR DE BUENOS AIRES 29 Ahora el mar es una larga separación entre la ceniza y la patria. Ya tocia vida, por humilde que sea, puede pisar su nada y su noche. Ya Dios lo habrá olvid;vlo y es menos una injuria que una piedad demorar su infinita disolución con limosnas de odio. .80 JORGE LUIS BORGES—OBRAS COMPLETAS FINAL DE AÑO Ni el pormenor simbólico de reemplazar un tres por un dos ni esa metáfora baldía que convoca un lapso que muere y otro que surge ni el cumplimiento de un proceso astronómico aturden y socavan la altiplanicie de esta noche y nos obligan a esperar las doce irreparables campanadas. La causa verdadera es la sospecha general y borrosa del enigma del Tiempo; es el asombro ante el milagro de que a despecho de infinitos azares, de que a despecho de que somos las gotas del río de Heráclito, perdure algo en nosotros; inmóvil. FERVOR DE BUENOS AIRES 31 CARNICERÍA Más vil que un lupanar la carnicería rubrica como una afrenta la calle. Sobre el dintel una ciega cabeza de vaca preside el aquelarre de carne charra y mármoles finales con la remota majestad de un ídolo. .HU JORGE LUIS BORGES—OBRAS COMPLETAS ARRABAL A Guillermo de Tone El arrabal es el reflejo de nuestro tedio. Mis pasos claudicaron cuando iban a pisar el horizonte y quedé entre las casas, cuadriculadas en manzanas diferentes e iguales como si fueran todas ellas monótonos recuerdos repetidos de una sola manzana. El pastito precario, desesperadamente esperanzado, salpicaba las piedras de la calle y divisé en la hondura los naipes de colores del poniente y sentí Buenos Aires. Esta ciudad que yo creí mi pasado es mi porvenir, mi presente; los años que he vivido en Europa son ilusorios, yo estaba siempre (y estaré) en Buenos Aires. FERVOR DE BUENOS AIRES 33 REMORDIMIENTO POR CUALQUIER MUERTE Libre de la memoria y de la esperanza, ilimitado, abstracto, casi futuro, el muerto no es un muerto: es la muerte. Como el Dios de los místicos, de Quien deben negarse todos los predicados, el muerto ubicuamente ajeno no es sino la perdición y ausencia del mundo. Todo se lo robamos, no le dejamos ni un color ni una sílaba: aquí está el patio que ya no comparten sus ojos, allí la acera donde acechó su esperanza. Hasta lo que pensamos podría estárlo> pensando él también; nos hemos repartido como ladrones el caudal de las noches y de los días. JORGE LUIS BORGES—OBRAS COMPLETAS JARDÍN Zanjones, sierras ásperas, médanos, sitiados por jadeantes singladuras y por las leguas de temporal y de arena que desde el fondo del desierto se agolpan. En un declive está el jardín. (jada arbolito es una selva de hojas. Lo asedian vanamente los estériles cerros silenciosos tpie apresuran la noche con su sombra y el triste mar de inútiles verdores. Todo el jardín es una luz apacible que ilumina la tarde. El jardincitoes como un día de fiesta en la pobreza de la tierra. Yacimientos del Clmbul, ll)22 FERVOR DE BUENOS AJRES INSCRIPCIÓN EN CUALQUIER SEPULCRO No arriesgue el mármol temerario gárrulas transgresiones al todopoder del olvido, enumerando con prolijidad el nombre, la opinión, los acontecimientos, la patria. Tanto abalorio bien adjudicado está a la tiniebla y el mármol no hable lo que callan los hombres. Lo esencial de la vida fenecida —la trémula esperanza, el milagro implacable del dolor y el asombro del goce— siempre perdurará. Ciegamente reclama duración el alma arbitraria cuando la tiene asegurada en vidas ajenas, cuando tú «mismo eres el espejo y la réplica de quienes no alcanzaron tu tiempo y otros serán (y son) tu inmortalidad en la tierra. 36 JORGE LUIS BORGES—OBRAS COMPLETAS LA VUELTA Al cabo de los años del destierro volví a la casa de mi infancia y todavía me es ajeno su ámbito. Mis manos han tocado los árboles como quien acaricia a alguien que duerme y he repetido antiguos caminos como si recobrara un verso olvidado y vi al desparramarse la tarde la frágil luna nueva que se arrimó al amparo1 sombrío cíe la palmera de hojas altas, como a su nido el pájaro. ¡Oué caterva de cielos abarcará entre sus paredes el patio, cuánto heroico poniente militará en la hondura de la calle y cuánta quebradiza luna nueva infundirá al jardín su ternura, antes que vuelva a reconocerme la casa y de nuevo sea un hábito! FERVOR DE BUENOS AIRES 37 AFTERGLOW Siempre es conmovedor el ocaso por indigente o charro que sea, pero más conmovedor todavía es aquel brillo desesperado y final que herrumbra la llanura cuando el sol último se ha hundido. Nos duele sostener esa luz tirante y distinta, esa alucinación que impone al espacio el unánime miedo de la sombra y que cesa de golpe cuando notamos su falsía, como cesan los sueños cuando sabemos que soñamos. 38 JORGl- LUIS BORGES—OB.RAS COMPLETAS AMANECER En la honda noche universal que apenas contradicen los faroles una racha perdida ha ofendido las calles taciturnas como presentimiento tembloroso del amanecer horrible que ronda los arrabales desmantelados del mundo. Curioso de la sombra y acobardado por la amenaza del alba reviví la tremenda conjetura de Schopenhauer y de Berkeley que declara que el mundo es una actividad de la mente, un sueño de las almas, sin base ni propósito ni volumen. Y ya que las ideas no son eternas como el mármol sino inmortales como un bosque o un río. la doctrina anterior asumió otra forma en el alba y la superstición de esa hora cuando la luz. como una enredadera va a implicar las paredes de la sombra. doblegó mi razón v trazó el capri\\'cho siguiente: Si están ajenas de sustancia las cosas y si esta numerosa Buenos Aires no es más que un sueño que erigen en compartida magia las almas, hay un instante en que peligra desaforadamente su ser v es el instante estremecido del alba, cuando son pocos los que sueñan el mundo V sólo algunos trasnochadores conservan, cenicienta y apenas bosquejada. la imagen de las calles que definirán después con los otros. ¡Hora en (pie el sueño pertinaz de la vida FERVOR DK BUKNOS AIRES ;Í9 corre peligro de quebranto, hora en que le sería fácil a Dios matar del todo Su obra! Pero de nuevo el mundo se ha salvado, La luz discurre inventando sucios colores y con algún remordimiento de mi complicidad en el resurgimiento del día solicito mi casa, atónita y glacial en la luz blanca. mientras un pájaro detiene el silencio y. la noche gastada se ha quedado en los ojos de los ciegos. 40 JORGE LUIS BORGKS—OBRAS COMPLETAS BENARÉS Falsa y tupida como un jardín calcado en un espejo, la imaginada urbe que no han visto nunca mis ojos entreteje distancias y repite sus casas inalcanzables. El brusco sol,\\' desgarra la compleja oscuridad de templos, muladares, cárceles, patios y escalará los nfuros y resplandecerá en un río sagrado. Jadeante la ciudad que oprimió un follaje de estrellas desborda el horizonte y en la mañana llena de pasos y de sueño la luz va abriendo como ramas las calles. Juntamente amanece en todas las persianas que miran al oriente y la voz de un almuédano apesadumbra desde su alta torre el aire de este día y anuncia a la ciudad de los muchos dioses la soledad de Dios. (Y pensar que mientras juego con dudosas imágenes, la ciudad que canto, persiste en un lugar predestinado del mundo, con su topografía precisa, poblada como un sueño, con hospitales y cuarteles y lentas alamedas y hombres de labios podridos que sienten frío en los dientes.) FERVOR DE BUENOS AIRES 41 AUSENCIA Habré de levantar la vasta vida que aún ahora es tu espejo: cada ntañana habré de reconstruirla. Desde que te alejaste, cuántos lugares se han tornado vanos y sin sentido, iguales a luces en el día. Tardes que fueron nicho de tu imagen, músicas en que siempre me aguardabas, palabras de aquel tiempo, yo tendré que quebrarlas con mis manos. ¿En qué hondonada esconderé mi alma para que no vea tu ausencia que como un sol terrible, sin ocaso, brilla definitiva y despiadada? Tu ausencja me rodea como la cuerda a la garganta. el mar al que\\'se hunde. 42 JORGE LUIS BORGKS—OBRAS COMPLETAS LLANEZA .1 Haydéc Lange Se abre la verja del jardín con la docilidad de la página que una. [recuente devoción interroga y adentro las miradas no precisan fijarse en los objetos que ya están cabalmente en la memoria. Conozco las costumbres y las almas y ese dialecto de alusiones que toda agrupación humana va urdiendo. No necesito hablar ni mentir privilegios; bien me conocen quienes aquí me rodean, bien saben mis congojas y mi flaqueza. Eso es alcanzar lo más alto, lo que tal ve/ nos dará el Cielo: no admiraciones ni victorias • sino sencillamente ser admitidos como parte de una Realidad innegable, tomo las piedras v los árboles. FERVOR I)K JBL\\'KNOS A1RKS 13 CAMINATA Olorosa como un mate curado la noche acerca agrestes lejanías y despeja las calles que acompañan mi soledad. hechas de vago miedo y de largas líneas. La brisa trae corazonadas de campo, dulzura de las quintas, memorias de los álamos, que harán temblar bajo rigideces de asfalto la detenida tierra viva que oprime el peso de las casas. En vano la furtiva noche felina inquieta los balcones cerrados que en la tarde mostraron la notoria esperanza de las niñas. También .está el silencio en los zaguanes. En la cóncava sombra vierten un tiempo vasto y generoso los relojes de la medianoche magnífica, un tiempo caudaloso donde todo soñar halla cabida, tiempo de anchura de alma, distinto de los avaros términos que miden las tareas del día. Yo soy el único espectador ele esta calle; si dejara de verla se. moriría. (Advierto un largo paredón erizado de una agresión de aristas y un farol amarillo que aventura su indecisión de luz. También advierto estiellas vacilantes.) Grandiosa y viva como el plumaje oscuro de un Ángel cuyas alas tapan el día, la noche pierde las mediocres calles. 4 4 JORGE LUIS BORGES—OBRAS COMPLETAS LA NOCHE DE SAN JUAN El poniente implacable en esplendores quebró a filo de espada las distancias. Suave como un sauzal está la noche. Rojos chisporrotean los remolinos de las bruscas hogueras; leña sacrificada que se desangra en altas llamaradas, bandera viva y ciega travesura. La sombra es apacible como una lejanía; hoy las calles recuerdan que fueron campo un día. Toda la santa noche la soledad rezando su rosario de estrellas desparramadas. FERVOR DE BUENOS AIRES 45 CERCANÍAS Los patios y su antigua certidumbre, los patios cimentados en la tierra y el cielo. Las ventanas con reja desde la cual la calle se vuelve familiar como una lámpara. Las alcobas profundas donde arde en quieta llama la caoba y el espejo de tenues^ resplandores es corno un remanso en Ja sombra. Las encrucijadas oscuras que lancean cuatro infinitas distancias en arrabales de silencio. He nombrado los sitios donde se desparrama la ternura y estoy solo y conmigo. JORGE LUIS BORGES—OBRAS COMPLETAS SÁBADOS A Ai\\'uera hay un ocaso, alhaja oscura engastada en el tiempo, y una honda ciudad ciega de hombres que no\\' te vieron. La\\' tarde calla o canta. Alguien descrütiíica los anhelos clavados en el piano. Siempre, la multitud de tu hermosura. # # * A despecho de tu desamor tu hermosura prodiga su milagro por el tiempo. Está en ti la ventura. como la primavera en la hoja nueva. Va casi no soy nadie, soy tan sólo ese anhelo que se pierde en la tarde. En ti está la delicia como está -la crueldad en las espadas. # * * Agravando la reja está la noche. En la sala severa se buscan como ciegos nuestras dos soledades. Sobrevive a la tardela blancura gloriosa de tu carne. En nuestro amor hay una pena . que se parece al alma. # # * \\' Iú que ayer sólo eras loda la hermosura eres también todo eí amor, ahora. FERVOR DE BUENOS AIRES TROFEO Como quien recorre una costa maravillado\\' de la muchedumbre del mar, albriciado de luz y pródigo espacio, yo fui el espectador de tu hermosura durante un largo día. Nos despedimos al anochecer y en gradua\\\\ soledad al volver por la calle cuyos rostros aún te conocen. se oscureció mi dicha, pensando que de tan noble acopio de memorias perdurarían escasamente una o dos para ser decoro del alma en la inmortalidad de su andanza. 48 JORGE LUIS BORGES—OBRAS COMPLETAS ATARDECERES La clara muchedumbre de un poniente ha exaltado la calle, la calle abierta como un ancho sueño hacia cualquier azar. L,a límpida arboleda pierde el último\\' pájaro, el oro último. La mano jironada de un mendigo agrava la tristeza de la tarde. El silencio que habita los espejos ha forzado su cárcel. La oscuridá es la sangre de las cosas heridas. En el incierto ocaso la tarde mutilada fue unos pobres colores. FERVOR M BUKNOS AtRJCS 49 CAMPOS ATARÜF.CIDOS El poniente de pie como un Arcángel tiranizó el camino. La soledad poblada como un sueño se ha remansado alrededor del pueblo. Los cencerros recogen la tristeza dispersa de la tarde. La luna nueva es una vocecita desde el cielo. Según va anocheciendo vuelve a ser campo el pueblo. El poniente que no .se cicatriza aún le duele a la tarde. Los trémulos colores se guarecen en las entrañas de las cosas. En el. dormitorio vacío la noche cerrará los espejos. 50 JORGE LUIS BORGES—OBRAS COMPLETAS DESPEDIDA Entre mi amor y yo han de levantarse trescientas noches como trescientas paredes \\\\ el mar será una magia entre nosotros. No habrá sino recuerdos. Oh tardes merecidas por la pena, noches esperanzadas de mirarte, campos de mi camino, firmamento que estoy viendo y perdiendo. . . Definitiva como un mármol entristecerá tu ausencia otras tardes. FERVOR DK BUENOS AIRES LÍNEAS OUE PUDE HABER ESCRITO Y PERDIDO HACIA 1922 Silenciosas batallas del ocaso en arrabales últimos, siempre antiguas derrotas de una guerra en el cielo albas ruinosas que nos llegan desde el fondo desierto del espacio como desde el fondo del tiempo, negros jardines de la lluvia, una esfinge de un libro que yo tenía miedo de abrir y cuya imagen vuelve en los sueños, la corrupción y el eco que seremos. la hura sobre el mármol, árboles que se elevan y perduran corno divinidades tranquilas, la mutua noche y la esperada tarde, Walt Whitman, cuyo nombre es el universo. la espada valerosa de un rey en el silencioso lecho de un río, los sajones, los árabes y los godos que, sin saberlo, me engendraron, ;soy yo esas cosas y las, otras (i son llaves secretas y arduas álgebras de lo que no sabremos nunca? 52 JORGE LUIS BORGES—OBRAS COMPLETAS N O T A S CALLE DESCONOCIDA. ES inexacta la noticia de los primeros versos. De Quincey (Writings, tercer volumen, página 293) anota que, según la nomenclatura judía, la penumbra del alba tiene el nombre de penumbra de la paloma; la del atardecer, del cuervo. EL TRUCO. En esta página de dudoso valor asoma por primera vez una idea que me ha inquietado siempre. Su declaración más cabal está en \"Sentirse en muerte\" (El idioma de los argentinos, 1928) y en la \"Nueva refutación del tiempo\" (Otras inquisiciones, 1952). Su error, ya denunciado por Parménides y Zenón de, Elea, es. postular.que el tiempo está hecho de instantes individuales, que es dable separar unos de otros, así como el espacio de puntos. ROSAS. Al escribir este poema, yo no ignoraba que un abuelo de mis abuelos era antepasado de Rosas. El hecho nada tiene de singular, si consideramos la escasez de la población, y el carácter casi incestuoso de nuestra historia. Hacia 1922 nadie presentía el revisionismo. Este pasatiempo consiste en \"revisar\" la historia argentina, no para indagar la verdad sino para arribar a una conclusión de antemano resuelta: la justificación de Rosas o de cualquier otro déspota disponible. Sigo siendo, como se ve, un salvaje unitario. Luna de enfrente (1925) ) 55 ( P R O L O G O Hacia 1905, Hermann Bahr decidió: El único deber, ser moderno. Veintitantos años después, yo me impuse también esa obligación del todo superflua. Ser moderno es ser contemporáneo, ser actual; todos fatalmente lo somos. Nadie —-fuera de cierto aventurero que soñó Wells— ha descubierto el arte de vivir en el futuro o en el pasado. No hay obra que no sea de su tiempo; la escrupulosa novela histórica Salam\\'mbó, cuyos protagonistas son los mercenarios de las guerras púnicas, es una típica novela francesa del siglo diecinueve. Nada sabemos de la literatura de Cartago, que verosímilmente fue rica, salvo que no podía incluir un libro como el de Flaubert. , Olvidadizo de que ya lo era, quise también ser argentino. Incurrí en la arriesgada adquisición de uno o dos diccionarios de argentinismos, que me suministraron palabras que hoy puedo apenas- descifrar: madre]ón, espadaña, estaca pampa... La ciudad de Fervor de Buenos Aires no deja nunca de ser intima; la de este volumen tiene algo de •ostentoso y de público. Na quiero ser injusto con él. Una qua otra composición —El ge_- neral Quiroga va en coche al muere— posee acaso toda la vistosa belleza de una calcomanía; otras —Manuscrito hallado en un libro de foseph Conrad— no deshonran, me permito afirmar, a quien las compuso. El hecho es que las siento ajenas; no me conciernen sus errpres ni sus eventuales virtudes. Poco he modificado este libro. Ahora, ya no es mío. I.J.Ji. Buenos Aires, 2í de agosto de iy>f>\\'/. LUNA DE ENFRENTE 57 CALLE CON ALMACÉN ROSADO Ya se le van los ojos a la noche en cada bocacalle y es como una sequía husmeando lluvia. Ya todos los caminos están cerca, y hasta el camino del milagro. El viento trae el alba entorpecida. El alba es nuestro miedo de hacer cosas distintas y se nos viene encima. Toda la santa noche he caminado y su inquietud me deja en esta calle que es cualquiera. Aquí otra vez la seguridad de la llanura en el horizonte y el terreno baldío que se deshace en yuyos y alambres y el almacén tan claro como la luna nueva de ayer tarde. Es familiar como un recuerdo la esquina con esos largos zócalos y la promesa de un patio. ¡Qué lindo atestiguarte, calle de siempre, ya que miraron tan pocas cosas mis días! Ya la luz raya el aire. Mis años recorrieron los caminos de la tierra y del agua y sólo a; vos te siento, calle dura y rosada. Pienso si tus paredes concibieron la aurora, almacén que en la punta de la noche eres claro. Pienso y se me hace voz ante las casas la confesión de mi pobreza: no he mirado los ríos ni la mar ni la sierra, pero intimó conmigo la luz de Buenos Aires y yo forjo los versos de mi vida y mi muerte con esa luz de calle. Calle grande y sufrida, eres la única música de que sabe mi vida. 58 JORGE LUIS BORO IOS—OBRAS COMPLETAS AL HORIZONTE DE UN SUBURBIO Pampa: Yo diviso tu anchura que ahonda las afueras, yo me estoy desangrando en tus ponientes. Pampa: Yo te oigo en las tenaces guitan as sentenciosas y en altos benteveos y en el ruido cansado de los carros de pasto que vienen del verano. Pampa: El ámbito de un patio colorado me basta para sentirte mía. Pampa: Yo sé que te desgarran surco y callejones y el viento que te cambia. Pampa sufrida y macha que ya estás en los cielos, no sé si eres la muerte. Sé que estás en mi pecho. LUNA DK KNFRKNTK 59 AMOROSA ANTICIPACIÓN Ni la intimidad de tu frente clara como una fiesta ni la costumbre de tu cuerpo, aún misterioso y tácito y de niña. ni la sucesión de tu vida asumiendo palabras o silencios serán favor tan misterioso como mirar tu sueño implicado en la vigilia, de mis brazo-. .Virgen milagrosamente o:ru ve/ por la virtud absolutoria del sueño, quieta y resplandeciente como una dicha que la memoria elige, me darás esa orilla de tu vida que tú misma no tienes. Arrojado a quietud, divisaré esa playa última de tu ser y te veré por vez primera, quizá, como Dios ha de verte, desbaratada la ficción del Tiempo, sin el amor, sin mí. 60 JORGE LUIS BORGES—OBRAS COMPLETAS UNA DESPEDIDA Tarde que socavó nuestro adiós. Tarde acerada y deleitosa y monstruosa como un ángel oscuro. Tarde cuando vivieron nuestros labios en la desnuda intimidad de los besos. El tiempo inevitable se desbordaba sobre el abrazo inútil. Prodigábamos pasión juntamente, no para nosotros sino para la soledad ya cercana. Nos rechazó la luz; la noche había llegado con urgencia. Fuimos hasta la verja en esa-gravedad de la sombra que ya el lucero alivia. Como quien vuelve de un perdido prado yo volví de tu abrazo. Como quien vuelve de un país de espadas yo volví de tus lágrimas. Tarde que dura vivida como un sueño entre las otras tardes. Después yo fui alcanzando y rebasando noches y singladuras. LUNA DE ENFRENTE 61 EL GENERAL OUIROGA VA EN COCHE AL MUERE El madrejórí desnudo\\' ya sin una sed de agua y una luna perdida en el frío del alba y el campo muerto de hambre, pobre como una araña. El coche se hamacaba rezongando la altura; un.galerón enfático, enorme, funerario. Cuatro tapaos con pinta de muerte en la negrura tironeaban seis miedos y un valor desvelado. Junto a los postillones jineteaba un moreno. Ir en coche a la muerte ¡qué cosa más oronda! El general Quiroga quiso entrar en la sonlbra llevando seis o siete degollados de escolta. Esa cordobesada bochinchera y ladina (meditaba Ouiroga) ¿qué ha de poder con mi alma? Aquí estoy afianzado y metido en la vida como la estaca pampa bien metida en la pampa. Yo, que he sobrevivido a millares de tardes y cuyo nombre pone retemblor en las lanzas, no he de soltar la vida por estos pedregales. ¿Muere acaso el pampero, se mueren las espadas? Pero al brillar el día sobre Barranca Yaco hierros que no perdonan arreciaron sobre él; la muerte, que es de todos, arreó con el riojano y una de puñaladas lo mentó a Juan Manuel. Ya muerto, ya de pie, ya inmortal, ya fantasma, se presentó al infierno que Dios le había marcado, y a sus órdenes iban, rotas y desangradas, las ánimas en pena ele hombres y de caballos. 62 JORGE LUIS BORGES—OBRAS COMPLETAS JACTANCIA DE QUIETUD Escrituras de luz embisten la sombra, más prodigiosas qué meteoros. La alta ciudad inconocible arrecia sobre el campo. Seguro de mi vida y de mi muerte, miro los ambiciosos y quisiera entenderlos. Su día es ávido como el lazo\\' en el aire. Su noche es tregua de la ira en el hierro, pronto en acometer. Hablan de humanidad. Mi humanidad está en sentir que somos voces de una misma penuria. Hablan de patria. Mi patria es un latido de guitarra, unos retratos y una vieja espada, •la oración evidente del sauzal en los atardeceres. El tiempo está viviéndome. Más silencioso que mi sombra, cruzo el tropel de su levantada codicia. Ellos son imprescindibles, únicos, merecedores del mañana. Mi nombre es alguien y cualquiera. Paso con lentitud, como quien viene de tan lejos que no espera llegar. LUNA DE ENFRENTE (¡,H MONTEVIDEO Resbalo por tu tarde como el cansancio por la piedad de un declive. La noche nueva es como un ala sobre tus azoteas. Eres el Buenos Aires que tuvimos, el que en los años se alejó quietamente. Eres nuestra y fiestera, como la estrella que duplican las aguas. Puerta falsa en el tiempo, tus calles miran al pasado más leve. Claror de donde la mañana nos llega, sobre las dulces aguas turbias. Antes de iluminar mi celosía tu bajo sol bieneventura tus quintas. Ciudad que se oye como un verso. Calles con luz de patio. 64 JORGE LUIS BORGES—OBRAS COMPLETAS MANUSCRITO HALLADO EN UN LIBRO DE JOSEPH CONRAD En las trémulas tierras que exhalan el verano, E¡ día .es invisible de puro blanco. El día Es una estría cruel en una celosía, Un fulgor en las costas y una fiebre en el llano. Pero la antigua noche es honda como un jarro De agua cóncava. El agua se abre a infinitas huellas, Y en ociosas canoas, de cara a las estrellas, El hombre mide el vago tiempo con el cigarro. El humo desdibuja gris las constelaciones Remotas. Lo inmediato pierde prehistoria y nombre. El mundo es unas cuantas tiernas imprecisiones. El río, el primer río. El hombre, el primer hombre. LUNA DE ENFRENTE Íi5 SINGLADURA El mar es una espada innumerable y una plenitud de pobreza. La llamarada es traducible en ira. el manantial en tiempo, y la cisterna en clara aceptación. El mar-es solitario como un ciego. El mar es un antiguo lenguaje que ya no alcanzo a descifrar. En su hondura, el alba es una humilde tapia encalada. De su confín surge el claror, igual que una humareda. Impenetrable como de piedra labrada persiste el mar ante los muchos días. Cada tarde es un puerto. Nuestra mirada flagelada de mar camina por su cielo: Última playa blanda, celeste arcilla de las tardes. ¡Qué dulce intimidad la del ocaso en el huraño mar! Claras como una feria brillan las nubes. La luna nueva se ha enredado a un mástil. La misma luna que dejamos bajo un arco de piedra y cuya luz agraciará los sauzales. En la cubierta, quietamente, yo comparto la tarde con mi hermana, como un trozo de pan. 6 6 JORGE LUIS BORGES—OBRAS COMPLETAS DAKAR Dakar está en la encrucijada del sol, del desierto y del mar. El sol nos tapa el firmamento, el arenal acecha en los caminos, el mar es un encono. He visto un jefe en cuya manta era más ardiente lo azul que en el cielo incendiado. La mezquita cerca del biógrafo luce una claridad de plegaria. La resolana aleja las chozas, el sol como un ladrón escala los muros. África tiene en la eternidad su destino, donde hay hazañas, ídolos, reinos, arduos bosques y espadas. Yo he logrado un atardecer y una aldea. LUNA DE ENFRENTE 07 LA PROMISIÓN EN ALTA MAR No he recobrado tu cercanía, mi patria, pero ya tengo tus estrellas. Lo más lejano del firmamento las dijo y ahora se pierden en su gracia los mástiles. Se han desprendido de las altas cornisas como un asombro de palomas. Vienen del patio donde el aljibe es una torre inversa entre dos cielos. Vienen del creciente jardín cuya inquietud arriba al pie del muro como un agua sombría. Vienen de un lacio atardecer de provincia, manso como un yuyal. Son inmortales y vehementes; no ha de medir su eternidad ningún pueblo. Ante su firmeza de luz todas las noches de los hombres se curvarán como hojas secas. Son un claro país y de algún modo está mi tierra en su ámbito. ()8 JORGE LUIS BORGES—OBRAS COMPLETAS DULCÍA LINQUIMUS ARVA Una amistad hicieron mis abuelos con esta lejanía y conquistaron la intimidad de los campos y ligaron 3, su baquía la tierra, el fuego, el aire, el agua. Fueron soldados y estancieros y apacentaron el corazón con mañanas y el horizonte igual que una bordona sonó en la hondura de su austera jornada. Su jornada fue clara como un río y era fresca su tarde como el agua oculta del aljibe y las cuatro estaciones fueron para ellos como los cuatro versos de la copla esperada. Descifraron lejanas polvaredas en carretas o en caballadas y los alegró el resplandor con que aviva el sereno la espadaña. Uno peleó contra los godos, otro en el Paraguay cansó su espada; todos supieron del abrazo del mundo y fue mujer sumisa a su querer la campaña. Altos eran sus días . hechos de cielo y llano. Sabiduría de campo afuera la suya, la de aquél que está firme en el caballo y que rige a los hombres de la llanura y los trabajos y los días y las generaciones de los toros. Soy un pueblero y ya no sé de esas cosas, soy hombre de ciudad, de barrio, de calle: los tranvías lejanos me ayudan la tristeza con esa queja larga qué sueltan en las tardes. LUNA. DE ENFRENTE 69 CASI JUICIO FINAL Mi callejero no hacer nada vive y se suelta por la variedad de la noche. La noche es una fiesta larga y sola. En mi secreto corazón yo me justifico y ensalzo: He atestiguado el mundo; he confesado la rareza del mundo. He cantado lo eterno: la clara luna volvedora y las mejillas que apetece el amor. He conmemorado con versos la ciudad que me ciñe y los arrabales que se desgarran. He dicho asombro donde otros dicen solamente costumbre. Frente a la canción de los tibios, encendí mi voz en ponientes. . A los antepasados de mi sangre y a los antepasados de mis sueños he exaltado y cantado. He sido y soy. He trabado en firmes palabras mi sentimiento que pudo haberse disipado en ternura. El. recuerdo de una antigua vileza vuelve a mi corazón. Como el caballo muerto que la marea inflige a la playa, vuelve a mi corazón. Aún están a mi lado, sin embargo, las calles y la luna. El agua sigue siendo dulce en rrii boca y las estrofas no me niegan su gracia. Siento el pavor de la belleza; ¿quién se atreverá a condenarme si esta gran luna de mi soledad me perdona? 70 JORGE LUIS BORGES—OBRAS COMPLETAS MI VIDA ENTERA Aquí otra vez, los labios memorables, único y semejante a vosotros. He persistido en la aproximación de la dicha y en la intimidad de la pena. He atravesado el mar. He conocido muchas tierras; he visto una mujer y dos o tres hombres. He querido a una niña altiva y blanca y de una hispánica quietud. He visto un arrabal infinito donde se cumple una insaciada inmortalidad de ponientes. He paladeado numerosas palabras. Creo profundamente que eso es todo y que ni veré ni ejecutaré cosas nuevas. Creo que mis jornadas y mis noches se igualan en pobreza y en riqueza a las de Dios y a las de todos los hombres. LUNA DE ENFRENTE ÚLTIMO SOL EN VILLA ORTÜZAR Tarde como de Juicio Final. La calle es una herida abierta en el cielo. Ya no sé si fue Ángel o un ocaso la claridad que ardió en la hondura. Insistente, como una pesadilla, carga sobre mí la distancia. Al horizonte un alambrado le duele. El mundo está como inservible y tirado. En el cielo es de día, pero la noche es traicionera en las zanjas. Toda la luz está en las tapias azules y en ese alboroto de chicas. Ya no sé si es un árbol o es un dios, ése que asoma por la verja herrumbrada. Cuántos países a la vez: el campo, el cielo, las afueras. Hoy he sido rico de calles y de ocaso filoso y de la tarde hecha estupor. Lejos, me devolveré a mi pobreza. 72 JORGE LUIS BORGES—OBRAS COMPLETAS PARA UNA CALLE DEL OESTE Me darás una ajena inmortalidad, calle sola. Eres ya sombra de mi vida. Atraviesas mis noches con tu segura rectitud de estocada. La muerte —tempestad oscura e inmóvil— desbandará mis horas. Alguien recogerá mis pasos y usurpará mi devoción y esa estrella. (La lejanía como un largo viento ha de flagelar su camino.) Aclarado de noble soledad, pondrá una misma anhelación en tu cielo. Pondrá esa misma anhelación que yo soy. Yo resurgiré en su venidero asombro de ser. En ti otra vez: Calle que dolorosamente como una herida te abres. LUNA DE ENFRENTE 73 VERSOS DE CATORCE A mi ciudad de patios cóncavos como cántaros y de calles que surcan las leguas como un vuelo, a mi ciudad de esquinas con aureola de ocaso y arrabales azules, hechos de firmamento, a mi ciudad que se abre clara como una pampa, yo volví de las tierras antiguas del naciente\" y recobré sus casas y la luz de sus casas y esa modesta luz que urgen los almacenes y supe en las orillas, del querer, que es de todos y a punta de poniente desangré el pecho en salmos y\" canté la aceptada costumbre de estar solo y el retazo de pampa colorada de un patio. Dije las calesitas, noria de los domingos, y el paredón que agrieta la sombra de un paraíso, y el destino que acecha tácito, en el cuchillo, y la noche olorosa como un mate curado. Yo presentí la entraña de la voz las orillas, palabra que én la tierra pone el azar del agua y que da a las afueras su aventura infinita y a los vagos campitos un sentido de playa. Así voy devolviéndole a Dios unos centavos del caudal infinito que me pone en las manos. Cuaderno San Martín (1929) As to an occasional copy of verses, there are few inen who have leisure to read, and are possessed of any music in their souls, who are not capable of versifying on some ten or twelve occasions during their natural Uves: at a proper conjunction of the stars\\'. There is no harm in taking advantage of such occasions. FitzGerald. En una carta a Bernard Barton (1842) , ) 7 9 ( P R Ó L O G O He hablado mucho, he hablado demasiado, sobre la poesía como brusco don del Espíritu, sobre el pensamiento como una actividad de la mente; he visto en Verlaine el ejemplo de puro poeta lírico; en Emerson, de poeta intelectual. Creo ahora que en todos los poetas que merecen ser releídos ambos elementos coexisten. ¿Cómo clasificar a Shakespeare o a Dante? En lo que se refiere a los ejercicios de este volumen, es notorio que aspiran a la segunda categoría. Debo al lector algunas observaciones. Ante la indignación de la crítica, que no perdona que un autor se arrepienta, escribo ahora Fundación mítica de Buenos Aires y no Fundación mitológica, ya que la última palabra sugiere macizas divinidades de mármol. Las dos piezas de Muertes de Buenos Aires —título que debo a Eduardo Gutiérrez— imperdonablemente exageran la connotación plebeya de la Chacarita y la connotación patricia de la Recoleta. Pienso que el énfasis de Isidoro Acevedo hubiera hecho sonreír a mi abuelo. Fuera de Llaneza, La noche que en el sur lo velaron, es acaso el primer poema auténtico que escribí. J.L.B. Buenos Aires, 1969. CUADERNO SAN MARTÍN 81 FUNDACIÓN MÍTICA DE BUENOS AIRES ¿Y fue por este río de sueñera y de barro que las proas vinieron a fundarme la patria? Irían a los tumbos los barquitos pintados entre los camalotes de la corriente zaina. Pensando bien la cosa, supondremos que él río era azulejo entonces como oriundo del cielo con su estrellita roja para marcar el sitio en que ayunó Juan Díaz y los indios comieron. Lo cierto es que mil hombres y otros mil arribaron por un mar que tenía cinco lunas de anchura y aun estaba poblado de sirenas y endriagos y de piedras imanes que enloquecen la brújula. Prendieron unos ranchos trémulos en la costa, durmieron extrañados. Dicen que en el Riachuelo, pero son embelecos fraguados en la Boca. Fue una manzana entera y en mi barrio: en Palermo. Una manzana entera pero en mita del campo expuesta a las auroras y lluvias y suestadas. La manzana pareja que persiste en mi barrio: Guatemala, Serrano, Paraguay, Gurruchaga. Un almacén rosado como revés de naipe brilló y en la trastienda conversaron un truco; el almacén rosado floreció en un compadre, ya patrón de la esquina, ya resentido y duro. El primer organito salvaba el horizonte con su achacoso porte, su habanera y su gringo. El corralón seguro ya opinaba YRIGOYEN, algún piano mandaba tangos de Saborido. Una cigarrería sahumó como una rosa el desierto. La tarde se había ahondado en ayeres, los hombres compartieron un pasado ilusorio. Sólo faltó una cosa: la vereda de enfrente. A mí se me hace cuento que •empezó Buenos Aires: La juzgo tan eterna como el agua y el aire. 82 JORGE LUIS BORGES—OBRAS COMPLETAS ELEGÍA DE LOS PORTONES A Francisco Luis Bernárdez Barrio Villa Alvear: entre las calles Nicaragua, Arroyo Maldonado, Canning y Rivera. Muchos terrenos baldíos existen aún y su importancia es reducida. MANUEL BILBAO: Buenos Aires, 1902. Esta es una elegía de los rectos portones que alargaban su sombra en la plaza de tierra. Ésta es una elegía que se acuerda de un largo resplandor agachado que los atardeceres daban a los baldíos. (En los pasajes mismos había cielo bastante para toda una dicha y las tapias tenían el color de las tardes.) Ésta es una elegía de un Palermo trazado con vaivén de recuerdo y que se va en la muerte chica de los olvidos. Muchachas comentadas por un vals de organito o por los-mayorales de corneta insolente de los 64, sabían en las puertas la gracia de su espera. Había huecos de tunas y la ribera hostil del Maldonado —menos agua que barro en la sequía— y zafadas veredas en que flameaba el corte y una frontera de silbatos de hierro. Hubo cosas felices, cosas que sólo fueron para alegrar las almas: el arriate del patio y el andar hamacado del compadre. CUADERNO SAN MARTÍN 83 Palermo del principio, vos tenías unas cuantas milongas para hacerte valiente y una baraja criolla para tapar la vida y unas albas eternas para saber la muerte. El día era más largo en tus veredas que en las calles del centro, porque en IQS huecos hondos se aquerenciaba el cielo. Los carros de costado sentencioso cruzaban tu mañana y eran en las esquinas tiernos los almacenes como esperando un ángel. Desde mi calle de altos (es cosa de una legua) voy a buscar recuerdos a tus calles nocheras. Mi silbido de pobre penetrará en los sueños de los hombres que duermen. Esa higuera que asoma sobre una parecita se lleva bien con mi alma y es más grato el rosado firme de tus esquinas que el de las nubes blandas. 8 4 JORGE LUIS BORGES—OBRAS COMPLETAS CURSO DE LOS RECUERDOS Recuerdo mío del jardín de casa: vida benigna de las plantas, vida cortés de misteriosa y lisonjeada por los hombres. Palmera la más alta de aquel cielo y conventillo de gorriones; parra firmamental de uva negra, los días del verano dormían a tu sombra. Molino colorado: remota rueda laboriosa en el viento, honor de nuestra casa, porque a las otras iba el río bajo la campanita del aguatero. Sótano circular de la base que hacías vertiginoso el jardín, daba miedo entrever por una hendija tu calabozo de agua sutil. Jardín, frente a la verja cumplieron sus caminos los sufridos carreros y el charro carnaval aturdió con insolentes murgas. El almacén, padrino del malevo, dominaba la esquina; pero tenías cañaverales para hacer lanzas y gorriones para la oración. El sueño de tus árboles y el mío todavía en la noche se confunden y la devastación de la urraca dejó un antiguo miedo en mi sangre. CUADERNO SAN MARTÍN 85 Tus contadas varas de fondo se nos volvieron geografía; un alto era \"la montaña de tierra\" y una temeridad su declive. Jardín, yo cortaré mi oración para seguir siempre acordándome: voluntad o azar de dar sombra fueron tus árboles. 86 JORGE LUIS BORGES—OBRAS\\' COMPLETAS ISIDORO ACEVEDO Es verdad que lo ignoro todo sobre él —salvo los nombres de lugar y las fechas: fraudes de la palabrapero con temerosa piedad he rescatado su último día. no el que los otros vieron, el suyo, y quiero distraerme de mi destino para escribirlo. Adicto a la conversación porteña del truco, alsinista y nacido del buen lado del Arroyo del Medio, comisario de frutos del país en el mercado antiguo del Once, comisario de la tercera, se batió cuando Buenos Aires lo quiso en Cepeda, en Pavón y en la playa de los Corrales, Pero mi voz no debe asumir sus batallas, porque él se las llevó en un sueño esencial. Porque lo mismo que otros hombres escriben versos, hizo mi abuelo un sueño. Cuando una congestión pulmonar lo estaba arrasando y la inventiva fiebre le falseó la cara del día, congregó los ardientes documentos de su memoria para fraguar su sueño. Esto aconteció en una casa de la calle Serrano, en el verano ardido del novecientos cinco. Soñó con dos ejércitos que entraban en la sombra de una batalla; enumeró los comandos, las banderas, las unidades. \"Ahora están parlamentando los jefes\", dijo en voz que le oyeron y quiso incorporarse para verlos. Hizo leva de pampa: vio terreno quebrado para que pudiera aferrarse la infantería y llanura resuelta para que el tirón de la caballería fuera invencible. Hizo una leva última, congregó los miles de rostros que el hombre sabe, sin saber, después de los años: caras de barba que se estarán desvaneciendo en daguerrotipos, caras que vivieron junto a la suya en el Puente Alsina y Cepeda. CUADERNO SAN MARTIN 87 Entró a saco en sus días para esa visionaria patriada que necesitaba su fe, no que una flaqueza le impuso; juntó un ejército de sombras porteñas para que lo mataran. Así, en el dormitorio que miraba al jardín, murió en un sueño por la patria. En metáfora de viaje me dijeron su muerte; no la creí. Yo era chicó, yo no sabía entonces de muerte, yo era inmortal; yo lo busqué por muchos días por los cuartos sin luz. 88 JORGE LUIS BORGES—OBRAS COMPLETAS LA NOCHE QUE EN EL SUR LO VELARON A Letizia Álvarez de Toledo Por el deceso de alguien —misterio cuyo vacante nombre poseo y cuya realidad no abarcamos— hay hasta el alba una casa abierta en el Sur, una ignorada casa que no estoy destinado a rever, pero que me espera esta noche con desvelada luz en las altas horas del sueño, demacrada de malas noches, distinta, ^minuciosa de realidad. A su vigilia gravitada en muerte camino por las calles elementales como recuerdos, por el tiempo abundante de la noche, sin más oíble vida que los vagos hombres de barrio junto al apagado almacén y algún silbido solo en el mundo. Lento el andar, en la posesión de la espera, llego a la cuadra y a la casa y a la sincera puerta que busco y me reciben hombres obligados a gravedad que participaron dé los años de mis mayores, y nivelamos destinos en una pieza habilitada que mira al patio —patio que está bajo el poder y en la integridad de la noche— y decimos, porque la realidad es mayor, cosas indiferentes y sordos desganados y argentinos en el espejo y el mate compartido mide horas vanas. Me conmueven las menudas sabidurías que en todo fallecimiento se pierden —hábito de unos libros, de una llave, de un cuerpo entre los \\' otros—. Yo sé que todo privilegio, aunque oscuro, es de linaje de milagro y mucho lo -es el de participar en esta vigilia, reunida alrededor de lo que no se sabe: del Muerto, reunida para acompañar y guardar su primera noche en la muerte. (El velorio gasta las caras; lo* o jas se nos están muriendo en lo alto como jesús,) CUADERNO SAN MARTIN 89 ¿Y el muerto, el increíble? Su realidad está bajo las flores diferentes de él y su mortal hospitalidad nos dará un recuerdo más para el tiempo y sentenciosas calles del Sur para merecerlas despacio y brisa oscura sobre la frente que vuelve y la noche que de la mayor congoja nos libra: la prolijidad de lo real. 90 JORGE LUIS BORGES—OBRAS COMPLETAS MUERTES DE BUENOS AIRES i LA CHACARITA Porque la entraña del cementerio del sur fue saciada por la fiebre amarilla hasta decir basta; porque los conventillos hondos del sur mandaron muerte sobre la cara de Buenos Aires y porque Buenos Aires no> pudo mirar esa muerte, a paladas te abrieron en la punta perdida del oeste, detrás de las tormentas de tierra y del barrial pesado y primitivo que hizo a los cuarteadores. Allí no había más que el mundo y las costumbres de las estrellas sobre unas chacras, y el tren salía de un galpón en Bermejo con los olvidos de la nruerte: muertos de barba derrumbada y ojos en vela, muertas de carne desalmada y sin magia. Trapacerías de la muerte —sucia como el nacimiento del hombresiguen multiplicando tu subsuelo y así reclutas tu conventillo de ánimas, tu montonera clandestina de huesos que caen al fondo de tu noche enterrada lo mismo que a la hondura de un mar. Una dura vegetación de sobras en pena hace fuerza contra tus paredones interminables cuyo sentido es perdición, y convencidas de mortalidad las -orillas apuran su caliente vida a tus pies en calles traspasadas por una llamarada baja de barro o se aturden con desgano de bandoneones o con balidos de cornetas sonsas en carnaval. (El fallo de destino más para siempre, que dura en mí lo escuché esa noche en tu noche cuando la guitarra bajo> la mano del orillero dijo lo mismo que las palabras, y ellas decían: La muerte es vida vivida, CUADERNO SAN MARTÍN 91 la vida es muerte que viene; la vida no es otra cosa que muerte que anda luciendo.) Mono del cementerio, la Quema gesticula advenediza muerte a tus pies. Gastamos y enfermamos la realidad: 210 carros infaman las mañanas, llevando a esa necrópolis de humo las cotidianas cosas que hemos contagiado de muerte. Cúpulas estrafalarias de madera y cruces en alto se mueven —piezas negras de un ajedrez final— por tus calles y su achacosa majestad va encubriendo ias vergüenzas de nuestras muertes. En tu disciplinado recinto la muerte es incolora, hueca, numérica; se disminuye a fechas y a nombres, muertes de la palabra. Chacarita: desaguadero de esta patria de Buenos Aires, cuesta final, barrio que sobrevives a los otros, que sobremueres, lazareto que estás en esta muerte no en la otra vida, he oído tu palabra de caducidad y no creo en ella, porque tu misma convicción de angustia es acto de vida y porque la plenitud de una sola rosa es más que tus mármoles. II LA RECOLETA Aquí es pundonorosa la muerte, aquí es la recatada muerte porteña, la consanguínea de la duradera luz venturosa del atrio del Socorro y de la ceniza minuciosa de los braseros y del fino dulce de leche de los cumpleaños y de las hondas dinastías de patios. Se acuerdan bien con ella esas, viejas dulzuras y también los viejos rigores. Tu frente es el pórtico valeroso y la generosidad de ciego del árbol y la dicción de pájaros que aluden, sin saberla, a la muerte 9 2 JORGE LUIS BORGES—OBRAS COMPLETAS y el redoble, endiosador de pechos, de los tambores en los entierros militares; tu espalda, los tácitos conventillos del norte y el paredón de las ejecuciones de Rosas. Crece en disolución bajo los sufragios de mármol la nación impresentable de muertos que se deshumanizaron en tu tiniebla desde que María de los Dolores Maciel, ñipa del Uruguay —simiente de tu jardín para el cielo~- se durmió, tan poca cosa, en tu descampado. Pero yo quiero demorarme en el pensamiento de las livianas flores que son tu comentario piadoso —suelo amarillo bajo las acacias de tu costado, flores izadas a conmemoración en tus mausoleos— y en el porqué de su vivir gracioso y dormido junto a las terribles reliquias de los que amamos. Dije el enigma y diré también su palabra: siempre las flores vigilaron la muerte, porque siempre los hombres incomprensiblemente supimos que su existir dormido y gracioso es el que mejor puede acompañar a los que murieron sin ofenderlos con soberbia de vida, sin ser más vida que ellos. CUADERNO SAN MARTIN i>.\\'5 A FRANCISCO LÓPEZ MERINO Si te cubriste, por deliberada mano, de muerte, si tu voluntad fue rehusar todas las mañanas del mundo, es inútil que palabras rechazadas te soliciten, predestinadas a imposibilidad y a derrota. Sólo nos queda entonces decir el deshonor de las rosas que no supieron demorarte, el oprobio del día que te permitió el balazo y el fin. ¿Qué sabrá oponer nuestra voz a lo confirmado por la disolución, la lágrima, el mármol? Pero hay ternuras que por ninguna muerte son menos: las íntimas, indescifrables noticias que nos cuenta la música, la patria que condesciende a higueras y aljibe, la gravitación del amor, que nos justifica. Pienso en ellas y pienso también, amigo escondido, que tal vez a imagen de la predilección, obramos la muerte, que la supiste de campanas, niña y graciosa, hermana de tu aplicada letra de colegial, y que hubieras querido distraerte en ella como en un sueño. Si esto es verdad y si cuando el tiempo nos deja, nos queda un sedimento de eternidad, un gusto del mundo, entonces es ligera tu muerte, como los versos en que siempre estás esperándonos, entonces no profanarán tu tiniebla estas amistades que invocan. 94 JORGE LUIS BORGES—OBRAS COMPLETAS BARRIO NORTE Esta declaración es la de un secreto que está vedado por la inutilidad y el descuido, secreto sin misterio ni juramento que sólo por la indiferencia lo es: hábitos de honlbres y de anocheceres lo tienen, lo preserva el olvido, que es el modo más pobre del misterio. Alguna vez era una amistad este barrio, un argumento de aversiones y afectos, como las otras cosas de amor; apenas si persiste esa fe en unos hechos distanciados que morirán: en la milonga que de las Cinco Esquinas se acuerda, en el patío como una firme rosa bajo las paredes crecientes, en el despintado letrero que dice todavía La Flor del Norte, en los muchachos de guitarra y baraja del almacén, en la memoria detenida del ciego. Ese disperso amor es nuestro\\' desanimado secreto. Una cosa invisible está pereciendo del mundo, un amor no más ancho que una música. Se nos aparta el barrio, los balconcitos retacones de mármol no nos enfrentan cielo; Nuestro cariño se acobarda en desganos, la estrella de aire de las Cinco Esquinas es otra. Pero sin ruido y siempre, en cosas incomunicadas, perdidas, como lo están siempre las cosas, en el gomero con su veteado cielo de sombra, en la bacía que recoge el primer sol y el último, perdura ese hecho servicial y amistoso, esa lealtad oscura que irá palabra está declarando: el barrio. CUADERNO SAN MARTIN 95 EL PASEO DE JULIO Juro que no por deliberación he vuelto a la calle de alta recova repetida como un espejo, de parrillas con la trenza de carne de los Corrales, de prostitución encubierta por lo más distinto: la música. Puerto mutilado sin mar, encajonada racha salobre, resaca que te adheriste a la tierra: Paseo de Julio, aunque recuerdos míos, antiguos hasta la ternura, te saben nunca te. sentí patria. Sólo poseo de ti una deslumbrada ignorancia, una insegura propiedad como la de los pájaros en el aire, pero mi verso es de interrogación y de prueba y para obedecer lo entrevisto. Barrio con lucidez de pesadilla al pie de los otros, tus espejos curvos denuncian el lado de fealdad de las caras., tu noche calentada en lupanares pende de la ciudad. Eres la perdición fraguándose un mundo con los reflejos y las deformaciones de éste; sufres de caos, adoleces de irrealidad, te empeñas en jugar con naipes raspados la vida; tu alcohol mueve peleas, tus griegas manosean envidiosos libros de magia. ¿Será porque el infierno es vacío que es espuria tu misma fauna de monstruos y la sirena prometida por ese cartel es muerta y de cera? Tienes la inocencia terrible de la resignación, del amanecer, del conocimiento, la del espíritu no purificado, borrado por los días del destino 9 6 JORGE LUIS BORGES—OBRAS COMPLETAS y que ya blanco de muchas luces, ya nadie, sólo codicia lo presente, lo actual, como los hombres viejos. Detrás de los paredones de mi suburbio, los duros carros rezarán con varas en alto a su imposible dios de hierro y de polvo, pero, ¿qué dios, que ídolo, qué veneración la tuya, Paseo de Julio? Tu vida pacta con la muerte; toda felicidad, con sólo existir, te es adversa. Evaristo Carriego (1930) ...a mode of trulh, not of truth coherent and central, but angular and splintered. DE QuiNcF.y. Writings, XI, 68. < I .) ioi ( P R Ó L O G O Yo creí, durante años, haberme criado en un suburbio de Buenos Aires, un suburbio de calles aventuradas y de ocasos visibles. Lo cierto es que me crié erí\\\\ un jardín, detrás de una verja con lanzas, y en una biblioteca de ilimitados libros ingleses. Palermo del cuchillo y de la guitarra andaba (me aseguran) por las esquinas, pero quienes poblaron mis mañanas y dieron agradable horror a mis noches fueron el bucanero ciego de Stevenson, agonizando bajo las patas de los caballos, y el traidor que abandonó a su amigo en la luna, y el viajero del tiempo, que trajo del porvenir una flor marchita, y el genio encarcelado durante siglos en el cántaro salomónico, y el profeta velado del Jorasán, que detrás de las piedras y de la seda ocultaba la lepra. ¿Qué había, mientras tanto, del otro lado de la verja con lanzas? ¿Qué destinos vernáculos y violentos fueron cumpliéndose a unos pasos de mí, en el turbio almacén o en el azaroso baldío\\'? ¿Cómo fue aquel Palermo o cómo hubiera sido hermoso que fuera? A esas preguntas quiso contestar este libro, menos documental que imaginativo. J.L.B. ) 103 ( DECLARACIÓN Pienso que el nombre de Evaristo Carriego pertenecerá a la ecclesia visibilis de nuestras letras, cuyas instituciones piadosas —cursos de declamación, antologías, historias de la literatura nacional— contarán • definitivamente con él. Pienso también que pertenecerá a la más verdadera y reservada ecclesia invisibilis, a la dispersa comunidad de los justos, y que esa mejor inclusión no se deberá a la fracción de llanto de su palabra. He procurado razonar esos pareceres. He considerado también —quizá con preferencia indebida— la realidad que se propuso imitar. He querido proceder por definición, no por suposición: peligro voluntario, pues adivino que mencionar calle Honduras y abandonarse a la repercusión casual de ese nombre, es método menos falible —y más descansado— que definirlo. con prolijidad. El encariñado con los temas de Buenos Aires no se impacientará con esas demoras. Para él,-añadí los capítulos del suplemento. He utilizado el libro servicialísimo de Gabriel y los estudios de Melián Lafinur y de Oyuela. Mi gratitud quiere reconocer también otros nombres: Julio Carriego, Félix Lima, doctor Marcelino del Mazo, José Olave, Nicolás Paredes, Vicente Rossi. J.L.B. Buenos Aires, 1930. EVARISTO CARRIEGO 105 I PALERMO DE BUENOS AIRES La vindicación de la antigüedad de Palermo se debe a Paul Groussac. La registran los Anales de la Biblioteca, en una nota de la página 360 del tomo cuarto; las pruebas o instrumentos fueron publicadas mucho después en el número 242 de Nosotros. Nos retraen un siciliano Domínguez (Domenico) de Palermo de Italia, que añadió el nombre de su patria a su nombre, quizá para mantener algún apelativo no hispanizable, y entró a beinte años y está casado con hija de conquistador. Este, pues, Domínguez Palermo, proveedor de carne de la ciudad entre los años de 1605 y 14, poseía un corral cerca del Maldonado, destinado al encierro o a la matanza de hacienda cimarrona. Degollada y borrada ha sido esa hacienda, pero nos queda la precisa mención de una muía tordilla que ancla en la chácara de Palermo, término de esta ciudad. La veo absurdamente clara y chiquita, en el fondo del tiempo, y no quiero sumarle detalles. Bástenos verla sola: el entreverado estilo incesante de la realidad, con su puntuación de ironías, de sorpresas, de previsiones extrañas como las sorpresas, sólo es recuperable por la novela, intempestiva aquí. Afortunadamente, el copioso estilo de la realidad no es el único: hay el del recuerdo también, cuya esencia no es la ramificación de los hechos, sino la perduración de rasgos aislados. Esa poesía es la natural de nuestra ignorancia y no buscaré otra. En los tanteos de Palermo están la chacra decente y el matadero soez; tampoco faltaba en sus noches alguna lancha contrabandista holandesa que atracaba en el bajo, ante las cortaderas cimbradas. Recuperar esa casi inmóvil prehistoria sería tejer insensatamente una crónica de infinitesimales procesos: las etapas de la distraída marcha secular de Buenos Aires sobre Palermo, entonces unos vagos terrenos anegadizos a espaldas de la patria. Lo más directo, según el proceder cinematográfico, sería proponer una continuidad de figuras que cesan: un arreo de muías viñateras, las chucaras con la cabeza vendada; un agua quieta y larga, en la que están sobrenadando unas hojas de sauce; una vertiginosa alma en pena enhorquetada en zancos, vadeando los torrenciales terceros; el campo abierto sin ninguna cosa que hacer; las huellas del pisoteo porfiado de u.na hacienda, rumbo a los corrales del Norte; un paisano (contra la madrugada) que 10G JORGE LUIS BORGES—OBRAS COMPLETAS se apea del caballo rendido y le degüella el ancho pescuezo; un humo que se desentiende en el aire. Así hasta la fundación de Don Juan Manuel: padre ya mitológico de Palermo, no meramente histórico, como ese Domínguez-Domenico de Groussac. La fundación fue a brazo partido. Una quinta dulce de tiempo en el camino a Barracas era lo acostumbrado entonces. Pero Rosas quería edificar, quería la casa hija de él, no saturada de forasteros destinos no probada por ellos. Miles de carradas de tierra negra fueron traídas de los alfalfares de Rosas (después Belgrano) para nivelar y abonar el suelo arcilloso, hasta qué el barro cimarrón de Palermo y la tierra ingrata se conformaron a su voluntad. Hacia el cuarenta, Palermo ascendió a cabeza mandona de la República, corte del dictador y palabra de maldición para los unitarios. No relato su historia para no deslucir lo demás. Básteme enumerar esa casa grande blanqueada llamada su Palacio (Hudson, Far Away and Long Ago, página 108) y los naranjales y la pileta de paredes de ladrillo y baranda de fierro, donde se animaba el bote del Restaurador a esa navegación tan frugal que comentó Schiaffino: El paseo acuático a bajo nivel debía ser poco pimentero, y en tan corto circuito equivalía a la navegación en petiso. Pero Rosas estaba tranquilo; alzando la mirada veía la silueta, recortada en el cielo, de los centinelas que hacían la guardia junto a la baranda, escrutando el horizonte con el ojo avizor del tero. Esa corte ya se desgarraba en orillas: el agachado campamento de adobe crudo de la División Hernández y él rancherío de pelea y pasión de las cuarteleras morenas, los Cuartos de Palermo. El barrio, lo están viendo, fue siempre naipe de dos palos, moneda de dos caras. Duró doce años ese ardido Palermo, en la zozobra de la exigente presencia de un hombre obeso y rubio qué recorría los caminos limpitos, de pantalón azul militar con vivo colorado y chaleco punzó y sombrero de ala muy ancha, y que solía manejar y cimbrar una caña larga, cetro como de aire, liviano. De Palermo salió en un atardecer ese hombre temeroso a comandar la mera espantada o batalla de antemano perdida que se libró en Caseros; en Palermo entró el otro Rosas, Justo José, con su empaque de toro chucaro y el cintillo mazorquero punzó alrededor del adefesio de la galera y el uniforme rumboso de general. Entró, y si los panfletos de Ascasubi no nos equivocan: en la entrada de Palermo ordenó poner colgados a dos hombres infelices, que después de afusilados los suspendió en los ombuses, EVARISTO CARRIEGO 107 hasta que de allí a pedazos se cayeron de podridos. . . . Ascasubi, luego, se fija en la arrumbada tropa entrerriana del Ejército Grande: Entretanto en los barriales de Palermo amontonaos cuasi todos sin camisa, estaban sus Entre-rianos (como él dice) miserables, comiendo terneros flacos y vendiendo las cacharpas\\'. . . Miles de días que no se sabe el recuerdo, zonas empañadas del tiempo, crecieron y se gastaron después, hasta arribar, a través de fundaciones individuales —la Penitenciaría el año 77, el hospital Norte el 82, el hospital Rivadavia el 87— al Palermo de vísperas del noventa, en que los Carriego compraron casa. De ese Palermo de 1889 quiero escribir. Diré sin restricción lo que sé, sin omisión ninguna, porque la vida es pudorosa como un delito, y no sabemos cuáles son los énfasis para Dios. Además, siempre lo circunstancial es patético.1 Escribo todo, a riesgo dé escribir verdades notorias, pero que traspapelará mañana el descuido, que es el modo más pobre del misterio y su primera cara. 2 Más allá del ramal del ferrocarril del Oeste, que iba por Cen- 1 \"Lo patético, casi siempre, está en el detalle de las circunstancias menudas\", observa Gibbon en una de las notas finales del capítulo quincuagésimo de su Decline and Fall. 2 Yo afirmo —sin remilgado temor ni novelero amor de la paradoja— que solamente los países nuevos tienen pasado; es decir, recuerdo autobiográfico de él; es decir, tienen historia viva. Si el tiempo es sucesión, debemos reconocer que donde densidad mayor hay de hechos, más tiempo corre y que el más caudaloso es el de este inconsecuente lado del mirndo. La conquista y colonización de estos reinos —cuatro fortines temerosos de barro prendidos en la costa y vigilados por el pendiente horizonte, arco disparado] de malones— fueron de tan efímera operación que un abuelo mío, en 1872, pudo comandar la última batalla de importancia contra los indios, realizando, después de la mitad del siglo diecinueve, obra conquistadora del dieciséis. Sin embargo, ¿a qué traer destinos ya muertos? Yo no he sentido el liviano tiempo en Granada, a la sombra de torres cientos de veces más antiguas que las higueras, y sí en Pampa y Triunvirato: insípido lugar de tejas anglizantes ahora, de hornos humosos de ladrillos hace tres años, de potreros caóticos\\' hace cinco. El tiempo —emoción europea de hombres numerosos de días, y como su vindicación y corona— es de más imprudente circulación en estas repúblicas. Los jóvenes, a su pesar lo sienten. Aquí somos del mismo tiempo que el tiempo, somos hermanos de él. 108 JORGE LUIS BOKGES—OBRAS COMPLETAS troamérica, haraganeaba entre banderas de rematadores el barrio, no sólo sobre el campo elemental, sino sobre el despedazado cuerpo de quintas, loteadas brutalmente para ser luego pisoteadas por almacenes, carbonerías, traspatios, conventillos, barberías y corralones. Hay jardín ahogado de barrio, de esos con palmeras enloquecidas entre material y entre fierros, que es la reliquia degenerada y mutilada de una gran quinta. Palermo era una despreocupada pobreza. La higuera oscurecía sobre el tapial; los balconcitos de modesto destino daban a días iguales; la perdida corneta del manisero exploraba el anochecer. Sobre la humildad de las casas no era raro algún jarrón de manipostería, coronado áridamente de tunas: planta siniestra que en el dormir universal de las otras parece corresponder a una zona de pesadilla, pero que es tan sufrida realmente y. vive en los terrenos más ingratos y en el aire desierto, y la consideran distraídamente un adorno. Había felicidades también: el arríate del patio, el andar entonado del compadre, la balaustrada con espacios de cielo. El chorreado\\'caballo verdinoso y su Garibaldi no deprimían los Portones antiguos. (La dolencia es general: no queda plaza que no esté padeciendo su guarango de bronce.) El Botánico, astillero silencioso de árboles, patria de todos los paseos de la capital, hacía esquina con la desmantelada plaza de tierra; no así el Jardín Zoológico, que se llamaba entonces las fieras y estaba más al norte. Ahora (olor a caramelo y a tigre) ocupa el lugar donde alborotaron hace cíen años los Cuartos de Palermo. Sólo unas calles —Serrano, Canning, Coronel— estaban ariscamente empedradas, con intervención de trotadoras lisas para las chatas imponentes como un desfile y para las rumbosas victorias. La calle Godoy Chuz la repechaba a los barquinazos el 64, vehículo servicial que se reparte, con la poderosa sombra anterior de Don Juan Manuel, la fundación de Palermo. La visera ladeada y la corneta milonguera del mayoral inducían la admiración o las emulaciones del liarrio, pero el inspector —dudador profesional de la rectitudera una institución combatida, y no faltó compadre que se enjaretó el boleto en la bragueta, repitiendo con indignación que si lo quería no tenían más que sacarlo. Busco realidades más nobles. Hacia el confín con Balvanera, hacia el este, abundaban los caserones con recta sucesión de patios, los caserones amarillos o pardos con puerta en forma de arco —arco repetido especularmente en el otro ¿aguan— y con delicada puerta cancel de hierro. Cuando las noches impacientes de octubre sacaban sillas y personas a la vereda y las casas ahondadas se dejaban ver hasta el fondo y había amarilla luz en los patios, la calle era confidencial y liviana y las casas huecas eran como EVARISTO CARRIEGO 109 linternas en fila. Esa impresión de irrealidad y de serenidad es mejor recordada por mí en una historia o símbolo, que parece haber estado siempre conmigo. Es un instante desgarrado de un cuento que oí en un almacén y que era a la vez trivial y enredado. Sin mayor seguridad lo recobro. El héroe de esa perdularia Odisea era el eterno criollo acosado por la justicia, delatado esa vez por un sujeto contrahecho y odioso, pero con la guitarra como no hay dos. El cuento, el salvado rato del cuento, refiere cómo el héroe se pudo evadir de la cárcel, cómo tenía que cumplir su venganza en una sola noche, cóm\\'o buscó en vano al traidor, cómo vagando por las calles con luna el viento rendido le trajo indicaciones de la guitarra, cómo siguió esa huella entre, los laberintos y las inconstancias del viento, cómo redobló esquinas de Buenos Aires, cómo arribó al umbral apartado en que guitarreaba el traidor, cómo abriéndose paso entre los oyentes lo alzó sobre el cuchillo, cómo salió aturdido y se fue, dejando muertos y callados atrás al delator y su guitarra cuentera. Hacia el poniente quedaba la miseria gringa del barrio, su desnudez. El término las orillas cuadra con sobrenatural precisión a esas puntas ralas, en que la tierra asume lo indeterminado del mar y parece digna de comentar la insinuación de Shakespeare: La tierra tiene burbujas, como las tiene el agua. Hacia el poniente había callejones de polvo que iban empobreciéndose tarde afuera; había lugares en que un galpón del ferrocarril o un hueco de pitas o una brisa casi confidencial inauguraba malamente la pampa. O si no, una de esas casas petizas sin revocar, de ventana baja, de reja —a veces con una amarilla estera atrás, con figuras— que la soledad de Buenos Aires parece criar, sin participación humana visible. Después: el MaMonado, reseco y amarillo zanjón, estirándose sin destino desde la Chacarita y que por un milagro espantoso pasaba de la muerte de sed a las disparatadas extensiones de agua violenta, que arreaban con el rancherío moribundo de las orillas. Hará unos cincuenta años, después de ese irregular zanjón o muerte, empezaba el cielo: un cielo de relinchos y crines y pasto dulce, un cielo caballar, los happy huntinggrounds haraganes de las caballadas eméritas de la policía. Hacia el Maldonado raleaba el malevaje nativo y lo sustituía el calabrés, gente con quien nadie quería meterse, por la peligrosa buena memoria de su rencor, por sus puñaladas traicioneras a largo plazo. Ahí se entristecía Palermo, pues las vías de hierro del Pacífico bordeaban el arroyo, descargando esa peculiar tristeza de las cosas esclavizadas y grandes, de las barreras altas como pértigo de carreta en descanso, de los derechos terraplenes y andenes. Una frontera de humo trabajador, una frontera de vagones brutos en movimientos, cerraba ese costado; atrás, crecía o se emperraba el • 110 JORGE LUIS BORGES—OBRAS COMPLETAS arroyo. Lo están encarcelando ahora: ese casi infinito flanco de soledad que se acavernaba hace poco, a la vuelta de la truquera confitería de La Paloma, será reemplazado por una calle tilinga, de tejas anglizantes. Del Maldonado no quedará sino nuestro recuerdo, alto y solo, y el mejor sainete argentino y los dos tangos que se llaman así —uno primitivo, actualidad que no se preocupa, mero plano del baile, ocasión de jugarse entero en los cortes; otro, un dolorido tango-canción, al estilo boquense— y algún clisé apocado que no facilitará lo esencial, la impresión de espacio, y una equivocada otra vida en la imaginación de quienes no lo vivieron. Pensándolo, no creo que el Maldonado fuera distinto de otras localidades muy pobres, pero la idea de su chusma, desaforándose en rotos burdeles, a la sombra de la inundación y del fin, mandaba en la imaginación popular. Así, en el hábil sainete que mencioné, el arroyo no es un socorrido telón de fondo: es una presencia, mucho más importante que el pardo Nava y que la china Dominga y que el Títere. (El puente Alsina, con su todavía no cicatrizado ayer cuchillero y su memoria de la patriada grande del ochenta, lo ha deshancado en la mitología de Buenos Aires. En lo que se refiere a la realidad, es de fácil observación que los barrios más pobres suelen ser los más apocados y que florece en ellos una despavorida decencia.) Del lado del arroyo zarpaban las tormentas altas de tierra que toldaban el día, y el malón de aire del pampero que golpeaba todas las puertas que miraban al sur y dejaban en el zaguán una flor de cardo, y la arrasadora nube de langostas que trataba de espantar a gritos la gente1, y la soledad y la lluvia. A polvo tenía gusto esa orilla. Hacia el agua zaina del río, hacia el bosque, se hacía duro el barrio. La primera edificación de esa punta fueron los mataderos del Norte, que abarcaron unas dieciocho manzanas entre las venideras calles Anchorena, Las Heras, Austria y Beruti, y ahora sin más reliquia verbal que el nombre la Tablada, que le escuché decir a un carrero, insipiente de su antigua justificación. He inducido al lector a la imaginación de ese dilatado recinto de muchas cuadras, y aunque los corrales desaparecieron el setenta, la figura es típica del lugar, atravesado siempre de fincas —el cementerio, el hospital Rivadavia, la cárcel, el mercado, el corralón municipal, el presente lavadero de lanas, la cervecería, la quinta de Hale— con pobrerío de golpeados destinos alrededor. Esa quinta era por dos razones mentada: por los perales que la chiquilinada del barrio saqueaba en clandestinos malones y por el aparecido que visitaba el costado de la calle Agüero, reclinada \\' Destruirlas era cosa de herejes, porque llevaban la señal de la cruz: marca de su emisión y repartición especiales de parte del Señor. EVARISTO CARRIEGO 111 en el brazo de un farol la cabeza imposible. Porque a los verdaderos peligros de un compadraje cuchillero y soberbio, había que sumar los fantásticos de una mitología forajida; la viuda y el estrafalario chancho de lata, sórdidos como el bajo, fueron las más temidas criaturas de esa religión de barrial. Antes había sido una quema ese norte: es natural que gravitaran en su aire basuras de almas. Quedan esquinas pobres que si no se vienen abajo es porque están apuntalándolas todavía los compadritos muertos. Bajando por la calle de Chavango (después Las Heras) el último boliche del camino era La Primera Luz, nombre que, a pesar de aludir a sus madrugadores hábitos, deja una impresión —justa— de ciegas calles atascadas sin nadie, y al fin, a las cansadas vueltas, una humana luz de almacén. Entre los fondos del cementerio colorado del Norte y los de la Penitenciaría, se iba incorporando del polvo un suburbio chato y despedazado, sin revocar:^ su notoria denominación, la Tierra del Fuego. Escombros del principio, esquinas de agresión o de soledad, hombres furtivos que se llaman silbando y que se dispersan de golpe en la noche lateral de los callejones, nombraban su carácter. El barrio era una esquina final. Un malevaje de a caballo, un malevaje de chambergo mitrero sobre los ojos y de apaisanada bombacha, sostenía por inercia o por impulsión una guerra de duelos individuales con la policía. La hoja del peleador orillero, sin ser tan larga —era lujo de valientes usarla corta— era de mejor temple que el machete adquirido por el Estado, vale decir con predilección del costo más alto y el material más ruin. La dirigía un brazo más ganoso de atropellar, mejor conocedor de los rumbos instantáneos del entrevero. Por la sola virtud de la rima, ha sobrevivido a un desgaste de cuarenta años un rato de ese empuje: Hágase a un ,lao, se lo ruego, que soy de la Tierra\\'el Juego.1 No sólo de peleas; esa frontera era de guitarras también. * Escribo estos recuperados hechos, y me solicita con arbitrariedad aparente el agradecido verso de \"Horne-Thoughts\": Here and here did England help me, que Browning escribió pensando en una abnegación sobre el mar y en el alto navio torneado como un alfil en que Nelson cayó, y que repetido por mí —traducido también el nombre de patria, pues para Browning no era menos 1 Taullard, 233. 112 JORGE LUIS BORGES—OBRAS COMPLETAS inmediato el de su Inglaterra— me sirve como símbolo de noches solas, de caminatas extasiadas y eternas por la infinitud de los barrios. Porque Buenos Aires es hondo, y nunca, en la desilusión o el penar, me abandoné a sus calles sin recibir inesperado consuelo, ya de sentir irrealidad, ya de guitarras desde el fondo de un patio, ya de roce de vidas. Here and here did England help me, aquí y aquí me vino a ayudar Buenos Aires. Esa razón es una de las razones por las que resolví componer este primer capítulo. EVARISTO CARRIEGO 113 II UNA VIDA DE EVARISTO CARRIEGO Que un individuo quiera despertar en otro individuo recuerdos que no pertenecieron más que a un tercero, es una paradoja evidente. Ejecutar con despreocupación esa paradoja, es la inocente voluntad de toda biografía. Creo también que el haberlo conocido a \\'Carriego no rectifica en este caso particular la dificultad del propósito. Poseo recuerdos de Carriego: recuerdos de recuerdos de otros recuerdos, cuyas mínimas desviaciones originales habrán oscuramente crecido, en cada nuevo ensayo. Conservan, lo sé, el idiosincrásico sabor que llamo Carriego y que nos permite identificar un rostro en una muchedumbre. Es innegable, pero ese liviano archivo mnemónico —intención de la voz, costumbres de su andar y de su quietud, empleo de los ojos— es, por escrito, la menos comunicable de mis noticias acerca de él. Cínicamente la trasmite la palabra Carriego, que demanda la mutua posesión de la propia imagen que deseo comunicar. Hay otra paradoja.1 Escribí que a las relaciones de Evaristo Carriego les basta la mención de su nombre para imaginárselo; añado que toda descripción puede satisfacerlos, sólo con no desmentir crasamente la ya formada representación que prevén. Repito esta de Giusti, en el número 219 de Nosotros: magro poeta de ojitos hurgadores, siempre trajeado de negro, que vivía en el arrabal. La indicación de muerte, presente en lo de trajeado siempre de negro y en el adjetivo, no faltaba en el vivacísimo rostro, que traslucía sin mayor divergencia las líneas de la calavera interior. La vida, la más urgente vida, estaba en los ojos. También los recordó con justicia el discurso fúnebre de Marcelo del Mazo. Esa acentuación única de sus ojos, con tan poca luz y tan riquísimo gesto, escribió. Carriego era entrerriano, de Paraná. Fue abuelo suyo el doctor Evaristo Carriego, escritor de ese libro de papel moreno y tapas tiesas que se llama con entera razón Páginas olvidadas (Santa Fe, 1895) y que mi lector, si tiene costumbre de revolver los turbios purgatorios de libros viejos de la calle Lavalle, habrá tenido en las manos alguna vez. Tenido y dejado, porque la pasión escrita en ese libro es circunstancial. Se trata de una suma de páginas partidarias de urgencia, en que todo es requisado para la acción, desde los latines caseros hasta Macaulay o el Plutarco según Garnier. Su valentía es de alma: cuando la legislatura del Paraná 114 JORGE LUIS BORGES—OBRAS COMPLETAS resolvió levantarle a Urquiza una estatua en vida, el único diputado que protestó fue el doctor Carriego, en oración hermosa aunque inútil. Carriego el antecesor es. memorable aquí, no sólo por su posible herencia polémica sino por la tradición literaria de que se valdría el nieto después para borronear esas primeras cosas endebles que son la condición de las ,válidas. Carriego era, de generaciones atrás, entrerriano. La entonación entrerriana del criollismo, afín a la oriental, reúne lo decorativo y lo despiadado igual que los tigres. Es batalladora, su símbolo es la lanza montonera de las patriadas. Es dulce: una dulzura bochornosa y mortal, una dulzura sin pudor, tipifica las más belicosas páginas de Leguizamón, de Elias Regules y de Silva Valdés. Es grave: la República Oriental, donde la entonación a que me refiero es más evidente, no ha escrito un solo buen humor, una sola dicha, desde los mil cuatrocientos epigramas hispanocoloniales propuestos por Acuña de Figueroa. Puesta a versificar, vacila entre la acuarela y el crimen; su tema no es Ja aceptación de destino del Martín Fierro, sino las calenturas de la caña o de la divisa, bien endulzadas. Está colaborando en ese sentir una efusión que no comprendemos, el árbol; una impiedad que no encarnamos, el indio. Su gravedad parece derivar de un más sobresaltado rigor: Sombra, porteño, conoció los derechos rumbos de la llanura, el arreo de las haciendas y un duelo ocasional a cuchillo; oriental, habría conocido también la carga de caballería de las patriadas, el duro arreo de hombres, el contrabando... Carriego sabía_por tradición, ese criollismo romántico y lo misturó con el criollismo resentido de los suburbios. A las razones evidentes de su criollismo —linaje provinciano y vivir en las orillas de Buenos Aires— debemos agregar una razón paradójica: la de su alguna sangre italiana, articulada en el apellido materno Giorello. Escribo sin malicia; el criollismo del íntegramente criollo es una fatalidad, el del mestizado una decisión, una conducta preferida y resuelta. La veneración de lo étnico inglés que se lee en el inspired Eurasian journalist Kipling ¿no es una prueba más (si la fisonómica no bastara) de su tiznada sangre? i Carriego solía vanagloriarse A los gringos no me basta con aborrecerlos; yo los calumnio, pero el desenfreno alegre de esa declaración prueba su no verdad. El,criollo, con la seguridad de su ascetismo y del que está en su casa, lo considera al gringo un menor. Su misma felicidad le hace gracia, su apoteosis espesa. Es de común observación que el italiano lo puede todo en esta república, salvo ser tomado realmente en serio por los desalojados por él. Esa benevolencia con fondo completo de sorna, es el desquite reservado de los hijos del país. EVARISTO CARRIEGO 115 Los españoles eran otra preferencia de su aversión. La acepción callejera del español —el fanático que ha reemplazado el auto de fe con el Diccionario de Galicismos, el mucamo en la selva de plumeros— era también la suya. Huelga añadir que esta previsión o prejuicio no le estorbó algunas amistades hispanas, como la del doctor Severiano Lorente, que parecía llevar consigo el tiempo ocioso y generoso de España (el ancho tiempo musulmán que engendró el Libro de las Mil y Una Noches) y que se demoraba hasta el alba, en el Roya! Keller, ante su medio litro. Carriego creía tener una obligación con su barrio pobre: obligación que el estilo bellaco de la fecha traducía en rencor, pero que él sentiría como una fuerza. Ser pobre implica una más inmediata posesión de la realidad, un atrepellar el primer gusto áspero de las cosas: conocimiento que parece faltar a los ricos, como si todo les llegara filtrado. Tan adeudado se creyó Evaristo Carriego a su ambiente, que en dos distintas ocasiones de su obra se disculpa de escribirle versos a una mujer, como si la consideración del pobrerío amargo de la vecindad fuera el único empleo lícito de su destino. Los hechos de su vida, con ser infinitos e incalculables, son de fácil aparente dicción y los enumera servicialmente Gabriel en su libro del novecientos veintiuno. Se nos confía en él que nuestro Evaristo Carriego nació en 1883, el 7 de mayo, y que rindió el tercer año del nacional y que frecuentaba la redacción del diario La Protesta y que falleció el día 13 de octubre del novecientos doce, y otras puntuales e invisibles noticias que encargan despreocupadamente a quien las recibe el salteado trabajo del narrador, que es restituir a imágenes los informes. Yo pienso que la sucesión cronológica es inaplicable a Carriego, hombre de conversada vida y paseada. Enumerarlo, seguir el orden de sus días, me parece imposible; mejor buscar su eternidad, sus repeticiones. Sólo una descripción intemporal, morosa con amor, puede devolvérnoslo. Literariamente, sus juicios de condenación y de elogio ignoraban la duda. Erafmuy alacrán: maldecía de los más justificados nombres famosos con esa evidente sinrazón que suele no ser más que una cortesía al propio cenáculo, una lealtad de creer que la reunión presente es perfecta y no podría ser mejorada por la adición de nadie. La revelación de la capacidad estética de la palabra se operó en él, como en casi todos los argentinos, mediante los desconsuelos y los éxtasis de Almafuerte: afición que la amistad personal corroboró después. El Quijote era su más frecuente lectura. Con Martín Fierro debe haber ejercido el proceder común de su tiempo: unas apasionadas lecturas clandestinas cuando muchacho, un gusto sin dictamen. Era aficionado también a las calumniadas biografías de guapos que hizo Eduardo Gutiérrez, 116 JORGE LUIS BORGÉS—OBRAS COMPLETAS desde la semirromántica de Moreira hasta la desengañadamente realista de Hormiga Negra, el de San Nicolás (¡del Arroyo y no me arrollo!). Francia, país entonces de recomendado entusiasmo, había subdelegado para él su representación en Georges D\\'Esparbés, en alguna novela de Víctor Hugo y en las de Dumas. También solía publicar en su conversación esas preferencias guerreras. La muerte erótica del caudillo Ramírez, desmontado a lanzazos del caballo y decapitado por defender a su Delfina, y la de Juan Moreira, que pasó délos ardientes juegos del lupanar a las bayonetas policiales y los balazos, eran muy contadas por él. No descuidaba la crónica de su tiempo: las puñaladas de bailecito y de esquina, los relatos de hierro que dejan recaer su valor en quien está contándolos. Su conversación —escribía Giusti después— evocaba los patios de vecindad, los quejumbrosos organillos, los bailes, los velorios, los guapos, los lugares de perdición, su carne de presidio y de hospital. Hombres del Centro, le escuchábamos encanutados, como si nos contase fábulas de un lejano país, ti se sabía delicado y mortal, pero leguas rosadas de Palermo estaban respaldándolo. Escribía poco, lo que significa que sus borradores eran orales. En la caminada noche callejera, en la plataforma de los Lacroze, en las tardías vueltas a casa, iba tramando versos. Al otro día —por lo común después de almorzar, hora veteada de indolencia pero sin apurones— los precisaba en el papel. Ni fatigó la noche ni se atrevió jamás a la ceremonia desconsolada de madrugar para escribir. Antes de entregar un original, ponía a prueba su inmediata eficacia, leyéndolo o repitiéndolo a los amigos. De éstos, uno que se menciona invariablemente es Carlos de Soussens. La noche que Soussens rne descubrió, era una de las fechas acostumbradas en la conversación de Carriego. Éste lo quería y lo malquería por razones iguales. Le gustaba su condición de francés, de hombre asimilado\\' a los prestigios de Dumas padre, de Verlaine y de Napoleón; le molestaba su condición anexa de gringo, de hombre sin muertos en América. Además, el oscilante Soussens era más bien un francés aproximativo: era, como él circunloqueaba y repitió Carriego en un verso, caballero de Fri* burgo, francés que no alcanzaba a francés y no salía de suizo. Le gustaba, en abstracto, su condición libérrima de bohemio; le molestaba —hasta la reflexión pedagógica y la censura— su complicada haraganería, su alcoholización, su rutina de postergaciones y de enredos. Esa aversión dice que el Evaristo Carriego de la honesta tradición criolla era el esencial y no el trasnochador de Los inmortales. Pero el amigo más real de Carriego fue Marcelo del Mazo, que sentía por él esa casi perpleja admiración que el instintivo EVARISTO CARRIEGO 117 suele producir en el hombre de letras. Del Mazo, escritor olvidado con injusticia, ejercía en el arte la misma cortesía exacerbada que en el trato común, y las piedades o las delicadezas del mal eran su argumento. Publicó en 1910 Los vencidos (segunda serie), libro ignorado que reserva unas páginas virtualmente famosas, como la diatriba contra las personas de edad —menos entigrecida .pero mejor observada que la de Swift {Travels into Several Remóte Nations, III, 10) — y la que se llama La última. Otros escritores de la amistad de Carriego fueron Jorge Borges, Gustavo Caraballo, Félix Lima, Juan Más y Pi, Alvaro Melián Lafinur, Evar Méndez, Antonio Monteavaro, Florencio Sánchez, Emilio Suárez Calimario, Soiza Reilly. Declaro ahora sus amistades de barrio, en las que fue riquísimo. La más operativa fue la del caudillo Paredes, entonces el patrón de Palermo. Esa amistad la buscó Evaristo Carriego a los catorce años. Tenía la lealtad disponible, inquirió el nombre del caudillo de la parroquia, le noticiaron quién, lo buscó, se abrió camino entre los fornidos pretorianos de chambergo alto, le dijo que él era Evaristo Carriego, de Honduras. Esto sucedió en el mercado que está en la plaza Güemes; el muchacho no se movió hasta el alba de ahí, codeándose con guapos, tuteando —la ginebra es confianzuda— asesinos. Porque la votación se dirimía entonces a hachazos, y las puntas norte y sur de la capital producían, en razón directa de su población criolla y de su miseria, el elemento electoral que los despachaba. Ese elemento operaba en la provincia también: los caudillos de barrio iban donde los precisaba el partido y lleyaban sus hombres. Ojo y acero —ajados nacionales de papel y profundos revólveres— depositaban su voto independiente. La aplicación de la ley Sáenz Peña, el novecientos doce, desbandó esas milicias. No le hace; la desvelada noche que referí es de 1897 recién, y manda Paredes. Paredes es el criollo rumboso, en entera posesión de su realidad: el pecho dilatado de hombría, la presencia mandona, la melena negra insolente, el bigote flameado, la grave voz usual que deliberadamente se afemina y se arrastra en la provocación, el sentencioso andar, el manejo de la posible anécdota heroica, del dicharacho, del naipe habilidoso, del cuchillo y de la guitarra, la seguridad infinita. Es hombre de a caballo también, porque se ha criado en un Palermo anterior a este del carreraje, en el de la distancia y las quintas. Es el varón de los asados homéricos y del contrapunto incansable. Del contrapunto dije; a los treinta años de esa> cargada noche me dedicaría unas décimas, de las que no olvidaré este acierto impensado, esta resolución de amistad: A usté, compañero Borges, Lo saludo enteramente. Es visteador de ley, pero malevo que ha querido faltarle ha sido sujetado, no con el fierro igual, sino con el 1 lbf JORGE LUIS BORGES—OBRAS COMPLETAS rebenque mandón o con la mano abierta, para mantener disciplina. Los amigos, lo mismo que los muertos y las ciudades, colaboran en cada hombre, y hay renglón de El alma del suburbio: pues ya u,na vez lo hizo ca. . .er de un hachazo, en que parece retumbar la voz de Paredes, ese trueno cansado y fastidiado de las imprecaciones criollas. Por Nicolás Paredes conoció Evaristo Carriego la gente cuchillera de la sección, la flor de Dios te libre. Mantuvo por un tiempo con ellos una despareja amistad, una amistad profesionalmente criolla con efusiones de almacén y juramentos leales de gaucho y vos me fonocés che hermano y las otras morondangas del género. Ceniza de esa frecuentación son las algunas décimas en lunfardo que Carriego se desentendió de firmar y de las que he juntado dos series: una agradeciéndole a Félix Lima el envío de su libro de crónicas Con los nueve; otra, cuyo nombre parece una irrisión de Dies irae, llamada Día de bronca y publicada sobre el seudónimo El Barretero en la revista policial JL. C. En el suplemento de este segundo capítulo copio algunas. No se le conocieron hechos de amor. Sus hermanos tienen el recuerdo de una mujer de luto que solía esperar en la vereda y que mandaba cualquier chico a buscarlo. Lo embromaban: nunca le sonsacaron su nombre. Arribo\" a la cuestión de su enfermedad, que pienso importantísima. Es creencia general que la tuberculosis lo ardió: opinión desmentida por su familia, aconsejada tal vez por dos supersticiones, la de que es denigrativo ese mal, la de que se hereda. Salvo sus deudos, todos aseveran que murió tísico. Tres consideraciones vindican esa general opinión de sus amistades: la inspirada movilidad y vitalidad de la conversación de Carriego, favor posible de un estado febril; la figura, insistida con obsesión, de la escupida roja; la solicitud urgente de aplauso. Él se sabía dedicado a la muerte y sin otra posible inmortalidad que la de sus palabras escritas; por eso, la impaciencia de gloria. Imponía sus versos en el café, ladeaba la conversación a temas vecinos de los versificados -por él, denigraba con elogios indiferentes o con reprobaciones totales a los colegas de aptitud peligrosa; decía, como quien se distrae, mi talento. Además, había preparado o se había agenciado un sofisma, que vaticinaba que la entera poesía contemporánea iba a perecer por retórica, salvo la suya, que podía subsistir como documento —como si la afición retórica no fuera documental de un siglo, también. Tenia sobrada razón —escribe del Mazo— al requerir personalmente la atención general hacia su obra. Comprendía que la consagración lentísima alcanza en vida a contados ancianos, y sabiendo que no produciría en amontonamiento de libros, abría el espíritu ambiente a la belleza y graveEVARISTO CARRIEGO 119 dad de sus versos. Ese proceder no significaba una vanidad: era la parte mecánica de la gloria, era una obligación del mismo orden que la de corregir las pruebas. La premonición de la incesante muerte la urgía. Codiciaba Carriego el futuro tiempo generoso de los demás, el afecto de ausentes. Por esa abstracta conversación con las almas, llegó a desentenderse del amor y de la desprevenida amistad, y se redujo a ser su propia publicidad y su apóstol. Puedo intercalar una historia. Una mujer ensangrentada, italiana, que huía de los golpes de su marido, irrumpió una tarde en el patio de los Carriego. Éste salió indignado a la calle y dijo las cuatro duras palabras que había que decir. El marido (un cantinero vecino) las toleró sin contestación, pero guardó rencor. Carriego, sabiendo que la fama es artículo de primera necesidad, aunque vergonzante, publicó un suelto de vistosa reprobación en Última Hora sobre la brutalidad de ese gringo. Su\\' resultado fue inmediato: el hombre, vindicada públicamente su condición de bruto, depuso entre ajenas chacotas halagadoras el malhumor; la golpeada anduvo sonriente unos días; la calle Honduras se sintió más real cuando se leyó impresa. Quien así podía traslucir en los otros esa apetencia clandestina de fama, adolecía de ella también. , La perduración en el recuerdo de los demás lo tiranizaba. Cuando alguna definitiva pluma de acero resolvió que Almafuerte, Lugones y Enrique Banchs integraban ya el triunvirato —¿o sería el tricornio o el trimestre?— de la poesía argentina, Carriego proponía en los cafés la deposición de Lugones, para que no tuviera que molestar su propia inclusión ese arreglo ternario. Las variantes raleaban: sus días eran un solo día. Hasta su muerte vivió en el 84 de Honduras, hoy 3784. Era infaltable los domingos en casa nuestra, de vuelta del hipódromo. Repensando las frecuencias de su vivir —los desabridos despertares caseros, el gusto de travesear con los chicos, la copa grande de guindado oriental o caña\\' de naranja en el vecino almacén de Charcas y Malabia, las tenidas en el bar de Venezuela y Perú, la discutidora amistad, las italianas comidas porterías en la Cortada, la conmemoración de versos de Gutiérrez Nájera y de Almafuerte, la. asistencia viril a la casa de zaguán rosado como una niña, el cortar un gajito de madreselva al orillar una tapia, el hábito y el amor de la noche— veo un sentido de inclusión y de círculo en su misma trivialidad. Son actos comunísticos, pero el sentido fundamental de común es el de compartido entre todos. Esas frecuencias que enuncié de Carriego, yo sé que nos lo acercanT Lo repiten infinitamente en nosotros, como si Carriego perdurara disperso en nuestros destinos, como si cada uno de nosotros fuera 120 JORGE LUIS BORGES—OBRAS COMPLETAS por unos segundos Carriego. Creo que literalmente así es, y que esas momentáneas identidades (¡no repeticiones!) que aniquilan el supuesto correr del tiempo, prueban la eternidad. Inferir de un libro las inclinaciones de su escritor parece operación muy fácil, máxime si olvidamos que éste no redacta siempre lo que prefiere, sino lo de menor empeño y lo que se figura esperan de él. Esas borrosas imágenes suficientes de campo de a caballo, que son el fondo de toda conciencia argentina, no podían faltar en Carriego. En ellas hubiera querido vivir. Otras incidentales (de azar domiciliario al principio, de ensayo aventurero después, de cariño al fin) eran, sin embargo, las que defenderían su memoria: el patio que es ocasión de serenidad, rosa para los días, el fuego humilde de San Juan, revolcándose como un perro en mitad de la calle, la estaca de la carbonería, su bloque de apretada tiniebla, sus muchos leños, la mampara de fierro del conventillo, los hombres de la esquina rosada. Ellas lo confiesan y aluden. Yo espero que Carriego lo entendió así alegre y resignadamente, en una de sus callejeras noches finales; yo imagino que el hombre es poroso para la muerte y que su inmediación lo suele vetear de hastíos y de luz, de vigilancias milagrosas y previsiones. EVARISTO CARRIEGO 121 III LAS MISAS HEREJES Antes de considerar este libro, conviene repetir que todo escritor empieza por un concepto ingenuamente físico de lo que es arte. Un libro, para él, no es una expresión o una concatenación de expresiones, sino literalmente un volumen, un prisma de seis caras rectangulares hecho de finas láminas de papel que deben presentar una carátula, una falsa carátula, un epígrafe en bastardilla, un prefacio en una cursiva mayor, nueve o diez partes con una versal al principio, un índice de materias, un ex libris con un relojito de arena y con un resuelto latín, una concisa fe de erratas, unas hojas en blanco, un colofón interlineado y un pie de imprenta: objetos que es sabido constituyen el arte de escribir. Algunos estilistas (generalmente los del inimitable pasado) ofrecen además un prólogo del editor, un retrato dudoso, una firma autógrafa, un texto con variantes, un espeso aparato crítico, unas lecciones propuestas por el editor, una lista de autoridades y unas lagunas, pero se entiende que eso no es para todos.. . Esa confusión de papel de Holanda con estilo, de Shakespeare con Jacobo Peuser, es indolentemente común, y perdura (apenas adecentada) entre los retóricos, para cuyas informales almas acústicas una poesía es un mostradero de acentos, rimas, elisiones, diptongaciones y otra fauna fonética. Escribo esas miserias características de todo primer libro, para destacar las inusuales virtudes de este que considero. Irrisorio sin embargo sería negar que las Misas herejes es un libro de aprendizaje. No entiendo definir así la inhabilidad, sino estas dos costumbres: el deleitarse casi físicamente con determinadas palabras —por lo común, de resplandor y de autoridad— y la simple y ambiciosa determinación de definir por enésima vez los hechos eternos. No hay versificador incipiente que no acometa una definición de la noche, de la tempestad, del apetito carnal, de la luna: hechos que no requieren definición porque ya poseen nombre, vale decir, una representación compartida. Carriego incide en esas dos prácticas. . Tampoco se le puede absolver de la acusación de borroso. Es tan evidente la distancia entre la incomunicada palabrería de composiciones —de descomposiciones, más bien— como Las últimas etapas y la rectitud de sus buenas páginas ulteriores en 122 JORGE LUIS BORGES—OBRAS COMPLETAS La canóión del barrio, que no se debe ni recalcar ni omitir. Vincular esas naderías con el simbolismo es desconocer deliberadamente las intenciones de Laforgue o de Mallarmé. No es preciso ir tan lejos: el verdadero y famoso padre de esa relajación fue Rubén Darío, hombre que a trueque de importar del francés unas comodidades métricas, amuebló a mansalva sus versos en el Petit Larousse con una tan infinita ausencia de escrúpulos que panteísmo y cristianismo eran palabras sinónimas para él y. que al representarse aburrimiento escribía nirvana.1 Lo divertido es que el formulador de la etiología simbolista, José Gabriel, no se resuelve a no encontrar símbolos en las Misas herejes, y expende a los lectores de la página 36 de su libro, esta solución más bien insoluble del soneto El clavel: Ha de decir (Carriego) que intentó darle un beso a una mujer, y que ella, intransigente, interpuso su mano entre ambas bocas (y esto no se sabe sino después de muy penosos esfuerzos); pero no, decirlo así, seria pedestre, no sería poético, y entonces llama clavel y rojo heraldo de amatorios credos a sus labios, y al acto negativo de la hembra, la ejecución, del clavel con la guillotina de sus nobles dedos. Así la aclaración; véase ahora el interpretado soneto:- Fue al surgir de una duda insinuativa cuando hirió tu severa aristocracia, como un símbolo rojo de mi audacia, un clavel que tu mano no cultiva. Hubo quizá una frase sugestiva o advirtió una intención tu perspicacia, pues tu serenidad llena de gracia fingió una rebelión despreciativa. . Y asi, en tu vanidad, por la impaciente condena de tu orgullo intransigente, mi rojo heraldo de amatorios credos mereció, por su símbolo atrevido, como un apóstol o como un bandido la guillotina de tus nobles dedos. El clavel es fuera de duda un clavel de veras, una guaranga flor popular deshecha por la niña y el simbolismo (el mero gon- 1 Conservo estas impertinencias para castigarme por haberlas escrito. En aquel tiempo creía que los poemas de Lugones eran superiores a los de Darío. Es verdad que también creía que los de Quevedo eran superiores a los de Góngora. (Nota de 1954.) . EVARISTO CARRIEGO 123 gorismo) es el del explicativo español, que lo traduce en labios. Lo no discutible es que una fuerte mayoría de las Misas herejes ha incomodado seriamente a los críticos. ¿Cómo justificar esas incontinencias inocuas en el especial poeta del suburbio? A tan escandalizada interrogación creo satisfacer con esta respuesta: Esos principios de Evaristo Carriego son también del suburbio, no en el superficial sentido temático de que versan sobre él, sino en el sustancial de que así versifican los arrabales. Los pobres gustan de esa pobre retórica, afición que no suelen extender a sus descripciones realistas. La paradoja es tan admirable como inconsciente: se discute la autenticidad popular de un escritor en virtud de las únicas páginas de ese escritor que al pueblo le gustan. Ese gusto es por afinidad: el palabreo, el desfile de términos abstractos, la sensiblería, son los estigmas de la versificación orillera, inestudiosa de cualquier acento local menos del gauchesco, íntima de Joaquín Castellanos y de Almafuerte, no de letras de tango. Recuerdos de glorieta y de almacén me asesoran aquí; el arrabal se surte de arrabalero en la calle Corrientes, pero lo altilocuente abstracto es lo suyo y es la materia que trabajan los payadores. Repetido sea con brevedad: esa pecadora mayoría de las Misas herejes no habla de Palermo, pero Palermo pudo haberla inventado. Pruébelo este barullo: Y en el salmo coral, que sinfoniza un salvaje ciclón sobre la pauta, venga el robusto canto que presagie, • con la alegre fiereza de una diana que recorriese como un verso altivo el soberbio delirio de la gama, el futuro cercano de los triunfos futuro precursor de las revanchas; el instante supremo en que se agita la misión terrenal de las canallas. . . Es decir: una tempestad puesta en salmo que debe contener un canto que debe parecerse a una diana que debe parecerse a un verso, y la predicción de un porvenir recién precursor encomendada al canto que debe parecerse a la diana que se parece a un verso. Sería una declaración de rencor prolongar la cita: básteme jurar que esa rapsodia de payador abombado por el endecasílabo rebasa los doscientos renglones y que ninguna de sus muchas estrofas puede lamentar una carencia de tempestades, de banderas, de cóndores, de vendas maculada^ y de martillos. Eliminen su mal recuerdo estas décimas, de pasión lo bastante 124 JORGE LUIS BORGES—OBRAS COMPLETAS circunstancial para que las pensemos biográficas, y que tan bien han de llevarse con la guitarra: Que este verso, que has pedido, vaya hacia ti, corno enviado de algún recuerdo volcado en una tierra de olvido. . . para insinuarte al oído su agonía más secreta, cuando en tus noches, inquieta, por las memorias, tal vez, leas, siquiera una vez, las estrofas del poeta. ¿Yo...? Vivo con la pasión de aquel ensueño remoto, que he guardado como un voto, ya viejo, del corazón. Y sé en mi amarga obsesión que mi cabeza, cansada caerá, recién, libertada de la prisión de ese ensueño ¡cuando duerma el postrer sueño sobre la postrer almohada! Paso a rever las composiciones realistas que integran El alma del suburbio, en la que podemos escuchar ¡al fin! la voz de Carriego, tan ausente de las menos favorecidas partes: Las reveré en su orden, omitiendo voluntariamente unas dos: De la aldea (cromo de intención andaluza y de una trivialidad categórica) y El guapo, que dejo para una consideración final más extensa. La primera, El alma del suburbio, refiere un atardecer en la esquina. La calle popular hecha patio, es su descripción, la consoladora posesión de lo elemental que les queda a los pobres: la magia servicial de los naipes, el trato humano, el organito con su habanera y su gringo, la espaciada frescura de la oración, el discutidero eterno sin nmnbo, los temas de la carne y la muerte. No se olvidó Evaristo Carriego del tango, que se quebraba con diablura y bochinche por las veredas, como recién salido de las casas de la calle Junín, y que era cielo de varones nomás, igual que la visteada l: 1 La épica circunstanciada del tango ha sido escrita ya: su autor, Vicente Rossi; su nombre en librería, Cosas de negros (1926) , obra clásica en nuestras letras y que por la sola intensidad de su estilo tendrá en todos razón. Para Rossi, el tango es afro-montevideano, del Bajo, el tango tiene motas EVARISTO CARRIEGO 125 En la calle, la buena gente derrocha sus guarangos decires más lisonjeros, porque al compás de un tango, que es La Morocha, lucen ágiles cortes dos orilleros. Sigue una página de misterioso renombre, La viejecita, festejada cuando se publicó, porque su liviana dosis de realidad, indistinta ahora, era infinitesimalmente más fuerte que la de las rapsodias coetáneas. La crítica, por la misma facilidad de servir elogios, corre el albur de profetizar. Los encomios que se aplicaron a La viejecita son los que merecería El guapo después; los dedicados en 1862 a Los mellizos de la Flor de Ascasubi, son una profecía escrupulosa de Martín Fierro. Detrás del mostrador es una oposición entre la urgente vida barullera de los borrachos y la mujer hermosa, bruta y tapiada, detrás del mostrador como una .estatua que impávida les enloquece el deseo y pasa sin dolor, asi, inconsciente, su vida material de carne esclava: la tragedia opaca de un alma que no ve su destino. La siguiente página, El amasijo, es el reverso deliberado de El guapo. En ella se denuncia con ira santa nuestra peor realidad: el guapo de entrecasa, la doble calamidad de la mujer gritada y golpeada y del malevo que con infamia se emperra en esa pobre hombría vanidosa de la opresión: Dejó de castigarla, por fin cansado de repetir el diario brutal ultraje . que habrá de contar lu¡ego, felicitado, en la rueda insolente del compadraje. . . Sigue En el barrio, página cuyo hermoso motivo es el acompañamiento eterno y la eterna letra de la guitarra, proferidos no por una convención como es hábito, sino literalmente para inen la raíz. Para Laurentino Mejías, (La policía por dentro, II, 1913, Barcelona) es afro-porteño, inaugurado en los machacones candombes de la Concepción y de Monserrat, amalevado después en los peringundines: el de Lorea, el de la Boca del Riachuelo y el de Solís. Lo bailaban también en las casas malas de la calle del Temple, sofocado el organito de contrabando por el colchón pedido a uno de los lechos venales, ocultas las armas de la concurrencia en los albañales vecinos, en previsión de un raid policial. 126 JORGE LUIS BORGES—OBRAS COMPLETAS dicar un efectivo amor. El episodio de esa reanimación de símbolos es de embargada luz, pero es fuerte. Desde el primitivo patio de tierra o patio colorado, llama con ira de pasión la urgente milonga que escucha insensible la despreciativa moza, que no quiere salir de.la pieza. Sobre el rostro adusto tiene el guitarrero viejas cicatrices de cárdeno brillo, en el pecho un hosco rencor pendenciero y en los negros ojos la luz del cuchillo. Y no es para el otro su constante enojo. A ese desgraciado que a golpes maneja le hace el mismo caso, por bruto y por flojo, que al pucho que olvida detrás de la oreja. Pues tiene unas ganas su altivez airada de concluir con todas las habladurías. ¡Tan capaz se siente de hacer una hombrada de la que hable el barrio tres o cuatro días. . .! La estrofa antefinal es de orden dramático; parece.dicha por el mismo tajeado. Es intencionado también el último verso, la apurada atención de unos pocos días que el barrio, mal acostumbrado entonces, dedicaba a una muerte, lo pasajero de la gloria de poner un barbijo. Después está Residuo de fábrica, que es la piadosa notificación de una pena, donde lo que más importa quizá es la versión instintiva de las enfermedades como una imperfección, una culpa. Ha tosido de nuevo. El hermanito que a veces en la pieza se distrae jugando sin hablarle, se ha quedado de pronto serio, como si pensase. Después se ha levantado y bruscamente se ha ido, murmurando al alejarse, con algo de pesar y mucho de asco: —que la puerca otra vez escupe sangre. Entiendo que el énfasis de emoción de la estrofa penúltima está en la circunstancia cruel: sin hablarle. Sigue La queja, que es una premonición fastidiosa de no sé EVARISTO CARRIEGO 127 cuántas letras fastidiosas de tango, una biografía del esplendor, desgaste, declinación y oscuridad final de una mujer de todos. El tema es de ascendencia horaciana —Lydia, la primera de esa estéril dinastía infinita, enloquece de ardiente soledad como enloquecen las madres de los caballos, matres equorum, y en su ya desertada pieza amat janua limen, la hoja se ha prendido al umbral— y desagua en Contursi, pasando por Evaristo Carriego, cuyo harlot\\'s progress sudamericano, completado por la tuberculosis, no cuenta mayormente en la serie. La sigue La guitarra, descaminada enumeración de imágenes bobas, indigna del autor de En el barrio y que parece desdeñar o ignorar las situaciones de eficacia poética motivadas por el instrumento: la música prodigada a la calle, el aire venturoso que nos es triste por el recuerdo incidental que le unimos, las amistades que apadrina y corona. Yo he visto amistarse dos hombres y empezar a correr parejo sus almas, mientras punteaban en las dos guitarras un gato que parecía el alegre sonido de esa confluencia. La última es Los perros del barrio, que es una sorda reverberación de Almafuerte, pero que tradujo una realidad, pues el pobrerío de esas orillas abundó siempre en perros, ya por lo centinelas que son, ya por curiosear su vivir, que es una diversión que no cansa, ya por incuria. Alegoriza indebidamente Carriego esa perrada pordiosera y sin ley, pero trasmite su caliente vida en montón, su chusma de apetitos. Quiero repetir este verso cuando beben agua de luna en los charcos y aquel otro dé aullando exorcismos contra la perrera, que tira de uno de mis fuertes recuerdos: la visitación disparatada de ese infiernito, vaticinado por ladridos en pena, y precedido —cerca— por una polvareda de chicos pobres, que espantaban a gritos y pedradas otra polvareda de perros, para resguardarlos del lazo. Me falta considerar El guapo, exaltación precedida por una famosa dedicatoria al también guapo electoral alsinista San Juan Moreira. Es una ferviente presentación 1, cuya virtud reside también en los énfasis laterales: en el conquistó a la larga renombre de osado 1 Lástima, en los versos finales, la mención arbitraria del mosquetero. 128 JORGE LUIS BORGES—OBRAS COMPLETAS que está significando- las muchas candidaturas a ese renombre, y en esa casi mágica indicación de poderío erótico: caprichos de hembra que tuvo la daga. En El guapo, también las omisiones importan. El guapo no era un salteador n r u n rufián ni obligatoriamente uñ cargoso; era la definición de Carriego: un cultor del coraje. Un estoico, en el mejor de los casos; en el peor, un profesional del barullo, un especialista de la intimidación progresiva, un veterano del ganar sin pelear: menos indigno —siempre— que su presente desfiguración italiana de.cultor de la infamia, de malevito dolorido por la vergüenza de no ser canflinflero. Vicioso del alcohol del peligro o calculista ganador a pura presencia: eso era el guapo, sin implicar una cobardía lo último. (Si una comunidad resuelve que el valor es la primera virtud, la simulación del valor será tan general como la de la belleza entre las muchachas o la de pensamiento inventor entre los que publican; pero ese mismo aparentado valor será un aprendizaje.) Pienso en el guapo antiguo, persona de Buenos Aires que me interesa con más justificada atracción que ese otro mito más popular de Carriego (Gabriel, 57) la costürerita que dio aquel mal paso y su contratiempo orgánico-sentimental. Su profesión carrero, amansador de caballos o matarife; su educación, cualquiera de las esquinas de la ciudad, y éstas principalmente: la del sur, el Alto —el circuito Chile, Garay, Balcarce, Chacabuco—, la del norte, la Tierra del Fuego —el circuito Las Heras, Arenales, Pueyrredón, Coronel—, otras, el Once de Setiembre, la Batería, los Corrales Viejos. \\' No era siempre un rebelde: el comité alquilaba su temi- 1 ¿Su nombre? Entrego a la leyenda esta lista, que debo a la activa amabilidad de D. José Olave. Se refiere a las dos últimas décadas del siglo que pasó. Siempre despertará una suficiente imagen, aunque borrosa, de chinos de pelea, duros y ascéticos en el polvoriento suburbio lo mismo que las tunas. PARROQUIA DEL SOCORRO Avelino Galeano (del Regimiento Guardia Provincial) . Alejo Albornoz (muerto en pelea por el que sigue, en calle Santa Fe). Pió Castro. Ventajeros, guapos ocasionales: Tomás Medrano. Manuel Flores. PARROQUIA I)EI. PILAR, ANTIGUA Juan Maraña, Romualdo Suárez, alias El Chileno. Tomás Real. Florentino Rodríguez. Juan Tink (hijo de ingleses, que acabó inspector de policía en Avellaneda). Raimundo, Renovales (matarife). Ventajeros, guapos ocasionales: Juan Ríos. Damasio Suárez, alias Carnaza. EVARISTO CARRIEGO 129 bilidad y su esgrima, y le dispensaba su protección. La policía, entonces, tenía miramientos con él: en un desorden, el guapo no iba a dejarse arrear, pero daba —y cumplía— su palabra de concurrir después. Las tutelares influencias del comité restaban toda zozobra a ese rito. Temido y todo, no pensaba en renegar de su condición; un caballo aperado en plata vistosa, unos pesos para el reñidero o el monte, bastaban para iluminar sus domingos. Podía no ser fuerte: uno de los guapos de la Primera, el Petiso Florestera un tapecito a lo víbora, una miseria, pero con el cuchillo una luz. Podía no ser un provocador: el guapo Juan Muraña, famoso, era una obediente máquina de pelear, un hombre sin más rasgos diferenciales que la seguridad letal de su brazo y una incapacidad perfecta de miedo. No sabía cuándo proceder, y pedía con los ojos —alma servil— la venia de su patrón de turno. Una vez en pelea, tiraba solamente a matar. No quería criar cuervos. Hablaba, sin temor y sin preferencia, de las muertes que cobró —mejor: que el destino obró a través de él, pues existen hechos de una tan infinita responsabilidad (el de procrear un h»mbre o matarlo) que el remordimiento o la vanagloria por ellos es una insensatez. Murió lleno de días, con su constelación de muertes en el recuerdo, ya borrosa sin duda. PARROQUIA DE BELCRANO Atanasio Peralta (muerto en pelea con muchos). Juan González. Eulogio Muraña, alias Cuervito. Ventajeros: José Díaz. Justo González. Nunca peleaban en montón, siempre con arma blanca, solos. El menosprecio británico del cuchillo se ha hecho tan general, que puedo recordar con derecho el concepto vernáculo: Para el criollo la única pelea seria, de hombres, era la que permitía un riesgo de muerte. El puñetazo era un mero prólogo del acero, una provocación. l-jü JORGE LUIS BORGES—OBRAS COMPLETAS IV LA CANCIÓN DEL BARRIO Mil novecientos doce. Hacia los muchos corralones de la calle Cervrno o hacia los cañaverales y huecos del Maldonado —zona dejada con galpones de zinc, llamados diversamente salones, donde flameaba el tango, a diez centavos la pieza y la compañera— se trenzaba todavía el orilleraje y alguna cara de varón quedaba historiada, o amanecía con desdén un compadrito muerto con una puñalada humana en el vientre; pero en general, Palermo se conducía como Dios manda, y era una cosa decentita, infeliz, como cualquier otra comunidad gringo-criolla. El júbilo astrológiro del Centenario era tan difunto como sus leguas de lanilla azul de banderas, como sus bordalesas de brindis, sus cohetes botarates, sus luminarias municipales en el herrumbrado cielo de la plaza de Mayo y su luminaria predestinada el cometa Halley, ángel de aire y de fuego a quien le cantaron el tango Independencia los organitos. Ya la gimnasia interesaba más que la muerte: los chicos ignoraban el visteo por atender al jootball, rebautizado por desidia vernácula el foba. Palermo se apuraba hacia la sonsera: la siniestra edificación art nouveau brotaba como una hinchada flor hasta de los barriales. Los ruidos eran otros:, ahora la campanilla del biógrafo —ya con su buen anverso americano de coraje a caballo y su reverso erótico-sentimental europeo— se entreveraba con el cansado retumbar de las chatas y con el silbato del afilador. Salvo algunos pasajes, no quedaba calle por empedrar. La densidad de la población era doble: el censo que registró en mil novecientos cuatro un total de ochenta mil almas para las circunscripciones de Las Heras y de Palermo de San Benito, registraría el catorce uno de ciento ochenta mil. El tranvía mecánico chirriaba por las aburridas esquinas. Cattaneo, en la imaginación popular, había deshancado a Moreira... Ese casi invisible Palermo, matero y progresista, es el de La canción del barrio. Carriego, que publicó en mil novecientos ocho El alma del suburbio, dejó en mil novecientos doce los materiales de La canción del barrio. Este segundo título es mejor en limitación y en veracidad que el primero. Canción es de una intención más lúcida que alma; suburbio es una titulación recelosa, un aspaviento de hombre que tiene miedo de perder el último tren. Nadie nos EVARISTO CARRIEGO 131 ha informado Vivo en el suburbio de Tal; todos prefieren avisar en qué barrio. Esa alusión el barrio no es menos íntima, servicial y unidora en la parroquia de la Piedad que en Saavedra. La distinción es pertinente: el manejo de palabras de lejanía para elucidar las cosas de esta república, deriva de una propensión a rastrearnos barbarie. Al paisano lo quieren resolver por la pampa; al compadrito por los ranchos de fierro viejo. Ejemplo: el periodista o artefacto vascuence J. M. Salaverría, en un libro que desde el título, se equivoca: El poema de la pampa, Martín Fierro y el criollismo español. Criollismo español es un contrasentido deliberado, hecho para asombrar (lógicamente, una contradictio in adjecto); poema de la pampa es otro menos voluntario percance. Pampa, según información de Ascasubi, era para los antiguos paisanos el desierto donde merodeaban los indios.x Basta repasar el Martin Fierro para saber que es el poema, no de.la pampa, sino del hombre desterrado a la pampa, del hombre rechazado por la civilización pastoril centrada en las estancias como pueblos y en el pago sociable. A Fierro, al todovaleroso hombre Fierro, le dolía aguantar la soledad, quiere decir la pampa. Y en esa hora de la tarde En que tuito se adormece, Que el mundo dentrar parece A vivir en pura calma, Con las tristezas del alma Al pajonal enderiecé. Es triste en medio del campo Pasarse noches enteras Contemplando en sus carreras Las estrellas que Dios cria, Sin tener más compañía \\' - \\' Que su delito y las fieras. Y estas estrofas para siempre, que son el momento más patético de la historia: Cruz y Fierro de una estancia Una tropilla se arriaron— Por delante se la echaron como criollos entendidos, Y pronto sin ser sentidos 1 Ahora es un exclusivo término literario, que en el campo llama la atención. 132 JORGE LUIS BORGES—OBRAS CUMPLE 1 AS Por la frontera cruzaron. Y cuando la habían pasao Una madrugada, clara, Le dijo Cruz que mirara Las últimas poblaciones Y a Fierro dos lagrimones Le rodaron por la cara. Otro Salaverría —de cuyo nombre no quiero acordarme, porque lo demás de sus libros tiene mi admiración— habla ¡cuando no! del payador pampero, que- a la sombra del ombú, en la infinita calma del desierto, entona acompañado de la guitarra española las monótonas décimas de Martin Fierro; pero el escritor es tan monótono, décimo, infinito, español, calmoso, desierto y acompañado, que no se fija que en el Martín Fierro no hay décimas. La predisposición a rastrearnos barbarie es muy general: Santos Vega (cuya entera leyenda es que haya una leyenda de Santos Vega; según ¡as cuatrocientas páginas de monografía de Lehmann-Nitsche pueden evidenciarlo) armó o heredó la copla que dice: Si este novillo me mata — No me entierren en sagrao; — Entiérrenme en campo verde — Donde me pise el ganao, y su evidentísima idea (Si soy tani torpe, renuncio a que me lleven al -cementerio) ha sido fesjejada como declaración panteísta de hombre que quiere que lo pisen muerto las vacas.* 1 Hacer del paisano un recorredor infinito del desierto, es un contrasentido romántico; asegurar, como lo hace nuestro mejor prosista de pelea, Vicente Rossi, que el gaucho es el guerrero nómade charrúa, es asegurar \\'meramente que a esos desapegados charrúas les dijeron gauchos: Conchabo primitivo de una palabra, que resuelve muy poco. Ricardo Güiraldes, para su versión del hombre de campo como hombre de vagancia, tuvo que recurrir al gremio de los troperos. Groussac, en su conferencia de 1893, habla del gaucho fugitivo liacia el lejano sur, en lo que de la pampa queda, pero lo sabido de todos es que en el lejano sur no quedan gauchos porque no los hubo antes, y que donde perduran es en los cercanos partidos de hábito criollo. Más que en lo étnico (el gaucho pudo ser blanco, negro, chino, mulato ov zambo), más que en lo lingüístico (el gaucho riograndense habla una variedad brasileña del portugués) y más que en lo geográfico (vastas legiones de Buenos Aires, de Entre Ríos, de Córdoba y de Santa Fe son ahora gringas), el rasgo diferencial del gaucho está en el ejercicio cabal de un tipo primitivo de ganadería. Destino calumniado también el de los compadritos. Hará bastante más de cien años los nombraban así a los porteños pobres, que no tenían para vivir en la inmediación de la Plaza Mayor, hecho que les valió también el nombre de orilleros. Eran literalmente el pueblo: tenían su terrenito de un cuarto de manzana y su casa propia, más allá de la calle Tucumán o la calle Chile o la entonces calle de Velarde: Libertad-Salta. Las connotaciones deshancaron más tarde la idea principal: Ascasubi, en la revisión EVARISTO CARRIEGO i 33 Las orillas adolecen también de una atribución enconada. El arrabalero y el tango las representan. En anterior capítulo escribí cómo el arrabal se surte de arrabalero en la calle Corrientes y cómo las efusiones de El Cantaclaro, de los discos de fonógrafo y de la radio, aclimatan esa jerigonza de\\' actor en Avellaneda o en Coghlan. Su pedagogía no es fácil: cada tango nuevo redactado en el sedicente idioma popular, es un acertijo, sin que le falten las perplejas variantes, los corolarios, los lugares oscuros y la razonada discordia de comentadores. 1.a tiniebla es lógica: el pueblo no precisa añadirse color local; el simulador discurre que sí, pero se le va la mano en la operación. En lo que se refiere a la música, tampoco el tango es el natural sonido de los barrios; lo fue de los burdeles nomás. Lo representativo de veras es la milonga. Su versión corriente es un infinito saludo, una ceremoniosa gesta- \\' ción de ripios zalameros, corroborados por el grave latido de la guitarra. Alguna vez narra sin apuro cosas de sangre, duelos que tienen tiempo, muertes de valerosa charlada provocación; otra, le da por simular el tema del destino. Los aires y los argumentos suelen variar; lo que no varía es la entonación del cantor, atiplada como de ñato, arrastrada, con apurones de fastidio, nunca gritona, entre conversadora y cantora. El tango está en el tiempo, en los desaires y contrariedades del tiempo; el chacaneo aparente de la milonga ya es de eternidad. La milonga es una de las grandes conversaciones de Buenos Aires; el truco es la otra. El truco lo investigaré en capítulo aparte; básteme dejar escrito que, entre los pobres, el hombre alegra al fiambre, como el hijo\\'mayor de de su Callo número doce, pudo escribir: compadrito: mozo soltero, bailarín, enamorado y cantor. El imperceptible Monner Satis, virrey clandestino, lo hizo equivaler a matasiete, farfantón y perdonavidas, y demandó: ¿Por qué compadre se toma siempre aquí en mala parte?, investigación de que se aligeró en seguida escribiendo, con su tan envidiada ortografía, sano gracejo, etc.: Vayan ustedes a saber. Segovia lo define a insultos: Individuo jactancioso, falso, provocativo y traidor. No es para tanto. Otros confunden guarango y compadrito: están equivocados, el compadre puede no ser guarango, como no lo suele ser el paisano. Compadrito, siempre, es el plebeyo ciudadano que tira a fino; otras atribuciones son el coraje que se florea, la invención o la práctica del dicharacho, el zurdo empleo de palabras insignes. Indumentaria, usó la común de su tiempo, con agregación o acentuación de algunos detalles: hacia el noventa fueron características suyas el chambergo negro requintado de copa altísima, el saco cruzado, el pantalón francés con trencilla, apenas acordeonado en la punta, el botín negro con botonadura o elástico, de taco alto; ahora (1929) prefieie el chambergo gris en la nuca, el pañuelo copioso, la camisa rosa o granate, el saco abierto, algún dedo tieso de anillos, el pantalón derecho, el botín negro, como espejo, de caña clara. Lo que a Londres el cockney, es a nuestras ciudades el compadrito. 134 JORGE LUIS BORGES—OBRAS COMPLETAS Martín Fierro entendió en la prisión. x El aniversario, el día de los muertos, el día del santo, el día patrio, el bautismo, la noche de San Juan, una enfermedad, las vísperas de año, todo se le hace ocasión de ver gente. La muerte da él velorio: conversadera general que no le cerró a nadie la puerta, visita a quien murió. Tan evidente es esa patética sociabilidad de la gente baja, que el doctor Evaristo Federico Carriego, para hacer burla de los recién desembarazados recibos, escribió que se parecían muchísimo a los velorios. El suburbio es el agua abombada y los callejones, pero es también la balaustrada celeste y la madreselva pendiente y la jaula con el canario. 2 Gente atenciosa, suelen las comadres decir. Pobrerío conversador, el de nuestro Carriego. Su pobreza no es la desesperada o congénita del europeo pobre (a lo menos del europeo novelado por el naturalismo ruso) sino la pobreza confiada en la lotería, en el comité, en las influencias, en la baraja que puede tener su misterio, en la quiniela de módica posibilidad, en las recomendaciones o, a falta de otra más circunstanciada y baja razón, en la pura esperanza. Una pobreza que se consuela con jerarquías —los Requena de Balvanera, los Luna de San Cristóbal Norte— que resultan simpáticas por su misma apelación al misterio y que nos encarna tan bien cierto dignísimo compadrito de José Álvarez: Yo nací en la calle Maipú, ¿sabes?. . . en la casa e los Garcías y h\\'estao acostumbrao a darme con gente y no con basura. . . ¡Bueno!. . . Y si no lo sabes, sábelo. . . a mí me cristianaron, en la Mercé y jue mi padrino un italiano que tenia almacén al lao de casa y que se murió pa la fiebre grande. . . ¡He lomando el peso! Entiendo que la lacra sustancial de La canción del barrio es la insistencia sobre lo definido por Shaw: mera mortalidad o infortunio (Man and Superman, XXXII). Sus páginas publican desgracias; tienen la sola gravedad del destino bruto, no menos incom- 1 Y antes que el hijo de Martín Fierro, el dios Odin. Uno de los libros sapienciales de la Edad Mayor (Hávamál, 47) le atribuye la sentencia Mathr er mannz garrían, que se traduce literalmente El hombre es la alegría del hombre. 2 En las afueras están las involuntarias bellezas de Buenos Aires, que son también las únicas —la liviana calle\" navegadora Blanco Encalada, las desvalidas esquinas de Villa Crespo, de San Cristóbal Sur, de Barracas, la majestad miserable de las orillas de la estación de cargas La Paternal y de Puente Alsina— más expresivas, creo, que las obras hechas con deliberación de belleza: la Costanera, el Balneario y el Rosedal, y la felicitada efigie de Pellegrini, con la revolcada bandera, y el tempestuoso pedestal incoherente que parece aprovechar los escombros de la demolición de un cuarto de baño, y los reticentes cajoncitos de Virasoro, que para no delatar el íntimo mal gusto, se esconde en la pelada abstención. EVARISTO CARRIEGO 1.H5 prensible por su escritor que por quien los lee. No les asombra el mal, no nos conducen a esa meditación de su origen, que resolvieron directamente los gnósticos con su postulación de una divinidad menguante o gastada, puesta a improvisar este mundo con material adverso. Es la reacción de Blake. Dios, que hizo al cordero, ¿te hizo? interroga al tigre. Tampoco es objeto de esas páginas el hombre que sobrevive al mal, el varón que a pesar de sufrir injurias —y de causarlas— mantiene limpia el alma. Es la reacción estoica de Hernández, de Almafuerte, de Shaw por segunda vez, de Quevedo. Alma robusta, en penas se examina, Y trabajos ansiosos y mortales Cargan, mas no derriban nobles cuellos se lee en las Musas castellanas, en su libro segundo. Tampoco lo distrae a Carriego la perfección del mal, la precisión y como inspiración del destino en sus persecuciones, el arrebato escénico de la desgracia. Es la reacción de Shakespeare: All strange and terrible events are welcome, But comforts we despise: our size of sorrow, Proportion\\'d to our cause, mwst be as great As that which makes it. Carriego apela solamente a nuestra piedad. Aquí es inevitable una discusión. La opinión general, tanto la conversada como la escrita, ha resuelto que esas provocaciones de lástima son la justificación y virtud de la obra de Carriego. Yo debo disentir, aunque solo. Una poesía que vivé de contrariedades domésticas y que se envicia en persecuciones menudas, imaginando o registrando incompatibilidades para que las deplore el lector, me parece una privación, un suicidio. El argumento es cualquier emoción lisiada, cualquier disgusto; el estilo es chismoso, con todas las interjecciones, ponderaciones, falsas piedades y preparatorios recelos que ejercen las comadres. Una torcida opinión (qué tengo la decencia de no entender) afirma que esa presentación de miserias implica una generosa bondad. Implica una indelicadeza, más bien. Producciones como Mamboretá o El nene está enfermo o Hay que cuidarla mucho, hermana, mucho —tan frecuentadas por la distracción de las antologías y por la. declamación— no pertenecen a la literatura sino al delito: son un deliberado chantaje sentimental, reducible a esta fórmula: Yo le presento un padecer; si Ud. no se conmueve, es un desalmado. Copio1 este final de una pieza (El otoño, muchachos) : l.\\'5() JORGE LUIS BORGES—OBRAS COMPLETAS . . . ¡Qué tristona anda, desde hace días, la vecina! ¿La tendrá así algún nuevo desengaño? Otoño melancólico y lluvioso ¿qué dejarás, otoño, en casa este año? ¿qué hoja te llevarás? Tan silencioso llegas que nos das miedo. Sí, anochece y te sentimos, en la paz casera, entrar sin un rumor. . . ¡Cómo envejece nuestra, tía soltera\\'. Esa apresurada tía soltera, engendrada en el, apurón del verso final para que pueda encarnizarse en ella el otoño, es buen indicio de la caridad de esas páginas. El humanitarismo es siempre inhumano: cierto film ruso prueba la iniquidad de la guerra mediante la infeliz agonía de un jamelgo muerto a balazos; naturalmente, por los que dirigen el film. Hecha esa restricción —cuyo decente fin es robustecer y curtir la fama de Carriego, probando que no le hace falta el socorro de esas quejosas páginas— quiero confesar con alacridad las verdaderas virtudes de su obra postuma. Su decurso tiene afinaciones de ternura, invenciones y adivinaciones de la ternura, tan precisas como ésta: Y cuando no estén, ¿durante cuánto tiempo aún se oirá su voz querida en la casa desierta? ¿Cómo serán en el recuerdo las caras que ya no veremos más? O esta racha de conversación con una calle, esta secreta posesión inocente: Nos eres familiar como una cosa que fuese nuestra: solamente nuestra. O esta encadenación, emitida tan de una vez como si fuera una sola extensa palabra: No. Te digo que no. Sé lo que digo: nunca más, minea más tendremos novia, EVARISTO CARRIEGO 137 y pasarán los años pero nunca más volveremos a querer a otra. Ya lo ves. Y pensar que nos decías, afligida quizá de verte sola, que cuando te murieses ni te recordaríamos. ¡Qué tonta! Sí. Pasarán los años, pero siempre como un recuerdo bueno, a toda hora estarás con nosotros. Con nosotros. .. Porque eras cariñosa como nadie lo fue. Te lo, decimos tarde, ¿no es cierto? Un poco tarde ahora que no nos puedes escuchar. Muchachas, como tú ha habido pocas. No temas nada, te recordaremos, y te recordaremos a ti sola: ninguna más, ninguna más. Ya nunca más volveremos a querer a otra. El modo repetidor de esa página es el de cierta página de Enrique Banch, Balbuceo, en El Cascabel del halcón (1909), que la supera inconmensurablemente línea por línea (Nunca podría decirte — todo lo que te queremos: es como un montón de estrellas — todo lo que te queremos, etcétera), pero que parece mentira, mientras la de Evaristo Carriego es verdad. Pertenece también a La canción del barrio la mejor poesía de Carriego, la intitulada Has vuelto. Has vuelto, organillo. En la acera hay risas. Has vuelto llorón y cansado como antes. El ciego te espera las más de las noches sentado a la puerta. Calla y escucha. Borrosas memorias de cosas lejanas evoca en silencio, de cosas de cuando sus ojos tenían mañanas, de cuando era joven... la novia... ¡quién sabe! El verso animador de la estrofa no es el final, es el prefinal, y estoy creyendo que Evaristo Carriego lo ubicó así para sortear el énfasis. Una de sus primeras composiciones —El alma del suburbio— había tratado el mismo sujeto, y es hermoso comparar la solución antigua (cuadro realista hecho de observaciones particulares) con la definitiva y límpida fiesta donde están convo138 JORGK LUIS BORGES—OBRAS COMPLETAS cados los símbolos preferidos por él: la costurerita que dio aquel mal paso, el orgánico, la esquina desmantelada, el ciego, la luna. .. . Pianito que cruzas la calle cansado moliendo el eterno familiar motivo que el año pasado gemía a la luna de invierno: con tu voz gangosa dirás en la esquina la canción ingenua, la de siempre, acaso esa preferida de nuestra vecina la costurerita que dio aquel mal paso. Y luego de un valse te irás corno una tristeza que cruza la calle desierta, y habrá quien se quede mirando la luna desde alguna puerta. . . . Anoche, después que te fuiste, cuando todo el barrio volvía al sosiego —qué tristelloraban los ojos del ciego. La ternura es corona de los muchos días, de los años. Otra virtud del tiempo, ya operativa en este libro segundo y ni sospechada o verosímil en el anterior, es el buen humorismo. Es condición que implica un delicado carácter: nunca se distraen los innobles en ése puro goce simpático de las debilidades ajenas, tan imprescindible en el ejercicio de la amistad. Es condición que se lleva con el amor: Soame Jenyns, escritor del mil setecientos, pensó con reverencia que la parte de la felicidad de los bienaventurados y de los ángeles derivaría de una percepción exquisita de lo ridículo. Copio, ejemplo de sereno humorismo, estos versos: ¿Y la viuda de la esquina? La viuda murió anteayer. ¡Bien decía la adix/ina, que cucando Dios determina ya no hay nada más que hacer! Los expedientes de su gracia deben ser dos: primero, el de poner en boca de una adivina esa no adivinatoria moralidad sobre lo inescrutable de los actos de la Providencia; segundo, el respeto impertérrito del vecindario, que alega sabiamente esa distracción. Pero la más deliberada página de humorismo dejada por Carriego es FJ casamiento. Es la más porteña también. En el barrio EVARISTO CARRIEGO 139 es casi una guapeada entrerriana; Has vuelta, es un solo frágil minuto, una flor de tiempo, de un solo atardecer. El casamiento, en cambio, es tan esencial de Buenos Aires como los cielitos de Hilario Ascasubi o el Fausto criollo o la humorística de Macedonio Fernández o el astillado arranque fiestero de los tangos de Greco, de Arólas y de Saborido. Es una articulación habilísima de los muchos infalibles rasgos de una fiesta pobre. No falta el rencor desaforado del vecindario. En la acera de enfrente varias chismosas que se encuentran al tanto de lo que pasa, aseguran que para ver ciertas cosas mucho mejor seria quedarse\\' en casa. Alejadas del cara- de presidiario que sugiere torpezas, unas vecinas pretenden que ese sucio vocabulario no debieran oírlo las chiquilinas. Aunque —tal acontece— todo es posible, sacando consecuencias poco oportunas, lamenta una insidiosa la incomprensible suerte que, por desgracia, tienen algunas. Y no es el primer caso. . . Si bien le extraña que haya salido sonso. . . pues en enero del año que trascurre, si no se engaña dio que hablar con el hijo del carnicero. El orgullo de antemano herido, la casi desesperada decencia: El tío de la novia, que se ha creído obligado a jijarse si el \\'baile toma buen carácter, afirma, medio ofendido, que no se admiten cortes, ni aun en broma. —Que, la modestia a un lado, no se la pega ninguno de esos vivos... seguramente. La casa será pobre, nadie lo niega; todo lo que se quiera, pero decente.— Los disgustos con los que se puede contar: La polka de la silla dará motivo a serios incidentes, nada improbables: r I 1(1 . JORGE LUIS JÍORGES—OBRAS COMPLETAS nunca falla un rechazo despreciativo que acarrea disgustos irremediables. Ahora] casualmente, se ha levantado indignada la prima del guitarrero, por el doble sentido mal arreglado fiel propio guarango del compañero. La sinceridad afligente: En el comedor, donde se bebe a gusto, casi lamenta el novio que no se pueda correr la de costumbre. . . pues, y esto es justo, la familia le pide que no se. exceda. La función pacificadora del guapo, amigo de la casa: Como el guapo es amigo de evitar toda provocación que aleje la concurrencia, ha ordenado que apenas les siman soda a los que ya borrachos buscan pendencia. Y previendo la bronca, después del gesto único en él, declara que aunque le cueste ir de nuevo a la cárcel, se halla dispuesto a darle un par de hachazos al que proteste. Perdurarán también de este libro: El velorio, que repite la técnica de El casamiento; La lliúpia en la casa vieja, que declara esa exultación de lo elemental, cuando la lluvia se desplaza en el aire igual que una humareda y no hay hogar que no se sienta un fortín; y unos conversados sonetos autobiográficos de la serie íntimas. Éstos cargan destino: son de condición serenada, pero su resignación o acomodación es después de penas. Copio este renglón de uno de ellos, limpio y mágico: cuando aún eras prima de la luna. Y esta nada indiscreta declaración, suficiente con todo:- Anoche, terminada ya la cena y mientras saboreaba el café amargo me puse a meditar un rato largo: el alma como nunca de serena. FVARISTO CARRIEGO 141 Bien lo sé que la copa no está llena de todo lo mejor, y sin embargo, por pereza quizás, ni un solo cargo le hago a la suerte, que no ha sido buena... Pero como por una virtud rara no le muestro a la vida mala cara ni en las horas que son más fastidiosas, nunca nadie podrá tener derecho a exigirme una mueca. ¡Tantas cosas se pueden ocultar bien en el pecho! Una digresión última, que de inmediato dejará de ser una digresión. Lindas y todo, las figuraciones del amanecer, de la pampa, del anochecer, que presenta el Fausto de Estanislao del Campo, adolecen de frustración y de malestar: contaminación operada por la sola mención preliminar de los bastidores escénicos. La irrealidad de las orillas es más sutil: deriva de su provisorio carácter, de la doble gravitación de la llanura chacarera o ecuestre y de la calle de altos, de la propensión de sus hombres a considerarse del campo o de la ciudad, jamás orilleros. Carriego, en esta materia indecisa, pudo trabajar su obra. 1 4 2 JORGE LUIS BORGES—OBRAS COMPLETAS V UN POSIBLE RESUMEN Carriego, muchacho de tradición entrerriana, criado en las orillas del norte de Buenos Aires, determinó aplicarse a una versión poética de esas orillas. Publicó, en mil novecientos ocho, Misas herejes: libro despreocupado, aparente, que registra diez consecuencias de ese deliberado propósito de localismo y veintisiete muestras desiguales de versificación: alguna de buen estilo trágico —Los lobos—, otra de sentir delicado —-Tu secreto, En silencio—, pero en general invisibles. Las páginas de observación del barrio son las que importan. Repiten la valerosa idea que tiene de sí mismo el suburbio, gustaron con entero derecho. T i p o . d e esa manera preliminar son El alma del suburbio, El guapo, En el barrio. Carriego se estableció en esos temas, pero su exigencia de conmover lo indujo a una lacrimosa estética socialista, cuya inconsciente reducción al absurdo efectuarían mucho después los de Boedo. Tipo de esa manera segunda, que ha usurpado hasta la noticia de las demás, con afeminación de su gloria, son Hay que cuidarla mucho, hermana, mucho, Lo que dicen los vecinos, Mamboretd. Ensayó después una manera narrativa, con innovación de humorismo: tan indispensable en un poeta de Buenos Aires. Tipo de esa manera última —la mejor— son El casamiento, El velorio, Mientras el barrio duerme. También, a lo largo del tiempo, había anotado algunas intimidades: Murria, Tu secreto, De sobremesa. ¿Qué porvenir el de Carriego? No hay una posteridad judicial sin posteridad, dedicada a emitir fallos irrevocables, pero los hechos me parecen seguros. Creo que algunas de sus páginas —acaso El casamiento, Has vuelto, El alma del suburbio, En, el barrio— conmoverán suficientemente a muchas generaciones argentinas. Creo que fue el primer espectador de nuestros barrios pobres y que para la historia de nuestra poesía, eso importa. El primero, es decir el descubridor, el inventor. Truly I ¡oved the man, on this sidc idolatry, as much as any. EVARISTO CARRIEGO 143 VI PAGINAS COMPLEMENTARIAS I. DEL SEGUNDO CAPÍTULO Décimas en lunfardo, que publicó Evaristo Carriego en la revista policial L. C. (jueves veintiséis de setiembre de 1912) sobre el seudónimo El Barretero. Compadre: si no le he escrito perdone. . . ¡Estoy reventao! Ando con un entripao, que de continuar palpito que he de seguir derechito camino de Triunvirato; pues ya tengo para rato con esta suerte cochina: Hoy se me espiantó la mina ¡y si viera con qué gato\\'. Sí, hermano, como le digo: ¡viera qué gato ranero! mishio, roñoso, fulero, mal. lancero y peor amigo. ¡Si se me encoge el ombligo de pensar el trinquetazo que me han dao! El bacanazo no vale ni una escupida y lo que es.de ella, en la vida me soñé este chivatazo. Yo los tengo junaos. ¡Viera lo que uno sabe de viejo! No hay como correr parejo para estar bien en carrera. Lo engrupen con la manquera con que tal vez ni serán del pelotón, y se van en fija, de cualquier modo. 144 JORGE LUIS BORGES—OBRAS COMPLETAS Cuando uno se abre en el codo ya nó hay caso: ¡se la dan! ¡Pero tan luego a mi edá que me suceda esta cosa! Si es p\\'abrirse la piojosa de la bronca que me da. Porque es triste, a la verdá —el decirlo es necesario— que con el lindo prontuario que con tanto sacrificio he lograo en el servicio, me hayan agarrao de otario. Bueno: ¿que ésta es quejumbrona y escrita como sin gana? Échele la culpa al rana que me espiantó la cartona. ¡Tigrero de la madona, veremos cómo se hamaca, si es que el cuerpo no me saca cuando me toque la mía. Hasta luego. — Todavía tengo que afilar la jaca! EVARISTO CARRIEGO 145 II. DEL CUARTO CAPITULO EL TRUCO Cuarenta naipes quieren desplazar la vida. En las manos cruje el mazo nuevo o se traba el viejo: morondangas de cartón que se animarán, un as de espadas que será omnipotente como don Juan Manuel, caballitos panzones de donde copió los suyos Velázquez. El tallador baraja esas pinturitas. La cosa es fácil de decir y aun de hacer, pero lo mágico y desaforado del juego —del hecho de jugar— despunta en la acción. 40 es el número de los naipes y 1 por 2 por. 3 por 4. .. por 40, el de maneras en que pueden salir. Es una cifra delicadamente puntual en su enormidad, con inmediato predecesor y único sucesor, pero no escrita nunca. Es una remota cifra de vértigo que parece disolver en su muchedumbre a los que barajan. Así, desde el principio, el central misterio del juego se ve adornado con un otro misterio, el de que haya números. Sobre la mesa, desmantelada para que resbalen las cartas, esperan los garbanzos en su montón, aritmetizados también. La trucada se arma; los jugadores, acriollados de golpe, se aligeran del yo habitual. Un yo distinto, un yo casi antepasado y vernáculo, enreda los proyectos del juego. El idioma es otro de golpe. Prohibiciones tiránicas, posibilidades e imposibilidades astutas, gravitan sobre todo decir. Mencionar flor sin tener tres cartas de Un palo, es hecho delictuoso y punible, \\'pero si uno ya dijo envido, no importa. Mencionar uno de los lances del truco es empeñarse en él: obligación que sigue desdoblando en eufemismos a cada término. Quiebro vale por quiero, envite por envido, una olorosa o una jardinera por flor. Muy bien suele retumbar en boca de los que pierden este sentención de caudillo de atrio: A ley de juego, todo está dicho: jaita envido y truco, y si hay flor, ¡contraflor al resto! El diálogo se entusiasma hasta el verso, más de una vez. El truco sabe recetas de aguante para los perdedores; versos para la exultación. El truco es memorioso como una fecha. Milongas de fogón y de pulpería, jaranas de velorio, bravatas del roquismo y tejedorismo, zafadurías de las casas de Junín y de su madrastra del Temple, son del comercio humano por él. El truco es buen cantor, máxime cuando gana o finge 146 JORGE LUIS BORGES—OBRAS COMPLETAS ganar: canta en la punta de las calles de nochecita, desde los almacenes con luz. La habitualidad del truco es mentir. La manera de su engaño no es la del poker: mera desanimación o desabrimiento de no fluctuar, y de poner a riesgo un alto de fichas cada tantas jugadas; es acción de voz mentirosa, de rostro que se juzga semblanteado y que se defiende, de tramposa y desatinada palabrería. Una potenciación del engaño ocurre en el truco: ese jugador rezongón que ha tirado sus cartas sobre la mesa, puede ser ocultador de un buen juego (astucia elemental) o tal vez nos está mintiendo con la verdad para que descreamos de ella (astucia al cuadrado). Cómodo en el tiempo y conversador está el juego criollo, pero su cachaza es de picardía. Es una superposición de caretas, y su espíritu es el de los baratijeros Mosche y Daniel que en mitad de la gran llanura de Rusia se saludaron. —¿Adonde vas, Daniel? —dijo el uno. —A Sebastopol —dijo el otro\\'. Entonces, Mosche lo miró fijo y dictaminó: —Mientes, Daniel. Me respondes que vas a Sebastopol para que yo piense que vas a Nijni-Novgórod, pero lo cierto es que vas realmente a Sebastopol. ¡Mientes, Daniel! Considero los jugadores de truco. Están como escondidos en el ruido criollo del diálogo; quieren espantar a gritos la vida. Cuarenta naipes —amuletos de cartón pintado, mitología barata, exorcismos—, le bastan para conjurar el vivir común. Juegan de espaldas a las transitadas horas del mundo. La pública y urgente realidad en que estamos todos, linda con su reunión y no pasa; el recinto de su mesa es otro país. Lo pueblan el envido y el quiero, la olorosa cruzada y- la inesperabilidad de su don, el ávido folletín de cada partida, el 7 de oros tintineando esperanza y otras apasionadas bagatelas del repertorio. Los truqueros viven ese alucinado mundito. Lo fomentan con dicharachos criollos que no se apuran, lo cuidan como a un fuego. Es un mundo angosto, lo sé: fantasma de política de parroquia y de picardías, mundo inventado al fin por hechiceros de corralón y brujos de barrio, pero no por eso menos reemplazador de este mundo real y menos inventivo y diabólico en su ambición. Pensar un argumento local como este del truco y no salirse de él o no ahondarlo —las dos figuras pueden simbolizar aquí un acto igual, tanta es su precisión— me parece una gravísima fruslería. Yo deseo no olvidar aquí un pensamiento sobre la pobreza del truco. Las diversas estadas de su polémica, sus vuelcos, sus corazonadas, sus cabalas, no pueden no volver. Tienen con EVARISTO CARRIEGO 147 las experiencias que repetirse. ¿Qué es el truco para un ejercitado erT él, sino una, .costumbre? Mírese también a lo rememorativo del juego, a su afición por fórmulas tradicionales. Todo jugador, en verdad, no hace ya más que reincidir en bazas remotas. Su juego es una repetición de juegos pasados, vale decir, de ratos de vivires pasados. Generaciones ya invisibles de criollos están como enterradas vivas en él: son él, podemos afirmar sin metáfora. Se trasluce que el tiempo es una ficción, por ese pensar. Así, desde los laberintos de cartón pintado del truco, nos hemos acercado a la metafísica: única justificación y finalidad de todos los temas. 148 JORGE LUIS BORGES—OBRAS COMPLETAS VII LAS INSCRIPCIONES DE LOS CARROS Importa que mi lector se imagine un carro. No cuesta imaginárselo grande, las ruedas traseras más altas que las delanteras como con reserva de fuerza, el carrero criollo fornido como la obra de madera y fierro en que está, los labios distraídos en un silbido o con avisos paradójicamente suaves a los tironeadores caballos: a los tronqueros seguidores y al cadenero en punta (proa insistente para los que precisan comparación). Cargado o sin cargar es lo mismo, salvo que volviendo vacío, resulta menos atado a empleo su paso y más entronizado el pescante, como si la connotación militar que fue de los carros en el imperio montonero de Atila, permaneciera en él. La calle pisada puede ser Montes de Oca o Chile o Patricios o Rivera o Valentín Gómez, pero es mejor Las Heras, por lo heterogéneo de su tráfico. El tardío carro es allí distanciado perpetuamente, pero esa misma postergación se le hace victoria, como si la ajena celeridad fuera despavorida urgencia de esclavo, y la propia demora, posesión entera de tiempo, casi de eternidad. (Esa posesión temporal es el infinito capital criollo, el único. A la demora la podemos exaltar a inmovilidad: posesión del espacio.) Persiste el carro, y una inscripción está en su costado. El clasicismo del suburbio así lo decreta y aunque esa desinteresada yapa expresiva, sobrepuesta a las visibles expresiones de resistencia, forma, destino, altura, realidad, confirme la acusación de habladores que los conferenciantes europeos nos reparten, yo no puedo esconderla, porque es el argumento de esta noticia. Hace tiempo que soy cazador de esas escrituras: epigrafía de corralón que supone caminatas y desocupaciones más poéticas que las efectivas piezas coleccionadas, que en estos italianados días ralean. No pienso volcar ese colecticio capital de chirolas sobre la mesa, sino mostrar algunas. El proyecto es de retórica, como se ve. Es consabido que los que metodizaron esa disciplina, comprendían en ella todos los servicios de la palabra, hasta los irrisorios o humildes del acertijo, del calembour, del acróstico, del anagrama, • del laberinto, del laberinto cúbico, de la empresa. Si está última, que es figura simbólica y no palabra, ha sido admitida, entiendo que la inclusión de la sentencia carrera es irreprochable. Es una variante indiana del lema, género que nació en los escudos. AdeEVARISTO CARRIEGO 149 más, conviene asimilar a las otras letras la sentencia de cano, para que se desengañe el lector y no espere portentos de mi requisa. ¿Cómo pretenderlos aquí, cuando no los hay o nunca los hay en las premeditadas antologías de Menéndez y Pelayo o de Palgrave? Una equivocación es muy llana: la de recibir por genuino lema de carro, el nombre de la casa a que pertenece. El modelo de la Quinta Bollini, rubro perfecto de la guarangada sin inspiración, puede ser de los que\\'advertí; La madre del Norte, carro de Saavedra, lo es. Lindo nombre es este último y le podemos probar dos explicaciones. Una, la no creíble, es la de ignorar la metáfora y suponer al Norte parido por ese carro, fluyendo en casas y almacenes y pinturerías, de su paso inventor. Otra es la que previeron ustedes, la de atender. Pero nombres como éste, corresponden a otro género literario menos casero, el de las empresas comerciales: género que abunda en apretadas obras maestras como la sastrería El coloso de Rodas por Villa Urquiza y la fábrica de camas La dormitológica por Belgrano, pero que no es de mi jurisdicción. La genuina letra de carro no es muy diversa. Es tradicionalmente asertiva —La flor de la plaza Vérliz, El vencedor— y suele estar como aburrida de guapa. Así El anzuelo, La balija, El garrote. Me está gustando el último, pero se me borra al acordarme de este oti~o lema, de Saavedra también y que declara viajes dilatados como navegaciones, práctica de los callejones pampeanos y polvaredas altas: El barco. . Una especie definida de! género es la inscripción en los carritos repartidores. El regateo y la charla cotidiana de la mujer los ha distraído de la preocupación del coraje, y sus vistosas letras prefieren el alarde servicial o la galantería. El liberal, Viva quien me protege, El vasquito del Sur, El picaflor, El lecherito del porvenir, El buen mozo, Hasta mañana, El record de Talcahuano, Para todos sale el sol, pueden ser alegres ejemplos. Qué me habrán hecho tus ojos y Donde cenizas quedan fuego hubo, son de más individuada pasión. Quien envidia me tiene desesperado muere, ha de ser una intromisión española. No tengo apuro es criollo clavado. La displicencia o severidad de la frase breve suele corregirse también, no sólo por lo risueño del decir, sino por la profusión de las frase\\'s. Yo he visto carrito frutero que, además de su presumible nombre El preferido del barrio, afirmaba en distico satisfecho Yo lo digo y lo sostengo Que a nadie envidia le tengo. 150 JORGE LUIS BORGES—OBRAS COMPLETAS y comentaba la figura de una pareja de bailarines tangueros sin mucha luz, con la resuelta indicación Derecho viejo. Esa charlatanería de la brevedad, ese frenesí sentencioso, me recuerda la dicción del célebre estadista danés Polonio, de Hamlet, o la del Polonio natural, Baltazar Gracián. Vuelvo a las inscripciones clásicas. La\\' media luna de Morón es lema de un carro altísimo con barandas ya marineras de fierro, que me fue dado contemplar una húmeda noche en el centro puntual de nuestro Mercado de Abasto, remando.a doce patas y cuatro ruedas sobre la fermentación lujosa de olores. La soledad es mote de una carreta que he visto por el sur de la provincia de Buenos Aires y que manda distancia. Es el propósito de El barco otra vez, pero menos oscuro. Qué le importa a la vieja que la hija me quiera es de omisión imposible, menos por su ausente agudeza que por su genuino tono de corralón. Es lo que puede observarse también de Tus besos fueron míos, afirmación derivada de un vals, pero que por estar escrita en . un carro se adorna de insolencia. Qué mira, envidioso tiene algo de mujerengo y de presumido. Siento orgullo es muy superior, en dignidad de sol y de alto pescante, a las más efusivas acriminaciones de Boedo. Aquí viene Araña es un hermoso anuncio. Pa la rubia, cuándo lo es más, no sólo por su apócope criollo y por su anticipada preferencia por la morena, sino por el irónico empleo del adverbio cuándo, que vale aquí por nunca. (A ese renunciado cuándo lo conocí primero en una intransferible milonga, que deploro no poder estampar en voz baja o mitigar pudorosamente en latín. Destaco en su lugar esta parecida, criolla de Méjico, registrada en el libro de Rubén Campos El folklore y la música mexicana: Dicen que me han de quitar —las veredas por donde ando; —las veredas quitarán, —pero la querencia, cuándo. Cuándo, mi vida era también una salida habitual de los que canchaban, al atajarse el palo tiznado o el cuchillo del otro.) La rama está florida es una noticia de alta serenidad y de magia. Casi nada, Me lo hubieras dicho y Quién lo diría, son incorregibles de buenos. Implican drama, están en la circulación de la realidad. Corresponden a frecuencias de la emoción: son como del destino, siempre. Son ademanes perdurados por la escritura, son una afirmación incesante. Su alusividad es la del conversador orillero que no puede ser directo narrador o razonador y que se complace en discontinuidades, en generalidades, en fintas: sinuosas como el corte. Pero el honor, pero la tenebrosa flor de este censo, es la. opaca inscripción No llora el perdido, que nos mantuvo escandalosamente intrigados a Xul Solar y a mí, hechos, sin emEVARISTO CARRIEGO 151 bargo, a entender los misterios delicados de Robert Browning, los baladíes de Mallarmé y los meramente cargosos de Góngora. No llora el perdido; le paso ese clavel retinto al lector. No hay ateísmo literario fundamental. Yo creía descreer de la literatura, y me he dejado aconsejar por la tentación de reunir estas partículas de ella. Me absuelven dos razones. Una es la democrática superstición que postula méritos reservados en cualquier obra anónima, como si supiéramos entre todos lo que no sabe nadie, como si fuera nerviosa la inteligencia y cumpliera mejor en las ocasiones en que no la vigilan. Otra es la facilidad de juzgar lo breve. Nos duele admitir que nuestra opinión de una línea pueda no ser final. Confiamos nuestra fe a los renglones, ya que no a los capítulos. Es ineyitable en este lugar la mención de Erasmo: incrédulo y curioseador de proverbios. Esta página empezará a ponerse erudita después de muchos días. Ninguna referencia bibliográfica puedo suministrar, salvo este párrafo casual de un predecesor mío en estos afectos. Pertenece a los borradores desanimados de verso clásico que se llaman versos libres ahora. Lo recuerdo así: Los carros de costado sentencioso panqueaban tu mañana y eran en las esquinas tiernos los almacenes como esperando un ángel. Me gustan más las inscripciones de carro, llores corraloneras. 152 JORGE LUIS BORGES—OBRAS COMPLETAS VIII HISTORIAS DE JINETES Son muchas y podrían ser infinitas. La primera es modesta: luego la ahondarán las que siguen. Un estanciero del Uruguay había adquirido un establecimiento cíe campo (estoy seguro de que ésa es la palabra que usó) en la provincia de Buenos Aires. Trajo del Paso de los Toros a un domador, hombre de toda su confianza pero muy chucaro. I.o alojó en una fonda cerca del Once. A los tres días fue en su busca; lo encontró mateando en su pieza, en el último piso. Le preguntó qué le había parecido Buenos Aires, y resultó que el hombre no se había asomado a la calle una sola vez. La segunda no es muy distinta. En 1903, Aparicio Saravia sublevó la campaña del Uruguay; en alguna etapa de la\\'contienda se temió que sus hombres pudieran irrumpir en Montevideo. Mi padre, que se encontraba allí, fue a pedir consejo a un pariente, Luis Melián Lafinur, el historiador. Éste le dijo que no había peligro, \"porque\\' el gaucho le teme a la ciudad\". En efecto, las tropas de Saravia se desviaron y mi padre comprobó con algún asombro que el estudio de la Historia puede ser útil y no (sólo agradable.l La tercera que referiré, también pertenece a la tradición • oral de mi casa. A fines de 1870, fuerzas de López Jordán comandadas por un gaucho a quien le decían El Chumbiao cercaron la ciudad de Paraná. Una noche, aprovechando un descuido de la guarnición, los montoneros lograron atravesar las defensas y dieron, a caballo, toda la vuelta de la plaza central, golpeándose la boca y burlándose. Luego, entre pifias y silbidos, se fueron. La guerra no era para ellos la ejecución coherente de un plan sino un juego de hombría. \\' Burton escribe que los beduinos, en las ciudades árabes, se lapan las narices con el pañuelo o con algodones; Ammiano, que los hunos tenían tanto miedo de las casas como de los sepulcros. Análogamente, los sajones cjue irrumpieron en Inglaterra en el siglo v, no se atrevieron a morar en las ciudades romanas que conquistaron, l.as dejaron caerse a pedazos % compusieron luego elegías para lamentar esas ruinas. EVARISTO CARRIEGO 153 La cuarta de las historias, la última, está en las páginas de un libro admirable: L\\'Empire des Steppes (1939), del orientalista Grousset. Dos párrafos del capítulo dos pueden ayudar a ententerla; he aquí el primero: \"La guerra de Gengis-khan contra los Kin, empezada en 1211, debía con breves treguas prolongarse hasta su muerte (1227), para ser rematada por su sucesor (1234). Los mogoles, con su móvil caballería, podían arrasar los campos y las poblaciones abiertas, pero durante mucho tiempo ignoraron el arte de tomar las plazas fortificadas por los ingenieros chinos. Además, guerreaban en China como en la estepa, por incursiones sucesivas, al cabo de las cuales se retiraban con su botín, dejando que en la retaguardia los chinos volvieran a ocupar las ciudades, levantaran las ruinas, repararan las brechas y rehicieran las fortificaciones, de tal modo que en el curso de aquella guerra los generales mogoles se vieron obligados a reconquistar dos o tres veces las mismas plazas.\" He aquí el segundo: \"Los mogoles tomaron a Pekín, pasaron a degüello la población, saquearon las casas y después les prendieron fuego. La destrucción duró un mes. Evidentemente, los nómadas no sabían qué hacer con una gran ciudad y no atinaban con la manera de utilizarla para la consolidación y extensión de su poderío. Hay ahí un caso interesante para los especialistas de -la geografía humana: el embarazo de las gentes de las estepas cuando, sin transición, el azar les entrega viejos países de civilización urbana. Queman y matan, no por sadismo, sino porque se encuentran desconcertados y no saben obrar de otra suerte.\" He aquí, ahora, la historia que todas las autoridades confirman: Durante la última campaña de Gengis-khan, uno de sus generales observó que sus nuevos subditos chinos no le servirían para nada, puesto que eran ineptos para la guerra, y que, por consiguiente, lo más juicioso era exterminarlos a todos, arrasar las ciudades y hacer del casi interminable Imperio Central un dilatado campo de pastoreo para las caballadas. Así, por lo menos, aprovecharían la tierra, ya que lo demás era inútil. El khan iba a seguir este aviso, cuando otro consejero le hizo notar que más provechoso era fijar impuestos a las tierras y a las mercaderías. La civilización se salvó, los mogoles envejecieron en las ciudades que habían anhelado destruir y sin duda acabaron por estimar, en jardines simétricos, las despreciables y pacíficas artes de la prosodia y de la cerámica. 154 JORGE LUIS BORGES—OBRAS COMPLETAS Remotas en el tiempo y en el espacio, las historias que he congregado son una sola; el protagonista es eterno, y el receloso peón que pasa tres días ante una puerta que da a un último patio es, aunque venido a menos, el mismo que, con dos arcos, un lazo hecho de crin y un alfanje, estuvo a punto de arrasar y borrar, bajo los cascos del caballo estepario, el reino más antiguo del mundo. Hay un agrado en percibir, bajo los disfraces del tiempo, las eternas especies del jinete y d é l a ciudad 1; ese agrado, en el caso de estas historias, puede dejarnos un sabor melancólico, ya que los argentinos (por obra del gaucho de Hernández o por gravitación de nuestro pasado) nos identificamos con el jinete, que es el que pierde al fin. Los centauros vencidos por los lapitas, la muerte del pastor de ovejas Abel a manos de Caín, que era labrador, la derrota de la caballería de Napoleón por la infantería británica en Waterl\\'oo, son emblemas y sombras de ese destino. Jinete que se aleja y se pierde, con una sugestión de derrota, es asimismo en nuestras letras el gaucho. Así, en el Martín Fierro: Cruz y Fierro de una estancia Una tropilla se arriaron, Por delante se la echaron Como criollos entendidos y pronto, sin ser sentidos, Por la frontera cruzaron. Y cuando la habían pasao, Una madrugada clara, Le dijo Cruz que mirara Las últimas poblaciones Y a Fierro dos lagrimones Le rodaron por la cara. Y siguiendo el fiel del rumbo Se entraron en el desierto. . . Y en El payador, de Lugones: \"Dijérase que lo hemos visto desaparecer tras los collados familiares, al tranco de su caballo, despacito, porque no vayan a creer 1 Es fama que Hidalgo, Ascasubi, Estanislao del Campo y Lussich abundaron en versiones jocosas del diálogo del jinete con la ciudad. EVARISTO CARRIEGO 155 que es de miedo, con la última tarde que iba pardeando como el ala de la torcaz, bajo el chambergo lóbrego y el poncho pen-\\' diente de los hombros en decaídos pliegues de bandera a media asta.\" Y en Don Segundo Sombra: \"La silueta reducida de mi padrino apareció en la lomada. Mi vista se ceñía enérgicamente sobre aquel pequeño movimiento en la pampa somnoliénta. Ya iba a llegar a lo alto de! camino y desaparecer. Se fue reduciendo como si lo cortaran de abajo en repetidos tajos. Sobre el punto negro del chambergo, mis ojos se aferraron con afán de hacer perdurar aquel rezago.\" El espacio, en los textos supracitados, tiene la misión de significar el tiempo y la historia. La figura del hombre sobre el caballo es secretamente patética. Bajo Atila, Azote de Dios, bajo Gengis-khan y bajo Timur, el jinete destruye y funda con violento fragor dilatados reinos, pero sus destrucciones y fundaciones son ilusorias. Su obra es efímera como él. Del labrador procede la palabra cultura, de las ciudades la palabra civilización, pero el jinete es una tempestad que se pierde. En el libro Die Germanen der Volkerwanderung (Stuttgart, 1939), Capelle observa, a este propósito, que los griegos, los romanos y los germanos eran pueblos agrícolas. 156 JORGE LUIS 1SORGES—OBRAS COMPLETAS IX EL PUÑAL A Margarita Bunga En un cajón hay un puñal. Fue forjado en Toledo, a fines del siglo pasado; Luis Melián Lafinur se lo dio a mi padre, que lo trajo del Uruguay; Evaristo Carriego lo tuvo alguna vez en la mano. Quienes lo ven tienen que jugar un rato con él; se advierte que hace mucho que lo buscaban; la mano se apresura a apretar la empuñadura que la espera; la hoja obediente y poderosa juega con precisión en la vaina. Otra cosa quiere el puñal. Es más que una estructura hecha de metales; los hombres lo pensaron y lo formaron para un fin muy preciso; es, de algún modo, eterno, el puñal que anoche mató a un hombre en Tacuarembó y los puñales que mataron a César. Quiere matar, quiere derramar brusca sangre. En un cajón del escritorio, entre borradores y cartas, interminablemente sueña el puñal su sencillo sueño de tigre, y la mano se anima cuando lo rige porque el metal se anima, el metal que presiente en cada contacto al homicida para quien lo crearon los hombres. A veces me da lástima. Tanta dureza, tanta fe, tan impasible o inocente soberbia, y los años pasan, inútiles. EVARISTO CARRIEGO 157 X PRÓLOGO A UNA EDICIÓN DE LAS POESÍAS COMPLETAS DE EVARISTO CARRIEGO Todos, ahora, vemos a Evaristo Carriego en función del suburbio y propendemos a olvidar que Carriego es (como el guapo, la costurerita y el gringo) un personaje de Carriego, así como el suburbio en que lo pensamos es una proyección y casi una ilusión de su obra. Wilde sostenía que el Japón —las imágenes que esa palabra despierta— había sido inventado por Hokusai; en el caso de Evaristo Carriego, debemos postular una acción recíproca: el suburbio crea a \\'Carriego y es recreado por él. Influyen en Carriego el suburbio real y el suburbio de Trejo y de las milongas; Carriego impone su visión del suburbio; esa visión modifica la realidad. (La modificarán después, mucho más, el tango y el saínete.) ¿Cómo se produjeron los hechos, cómo pudo ese pobre muchacho Carriego llegar a ser el que ahora será para siempre? Quizás el mismo Carriego, interrogado, no podría decírnoslo. Sin otro argumento que mi incapacidad para imaginar de otra manera las cosas, propongo esta versión al lector: Un día entre los días del año 1904, en una casa que persiste en la calle Honduras, Evaristo Carriego leía con pesar y con avidez un libro de la gesta de Charles de Baatz, señor de Artagnan. Con avidez, porque Dumas le ofrecía lo que a otros ofrecen Shakespeare o Balzac o Walt Whitman, el sabor de la plenitud de la vida; con pesar porque era joven, orgulloso, tímido y pobre, y se creía desterrado de la vida. La vida estaba en Francia, pensó, en el claro contacto de los aceros, o cuando los ejércitos del Emperador anegaban la tierra, pero a mí me ha tocado el siglo xx, el tardío siglo xx, y un mediocre arrabal sudamericano. . . En esa cavilación estaba Carriego cuando algo sucedió. Un rasguido de laboriosa guitarra, la despareja hilera de casas bajas vistas por la ventana, Juan Muraña tocándose el chambergo para contestar a un saludo (Juan Muraña que anteanoche marcó a Suárez el 158 JORGE LUIS BORGES—OBRAS COMPLETAS Chileno), la luna en el cuadrado del patio, un hombre viejo con un gallo de riña, algo, cualquier cosa. Algo que no podremos recuperar, algo cuyo sentido sabemos pero no cuya forma, algo cotidiano y trivial y no percibido hasta entonces, que reveló á Carriego que el universo (que se da entero en cada instante, en cualquier lugar, y no sólo en las obras de Dumas) también estaban ahí, en el mero presente, en Palermo, en 1904. Entrad, que también aquí están los dioses, dijo Heráclito de Éfeso a las personas que lo hallaron calentándose en la cocina. Yo he sospechado alguna vez que cualquier vida humana, por intrincada y populosa que sea, consta en realidad de un momento: el momento en que el hombre sabe para siempre quién es. Desde la imprecisable revelación que he tratado de intuir, Carriego es Carriego. Ya es el autor de aquellos versos qué años después le será permitido inventar: Le cruzan el rostro, de estigmas violentos Hondas cicatrices, y tal vez le halaga llevar imborrables adornos sangrientos: Caprichos de hembra que tuvo la daga. En el último, casi milagrosamente, hay un eco de la imaginación medieval del consorcio del guerrero con su arma, de esa imaginación que Detlev von Liliencron fijó en otros versos ilustres: In die Friesen trug er sein Schwert Hilfnot, das hat ihn heute betrogen... Buenos Aires, noviembre de 1950. EVARISTO CARRIEGO 159 XI HISTORIA DEL TANGO Vicente Rossi, Carlos Vega y Carlos Muzzio Sáenz Peña, investigadores puntuales, han historiado de diversa manera el origen del tango. Nada me cuesta declarar que suscribo a todas sus conclusiones,, y aun a cualquier otra. Hay una historia del destino del tango, que el cinematógrafo periódicamente divulga; el tango, según esa versión sentimental, habría nacido en el suburbio, en los conventillos (en la Boca del Riachuelo, generalmente, por las virtudes fotográficas de esa zona); el patriciado lo habría rechazado, al principio; hacia 1910, adoctrinado por el buen ejemplo de París, habría franqueado finalmente sus puertas a ese interesante orillero. Ese Bildungsrornan, esa \"novela de un joven pobre\", es ya una especie de verdad\\'inconcusa o de axioma; mis recuerdos (y he cumplido los cincuenta años) y las indagaciones de naturaleza oral que he emprendido, ciertamente no la confirman. He conversado con José Saborido, autor de Felicia y de La morocha, con Ernesto Poncio, autor de Don Juan, con los hermanos de Vicente Greco, autor de La viruta y de La Tablada, con Nicolás Paredes, caudillo que fue de Palermo, y con algún payador de su relación. Los dejé hablar; cuidadosamente me abátuve de formular preguntas que sugirieran determinadas contestaciones. Interrogados sobre la procedencia del tango, la topografía y aun la geografía de sus informes era singularmente diversa: Saborido (que era oriental) prefirió una cuna montevideana; Poncio (que era del barrio del Retiro) optó por Buenos Aires y por su barrio; los porteños del Sur invocaron la calle Chile; los del Norte, la meretricia calle del Temple o la calle Junín. Pese a las divergencias que he enumerado y que sería fácil enriquecer interrogando a platenses o a rosadnos, mis asesores concordaban en un hecho esencial: el origen del tango en los lupapares. (Asimismo en la data de ese origen, que para nadie fue muy anterior al. ochenta o posterior al noventa). El instrumental primitivo de las orquestas —piano, flauta, violín, después bandoneón— confirma, por el costo, ese testimonio; es una prueba de que el tango no surgió en- las orillas, que se\\'bastaron siempre, nadie lo ignora, con las seis cuerdas de la guitarra. Otras confirmaciones no faltan: la lascivia de las figuras, la connotación 160 JORGE LUIS BORGES—OBRAS COMPLETAS evidente de ciertos títulos (El choclo, El fierrazo), la circunstancia, que de chico pude observar en Palermo y años después en la Chacarita y en Boedo, de que en las esquinas lo bailaban parejas de hombres, porque las mujeres del pueblo no querían participar en un baile de perdularias. Evaristo Carriego la fijó en sus Misas herejes: En la calle, la buena gente derrocha sus guarangos decires más lisonjeros, porque al compás de un tango, que es La morocha, lucen ágiles cortes dos orilleros. En otra página de Carriego se muestra, con lujo de afligentes detalles, una pobre fiesta de casamiento; el hermano del novio está en la cárcel, hay dos muchachos pendencieros que el guapo tiene que pacificar con amenazas, hay recelo y rencor y chocarrería, pero El tío de la novia, que se ha creído obligado a fijarse si el baile toma buen carácter*, afirma, medio ofendido; que no se admiten cortes, ni aun en broma. . . Que, la modestia a, un lado, no se la pega ninguno de esos vivos. . . seguramente. La casa será pobre, nadie lo niega, todo lo que se quiera, pero decente—.- El hombre momentáneo y severo que nos dejan entrever, para siempre, las dos estrofas, significa muy bien la primera reacción del pueblo ante el tango, ese reptil de lupanar como lo definiría Lugones con laconismo desdeñoso (El payador, página 117). Muchos años requirió el Barrio Norte para imponer el tango —ya adecentado por París, es verdad— a los conventillos, y no sé si del todo lo ha conseguido. Antes era una orgiástica diablura; hoy es una manera de caminar. EL TANGO PENDENCIERO La índole sexual del tango fue advertida por muchos, no así la índole pendenciera. Es verdad que las dos son modos o manifestaciones de un mismo impulso, y así la palabra hombre, en todas las lenguas que sé, connota capacidad sexual y capacidad belicosa, y la palabra virtus, que en latín quiere decir coraje, procede de vir, que es varón. Parejamente, en una de la EVARISTO CARRIEGO 161 páginas de Kirn un afghán declara: \"A los quince años, yo había matado a un hombre y procreado a un hombre\" (When I ivas fifteen, I had shot my man and begot my man) , como si los dos actos fueran, esencialmente, uno. Hablar de tango pendenciero no basta; yo diría que el tango y que las milongas, expresan directamente algo que los poetas, muchas veces, han querido decir con palabras: la convicción de que pelear puede ser una fiesta. En la famosa Historia de los Godos que Jordanes compuso en el siglo vi, leemos que Atila, antes de la derrota de Chálons, arengó a sus ejércitos y les dijo que la fortuna había reservado para ellos los júbilos de esa batalla (certaminis hujus gaudia) . En la Ilíada se habla de aqueos para quienes la guerra era más dulce que regresar en huecas naves a su querida tierra natal y se dice que Paris, hijo de Príamo, corrió con pies veloces a la batalla, como el caballo de agitada crin que busca a las yeguas. En la vieja epopeya sajona que inicia las literaturas germánicas, en el Beowulf, el rapsoda llama sweorda gelac (juego de espadas) a la batalla. Fiesta de yikings le dijeron en el siglo xi los poetas escandinavos. A principios del siglo xvn, Quevedo, en una de sus jácaras, llamó a un duelo danza de espadas, lo cual es casi el juego de espadas del anónimo anglosajón. El espléndido Hugo, en su evocación de la batalla de Waterloo, dijo que los soldados, comprendiendo que iban a morir en aquella fiesta (comprenant qu\\'ils allaient mourir dans cette jete), saludaron a su dios, de pie en la tormenta. Estos ejemplos, que al azar de mis lecturas he ido anotando, podrían, sin mayor diligencia, multiplicarse y acaso en la Chanson de Roland o en el vasto poema de Ariosto hay lugares congéneres. Alguno de los registrados aquí —el de Quevedo o el de Atila, digamos— es de irrecusable eficacia; todos, sin embargo, adolecen del pecado original de lo literario: son estructuras de palabras, formas hechas de símbolos. Danza de espadas, por ejemplo, nos invita a unir dos representaciones dispares, la del baile y la del combate, para que la primera sature de alegría a la última, pero no habla directamente con nuestra sangre, no recrea en nosotros esa alegría. Schopenhauer (Welt ais Wille und Vorstellung, 1, 52) ha escrito que la música no es menos inmediata que el mundo mismo; sin mundo, sin un caudal común de memorias evocables por el lenguaje, no habría, ciertamente, literatura, pero la música prescinde del mundo, podría haber música y no mundo. La música es la voluntad, la pasión; el tango antiguo, como música, suele directamente trasmitir esa belicosa alegría cuya expresión verbal ensayaron, en edades remotas, rapsodas griegos y germánicos. Ciertos compositores actuales buscan ese tono valiente y elaboran, a veces con felicidad, milongas del bajo de la Batería 162 JORGE LUIS BORGES—OBRAS COMPLETAS o del Barrio del Alto, pero sus trabajos, de letra y música estudiosamente anticuadas, son ejercicios de nostalgia de lo que fue, llantos por lo perdido, esencialmente tristes aunque la tonada sea alegre. Son a las bravias e inocentes milongas que registra el libro de Rossi lo que Don Segundo Sombra es a Martín Fierro o >a Paulino Lucero. En un diálogo de Osear Wilde se lee que la música nos revela un pasado personal que hasta ese momento ignorábamos y nos mueve a lamentar desventuras que no nos ocurrieron y culpas que no cometimos; de mí confesaré que no suelo oír El Mame o Don Juan sin recordar con precisión un pasado apócrifo, a la vez estoico y orgiástico, en el que he desafiado y peleado para caer al fin, silencioso, en un oscuro duelo a cuchillo. Tal vez la misión del tango sea ésa: dar a los argentinos la certidumbre de haber sido valientes, de haber cumplido ya con las exigencias del valor y el honor. UN MISTERIO PARCIAL Admitida una función compensatoria del tango, queda un breve misterio por resolver. La independencia de América fue, en buena parte, una empresa argentina; hombres argentinos pelearon en lejanas batallas del continente, en Maipú, en Ayacucho, en Junín. Después hubo las guerras civiles, la guerra del Brasil, las campañas contra Rosas y Urquiza, la guerra del Paraguay, la guerra de frontera contra los indios. . . Nuestro pasado militar es copioso, pero lo indiscutible es que el argentino, en trance de pensarse valiente, no se identifica con él (pese a la preferencia que en las escuelas se da al estudio de la historia) sino con las vastas figuras genéricas del Gaucho y del Compadre. Si no me engaño, este rasgo instintivo y paradójico tiene su explicación. El argentino hallaría su símbolo en el gaucho y no en el militar, porque el valor cifrado en aquél por las tradiciones orales no está al servicio de una causa y es puro. El gaucho y el compadre son imaginados como rebeldes; el argentino, a diferencia de los americanos del Norte y de casi todos los europeos, no se identifica con el Estado. Ello puede atribuirse al hecho general de que el Estado es una inconcebible abstracción1; lo cierto es que el argentino es un individuo, no un ciudadano. Aforismos como el de Hegel \"El Estado es la realidad de la idea moral\" le parecen bromas siniestras. Los films elaborados en Hollywood repetidamente 1 El Estado es impersonal; el argentino sólo concibe una relación personal. Por eso, para él, robar dineros públicos no es un crimen. Compruebo un hrrbo, no lo justifico o disculpo. EVARISTO CARRIEGO 16;i proponen a la admiración el caso de un hombre (generalmente, un periodista) que busca la amistad de un criminal para entregarlo después a la policía; el argentino, para quien la amistad es una pasión y la policía una rnaffia, siente que ese \"héroe\" es un incomprensible canalla. Siente con don Quijote que \"allá se lo haya cada uno con su pecado\" y que \"no es bien que los hombres honrados sean verdugos de los otros hombres, no yéndoles nada en ello\" (Quijote, 1, XXII). Más de una vez, ante las vanas simetrías del estilo español, he sospechado que diferimos insalvablemente de España; esas dos líneas del Quijote han bastado para convencerme de error; son como el símbolo tranquilo y secreto de una afinidad. Profundamente la confirma una noche de la literatura argentina: esa desesperada noche en la que un sargento de la policía rural gritó que no iba a consentir el delito de que se matara a un valiente y se puso a pelear contra sus soldados, junto al desertor Martín Fierro. LAS LETRAS De valor desigual, ya que notoriamente proceden de centenares y de miles de plumas heterogéneas, las letras de tango que la inspiración o la industria han elaborado integran, al cabo de medio siglo, un casi inextricable corpus poeticum que los historiadores de la literatura argentina leerán o, en todo caso,\\'vindicarán. Lo popular, siempre que el pueblo ya no lo entienda, siempre que lo hayan anticuado los años, logra la nostálgica veneración de los eruditos y permite polémicas y glosarios; es verosímil que hacia 1990 surja la sospecha o la certidumbre de que la verdadera poesía de nuestro\\'tiempo no está en La urna de Banchs o en Luz de provincia de Mastronardi, sino en las piezas imperfectas que se atesoran en El alma que canta. Esta suposición es melancólica. Una culpable negligencia me ha vedado la adquisición y el estudio de ese repertorio caótico, pero no desconozco \"su variedad y el creciente ámbito dé sus temas. Al principio, el tango no tuvo letra 0 la tuvo obscena y casual. Algunos la tuvieron agreste (Yo soy la fiel compañera — del noble gaucho porteño) • porque los compositores buscaban la popular, y la mala vida y los arrabales no eran materia poética, entonces. Otros, como la milonga congénere l, fueron alegres y vistosas bravatas (En el tango soy tan 1 Yo soy del barrio del Alto, Soy del barrio del Retiro. Yo soy aquel que no miro Con quién tengo que pelear, Y a quien en milonguear, Ninguno se puso a tiro. l t )4 JORGE LUIS BORGES—OBRAS COMPLETAS laura — que cuando hago un doble corte — corre la voz por el Norte — si es que me encuentro en el Sur) . Después, el género historió, como ciertas novelas del naturalismo francés o como ciertos grabados de Hogarth, las vicisitudes locales del harlot\\'s progress (Luego fuiste la amiguita — de un viejo boticario — y el hijo de un comisario — todo el vento te sacó); después, la deplorada conversión de los barrios pendencieros o menesterosos a la. decencia. (Puente Ahina, — ¿dónde está ese malevaje? o ¿Dónde están aquellos hombres y esas chinas, — vinchas rojas y chambergos que Requena conoció? — ¿Dónde está mi Villa Crespo de otros tiempos? — Se vinieron los judíos, Triunvirato se acabó) . Desde muy temprano, las zozobras del amor clandestino o sentimental habían atareado las plumas (¿No te acordás que conmigo — te pusistes un sombrero — y aquel cinturón de cuero — que a otra mina la afané?). Tangos de recriminación, tangos de odio, tangos de burla y de rencor se escribieron, reacios a la transcripción y al recuerdo. Todo el trajín de la ciudad fue entrando en el tango; la mala vida y el suburbio no fueron los únicos temas. En el prólogo de las sátiras, Juvenal memorablemente escribió que todo lo que mueve a los hombres —el deseo, el temor, la ira, el goce carnal, las intrigas, la felicidad— sería materia de su libro; con perdonable exageración podríamos aplicar su famoso quidquid agunt homines, a la suma de las letras de tango. También podríamos decir que éstas forman una inconexa y vasta comedie humaine de la vida de Buenos Aires. Es sabido que Wolf, a fines del siglo xvín, escribió que la Ilíada, antes de ser una epopeya, fue una serie de cantos y de rapsodias; ello permite, acaso, la profecía de que las letras de tango formarán, con el tiempo, un largo poema civil, o sugerirán a algún ambicioso la escritura de ese poema. Es conocido el parecer de Andrew Fietcher: \"Si me dejan escribir todas las baladas de una nación, no me importa quién escriba las leyes\"; el dictamen sugiere que la poesía común o tradicional puede influir en los sentimientos y dictar la conducta. Aplicada la conjetura al tango argentino, veríamos en éste un espejo de nuestras realidades y a la vez un mentor o un modelo, de influjo ciertamente maléfico. La milonga y el tango de los orígenes podían ser tontos o, a lo menos, atolondrados, pero eran valerosos y alegres; el tango posterior es un resentido que deplora con lujo sentimental las desdichas propias y festeja con desvergüenza las desdichas ajenas. Recuerdo que hacia 1926 yo daba en atribuir a los italianos (y más concretamente a los genoveses del barrio de la Boca) la degeneración de los tangos. En aquel mito, o fantasía, de un tango \"criollo\" maleado por los \"gringos\", veo un claro síntoma, ahora, EVARISTO CARRIEGO 165 de ciertas herejías nacionalistas que han asolado el mundo después —a impulso de los gringos, naturalmente. No el bandoneón que yo apodé cobarde algún día, no los aplicados compositores cíe un suburbio fluvial, han hecho que el tango sea lo que es. sino la República entera. Además, los criollos viejos que engendraron el tango se llamaban Bevilacqua, Greco o de Rassi. . . A mi denigración del tango de la etapa actual alguien querrá objetar que el pasaje de valentía o baladronada a tristeza no es necesariamente culpable y puede ser indicio de madurez. Mi imaginario contendor bien puede agregar que el inocente y valeroso Ascasubi es al quejoso Hernández lo que el primer tango es al último y que nadie —salvo, acaso, Jorge Luis Borges— se ha animado a inferir de esa disminución ele felicidad que Martín Fierro es inferior a Paulino Lucero. La respuesta es fácil: La diferencia no sólo es de tono hedónico: es de tono moral. En el tango cotidiano de Buenos Aires, en el tango de las veladas familiares y de las confiterías decentes, hay una canallería trivial, un sabor de infamia que ni siquiera sospecharon los tangos del cuchillo y del lupanar. Musicalmente, el tango no debe de ser importante; su única importancia es la que le damos. La reflexión es justa, pero tal vez es aplicable a todas las cosas. A nuestra muerte personal, poi ejemplo, o a la mujer que nos desdeña. . , El tango puede discutirse, y lo discutimos, pero encierra, como todo lo verdadero, un secreto. Los diccionarios musicales registran, por todos aprobada, su breve y suficiente definición; esa definición es elemental y no promete dificultades, pero el compositor francés o español que, confiado en ella, urde correctamente un \"tango\", descubre, no sin estupor, que ha urdido algo que nuestros oídos no reconocen, que nuestra memoria no hospeda y que nuestro cuerpo rechaza. Diríase que sin atardeceres y noches de Buenos Aires no puede hacerse un tango y que en el cielo nos espera a los argentinos la idea platónica del tango, su forma universal (esa forma que apenas deletrean La Tablada o El Choclo), y que esa especie venturosa tiene, aunque humilde, su lugar en el universo. EL DESAFIO Hay un relato legendario o histórico, o hecho de historia v de leyenda a la vez (lo cual, acaso, es otra manera de decir legendario). que prueba el culto del coraje. Sus mejores versiones escritas pueden buscarse en las novelas de Eduardo Gutiérrez, olvidadas ahora con injusticia, en el Hormiga Negra o el Juan More i va; de las orales, la primera que oí provenía de un barrio que demar1()() JORGE LUIS BORGES-^OBRAS COMPLETAS carón una cárcel, un río y un cementerio y que se llamó la Tierra del Fuego. El protagonista de esa versión era Juan Muraña,\\' carrero y cuchillero en el que convergen todos los cuentos de coraje que andan por las orillas del Norte. Esa primera versión era simple. Un hombre de los Corrales o de Barracas, sabedor de la fama de Juan Muraña (a quien no ha visto nunca), viene a pelearlo desde su suburbio del Sur; lo provoca en un almacén, los dos salen a pelear a la calle; se hieren, Muraña, al fin, lo marca y le dice: -—Te dejo con vida para que volvás a buscarme. Lo desinteresado de aquel duelo lo grabó en mi memoria; mis conversaciones (mis amigos harto lo saben) no prescindieron de él; hacia 1927 lo escribí y con enfático laconismo lo titulé Hombres pelearon; años después, la anécdota me ayudó a imaginar un cuento afortunado, ya que no bueno, Hombre de la esquina rosada; en 1950, Adolfo Bioy Casares y yo la retomamos para urdir el libro de un film que las empresas rechazaron con entusiasmo y que se llamaría Los orilleros. Creí, al cabo de tan dilatadas fatigas, haberme despedido de la historia del duelo generoso; este año, en Chivilcoy, recogí una /ersíón harto superior, que ojalá sea la verdadera, aunque las dos muy bien pueden serlo, ya que el destino se complace en repetir las formas y lo que pasó una vez pasa muchas. Dos cuentos mediocres y un film que tengo por muy bueno salieron de la versión deficiente; nada puede salir de la otra, que es perfecta y cabal. Como me la contaron la contaré, sin* adiciones de matáforas o de paisaje. La historia, me dijeron, ocurrió en el partido de Chivilcoy, hacia mil ochocientos setenta y tantos. Wenceslao Suárez es el nombre del héroe, que desempeña la tarea de trenzador y vive en un ranchito. Es hombre de cuarenta o de cincuenta años; tiene reputación de valiente y es harto inverosímil (dados los hechos de la historia que narro) que no deba una o dos muertes, pero éstas, cometidas en buena ley, no perturban su conciencia o manchan su fama. Una tarde, en la vida pareja de ese hombre ocurre un hecho insólito: en la pulpería le notician que ha llegado una carta para él. Don Wenceslao no sabe leer; el pulpero descifra con lentitud una ceremoniosa misiva, que tampoco ha de ser de puño y letra de quien la manda. En representación de unos amigos que saben estimar la destreza y la verdadera serenidad, un desconocido saluda a don Wenceslao, mentas de cuya fama han atravesado el Arroyo del Medio, y le ofrece la hospitalidad de su humilde casa, en un pueblo de Santa Fe. Wenceslao Suárez dicta una contestación al pulpero; agradece la fineza, explica que no se anima a dejar sola a su madre, ya muy entrada en años,, e invita al otro a Chivilcoy, a su rancho, donde no faltarán un asado y unas copas de vino. EVARISTO CARRIEGO 167 Pasan los meses y un hombre en un caballo aperado de un modo algo distinto al de la región pregunta en la pulpería las señas de la casa de Suárez. Éste, que ha venido a comprar carne, oye la pregunta y le dice quén es; el forastero le recuerda las cartas que se escribieron hace un tiempo. Suárez celebra que el otro se haya decidido a venir; luego se van los dos a un campito y Suárez prepara el asado. Comen y beben y conversan. ¿De qué? Sospecho que de temas de sangre, de temas bárbaros, pero con atención y prudencia. Han almorzado y el grave calor de la siesta carga sobre la tierra cuando el forastero convida a don Wenceslao a que se hagan unos tiritos. Rehusar sería una deshonra. Vistean los dos y juegan a pelear al principio, pero Wenceslao no tarda en sentir que el forastero se propone matarlo. Entiende, al fin, el sentido de la carta ceremoniosa y deplora haber comido y bebido tanto. Sabe que se cansará antes que el otro, que es todavía un muchacho. Con sorna o cortesía, el forastero le propone un descanso. Don Wenceslao accede, y, en cuanto reanudan el duelo,- -permite al otro que lo hiera en la mano izquierda, en la que lleva el poncho, arrollado.x El cuchillo entra en la muñeca, la mano queda como muerta, colgando. Suárez, de un gran salto, recula, pone la mano ensangrentada en el suelo, la pisa con la bota, la arranca, amaga un golpe al pecho del forastero y le abre ehvientre de una puñalada. Así acaba la historia, salvo que para algún relator queda el santafesino en el campo y, para otro (que le mezquina la dignidad de morir), vuelve a su provincia. En esta versión última, Suárez le hace la primera cura con la caña que quedó del almuerzo. ; . En la gesta del Manco Wenceslao —así ahora se llama Suárez, para la gloria— la mansedumbre o cortesía de ciertos rasgos (el trabajo de trenzador, el escrúpulo de no dejar sola a la madre, las dos caras floridas, la conversación, el almuerzo) mitigan o acentúan con felicidad la tremenda fábula; tales rasgos le dan un carácter épico y aun caballeresco que no hallaremos, por ejemplo, salvo que hayamos resuelto encontrarlo, en las peleas de borracho del Martín Fierro o en la congénere y más pobre versión de Juan Muraña y el surero. Un rasgo común a las dos es, quizá, significativo. En ambas el provocador resulta derrotado. Ello puede deberse a la mera y miserable necesidad de que triunfe 1 De esa vieja manera de combatir a capa y espada, habla Montaigne en sus Ensayos (I, 49) y cita un pasaje de César: Sinistras sagis involvunt, gladiosque distringunt. Lugones, en la página 54 de El payador, trae un lugar análogo del romance de Bernardo del Carpió: Revolviendo el manto al brazo. La espada fuera a sacar. 1()8 JORGE LUIS BORGES—OBRAS COMPLETAS el campeón local, pero también, y así lo preferiríamos, a una tácita condena de la provocación en estas ficciones heroicas o, y esto sería ló mejor, a la oscura y trágica convicción de que el hombre siempre es artífice de su propia desdicha, como el Ulises del canto XXVI del Infierno. Emerson, que alabó en las biografías de Plutarco \"un estoicismo que no es de las escuelas sino de la sangre\", no hubiera desdeñado esta historia. Tendríamos, pues, a hombres de pobrísima vida, a gauchos y orilleros de las regiones ribereñas del Plata y del Paraná, creando, sin saberlo, una religión, con su mitología y sus mártires, la dura \\\\ ciega religión del coraje, de estar listo a matar y a morir. Esa religión es vieja como el mundo, pero habría sido redescubierta, y vivida, en estas repúblicas, por pastores, matarifes, troperos, prófugos y rufianes. Su música estaría en los estilos, en las milongas y en los primeros tangos. He escrito que es antigua esa religión; en una saga del siglo XII se lee: —\"Dime cuál es tu fe —dijo el conde. —Creo en mi fuerza -dijo Sigmund.\" Wenceslao Suárez y su anónimo contrincante y otros que la mitología ha olvidado o ha incorporado a ellos, profesaron sin duda esa fe viril, que bien puede no ser una vanidad sino la conciencia de que en cualquier hombre está Dios. EVARISTO CARRIEGO 169 XII DOS CARTAS (La publicación de uno de los capítulos que integran la Historia del tango valió a su autor estas dos cartas, que ahora enriquecen el libro.) C. del Uruguay (E. R.), 27 de enero de 1953. Señor JORGE LUIS BORGES He leído en \"La Nación\" del 28 de diciembre \"El Desafío\". Dado el interés que usted manifiesta por hechos de la naturaleza del que narra, pienso que le será grato conocer uno que contaba mi padre, fallecido hace muchos años, diciéndose testigo presencial del mismo. Lugar: el saladero \"San José\" de Puerto Ruiz, próximo a Gualeguay, que giraba bajo la firma Laurencena, Parachú y Marcó. Época: Allá por los 60. Entre el personal del saladero, casi exclusivamente de vascos, figuraba un negro de nombre Fustel, cuya fama como diestro en el manejo del facón había trascendido los límites de la provincia, como usted verá. Un buen día llegó a Puerto Ruiz un paisano lujosamente vestido al estilo de la época: chiripá de merino negro, calzoncillo cribado, pañuelo de seda al cuello, cinto cubierto de monedas de plata, en buen caballo aperado regiamente: freno, pretal, estribos y cabezada de plata con adornos de oro y facón haciendo juego. Se dio a conocer diciendo que venía del saladero \"Fray Bentos\", donde se había enterado de la fama de Fustel, y que, considerándose muy hombre, deseaba probarse con él. Fue fácil ponerles en contacto, y no habiendo motivos de ninguna clase de malquerencia, se concertó el lance para el día y hora determinados, en el mismo lugar. En el centro de una gran rueda formada por todo el personal del saladero y vecinos, comenzó la pelea, en la que ambos hombres demostraban admirable destreza. Después de largo rato de lucha, el negro Fustel consiguió alcanzar a su rival con la punta del facón en la frente, haciéndole una herida que aunque pequeña empezó a manar bastante sangre. 170 JORGE LUIS BORGES—OBRAS COMPLETAS Al verse herido, el forastero tiró el facón y, tendiéndole la mano a su contrincante, le dijo: \"Usted es más nombre, amigo\" Se hicieron muy buenos amigos, y al despedirse se cambiaron los facones en prueba de amistad. Se me ocurre que manejado por su prestigiosa pluma, este hecho, que creo histórico (mi padre nunca mintió), podría servirle para rehacer el libreto de su film, cambiando el nombre de \"Los orilleros\" por \"Nobleza Gaucha\", o algo parecido. Lo saluda con especial consideración ERNESTO T. MARCÓ EVARISTO CARRIEGO 171 Chivilcoy, diciembre 28 de 1952. Señor Jorge Luis Borges, en La Nación. De mi distinguida consideración: Ref.: Comentarios a El Desafío (28¡12¡52) Escribo esto con un propósito de información y no de rectificación, por cuanto lo esencial no sufre alteración alguna, variando sólo algunas formas del hecho. Muchas veces escuché a mi padre detalles del duelo que sirve a la sustancia de El Desafío aparecido en La Nación de hoy, quien a la sazón habitaba en un campo de su propiedad sito en las proximidades de la \"Pulpería de Doña Hipólita\", cuya playa aledaña fue el escenario en que se desarrolló el terrible duelo entre Wenceslao y el paisano azuleño —el mismo visitante se lo dijo a Wenceslao que procedía del Azul, hasta donde llegaran las mentas de la destreza de éste— que vino a dirimir posiciones. Cerca de una parva de pasto seco comieron los rivales, seguramente estudiándose, y cuando tal vez los ánimos se acaloraron, vino la invitación a un visteo hecha por el sureño y aceptada en el acto por el nuestro. Saltarín como era el azuleño, resultaba inalcanzable para el facón de su rival, prolongándose la lucha en perjuicio de Wenceslao. Desde arriba de la parva un peón de Doña Hipólita, eme había cerrado la puerta de su pulpería en vista del cariz de la cuestión, presenciaba atemorizado las alternativas de la pelea. Resuelto Wenceslao a obtener una decisión, descubrió su guardia ofreciendo su brazo izquierdo protegido por el poncho que tenía arrollado. Cayó como el rayo el del Azul con un terrible hachazo descargado sobre la muñeca de su contrincante al tiempo que la punta aguzada del facón de Wenceslao lo alcanzaba en un ojo. Un alarido salvaje rasgó el silencio de la pampa, y el azuleño puesto en fuga se refugió tras la sólida puerta de la pulpería mientras Wenceslao pisaba su mano izquierda sostenida por una tira de piel y de un tajo- la separaba del brazo, metía el muñón en la pechera de su blusa y corría tras del fugitivo, rugiendo como un león y reclamando su presencia para continuar la lucha. Desde ese entonces a Wenceslao se le conocía por el manco Wenceslao. Vivía de su trabajo en tientos. Nunca provocaba. Su presencia en las pulperías fue prenda de paz, pues bastaba i 72 ¡ORCE l.VIS BORGKS—OBRAS COMPLETAS su enérgica advertencia proferida calmosamente, con su voz varonil, para desalentar a los pendencieros. Dentro de esa pobreza lúe un señor. Su vida sencilla tuvo trascendencia, porque su orgullosa personalidad no toleró el insulto y ni siquiera el desdén, v su profundo conocimiento de las debilidades humanas le hizo dudar de la imparcialidad de la justicia de aquel entonces y por eso acostumbróse a hacérsela por sí mismo. Ahí estuvo su error, en cuanto a su propia conservación. La trastada de un gringo lo obligó a proceder, y de allí partió su desgracia. Una numerosa comisión policial integrada por civiles lo acorraló en una pulpería donde fuera en busca de los vicios. La lucha a arma blanca, de 5 a I, se resolvía ventajosamente para Wenceslao cuando el certero disparo de un civil tendió para siempre al héroe del cuartel 13. ,. Lo demás es exacto. Vivía en un rancho con la madre. Los \\\\ccinos, entre ellos mi padre, lo ayudaron para construirlo. Nunca robó. llago propicia la oportunidad para saludar al talentoso escritor con expresiones de mi admiración y simpatía. JUAN B. LAUHIRAT Discusión (1932) I Esto es lo malo de no hacer imprimh las obras: que se va la vida en rehacerlas, ALFONSO REYES. Cuestiones gongorinas, 60, ) 177 ( P R Ó L O G O Las páginas recopiladas en este libro no precisan mayor elucidación. El arte narrativo y la magia, Films y La postulación de la realidad responden a cuidados idénticos y creo que llegan a ponerse de acuerdo. Nuestras imposibilidades no es el charro ejercicio de invectiva que dijeron algunos; es un informe reticente y dolido de ciertos caracteres de nuestro ser que no son tan gloriosos 1. Una vindicación del falso Basílides y Una vindicación de la cabala son resignados ejercicios de anacronismo: no restituyen el difícil pasado — operan y divagan con él. La duración del Infierno declara mi afición incrédula y persistente por las dificultades teológicas. Digo lo mismo de La penúltima versión de la realidad. Paul Groussac es la más prescindible página del volumen. La intitulada El otro Whitman omite voluntariamente el fervor que siempre me ha dictado su tema; deploro no haber destacado algo más las numerosas invenciones retóricas del poeta, más imitadas ciertamente y más bellas que las de Mallarmé o las de Swinburne. La perpetua carrera de Aquiles y la tortuga no solicita otra virtud que la de su acopio de informes. Las versiones homéricas son mis primeras letras —que no creo ascenderán á segundas— de helenista adivinatorio. Vida y muerte le han faltado a mi vida. De esa indigencia, mi laborioso amor por estas minucias. No sé si la disculpa del epígrafe me valdrá. Buenos Aires, 1932. 1 El artículo, que ahora parecería muy débil, no figura en esla reedición. (Nota de 1955.) DISCUSIÓN 179 LA POESÍA GAUCHESCA Es fama que le preguntaron a Whistler cuánto tiempo había requerido para pintar uno de sus nocturnos y que respondió: \"Toda mi vida.\" Con igual rigor pudo haber dicho que había requerido todos los siglos que precedieron al momento en que lo pintó. De esa correcta aplicación de la ley de causalidad se sigue que el menor de los hechos presupone el inconcebible universo e, inversamente, que el universo necesita del menor de los hechos. Investigar las causas de un fenómeno, siquiera de un fenómeno tan simple como la literatura gauchesca, es proceder en infinito; básteme la mención de dos causas que juzgo principales. Quienes me han precedido en esta labor se han limitado a una: la vida pastoril que era típica de las cuchillas y de la pampa. Esa causa, apta sin duda para la amplificación oratoria y para la digresión pintoresca, es insuficiente; la vida pastoril ha sido típica de muchas regiones de América, desde Montana y Oregón hasta Chile, pero esos territorios, hasta ahora, se han abstenido enérgicamente de redactar El gaucho Martín Fierro. No bastan, pues, el duro pastor y el desierto. El cowboy, a pesar de los libros documentales de Will James y del insistente cinematógrafo, pesa menos en la literatura de su país que los chacareros del Middle West o que los hombres negros del Sur... Derivar la literatura gauchesca de su materia, el gaucho, es una confusión que desfigura la notoria verdad. No menos necesario para la formación de ese género que la pampa y que las cuchillas fue el carácter urbano de Buenos Aires y de Montevideo. Las guerras de la Independencia, la guerra del Brasil, las guerras anárquicas, hicieron que hombres de cultura civil se compenetraran con el gauchaje; de la azarosa conjunción de esos dos estilos vitales, del asombro que uno produjo en otro, nació la literatura gauchesca. Denostar (algunos lo han hecho) a Juan \\'Cruz Várela o a Francisco Acuña de Figueroa por no haber ejercido, o inventado, esa literatura, es\" una necedad; sin las humanidades que representan sus odas y paráfrasis, Martín Fierro, en una pulpería de la frontera, no hubiera asesinado, cincuenta años después, al moreno. Tan dilatado y tan incalculable es el arte, tan secreto su juego. Tachar de artificial o de inveraz a la literatura gauchesca porque ésta no es obra de gauchos, sería pedantesco y ridículo; sin embatgo, no hay cultivador de ese género que no haya sido alguna vez, por su generación o las venideras, acusado de falsedad. Así, para Lugones, el Aniceto 180 JORGE LUIS BORGES—OBRAS COMPLETAS de Ascasubi \"es un pobre diablo, mezcla de filosofastro y de zumbón\"; para Vicente Rossi, los protagonistas del Fausto son \"dos chacareros chupistas y charlatanes\"; Vizxacha, \"un mensual anciano, maniático\"; Fierro, \"un fraile federal-oribista con barba y chiripá\". Tales definiciones, claro está, son meras curiosidades de la inventiva; su débil y remota justificación es que todo gaucho de la literatura (todo personaje de la literatura) es, de alguna manera, el literato que lo ideó. Se ha repetido que los héroes de Shakespeare son independientes de Shakespeare; para Bernard Shaw, sin embargo, \"Macbeth es la tragedia del hombre de letras moderno, como asesino y cliente de brujas\". . . Sobre la mayor o menor autenticidad de los gauchos escritos, cabe observar, tal vez, que para casi todos nosotros, el gaucho es un objeto ideal, prototípico. De ahí un dilema: si la figura que el autor nos propone se ajusta con rigor a ese prototipo, la juzgamos trillada y convencional; si difiere, nos sentimos burlados y defraudados. Ya veremos después que de todos los héroes de. esa poesía, Fierro es el más individual, el que menos responde a una tradición. El arte, siempre, opta por lo individual, lo concreto; el arte no es platonice. Emprendo, ahora, el examen \\'sucesivo de los poetas. / /\\' El iniciador, el Adán, es Bartolomé Hidalgo, montevideano. La circunstancia de que ert 1810 fue barbero parece haber fascinado a la crítica; Lugones, que lo censura, estampa la voz \"rapabarbas\"; Rojas, que lo pondera, no se resigna a prescindir de \"rapista\". Lo hace, de una plumada, payador, y lo describe en forma ascendente, con acopio de rasgos minuciosos e imaginarios: \"vestido el chiripá sobre su calzoncillo abierto en cribas; calzadas las espuelas en la bota sobada del caballero gaucho; abierta sobre el pecho la camiseta oscura, henchida por el viento de las pampas, alzada sobre la frente el ala del chambergo, como si fuera siempre galopando la tierra natal; ennoblecida la cara barbuda por su ojo experto en las baquías de la inmensidad y de la gloria\". Harto más memorables que esas licencias de la iconografía, y la sastrería, me parecen dos circunstancias, también registradas por Rojas: el hecho de que Hidalgo fue un soldado, el hecho de que, antes de inventar al capataz Jacinto Chano y al gaucho Ramón Contreras, abundó —disciplina singular en un payador— en sonetos y en odas endecasílabas. Carlos Roxlo juzga que las composiciones rurales de Hidalgo \"no han sido superadas aún por ninguno de los que han descollado, imitándolo\". Yo pienso lo contrario; pienso que ha sido superado por muchos y que sus diálogos, ahora, lindan con el olvido. Pienso también que su paradu;.. a gloria radica en esa dilatada y diversa superación filial. Hidalgo sobrevh. en los otros, Hidalgo es de algún modo los DISCUSIÓN 181 otros. En mi corta experiencia de narrador, he comprobado que saber cómo habla un personaje es saber quién es, que descubrir una entonación, una voz, una sintaxis peculiar, es haber descubierto un destino. Bartolomé Hidalgo descubre la entonación del gaucho; eso es irmcho. No repetiré líneas suyas; inevitablemente incurriríamos en el anacronismo de condenarlas, usando como canon las de sus continuadores famosos. Básteme recordar que en las ajenas melodías que oiremos está la voz de Hidalgo, inmortal, secreta y modesta. Hidalgo falleció oscuramente de una enfermedad pulmonar, en el pueblo de Morón, hacia 1823. Hacia 1841, en Montevideo, rompió a cantar, multiplicado en insolentes seudónimos, el cordobés Hilario Ascasubi. El porvenir no ha sido piadoso con él, ni siquiera justo. Ascasubi, en vida, fue el \"Béranger del Río de la Plata\"; muerto, es un precursor borroso de Hernández. Ambas definiciones, como se ve, lo traducen en mero borrador —erróneo ya en el tiempo, ya en el espacio— de otfro destino humano. La primera, la contemporánea, no le hizo mal: quienes la apadrinaban no carecían de una directa noción de quién era Ascasubi, y de una suficiente noticia de quién era el francés; ahora, los dos conocimientos ralean. La honesta gloria de Béranger ha declinado, aunque dispone todavía de tres columnas en la Encyclopaedia Britannica, firmadas por nadie menos que Stevenson; y la de Ascasubi. . . La segunda, la de premonición o aviso del Martin Fierro, es una insensatez: es accidental el parecido de las dos obras, nulo el de sus propósitos. El motivo de esa atribución errónea es curioso. Agotada la edición príncipe de Ascasubi de 1872 y rarísima en librería la de 1900, la empresa La cultura argentina quiso facilitar al público, alguna de sus obras. Razones de largura y de seriedad eligieron el Santos Vega, impenetrable sucesión de trece mil versos, de siempre acometida y siempre postergada lectura. La gente, fastidiada, ahuyentada, tuvo que recurrir a ese respetuoso sinónimo de la incapacidad meritoria: el concepto de precursor. Pensarlo precursor\\'de su declarado discípulo, Estanislao del Campo, era demasiado evidente; resolvieron emparentarlo con José Hernández. El proyecto adolecía de esta molestia, que razonaremos después: la superioridad del precursor, en esas pocas páginas ocasionales —las descripciones del amanecer, del malón— cuyo tema es igual. Nadie se demoró en esa paradoja, nadie pasó de esta comprobación evidente: la general inferioridad de Ascasubi. (Escribo con algún remordimiento; uno de los distraídos fui yo, en ciei\\'ia consideración inútil sobre Ascasubi.) Una liviana meditación, iin embargo, habría demostrado que postulados bien los 182 JORGE LUIS BÜRGES—OBRAS COMPLETAS propósitos de los dos escritores, una frecuente superioridad parcial de Aniceto era de prever. ¿Qué fin se proponía Hernández? Uno, limitadísimo: la historia del destino de Martín Fierro, referida por éste. No intuimos los hechos, sino al paisano Martín Fierro contándolos. De ahí que la omisión, o atenuación del color local sea típica de Hernández. No especifica día y noche, el pelo de los caballos: afectación que en nuestra literatura de ganaderos tiene correlación con la británica de especificar los aparejos, los derroteros y las maniobras, en su literatura del mar, pampa de los ingleses. No silencia la realidad, pero sólo se refiere a ella en función del carácter del héroe. (Lo mismo, con el ambiente marinero, hace Joseph Conrad) Así, los muchos bailes que necesariamente figuran en su relato no son nunca descritos. Ascasubi, en cambio, se propone la intuición directa del baile, del juego discontinuo de los cuerpos que se están entendiendo (Paulino Lucero, pág. 204) : Sacó luego a su aparcera la Juana Rosa a bailar y entraron a menudiar media caña y caña entera. ¡Ah, china! si la cadera del cuerpo se le cortaba, pues tanto lo mezquinaba en cada dengue que hacía, que medio se le perdía cuando Lucero le entraba. Y esta otra décima vistosa, como baraja nueva (Aniceto el Gallo, pág. 176): Velay Pilar, la Portería linda de nu\\\\estra campaña, bailando la media caña: vean si se desempeña y el garbo con que desdeña los entros de ese gauchito, que sin soltar el ponchito con la mano en la cintura le dice en esa postura: ¡mi alma! yo soy compadrito. Es iluminativo también cotejar la noticia de los malones que hay en el Martín Fierro con la inmediata presentación de Ascasubi. Hernández (La vuelta, canto cuarto) quiere destacar el hoDISCUSIÓN 183 rror juicioso de Fierro ante la desatinada depredación; Ascasübi (Santos Vega, XIII), la,s leguas de indios que se vienen encima: Pero al invadir la Indiada se siente, porque a la fija del campo la sabandija juye delante asustada y envuelto en la manguiadavienen perros cimarrones, zorros, avestruces, liones, gamas, liebres y venaos y cruzan atribulaos por entre las poblaciones. Entonces los ovejeros coliando bravos torean y también revolotean gritando los teruteros; pero, eso si, los primeros que anuncian la novedá con toda seguridd cuando los pampas avanzan son los chajases que lanzan volando: ¡chajá! ¡chajá! Y atrás de esas madrigueras que los salvajes espantan, campo ajuera se levantan como nubes, polvaderas preñadas todas enteras de pampas desmelenaos que al trote largo apuraos, sobre los potros tendidos cargan pegando alaridos y en media luna formaos. Lo escénico otra vez, otra vez la fruición de contemplar. En esa inclinación está para mí la singularidad de Ascasübi, no en las virtudes de su ira unitaria, destacada por Oyuela y por Rojas. Éste (Obras, IX, pág. 671) imagina la desazón que sus payadas bárbaras produjeron, sin duda, en don Juan Manuel y recuerda el asesinato, dentro de la plaza sitiada de Montevideo, de Florencio Várela. El caso es incomparable: Várela, fundador y redactor de El Comercio del Plata, era persona internacionalmente visible; Ascasübi, payador incesante, se reducía a improvisar los verSos caseros del lento y vivo truco del sitio. 184 JORGE LUIS BORGES—OBRAS COMPLETAS Ascasubi, en la bélica Montevideo, cantó un odio feliz. El facit indignado versum de Juvenal no nos dice la razón de su estilo; tajeador a más no poder, pero tan desaforado y cómodo en las injurias que parece una diversión o una fiesta, un gusto de vistear. Eso deja entrever una suficiente décima de 1849 (Paulino Lucero, pág. 336): Señor patrón, allá va esa carta ¡de mi flor! con la que al Restaurador le retruco desde acá. Si usté la lé, encontrará a lo último del papel cosas de que nuestro aquel allá también se reirá; porque a decir la verdá es gaucho don Juan Manuel. Pero contra ese mismo Rosas, tan gaucho, moviliza bailes que parecen evolucionar como ejércitos. Vuelva a serpear y a resonar esta primera vuelta de su media caña del campo, para los libres: Al potro que en diez años naides lo ensilló, don Frutos en Cagancha se le acomodó, y en el repaso le ha pegado un rigor superiorato, (hiérelos mi vida —a los Orientales que son domadores— sin dificultades. ¡Que viva Rivera! ¡que viva Lavalle! Tenémelo a Rosas... que no se desmaye. Media caña, a campaña, Caña entera, como quiera. Vamos a Entre Ríos, que allá está Badana, a ver si bailamos esta Media Caña: que allá está Lavalle tocando el violin, y don Frutos quiere seguirla hasta el fin. Los de Cagancha se le afirman al diablo en cualquier cancha. DISCUSIÓN 185 Copio, también, esta peleadora felicidad (Paulino Lucero, página 58): Vaya un cielito rabioso cosa linda en ciertos casos en que anda el hombre ganoso de divertirse a balazos. Coraje florido, gusto de los colores límpidos y de los objetos precisos, pueden definir a Ascasubi^ Así, en el principio del Santos Vega: El cual iba pelo a pelo en un potrillo bragao, flete lindo corno un dao que apenas pisaba el suelo de livianito y delgao. Y esta mención de una figura {Aniceto el Gallo, pág. 147):. Velay la estampa del Gallo que sostiene la bandera de la Patria verdadera del Veinticinco de Mayo. Ascasubi, en\\' La refalosa, presenta el pánico normal de los hombres en trance de degüello; pero razones evidentes de fecha le prohibieron el anacronismo de practicar la única invención literaria de la guerra de mil novecientos catorce; el patético tratamiento del miedo. Esa invención —paradójicamente preludiada por Rudyard Kipling, tratada luego con delicadeza por Sheriff y con buena insistencia periodística por el concurrido RemarqueÍes quedaba todavía muy a trasmano a los hombres de mil ochocientos cincuenta. Ascasubi peleó en Ituzaingó, defendió las trincheras de Montevideo, peleó en Cepeda, y dejó en versos resplandecientes sus días. No hay el arrastre de destino en sus líneas que hay en el Martín Fierro; hay esa despreocupada, dura inocencia de los hombres de acción, huéspedes continuos de la aventura y nunca del asombro. Hay también su buena zafaduría, porque su destino era la guitarra insolente del compadrito y los fogones de la tropa. Hay asimismo (virtud correlativa de ese vicio y también popular) la felicidad prosódica: el verso baladí que por la sola entonador» ya está bien. De los muchos seudónimos de Ascasubi, Aniceto el Gallo fue 186 JORGE LUIS BORGES—OBRAS COMPLETAS el más famoso; acaso el menos agraciado, también. Estanislao del Campo, que lo imitaba, eligió el de Anastasio el Pollo. Ese nombre ha quedado vinculado a una obra celebérrima: el Fausto. Es sabido el origen de ese afortunado ejercicio; Groussac, no sin alguna inevitable perfidia, lo ha referido así: \"Estanislao del Campo, oficial mayor del gobierno provincial, tenía ya despachados sin gran estruendo muchos expedientes en versos de cualquier metro y jaez, cuando por agosto del 66, asistiendo a una exhibición del Fausto de Gounod en el Colón, ocurrióle fingir, entre los espectadores del paraíso, al gaucho Anastasio, quien luego refería a un aparcero sus impresiones, interpretando a su modo las fantásticas escenas. Con un poco de vista gorda al argumento, la parodia resultaba divertidísima, y recuerdo que yo mismo festejé en la Revista Argentina la reducción para guitarra, de la aplaudida partitura. . . Todo se juntaba para el éxito; la boga extraordinaria de la ópera, recién estrenada en Buenos Aires; el sesgo cómico del \\'pato\\' entre el diablo y el doctor, el cual, así parodiado, retrotraía el drama, muy por encima del poema de Goethe, hasta sus orígenes populares y medievales; el sonsonete fácil de las redondillas, en que el trémolo sentimental alternaba diestramente con los puñados de sal gruesa; por fin, en aquellos años de criollismo triunfante, el sabor a mate cimarrón del diálogo gauchesco, eñ que retozaba a su gusto el hijo de la pampa, si no tal cual fuera jamás en la realidad, por lo menos como lo habían compuesto y \\'convencionalizado\\' cincuenta años de mala literatura.\" Hasta aquí, Groussac. Nadie ignora que ese docto escritor creía obligatorio el desdén en su trato con meros sudamericanos; en el caso de Estanislao del Campo (a quien, inmediatamente después llama \"payador de bufete\"), agrega a ese desdén una impostura o, por lo menos, una supresión de la- verdad. Pérfidamente lo define como empleado público; minuciosamente olvida que se batió en el sitio de Buenos Aires, en la batalla de Cepeda, en Pavón y en la revolución del 74. Uno de mis abuelos, unitario, que militó con él, solía recordar que del Campo vestía el uniforme de gala para entrar en batalla y que saludó, puesta la diestra en el quepí, las primeras balas \"de Pavón. El Fausto ha sido muy diversamente juzgado. Calixto Oyuela, nada benévolo con los escritores gauchescos, lo ha calificado de joya. Es un poema que, al igual de los primitivos, podría prescindir de la imprenta, porque vive en muchas memorias. En memorias de mujeres, singularmente. Ello no importa una censura; hay escritores de indudable valor —Marcel Proust, D. H. Lawrence, Virginia Woolf— que suelen agradar a las mujeres más que a los hombres. . . Los detractores del Fausto lo acusan de ignoDISCUSIÓN 187 rancia y de falsedad. Hasta el pelo del caballo del héroe ha sido examinado y reprobado. En 1896, Rafael Hernández —hermano de José Hernández— anota: \"Ese parejero es de color overo rosado, justamente el color que no ha dado jamás un parejero, y conseguirlo sería tan raro como hallar un gato de tres colores\"; en 1916 confirma Lugones: \"Ningún criollo jinete y rumboso como el protagonista, monta en caballo overo rosado: animal siempre despreciable cuyo destino es tirar el balde en las estancias, o servir de cabalgadura a los muchachos mandaderos.\" También han sido condenados los versos últimos de la famosa décima inicial: Capaz de llevar un potro A sofrenarlo en la luna. Rafael Hernández observa que al potro no se le pone freno, sino bocado, y que sofrenar el caballo \"no es propio de criollo jinete, sino de gringo rabioso\". Lugones confirma, o transcribe: \"Ningún gaucho sujeta su caballo, sofrenándolo. Esta es una criollada falsa de gringo fanfarrón, que anda jineteando la yegua de su jardinera.\" Yo me declaro indigno de terciar en esas controversias rurales; soy más ignorante que el reprobado Estanislao del Campo. Apenas si me atrevo a confesar que aunque los gauchos de más firme ortodoxia menosprecien el pelo overo rosado, el verso En un overo rosao sigue —misteriosamente— agradándome. También se ha censurado que un rústico pueda Comprender y narrar el argumento de una ópera. Quienes así lo hacen, olvidan que todo arte es convencional; también lo es la payada biográfica de Martín Fierro. Pasan las circunstancias, pasan los hechos, pasa la erudición de los hombres versados en el pelo de los caballos; lo que no pasa, lo que tal vez será inagotable, es el placer que da la contemplación de la felicidad y de la amistad. Ese placer, quizá no menos raro en las letras que en este mundo corporal de nuestros destinos, es en mi opinión la virtud central del poema. Muchos han alabado las descripciones del amanecer, de la pampa, del anochecer, que el Fausto presenta; yo tengo para mí que la mención preliminar de los bastidores escénicos las ha contaminado de falsedad. Lo esencial es el diálogo, es la clara amistad que trasluce el diálogo. No pertenece el Fausto a la realidad argentina, pertenece —como el tango, como el truco, como Irigoyen— a la mitología argentina. IfiS JORGE LUIS BORGES—OBRAS COMPLETAS Más cerca de Ascasubi que de Estanislao del Campo, más cerca de Hernández que de Ascasubi, está el autor que paso a considerar: Antonio Lussich. Que yo sepa, sólo circulan dos informes de su obra, ambos insuficientes. Copio íntegro el primero, que bastó para incitar mi curiosidad. Es de Lugones y figura en la página 189 de El Payador. \"Don Antonio Lussich, que acababa de escribir un libro felicitado por Hernández, Los Tres Gauchos Orientales, poniendo en escena tipos gauchos de la revolución uruguaya llamada campaña de Aparicio, dióle, a lo que parece, el oportuno estímulo. De haberle enviado esa obra, resultó que Hernández tuviera la feliz ocurrencia. La obra del señor Lussich apareció editada en Buenos Aires por la imprenta de la Tribuna el 14 de junio de 1872. La carta con que Hernández felicitó a Lussich, agradeciéndole el envío del libro, es del 20 del mismo mes y año. Martín Fierro apareció en diciembre. Gallardos y generalmente apropiados al lenguaje y peculiaridades del campesino, los versos del señor Lussich formaban cuartetas, redondillas, décimas y también aquellas sextinas de payador que Hernández debía adoptar como las más típicas.\" El elogio es considerable, máxime si atendemos al propósito nacionalista de Lugones, que era exaltar el Martín Fierro y a su reprobación incondicional de Bartolomé Hidalgo, de Ascasubi, de Estanislao del Campo, de Ricardo Gutiérrez, de Echeverría. El otro informe, incomparable de reserva y de longitud, consta en la Historia crítica de te literatura uruguaya de Carlos Roxlo. \"La musa\" de Lussich, leemos en la página 242 del segundo tomo \"es excesivamente desaliñada y vive en calabozo de prosaísmos; sus descripciones carecen de luminosa y pintoresca policromía\". El mayor interés de la obra de Lussich es su anticipación evidente del inmediato y posterior Martín Fierro. La obra de Lussich profetiza, siquiera de manera esporádica, los rasgos diferenciales del Martín Fierro; bien es verdad que el trato de este último les da un relieve extraordinario que en el texto original acaso no tienen. El libro de Lussich, al principio, es menos una profecía del Martín Fierro que una repetición de los coloquios de Ramón Contreras y Chano. Entre amargo y amargo, tres veteranos cuentan las patriadas que hicieron. El procedimiento es el habitual, pero los hombres de Lussich no se ciñen a la noticia histórica y abundan en pasajes autobiográficos. Esas frecuentes digresiones de orden personal y patético, ignoradas por Hidalgo o por Ascasubi, son las que prefiguran el Martín Fierro, ya en la entonación, ya en los hechos, ya en las mismas palabras. DISCUSIÓN 189 Prodigaré las citas, pues he podido comprobar que la obra de Lussich es, virtualmente, inédita. Vaya como primera transcripción el desafío de estas décimas: Pero me llaman matrero Pues le juyo a la catana, Porque ese toque de diana En mí oreja suena fiero; Libre soy corno el pampero Y siempre libre viví, Libre fui cuando salí Dende el vientre de mi madre Sin más perro que me ladre Que el destino que corrí. . . Mi envenao tiene una hoja Con un letrero en el lomo Que dice: cuando yo asomo Es pa que alguno se encoja. Sólo esta cintura afloja Al disponer de mi suerte, Con él yo siempre fui juerte Y altivo como el lión; No me salta el corazón Ni le recelo a la muerte. Soy amacho tirador, Enlazo lindo y con gusto; Tiro las bolas tan justo Que más que acierto es primor. No se encuentra otro mejor Pa rebollar una lanza, Soy mentao por mi pujanza; Como valor, juerte y crudo El sable a mi empuje rudo ¡Jué pucha! que hace matanza. Otros ejemplos, esta vez con su correspondencia inmediata o conjetural. Dice Lussich: Yo tuve ovejas y hacienda; Caballos, casa y manguera; Mi dicha era verdadera ¡Hoy se me ha cortan la rienda! 190 JORGE LUIS BORGES—OBRAS COMPLETAS Carchas, majada y querencia Volaron con la patriada, Y hasta una vieja enramada ¡Que cayó. . . supe en mi ausencia! La guerra se lo comió Y el rastro de lo que.jué Será lo que encontraré Cuando al pago caiga yo. Dirá Hernández: Tuve en mi pago en un tiempo Hijos, hacienda y mujer Pero empecé a pad&cer, Me echaron a la frontera. ¡Y qué iba a hallar al volver! , Tan sólo hallé la Tapera. Dice Lussich: Me alcé con tuito el apero, Freno rico y de coscoja Riendas nuevitas en hoja Y tremadas con esmero; Una carona de cuero de vaca, muy bien curtida; Hasta una manta fornida Me truje de entre las carchas, Y aunque el chapiao no es pa marchas Lo chanté al pingo en seguida. Hice sudar al bolsillo Porque nunca fui tacaño: Traiba un gran poncho de paño Que me alcanzaba al tobillo Y un machazo cojinillo \\' Pa descansar mi osamenta; Quise pasar la tormenta Guarecido de hambre y frío Sin dejar del pilcherío Ni una argolla ferrugienta. Mis espuelas macumbé, Mi rebenque con virolas, DISCUSIÓN 191 Rico facón, güeñas bolas, Manea y bosal saqué. Dentro el tirador dejé Diez pesos en plata blanca Pa allegarme a cualquier banca Pues al naipe tengo apego, Y a más presumo en el juego No tener la mano manca. Copas, fiador y pretal, Estribos y cabezadas Con nuestras armas bordadas, De la gran Banda Oriental. No he güelto a ver otro igual Recao tan cumpa y paquete ¡Ahijuna! encima del flete Como un sol aquello era ¡Ni recordarlo quisiera! Pa qué, si es al santo cuete. Monté un pingo barbiador Como una luz de ligero ¡Pucha, si pa un entrevero Era cosa superior! Su cuerpo daba calor Y el herraje que llevaba Como la luna brillaba Al salir tras de una lama. Yo con orgullo y no es broma En su lomo me sentaba. Dirá Hernández: Yo llevé un moro de número ¡Sobresaliente el matucho! Con él gané en Ayacucho Más plata que agua bendita. Siempre el gaucho necesita . Un pingo pa fiarle un pucho. Y cargué sin dar más güeltas Con las prendas que tenía; Jergas, poncho, cuanto había En casa, tuito lo alcé. A mi china la dejé Media desnuda ese día. 192 JORGE LUIS BORGES—OBRAS COMPLETAS No me faltaba una guasca; Esa ocasión eché el resto: Bozal, maniador, cabresto, Lazo, bolas y manea. ¡El que hoy tan pobre me vea Tal vez no creerá todo esto! Dice Lussich: Y ha de sobrar monte o sierra Que me abrigue en su guarida, Que ande la fiera se anida También el hombre se encierra. Dirá Hernández: Ansí es que al venir la noche , Iba a buscar mi guarida. Pues ande el tigre se anida También el hombre lo pasa, Y no quería que en las casas Me radiara la partida. Se advierte que en octubre ó noviembre de 1872, Hernández estaba tout sonore encoré de los versos que. en junio del mismo año le dedicó el amigo Lussich. Se advertirá también la concisión del estilo de Hernández; y su ingenuidad voluntaria. Cuando Fierro enumera: Hijos, hacienda y mujer, o exclama, luego de mencionar unos tientos: ¡El que hoy tan pobre me vea Tal vez no crerá todo esto! sabe que los lectores urbanos no dejarán de agradecer esas simplicidades. Lussich, más espontáneo o atolondrado, no procede jamás de ese modo. Sus ansiedades literarias eran de otro orden, y solían parar en imitaciones de las ternuras más insidiosas del Fausto: Yo tuve uñ nardo una vez Y lo acariciaba tanto Que su purísimo encanto Duró lo menos un mes. DISCUSIÓN Pero ¡ay! una hora de olvido Secó hasta su última hoja. Así también se deshoja La ilusión de un bien perdido. En la segunda parte, que es de 1873, esas imitaciones alternan con otras facsimilares del Martin Fierro, como si reclamara lo suyo D. Antonio Lussich. Huelgan otras confrontaciones. Bastan las anteriores, creo, para justificar esta conclusión: los diálogos de Lussich son un borrador del libro definitivo de Hernández. Un borrador incontinente, lánguido, ocasional, pero utilizado y profetice». Llego a la obra máxima, ahora: el Martín Fierro. Sospecho que no hay otro libro argentino que haya sabido provocar de la crítica un dispendio igual de inutilidades. Tres profusiones ha tenido el error con nuestro Martín Fierro: una, las admiraciones que condescienden; otra, los elogios groseros, ilimitados; otra, la digresión histórica o filológica. La primera es la tradicional: su prototipo está en la incompetencia benévola de los sueltos de periódicos y de las cartas que usurpan el cuaderno de la edición popular, sus continuadores son insignes y de los otros. Inconscientes disminuidores de lo que alaban, no dejan nunca de celebrar en el Martín Fierro la falta de retórica: palabra que les sirve para\" nombrar la retórica deficiente —lo mismo que si emplearan arquitectura para significar la intemperie, los derrumbes y las demoliciones. Imaginan que un libro, puede no pertenecer a las letras: el Martín Fierro íes agrada contra el arte y contra la inteligencia. El entero resultado de su labor cabe en estas líneas de Rojas: \"Tanto valiera repudiar el arrullo de la paloma porque no es un madrigal o la canción del viento porque es una oda. Así esta pintoresca payada se ha de considerar en la rusticidad de su forma y en la ingenuidad de su fondo como una voz elemental de la naturaleza.\" La segunda —la del hiperbólico elogio— no ha realizado hasui hoy sino el sacrificio inútil de sus \"precursores\" y una forzada igualación con el Cantar del Cid y con la Comedia dantesca. Al hablar del coronel Ascasubi, he discutido la primera de esas actividades; de la segunda, básteme referir que su perseverante método es el de pesquisar versos contrahechos o ingratos en las epopeyas antiguas —como si las afinidades en el error fueran probatorias. Por lo demás, todo ese operoso manejo deriva de una superstición: presuponer que determinados géneros literarios (en este caso particular, la epopeya) valen formalmente más que otros. La estrafalaria y candida necesidad de que el Martín Fierro sea 194 JORGE LUIS BORGES—OBRAS COMPLETAS épico ha pretendido comprimir, siquiera de un modo simbólico, la historia secular de la patria, con sus generaciones, sus destierros, sus agonías, sus batallas de Tucumán y deltuzaingó, en las andanzas de un cuchillero de mil ochocientos setenta. Oyuela (Antología poética hispano-americana, tomo tercero, notas), ha desbaratado ya ese complot. \"El asunto del Martín Fierro\", anota, \"no es propiamente nacional, ni menos de raza, ni se relaciona en modo alguno con nuestros orígenes como pueblo, ni como nación políticamente constituida. Trátase en él dé las dolorosas vicisitudes de la vida de un gaucho, en el último tercio del siglo anterior, en la época\\'de la decadencia y próxima desaparición dé esté tipo local y transitorio nuestro, ante una organización social que lo aniquila, contadas o cantadas por el mismo protagonista.\" La tercera distrae con mejores tentaciones. Afirma con delicado error, por ejemplo, que el Martín Fierro es üriá presentación de la pampa: El hecho es qué a los hombres de la ciudad, la cám^ paña sólo nos puede ser presentada como un descubrimiento gradual, como una serie de experiencias posibles. Es el procedimiento de las novelas de aprendizaje pampeano, The Purple Land (1885) de Hudson, y Don Segundó Sombra (1926) de Güiráldes, cuyos protagonistas van identificándose con el campo. No es el procedimiento de Hernández, que presupone deliberadamente la pampa y los hábitos diarios-de la pampa, sin detallarlos nunca —omisión verosímil en un gaucho, qué habla para otros gauchos. Alguien querrá oponerme estos versos, y los precedidos por ellos: Yo he conocido esta tierra En que el paisano vivía • Y su ranchito tenia, Y sus hijos y mujer. • • \\' • Era una delicia el ver Cómo pasaba sus días. El tema, entiendo, no es la miserable edad dé oro que nosotros percibiríamos; es la destitución del narrador, su presente nostalgia. Rojas sólo deja lugar en el porvenir para el estudio filológico del poema •— vale decir, para una discusión melancólica sobre la palabra contra o contramilla, más adecuada a la infinita duración del Infierno que al plazo relativamente efímero de nuestra vida. En ese particular, como én todos, una deliberada subordinación del color local es típica de Martín Fierro. Comparado con el de los \"precursores\", su léxico parece rehuir los rasgos diferenciales del lenguaje del campo, y solicitar el sermo plebeius común. Recuerdo que de chico pudo sorprenderme su sencillez, y que me pareció de compadre criollo, no de paisano. El Fausto era mi DISCUSIÓN- 195 .norma de habla rural. Ahora —con algún conocimiento de la campaña- i el > .\\'predominio> del soberbio cuchillero de pulpería sobre el paisano reservado y solícito, me parece evidente, no tanto por el léxica manejado, cuanto por las repetidas bravatas y el acento agresivo.: . .. ¡. . \\' : Otro recurso para descuidar el poema lo ofrecen los proverbios. Esas! lástimas —según las califica definitivamente Lugones— han'"
            ],
            "application/vnd.google.colaboratory.intrinsic+json": {
              "type": "string"
            }
          },
          "metadata": {},
          "execution_count": 8
        }
      ]
    },
    {
      "cell_type": "code",
      "metadata": {
        "id": "_KlsYd7_uOez",
        "colab": {
          "base_uri": "https://localhost:8080/"
        },
        "outputId": "67917b96-75ae-41ef-a086-1a2fea8dd420"
      },
      "source": [
        "# Transformar el corpus a tokens\n",
        "tokens=text_to_word_sequence(corpus)\n",
        "# Vistazo general de los primeros tokens\n",
        "tokens[:20]"
      ],
      "execution_count": 9,
      "outputs": [
        {
          "output_type": "execute_result",
          "data": {
            "text/plain": [
              "['quiero',\n",
              " 'dejar',\n",
              " 'escrita',\n",
              " 'una',\n",
              " 'confesión',\n",
              " 'que',\n",
              " 'a',\n",
              " 'un',\n",
              " 'tiempo',\n",
              " 'será',\n",
              " 'íntima',\n",
              " 'y',\n",
              " 'general',\n",
              " 'ya',\n",
              " 'que',\n",
              " 'las',\n",
              " 'cosas',\n",
              " 'que',\n",
              " 'le',\n",
              " 'ocurren']"
            ]
          },
          "metadata": {},
          "execution_count": 9
        }
      ]
    },
    {
      "cell_type": "code",
      "metadata": {
        "id": "GlqpZSJOJ1xQ",
        "colab": {
          "base_uri": "https://localhost:8080/"
        },
        "outputId": "469f90d2-cd29-4cd4-df97-91c55a8427d9"
      },
      "source": [
        "print(\"Cantidad de tokens en el corpus:\", len(tokens))"
      ],
      "execution_count": 10,
      "outputs": [
        {
          "output_type": "stream",
          "name": "stdout",
          "text": [
            "Cantidad de tokens en el corpus: 40977\n"
          ]
        }
      ]
    },
    {
      "cell_type": "code",
      "metadata": {
        "id": "RhQevOynuYk2"
      },
      "source": [
        "# Código para hacer el desfazaje de las palabras\n",
        "# según el train_len\n",
        "text_sequences = []\n",
        "for i in range(train_len, len(tokens)):\n",
        "  seq = tokens[i-train_len:i]\n",
        "  text_sequences.append(seq)"
      ],
      "execution_count": 11,
      "outputs": []
    },
    {
      "cell_type": "code",
      "metadata": {
        "id": "FU3FuqHSuhzq",
        "colab": {
          "base_uri": "https://localhost:8080/"
        },
        "outputId": "c48ee1d6-c910-4106-e55e-b5c8ba16951a"
      },
      "source": [
        "# Demos un vistazo a nuestros vectores para entrenar el modelo\n",
        "text_sequences[:20]"
      ],
      "execution_count": 12,
      "outputs": [
        {
          "output_type": "execute_result",
          "data": {
            "text/plain": [
              "[['quiero', 'dejar', 'escrita', 'una'],\n",
              " ['dejar', 'escrita', 'una', 'confesión'],\n",
              " ['escrita', 'una', 'confesión', 'que'],\n",
              " ['una', 'confesión', 'que', 'a'],\n",
              " ['confesión', 'que', 'a', 'un'],\n",
              " ['que', 'a', 'un', 'tiempo'],\n",
              " ['a', 'un', 'tiempo', 'será'],\n",
              " ['un', 'tiempo', 'será', 'íntima'],\n",
              " ['tiempo', 'será', 'íntima', 'y'],\n",
              " ['será', 'íntima', 'y', 'general'],\n",
              " ['íntima', 'y', 'general', 'ya'],\n",
              " ['y', 'general', 'ya', 'que'],\n",
              " ['general', 'ya', 'que', 'las'],\n",
              " ['ya', 'que', 'las', 'cosas'],\n",
              " ['que', 'las', 'cosas', 'que'],\n",
              " ['las', 'cosas', 'que', 'le'],\n",
              " ['cosas', 'que', 'le', 'ocurren'],\n",
              " ['que', 'le', 'ocurren', 'a'],\n",
              " ['le', 'ocurren', 'a', 'un'],\n",
              " ['ocurren', 'a', 'un', 'hombre']]"
            ]
          },
          "metadata": {},
          "execution_count": 12
        }
      ]
    },
    {
      "cell_type": "code",
      "metadata": {
        "id": "064N2jtLvHRg",
        "colab": {
          "base_uri": "https://localhost:8080/"
        },
        "outputId": "64f2082a-40d3-409f-ab62-04b74c51746e"
      },
      "source": [
        "# Proceso de tokenizacion\n",
        "tok = Tokenizer() \n",
        "tok.fit_on_texts(text_sequences) \n",
        "\n",
        "# Convertimos las palabras a números\n",
        "# entran palabras -> salen números\n",
        "sequences = tok.texts_to_sequences(text_sequences)\n",
        "\n",
        "# Damos un vistazo\n",
        "sequences[:20]"
      ],
      "execution_count": 13,
      "outputs": [
        {
          "output_type": "execute_result",
          "data": {
            "text/plain": [
              "[[316, 919, 620, 13],\n",
              " [919, 620, 13, 1793],\n",
              " [620, 13, 1793, 4],\n",
              " [13, 1793, 4, 8],\n",
              " [1793, 4, 8, 11],\n",
              " [4, 8, 11, 44],\n",
              " [8, 11, 44, 261],\n",
              " [11, 44, 261, 920],\n",
              " [44, 261, 920, 5],\n",
              " [261, 920, 5, 194],\n",
              " [920, 5, 194, 33],\n",
              " [5, 194, 33, 4],\n",
              " [194, 33, 4, 10],\n",
              " [33, 4, 10, 105],\n",
              " [4, 10, 105, 4],\n",
              " [10, 105, 4, 30],\n",
              " [105, 4, 30, 1794],\n",
              " [4, 30, 1794, 8],\n",
              " [30, 1794, 8, 11],\n",
              " [1794, 8, 11, 66]]"
            ]
          },
          "metadata": {},
          "execution_count": 13
        }
      ]
    },
    {
      "cell_type": "code",
      "metadata": {
        "id": "vwsvmvDKKXSP",
        "colab": {
          "base_uri": "https://localhost:8080/"
        },
        "outputId": "050e5893-4906-49c7-b8d4-1dca93c9986c"
      },
      "source": [
        "print(\"Cantidad de rows del dataset:\", len(sequences))"
      ],
      "execution_count": 14,
      "outputs": [
        {
          "output_type": "stream",
          "name": "stdout",
          "text": [
            "Cantidad de rows del dataset: 40973\n"
          ]
        }
      ]
    },
    {
      "cell_type": "markdown",
      "metadata": {
        "id": "QMVP4bj0vL2e"
      },
      "source": [
        "### 3 - Input y target"
      ]
    },
    {
      "cell_type": "code",
      "metadata": {
        "id": "e1vJTG65v4Qn",
        "colab": {
          "base_uri": "https://localhost:8080/"
        },
        "outputId": "d1c28fe8-45ce-4ee1-ae03-3926006f0fb9"
      },
      "source": [
        "arr_sequences = np.array(sequences)\n",
        "x_data = arr_sequences[:,:-1]\n",
        "y_data_int = arr_sequences[:,-1] # aún falta el oneHotEncoder\n",
        "\n",
        "print(x_data.shape)\n",
        "print(y_data_int.shape)"
      ],
      "execution_count": 15,
      "outputs": [
        {
          "output_type": "stream",
          "name": "stdout",
          "text": [
            "(40973, 3)\n",
            "(40973,)\n"
          ]
        }
      ]
    },
    {
      "cell_type": "code",
      "metadata": {
        "id": "ln6kVWVlwBBs",
        "colab": {
          "base_uri": "https://localhost:8080/"
        },
        "outputId": "9960a008-3485-469a-8603-1b8b45ff7005"
      },
      "source": [
        "# Palabras del vocabulario\n",
        "tok.index_word"
      ],
      "execution_count": 16,
      "outputs": [
        {
          "output_type": "execute_result",
          "data": {
            "text/plain": [
              "{1: 'de',\n",
              " 2: 'la',\n",
              " 3: 'el',\n",
              " 4: 'que',\n",
              " 5: 'y',\n",
              " 6: 'en',\n",
              " 7: 'los',\n",
              " 8: 'a',\n",
              " 9: 'del',\n",
              " 10: 'las',\n",
              " 11: 'un',\n",
              " 12: 'es',\n",
              " 13: 'una',\n",
              " 14: 'no',\n",
              " 15: 'su',\n",
              " 16: 'se',\n",
              " 17: 'con',\n",
              " 18: 'lo',\n",
              " 19: 'por',\n",
              " 20: 'como',\n",
              " 21: 'o',\n",
              " 22: 'para',\n",
              " 23: 'al',\n",
              " 24: 'más',\n",
              " 25: 'esa',\n",
              " 26: 'mi',\n",
              " 27: 'me',\n",
              " 28: 'carriego',\n",
              " 29: 'pero',\n",
              " 30: 'le',\n",
              " 31: 'sus',\n",
              " 32: 'sin',\n",
              " 33: 'ya',\n",
              " 34: 'yo',\n",
              " 35: 'ese',\n",
              " 36: 'era',\n",
              " 37: 'luis',\n",
              " 38: 'ha',\n",
              " 39: 'si',\n",
              " 40: 'jorge',\n",
              " 41: 'completas',\n",
              " 42: 'son',\n",
              " 43: 'he',\n",
              " 44: 'tiempo',\n",
              " 45: 'buenos',\n",
              " 46: 'también',\n",
              " 47: 'aires',\n",
              " 48: 'vida',\n",
              " 49: 'tu',\n",
              " 50: 'calle',\n",
              " 51: 'dos',\n",
              " 52: 'borges—obras',\n",
              " 53: 'está',\n",
              " 54: 'ser',\n",
              " 55: 'nos',\n",
              " 56: 'sobre',\n",
              " 57: 'muerte',\n",
              " 58: 'él',\n",
              " 59: 'cuando',\n",
              " 60: 'esta',\n",
              " 61: 'noche',\n",
              " 62: 'tan',\n",
              " 63: 'siempre',\n",
              " 64: 'tango',\n",
              " 65: 'evaristo',\n",
              " 66: 'hombre',\n",
              " 67: 'fierro',\n",
              " 68: 'fue',\n",
              " 69: 'barrio',\n",
              " 70: 'hombres',\n",
              " 71: 'este',\n",
              " 72: 'porque',\n",
              " 73: 'entre',\n",
              " 74: 'vez',\n",
              " 75: 'todo',\n",
              " 76: 'hay',\n",
              " 77: 'después',\n",
              " 78: 'ni',\n",
              " 79: 'otra',\n",
              " 80: 'libro',\n",
              " 81: 'ahora',\n",
              " 82: 'tarde',\n",
              " 83: 'esas',\n",
              " 84: 'martín',\n",
              " 85: 'palermo',\n",
              " 86: 'sino',\n",
              " 87: 'así',\n",
              " 88: 'años',\n",
              " 89: 'luz',\n",
              " 90: 'había',\n",
              " 91: 'hasta',\n",
              " 92: 'te',\n",
              " 93: 'todos',\n",
              " 94: 'casa',\n",
              " 95: 'luna',\n",
              " 96: 'campo',\n",
              " 97: 'desde',\n",
              " 98: '1',\n",
              " 99: 'sólo',\n",
              " 100: 'menos',\n",
              " 101: 'otro',\n",
              " 102: 'calles',\n",
              " 103: 'día',\n",
              " 104: 'nombre',\n",
              " 105: 'cosas',\n",
              " 106: 'sombra',\n",
              " 107: 'mundo',\n",
              " 108: 'pampa',\n",
              " 109: 'mismo',\n",
              " 110: 'cielo',\n",
              " 111: 'tierra',\n",
              " 112: 'días',\n",
              " 113: 'donde',\n",
              " 114: 'mis',\n",
              " 115: 'nunca',\n",
              " 116: 'versos',\n",
              " 117: 'bien',\n",
              " 118: 'otros',\n",
              " 119: 'juan',\n",
              " 120: 'puede',\n",
              " 121: 'suburbio',\n",
              " 122: 'hecho',\n",
              " 123: '—',\n",
              " 124: 'hacia',\n",
              " 125: 'quien',\n",
              " 126: 'casi',\n",
              " 127: 'muy',\n",
              " 128: 'destino',\n",
              " 129: 'ascasubi',\n",
              " 130: 'gaucho',\n",
              " 131: 'aquí',\n",
              " 132: 'han',\n",
              " 133: 'historia',\n",
              " 134: 'alma',\n",
              " 135: 'uno',\n",
              " 136: 'tus',\n",
              " 137: 'realidad',\n",
              " 138: 'bajo',\n",
              " 139: 'tiene',\n",
              " 140: 'hace',\n",
              " 141: 'ciudad',\n",
              " 142: 'parece',\n",
              " 143: 'i',\n",
              " 144: 'dios',\n",
              " 145: 'voz',\n",
              " 146: 'patio',\n",
              " 147: 'nadie',\n",
              " 148: 'obra',\n",
              " 149: 'qué',\n",
              " 150: 'palabra',\n",
              " 151: 'decir',\n",
              " 152: 'hernández',\n",
              " 153: 'entonces',\n",
              " 154: 'fervor',\n",
              " 155: 'están',\n",
              " 156: 'nuestra',\n",
              " 157: 'hechos',\n",
              " 158: 'mar',\n",
              " 159: 'primera',\n",
              " 160: 'recuerdo',\n",
              " 161: 'otras',\n",
              " 162: 'algún',\n",
              " 163: 'eran',\n",
              " 164: 'casas',\n",
              " 165: 'sur',\n",
              " 166: 'nuestro',\n",
              " 167: 'sueño',\n",
              " 168: 'agua',\n",
              " 169: 'truco',\n",
              " 170: 'don',\n",
              " 171: 'cualquier',\n",
              " 172: 'soy',\n",
              " 173: 'sido',\n",
              " 174: 'amor',\n",
              " 175: 'literatura',\n",
              " 176: 'aquel',\n",
              " 177: 'norte',\n",
              " 178: 'sola',\n",
              " 179: 'último',\n",
              " 180: 'página',\n",
              " 181: 'pobre',\n",
              " 182: 'caballo',\n",
              " 183: 'pues',\n",
              " 184: 'l',\n",
              " 185: 'verso',\n",
              " 186: 'muchos',\n",
              " 187: 'alguna',\n",
              " 188: 'aunque',\n",
              " 189: 'toda',\n",
              " 190: 'san',\n",
              " 191: 'sé',\n",
              " 192: 'fueron',\n",
              " 193: 'lussich',\n",
              " 194: 'general',\n",
              " 195: 'tal',\n",
              " 196: 'juego',\n",
              " 197: 'jardín',\n",
              " 198: 'noches',\n",
              " 199: 'unos',\n",
              " 200: 'unas',\n",
              " 201: 'mejor',\n",
              " 202: 'wenceslao',\n",
              " 203: 'páginas',\n",
              " 204: 'cuya',\n",
              " 205: 'fin',\n",
              " 206: 'fuera',\n",
              " 207: \"'\",\n",
              " 208: 'palabras',\n",
              " 209: 'amistad',\n",
              " 210: 'mano',\n",
              " 211: 'última',\n",
              " 212: 'cosa',\n",
              " 213: 'guitarra',\n",
              " 214: 'mil',\n",
              " 215: 'criollo',\n",
              " 216: 'guapo',\n",
              " 217: 'nada',\n",
              " 218: 'siglo',\n",
              " 219: 'haber',\n",
              " 220: 'música',\n",
              " 221: 'cómo',\n",
              " 222: 'dijo',\n",
              " 223: 'creo',\n",
              " 224: 'patria',\n",
              " 225: 'alto',\n",
              " 226: 'almacén',\n",
              " 227: 'letras',\n",
              " 228: 'algo',\n",
              " 229: 'recuerdos',\n",
              " 230: 'ella',\n",
              " 231: 'muerto',\n",
              " 232: 'flor',\n",
              " 233: 'estas',\n",
              " 234: 'va',\n",
              " 235: 'tres',\n",
              " 236: 'rosas',\n",
              " 237: 'aire',\n",
              " 238: 'soledad',\n",
              " 239: 'pienso',\n",
              " 240: 'orillas',\n",
              " 241: 'les',\n",
              " 242: 'misma',\n",
              " 243: 'modo',\n",
              " 244: 'ante',\n",
              " 245: 'lugar',\n",
              " 246: 'poema',\n",
              " 247: 'paredes',\n",
              " 248: 'sangre',\n",
              " 249: 'rosa',\n",
              " 250: 'ojos',\n",
              " 251: 'cada',\n",
              " 252: 'guerra',\n",
              " 253: 'mí',\n",
              " 254: 'contra',\n",
              " 255: 'mujer',\n",
              " 256: 'esquinas',\n",
              " 257: 'mucho',\n",
              " 258: 'buen',\n",
              " 259: 'luego',\n",
              " 260: 'mal',\n",
              " 261: 'será',\n",
              " 262: 'paso',\n",
              " 263: 'lugones',\n",
              " 264: 'hoy',\n",
              " 265: 'fondo',\n",
              " 266: 'clara',\n",
              " 267: 'sol',\n",
              " 268: 'río',\n",
              " 269: 'todas',\n",
              " 270: 'pasado',\n",
              " 271: 'antes',\n",
              " 272: 'sería',\n",
              " 273: 'hacer',\n",
              " 274: 'sabe',\n",
              " 275: 'ellos',\n",
              " 276: 'iba',\n",
              " 277: 'mayor',\n",
              " 278: 'dice',\n",
              " 279: 'común',\n",
              " 280: 'suárez',\n",
              " 281: 'manera',\n",
              " 282: 'memoria',\n",
              " 283: 'sentido',\n",
              " 284: 'pobreza',\n",
              " 285: 'escritor',\n",
              " 286: 'poco',\n",
              " 287: 'apenas',\n",
              " 288: 'almas',\n",
              " 289: 'mármol',\n",
              " 290: 'plaza',\n",
              " 291: 'entera',\n",
              " 292: 'valor',\n",
              " 293: 'arte',\n",
              " 294: 'largo',\n",
              " 295: 'cuyo',\n",
              " 296: 'sea',\n",
              " 297: 'final',\n",
              " 298: 'nosotros',\n",
              " 299: 'e',\n",
              " 300: 'tanto',\n",
              " 301: 'miedo',\n",
              " 302: 'eso',\n",
              " 303: 'pueblo',\n",
              " 304: 'verdad',\n",
              " 305: 'esquina',\n",
              " 306: 'igual',\n",
              " 307: 'muchas',\n",
              " 308: 'cuchillo',\n",
              " 309: 'poesía',\n",
              " 310: 'hizo',\n",
              " 311: 'fe',\n",
              " 312: 'gusto',\n",
              " 313: 'estilo',\n",
              " 314: 'caso',\n",
              " 315: 'versión',\n",
              " 316: 'quiero',\n",
              " 317: 'padre',\n",
              " 318: 'espadas',\n",
              " 319: 'pasión',\n",
              " 320: 'espacio',\n",
              " 321: 'acaso',\n",
              " 322: 'fácil',\n",
              " 323: 'negro',\n",
              " 324: 'año',\n",
              " 325: 'desierto',\n",
              " 326: 'todavía',\n",
              " 327: 'alba',\n",
              " 328: '•',\n",
              " 329: 'enfrente',\n",
              " 330: 'virtud',\n",
              " 331: 'evidente',\n",
              " 332: 'primer',\n",
              " 333: 'tengo',\n",
              " 334: 'pudo',\n",
              " 335: 'caña',\n",
              " 336: 'popular',\n",
              " 337: 'payador',\n",
              " 338: 'fausto',\n",
              " 339: 'hidalgo',\n",
              " 340: 'patios',\n",
              " 341: 'veces',\n",
              " 342: 'poniente',\n",
              " 343: 'lector',\n",
              " 344: 'nuestras',\n",
              " 345: 'ocaso',\n",
              " 346: 'secreto',\n",
              " 347: 'hora',\n",
              " 348: 'as',\n",
              " 349: 'vivir',\n",
              " 350: 'batalla',\n",
              " 351: 'muertes',\n",
              " 352: 'fiesta',\n",
              " 353: 'eres',\n",
              " 354: 'visto',\n",
              " 355: 'solo',\n",
              " 356: 'pobres',\n",
              " 357: 'camino',\n",
              " 358: 'argentina',\n",
              " 359: 'argentino',\n",
              " 360: '—el',\n",
              " 361: 'esos',\n",
              " 362: '¿qué',\n",
              " 363: 'puerta',\n",
              " 364: 'cara',\n",
              " 365: 'canción',\n",
              " 366: 'da',\n",
              " 367: 'cuaderno',\n",
              " 368: 'and',\n",
              " 369: 'autor',\n",
              " 370: 'compadre',\n",
              " 371: 'gringo',\n",
              " 372: 'principio',\n",
              " 373: 'esto',\n",
              " 374: 'novecientos',\n",
              " 375: 'tienen',\n",
              " 376: 'éste',\n",
              " 377: 'temas',\n",
              " 378: 'quiere',\n",
              " 379: 'josé',\n",
              " 380: 'paisano',\n",
              " 381: 'figura',\n",
              " 382: 'segundo',\n",
              " 383: 'fama',\n",
              " 384: 'habla',\n",
              " 385: 'pueden',\n",
              " 386: 'pa',\n",
              " 387: 'discusión',\n",
              " 388: 'carro',\n",
              " 389: 'señor',\n",
              " 390: 'ejemplo',\n",
              " 391: 'estos',\n",
              " 392: 'árboles',\n",
              " 393: 'llanura',\n",
              " 394: 'duda',\n",
              " 395: 'viento',\n",
              " 396: 'estrellas',\n",
              " 397: 'colores',\n",
              " 398: 'plata',\n",
              " 399: 'gloria',\n",
              " 400: 'país',\n",
              " 401: 'manuel',\n",
              " 402: 'espejo',\n",
              " 403: 'asombro',\n",
              " 404: 'v',\n",
              " 405: 'mención',\n",
              " 406: 'carne',\n",
              " 407: 'horizonte',\n",
              " 408: 'estaba',\n",
              " 409: 'quienes',\n",
              " 410: 'nueva',\n",
              " 411: 'razón',\n",
              " 412: 'aún',\n",
              " 413: 'único',\n",
              " 414: 'vuelve',\n",
              " 415: 'llama',\n",
              " 416: 'tenía',\n",
              " 417: 'carácter',\n",
              " 418: 'salvo',\n",
              " 419: 'punta',\n",
              " 420: 'fuego',\n",
              " 421: 'sigue',\n",
              " 422: 'gran',\n",
              " 423: 'segunda',\n",
              " 424: 'algunas',\n",
              " 425: 'tangos',\n",
              " 426: 'frontera',\n",
              " 427: 'conversación',\n",
              " 428: 'debe',\n",
              " 429: 'posesión',\n",
              " 430: 'queda',\n",
              " 431: 'misterio',\n",
              " 432: 'felicidad',\n",
              " 433: 'pelea',\n",
              " 434: 'gente',\n",
              " 435: 'condición',\n",
              " 436: 'francés',\n",
              " 437: 'coraje',\n",
              " 438: 'compadrito',\n",
              " 439: 'gauchos',\n",
              " 440: 'estanislao',\n",
              " 441: 'pulpería',\n",
              " 442: 'media',\n",
              " 443: 'estoy',\n",
              " 444: 'mañanas',\n",
              " 445: 'escribió',\n",
              " 446: 'español',\n",
              " 447: 'arrabales',\n",
              " 448: 'ajenas',\n",
              " 449: 'milagro',\n",
              " 450: 'nuestros',\n",
              " 451: 'antigua',\n",
              " 452: '—la',\n",
              " 453: 'esperanza',\n",
              " 454: 'quizá',\n",
              " 455: 'ternura',\n",
              " 456: 've',\n",
              " 457: 'destinos',\n",
              " 458: 'eternidad',\n",
              " 459: 'espera',\n",
              " 460: 'espada',\n",
              " 461: 'canto',\n",
              " 462: 'alguien',\n",
              " 463: 'grande',\n",
              " 464: 'memorias',\n",
              " 465: 'parte',\n",
              " 466: 'infinita',\n",
              " 467: 'doce',\n",
              " 468: 'presente',\n",
              " 469: 'esencial',\n",
              " 470: 'altas',\n",
              " 471: 'nuevo',\n",
              " 472: 'forma',\n",
              " 473: 'mientras',\n",
              " 474: 'tardes',\n",
              " 475: 'cuatro',\n",
              " 476: 'hoja',\n",
              " 477: 'pena',\n",
              " 478: 'escrito',\n",
              " 479: 'escribir',\n",
              " 480: 'cierto',\n",
              " 481: 'rosado',\n",
              " 482: 'brazo',\n",
              " 483: 'caballos',\n",
              " 484: 'lado',\n",
              " 485: 'embargo',\n",
              " 486: 'boca',\n",
              " 487: 'infinito',\n",
              " 488: 'of',\n",
              " 489: 'arroyo',\n",
              " 490: 'medio',\n",
              " 491: 'caras',\n",
              " 492: 'martin',\n",
              " 493: 'libros',\n",
              " 494: 'muertos',\n",
              " 495: 'ninguna',\n",
              " 496: 'amigo',\n",
              " 497: 'argumento',\n",
              " 498: 'milonga',\n",
              " 499: 'prueba',\n",
              " 500: 'rasgos',\n",
              " 501: 'demás',\n",
              " 502: 'allá',\n",
              " 503: 'policía',\n",
              " 504: 'buena',\n",
              " 505: 'rencor',\n",
              " 506: 'herejes',\n",
              " 507: 'chambergo',\n",
              " 508: 'criollismo',\n",
              " 509: 'duelo',\n",
              " 510: 'suele',\n",
              " 511: 'quién',\n",
              " 512: 'décimas',\n",
              " 513: 'ciudades',\n",
              " 514: 'género',\n",
              " 515: 'pasa',\n",
              " 516: 'tuvo',\n",
              " 517: 'muraña',\n",
              " 518: 'obras',\n",
              " 519: 'cartas',\n",
              " 520: 'jinete',\n",
              " 521: 'perdido',\n",
              " 522: 'has',\n",
              " 523: 'madre',\n",
              " 524: 'j',\n",
              " 525: 'somos',\n",
              " 526: 'retórica',\n",
              " 527: 'única',\n",
              " 528: 'silencio',\n",
              " 529: 'abierta',\n",
              " 530: 'corazón',\n",
              " 531: 'real',\n",
              " 532: 'naipes',\n",
              " 533: 'mitología',\n",
              " 534: 'claro',\n",
              " 535: 'cual',\n",
              " 536: 'oscura',\n",
              " 537: 'costumbre',\n",
              " 538: 'dio',\n",
              " 539: 'alta',\n",
              " 540: 'inmortalidad',\n",
              " 541: 'imagen',\n",
              " 542: 'larga',\n",
              " 543: 'verdadera',\n",
              " 544: 'arrabal',\n",
              " 545: 'porvenir',\n",
              " 546: 'color',\n",
              " 547: 'podría',\n",
              " 548: 'opinión',\n",
              " 549: 'vuelta',\n",
              " 550: 'propósito',\n",
              " 551: 'anterior',\n",
              " 552: 'magia',\n",
              " 553: 'algunos',\n",
              " 554: 'pie',\n",
              " 555: 'mañana',\n",
              " 556: 'líneas',\n",
              " 557: 'viva',\n",
              " 558: 'pierde',\n",
              " 559: 'santa',\n",
              " 560: 'ti',\n",
              " 561: 'dicha',\n",
              " 562: 'según',\n",
              " 563: 'noticia',\n",
              " 564: 'idea',\n",
              " 565: 'declaración',\n",
              " 566: 'argentinos',\n",
              " 567: 'r',\n",
              " 568: 'cerca',\n",
              " 569: 'carros',\n",
              " 570: 'pecho',\n",
              " 571: 'frente',\n",
              " 572: 'cuerpo',\n",
              " 573: 'lucero',\n",
              " 574: 'vieja',\n",
              " 575: 'montevideo',\n",
              " 576: 'ciego',\n",
              " 577: 'dulce',\n",
              " 578: 'provincia',\n",
              " 579: 'campaña',\n",
              " 580: 'eterno',\n",
              " 581: 'poeta',\n",
              " 582: 'shakespeare',\n",
              " 583: 'refiere',\n",
              " 584: 'escribo',\n",
              " 585: 'aun',\n",
              " 586: 'maldonado',\n",
              " 587: 'milongas',\n",
              " 588: 'dé',\n",
              " 589: 'pieza',\n",
              " 590: 'detrás',\n",
              " 591: '2',\n",
              " 592: 'proceder',\n",
              " 593: 'rossi',\n",
              " 594: 'quería',\n",
              " 595: 'además',\n",
              " 596: 'capítulo',\n",
              " 597: 'sí',\n",
              " 598: 'pesar',\n",
              " 599: 'símbolo',\n",
              " 600: 'estado',\n",
              " 601: 'héroe',\n",
              " 602: 'ahí',\n",
              " 603: 'razones',\n",
              " 604: 'vale',\n",
              " 605: 'propia',\n",
              " 606: 'habría',\n",
              " 607: 'personal',\n",
              " 608: 'misas',\n",
              " 609: 'clavel',\n",
              " 610: 'local',\n",
              " 611: 'siquiera',\n",
              " 612: 'viejo',\n",
              " 613: 'orilleros',\n",
              " 614: 'importa',\n",
              " 615: 'pelear',\n",
              " 616: 'sentimental',\n",
              " 617: 'haya',\n",
              " 618: 'diálogo',\n",
              " 619: 'facón',\n",
              " 620: 'escrita',\n",
              " 621: 'muchacho',\n",
              " 622: 'serenidad',\n",
              " 623: 'ésta',\n",
              " 624: 'ceniza',\n",
              " 625: 'antiguas',\n",
              " 626: 'niña',\n",
              " 627: 'sentir',\n",
              " 628: 'azul',\n",
              " 629: 'abre',\n",
              " 630: 'cuarenta',\n",
              " 631: 'generaciones',\n",
              " 632: 'hubo',\n",
              " 633: 'hojas',\n",
              " 634: 'instante',\n",
              " 635: 'olvido',\n",
              " 636: 'habrá',\n",
              " 637: 'puñal',\n",
              " 638: 'hondura',\n",
              " 639: 'ausencia',\n",
              " 640: 'allí',\n",
              " 641: 'manos',\n",
              " 642: 'caminos',\n",
              " 643: 'amanecer',\n",
              " 644: 'declara',\n",
              " 645: 'volumen',\n",
              " 646: 'persiste',\n",
              " 647: 'labios',\n",
              " 648: 'verja',\n",
              " 649: 'humana',\n",
              " 650: 'ángel',\n",
              " 651: '4',\n",
              " 652: 'corno',\n",
              " 653: 'fui',\n",
              " 654: 'azar',\n",
              " 655: 'tristeza',\n",
              " 656: 'cárcel',\n",
              " 657: 'atardecer',\n",
              " 658: 'error',\n",
              " 659: 'típica',\n",
              " 660: 'deja',\n",
              " 661: 'dura',\n",
              " 662: 'cansado',\n",
              " 663: 'vienen',\n",
              " 664: 'basta',\n",
              " 665: 'playa',\n",
              " 666: 'inútil',\n",
              " 667: 'junto',\n",
              " 668: 'ira',\n",
              " 669: 'hierro',\n",
              " 670: 'inmediato',\n",
              " 671: 'antiguo',\n",
              " 672: 'gracia',\n",
              " 673: 'querido',\n",
              " 674: 'almacenes',\n",
              " 675: '¿cómo',\n",
              " 676: 'fundación',\n",
              " 677: 'tenían',\n",
              " 678: 'criolla',\n",
              " 679: 'saber',\n",
              " 680: 'costado',\n",
              " 681: 'corrales',\n",
              " 682: 'murió',\n",
              " 683: 'cementerio',\n",
              " 684: 'primitivo',\n",
              " 685: 'viejos',\n",
              " 686: 'nación',\n",
              " 687: 'letra',\n",
              " 688: 'definición',\n",
              " 689: 'doctor',\n",
              " 690: 'vicente',\n",
              " 691: 'groussac',\n",
              " 692: 'hacienda',\n",
              " 693: 'tampoco',\n",
              " 694: 'básteme',\n",
              " 695: 'presencia',\n",
              " 696: 'elemental',\n",
              " 697: 'ver',\n",
              " 698: 'rato',\n",
              " 699: 'cincuenta',\n",
              " 700: 'imaginación',\n",
              " 701: 'papel',\n",
              " 702: 'posible',\n",
              " 703: 'tradición',\n",
              " 704: 'entonación',\n",
              " 705: 'oriental',\n",
              " 706: 'tema',\n",
              " 707: 'creía',\n",
              " 708: 'tener',\n",
              " 709: 'orden',\n",
              " 710: 'almafuerte',\n",
              " 711: 'guapos',\n",
              " 712: 'publicó',\n",
              " 713: 'parroquia',\n",
              " 714: 'ley',\n",
              " 715: 'recién',\n",
              " 716: 'hijo',\n",
              " 717: 'cuándo',\n",
              " 718: 'primero',\n",
              " 719: 'vega',\n",
              " 720: 'pertenece',\n",
              " 721: 'casamiento',\n",
              " 722: 'ciertos',\n",
              " 723: 'rojas',\n",
              " 724: 'forastero',\n",
              " 725: 'pelo',\n",
              " 726: 'antiguos',\n",
              " 727: 'abuelos',\n",
              " 728: 'b',\n",
              " 729: 'quintas',\n",
              " 730: 'atardeceres',\n",
              " 731: 'centro',\n",
              " 732: 'tú',\n",
              " 733: 'honda',\n",
              " 734: 'banderas',\n",
              " 735: 'nobles',\n",
              " 736: 'polvo',\n",
              " 737: 'fechas',\n",
              " 738: 'aljibe',\n",
              " 739: 'arco',\n",
              " 740: 'pasos',\n",
              " 741: 'declive',\n",
              " 742: 'cuyas',\n",
              " 743: 'entró',\n",
              " 744: 'busca',\n",
              " 745: 'estaban',\n",
              " 746: 'grave',\n",
              " 747: 'imposible',\n",
              " 748: 'puerto',\n",
              " 749: 'mesa',\n",
              " 750: 'inscripción',\n",
              " 751: 'ejércitos',\n",
              " 752: 'junín',\n",
              " 753: 'término',\n",
              " 754: 'lanzas',\n",
              " 755: 'ciega',\n",
              " 756: 'hermosura',\n",
              " 757: 'falsa',\n",
              " 758: 'familiar',\n",
              " 759: 'remota',\n",
              " 760: 'humilde',\n",
              " 761: 'piedad',\n",
              " 762: 'cabeza',\n",
              " 763: 'iban',\n",
              " 764: 'ellas',\n",
              " 765: 'manzana',\n",
              " 766: 'libre',\n",
              " 767: 'futuro',\n",
              " 768: 'leguas',\n",
              " 769: 'tiniebla',\n",
              " 770: 'repetido',\n",
              " 771: 'golpe',\n",
              " 772: 'perdida',\n",
              " 773: 'blanca',\n",
              " 774: 'pensar',\n",
              " 775: 'imágenes',\n",
              " 776: 'lugares',\n",
              " 777: 'terrible',\n",
              " 778: 'hablar',\n",
              " 779: 'saben',\n",
              " 780: 'distinto',\n",
              " 781: 'oscuro',\n",
              " 782: 'durante',\n",
              " 783: 'campos',\n",
              " 784: 'universo',\n",
              " 785: 'silencioso',\n",
              " 786: 'abuelo',\n",
              " 787: 'justificación',\n",
              " 788: 'p',\n",
              " 789: 'obligación',\n",
              " 790: 'novela',\n",
              " 791: 'podía',\n",
              " 792: 'puedo',\n",
              " 793: 'belleza',\n",
              " 794: 'virtudes',\n",
              " 795: 'mío',\n",
              " 796: 'viene',\n",
              " 797: 'seguridad',\n",
              " 798: '¡qué',\n",
              " 799: 'lindo',\n",
              " 800: 'colorado',\n",
              " 801: 'callejones',\n",
              " 802: 'intimidad',\n",
              " 803: 'sucesión',\n",
              " 804: 'quiso',\n",
              " 805: 'pone',\n",
              " 806: 'infierno',\n",
              " 807: 'oración',\n",
              " 808: 'blanco',\n",
              " 809: 'vive',\n",
              " 810: 'solamente',\n",
              " 811: 'estrofas',\n",
              " 812: 'conocido',\n",
              " 813: 'villa',\n",
              " 814: 'hecha',\n",
              " 815: 'horas',\n",
              " 816: 'estar',\n",
              " 817: 'natural',\n",
              " 818: 'carta',\n",
              " 819: 'crítica',\n",
              " 820: 'chacarita',\n",
              " 821: 'énfasis',\n",
              " 822: 'hubiera',\n",
              " 823: 'barro',\n",
              " 824: 'indios',\n",
              " 825: 'cinco',\n",
              " 826: 'corralón',\n",
              " 827: 'cuento',\n",
              " 828: 'veredas',\n",
              " 829: 'corte',\n",
              " 830: 'andar',\n",
              " 831: 'valiente',\n",
              " 832: 'baraja',\n",
              " 833: 'negra',\n",
              " 834: 'voluntad',\n",
              " 835: 'nombres',\n",
              " 836: 'dijeron',\n",
              " 837: 'sabía',\n",
              " 838: 'velorio',\n",
              " 839: 'flores',\n",
              " 840: 'conventillos',\n",
              " 841: 'baja',\n",
              " 842: 'uruguay',\n",
              " 843: 'amistades',\n",
              " 844: 'servicial',\n",
              " 845: 'vuelto',\n",
              " 846: 'central',\n",
              " 847: 'historias',\n",
              " 848: 'preferencia',\n",
              " 849: 'honduras',\n",
              " 850: 'mazo',\n",
              " 851: 'cuarto',\n",
              " 852: 'número',\n",
              " 853: 'quinta',\n",
              " 854: 'república',\n",
              " 855: 'solía',\n",
              " 856: 'justo',\n",
              " 857: 'patético',\n",
              " 858: 'atrás',\n",
              " 859: 'mero',\n",
              " 860: 'baile',\n",
              " 861: 'cortes',\n",
              " 862: 'cuchillero',\n",
              " 863: 'barrios',\n",
              " 864: 'suelen',\n",
              " 865: 'heras',\n",
              " 866: 'cruz',\n",
              " 867: 'religión',\n",
              " 868: 'quiera',\n",
              " 869: 'paradoja',\n",
              " 870: 'sabor',\n",
              " 871: 'rostro',\n",
              " 872: 'empleo',\n",
              " 873: 'urgente',\n",
              " 874: 'acción',\n",
              " 875: 'lee',\n",
              " 876: 'alegre',\n",
              " 877: 'menor',\n",
              " 878: 'inmediata',\n",
              " 879: 'consideración',\n",
              " 880: 'afición',\n",
              " 881: 'caudillo',\n",
              " 882: 'jamás',\n",
              " 883: 'amigos',\n",
              " 884: 'carlos',\n",
              " 885: 'serie',\n",
              " 886: 'borges',\n",
              " 887: 'provocación',\n",
              " 888: 'copio',\n",
              " 889: 'literalmente',\n",
              " 890: 'diez',\n",
              " 891: 'sabido',\n",
              " 892: 'entiendo',\n",
              " 893: 'materia',\n",
              " 894: 'precursor',\n",
              " 895: 'doble',\n",
              " 896: 'falta',\n",
              " 897: 'chile',\n",
              " 898: 'd',\n",
              " 899: 'suficiente',\n",
              " 900: 'derecho',\n",
              " 901: 'momento',\n",
              " 902: 'criollos',\n",
              " 903: 'habían',\n",
              " 904: 'santos',\n",
              " 905: 'mala',\n",
              " 906: 'origen',\n",
              " 907: 'film',\n",
              " 908: 'digo',\n",
              " 909: 'suerte',\n",
              " 910: '—las',\n",
              " 911: 'poncho',\n",
              " 912: 'gallo',\n",
              " 913: 'paulino',\n",
              " 914: 'ello',\n",
              " 915: 'cuanto',\n",
              " 916: 'gauchesca',\n",
              " 917: 'aniceto',\n",
              " 918: 'pág',\n",
              " 919: 'dejar',\n",
              " 920: 'íntima',\n",
              " 921: 'chico',\n",
              " 922: 'dije',\n",
              " 923: 'dado',\n",
              " 924: '—los',\n",
              " 925: 'c',\n",
              " 926: 'carga',\n",
              " 927: 'valerosa',\n",
              " 928: 'vos',\n",
              " 929: 'to',\n",
              " 930: 'esencialmente',\n",
              " 931: 'entrever',\n",
              " 932: 'fines',\n",
              " 933: 'ciertas',\n",
              " 934: 'trivial',\n",
              " 935: 'circunstancia',\n",
              " 936: 'ejercicios',\n",
              " 937: 'invisibles',\n",
              " 938: 'penumbra',\n",
              " 939: 'inmortales',\n",
              " 940: 'distancias',\n",
              " 941: 'oeste',\n",
              " 942: '—y',\n",
              " 943: 'recoleta',\n",
              " 944: 'latín',\n",
              " 945: 'formas',\n",
              " 946: 'espejos',\n",
              " 947: 'luces',\n",
              " 948: 'pájaro',\n",
              " 949: 'zaguán',\n",
              " 950: 'paloma',\n",
              " 951: 'grato',\n",
              " 952: 'noble',\n",
              " 953: 'anchura',\n",
              " 954: 'vano',\n",
              " 955: 'olvidado',\n",
              " 956: 'caoba',\n",
              " 957: 'lejanas',\n",
              " 958: 'cartón',\n",
              " 959: 'repiten',\n",
              " 960: 'censo',\n",
              " 961: 'joven',\n",
              " 962: 'pierden',\n",
              " 963: 'buscan',\n",
              " 964: 'decente',\n",
              " 965: 'herida',\n",
              " 966: 'metáfora',\n",
              " 967: 'lupanar',\n",
              " 968: 'finales',\n",
              " 969: 'iguales',\n",
              " 970: 'piedras',\n",
              " 971: 'creí',\n",
              " 972: 'remordimiento',\n",
              " 973: 'perdición',\n",
              " 974: 'pensando',\n",
              " 975: 'hemos',\n",
              " 976: 'triste',\n",
              " 977: 'serán',\n",
              " 978: 'cabo',\n",
              " 979: 'volví',\n",
              " 980: 'ámbito',\n",
              " 981: 'hábito',\n",
              " 982: 'duele',\n",
              " 983: 'sueños',\n",
              " 984: 'sabemos',\n",
              " 985: 'eternas',\n",
              " 986: 'corre',\n",
              " 987: 'peligro',\n",
              " 988: 'matar',\n",
              " 989: 'definitiva',\n",
              " 990: 'costumbres',\n",
              " 991: 'tomo',\n",
              " 992: 'olorosa',\n",
              " 993: 'mate',\n",
              " 994: 'generoso',\n",
              " 995: 'bandera',\n",
              " 996: 'lejanía',\n",
              " 997: 'conmigo',\n",
              " 998: 'muchedumbre',\n",
              " 999: 'anochecer',\n",
              " 1000: 'ancho',\n",
              " ...}"
            ]
          },
          "metadata": {},
          "execution_count": 16
        }
      ]
    },
    {
      "cell_type": "code",
      "metadata": {
        "id": "gJgVhq1zwEpf",
        "colab": {
          "base_uri": "https://localhost:8080/"
        },
        "outputId": "1d077484-e9e9-4ff5-9c8e-5b201198fff9"
      },
      "source": [
        "# Cantidad de palabras en el vocabulario\n",
        "vocab_size = len(tok.word_counts)\n",
        "vocab_size"
      ],
      "execution_count": 17,
      "outputs": [
        {
          "output_type": "execute_result",
          "data": {
            "text/plain": [
              "9891"
            ]
          },
          "metadata": {},
          "execution_count": 17
        }
      ]
    },
    {
      "cell_type": "code",
      "metadata": {
        "id": "gIg2e2WCwXbG",
        "colab": {
          "base_uri": "https://localhost:8080/"
        },
        "outputId": "d12b9963-c05f-4973-e087-bdf6208130bc"
      },
      "source": [
        "y_data_int_offset = y_data_int - 1\n",
        "y_data = to_categorical(y_data_int_offset, num_classes=vocab_size) \n",
        "y_data.shape"
      ],
      "execution_count": 18,
      "outputs": [
        {
          "output_type": "execute_result",
          "data": {
            "text/plain": [
              "(40973, 9891)"
            ]
          },
          "metadata": {},
          "execution_count": 18
        }
      ]
    },
    {
      "cell_type": "markdown",
      "metadata": {
        "id": "GmJWNyxQwfCE"
      },
      "source": [
        "### 4 - Entrenar el modelo"
      ]
    },
    {
      "cell_type": "code",
      "metadata": {
        "id": "0cOmNZT_weK2",
        "colab": {
          "base_uri": "https://localhost:8080/"
        },
        "outputId": "e8927e35-2eb1-49e5-a0ca-7f9bdca072aa"
      },
      "source": [
        "# largo de la secuencia de entrada\n",
        "input_seq_len = x_data.shape[1] \n",
        "input_seq_len"
      ],
      "execution_count": 19,
      "outputs": [
        {
          "output_type": "execute_result",
          "data": {
            "text/plain": [
              "3"
            ]
          },
          "metadata": {},
          "execution_count": 19
        }
      ]
    },
    {
      "cell_type": "code",
      "metadata": {
        "id": "qtwITjgnwlgp",
        "colab": {
          "base_uri": "https://localhost:8080/"
        },
        "outputId": "b57e075e-0760-4123-cd47-81b2fb743d77"
      },
      "source": [
        "# Largo del vector de salida --> vocab_size\n",
        "output_size = vocab_size\n",
        "output_size"
      ],
      "execution_count": 20,
      "outputs": [
        {
          "output_type": "execute_result",
          "data": {
            "text/plain": [
              "9891"
            ]
          },
          "metadata": {},
          "execution_count": 20
        }
      ]
    },
    {
      "cell_type": "code",
      "metadata": {
        "id": "jzTZRXrrwrvi",
        "colab": {
          "base_uri": "https://localhost:8080/"
        },
        "outputId": "dfc557d0-f328-43d7-b931-a94d70d6e339"
      },
      "source": [
        "model = Sequential()\n",
        "\n",
        "# Embedding:\n",
        "# input_seq_len = 3 --> ingreso 3 palabras\n",
        "# input_dim = vocab_size --> 1628 palabras distintas\n",
        "# output_dim = 5 --> crear embeddings de tamaño 3 (tamaño variable y ajustable)\n",
        "model.add(Embedding(input_dim=vocab_size+1, output_dim=5, input_length=input_seq_len))\n",
        "\n",
        "model.add(LSTM(128, return_sequences=True))\n",
        "model.add(Dropout(0.2))\n",
        "model.add(LSTM(128)) # La última capa LSTM no lleva return_sequences\n",
        "model.add(Dense(64, activation='relu'))\n",
        "\n",
        "# Predicción de clasificación con softmax\n",
        "# La salida vuelve al espacio de 1628 palabras posibles\n",
        "model.add(Dense(vocab_size, activation='softmax'))\n",
        "\n",
        "# Clasificación multiple categórica --> loss = categorical_crossentropy\n",
        "model.compile(loss='categorical_crossentropy', optimizer='adam', metrics=['accuracy'])\n",
        "\n",
        "model.summary()"
      ],
      "execution_count": 21,
      "outputs": [
        {
          "output_type": "stream",
          "name": "stdout",
          "text": [
            "Model: \"sequential\"\n",
            "_________________________________________________________________\n",
            " Layer (type)                Output Shape              Param #   \n",
            "=================================================================\n",
            " embedding (Embedding)       (None, 3, 5)              49460     \n",
            "                                                                 \n",
            " lstm (LSTM)                 (None, 3, 128)            68608     \n",
            "                                                                 \n",
            " dropout (Dropout)           (None, 3, 128)            0         \n",
            "                                                                 \n",
            " lstm_1 (LSTM)               (None, 128)               131584    \n",
            "                                                                 \n",
            " dense (Dense)               (None, 64)                8256      \n",
            "                                                                 \n",
            " dense_1 (Dense)             (None, 9891)              642915    \n",
            "                                                                 \n",
            "=================================================================\n",
            "Total params: 900,823\n",
            "Trainable params: 900,823\n",
            "Non-trainable params: 0\n",
            "_________________________________________________________________\n"
          ]
        }
      ]
    },
    {
      "cell_type": "code",
      "source": [
        "y_data.shape"
      ],
      "metadata": {
        "colab": {
          "base_uri": "https://localhost:8080/"
        },
        "id": "L_OvJ9b3adbT",
        "outputId": "898ca23a-f87b-42cf-a64d-cfed7d4a9bc2"
      },
      "execution_count": 22,
      "outputs": [
        {
          "output_type": "execute_result",
          "data": {
            "text/plain": [
              "(40973, 9891)"
            ]
          },
          "metadata": {},
          "execution_count": 22
        }
      ]
    },
    {
      "cell_type": "code",
      "metadata": {
        "id": "oQq1PHDkxDvN",
        "colab": {
          "base_uri": "https://localhost:8080/"
        },
        "outputId": "88ea5bd2-3569-4669-e4a3-04b956f9a535"
      },
      "source": [
        "hist = model.fit(x_data, y_data, epochs=50, validation_split=0.2)"
      ],
      "execution_count": 23,
      "outputs": [
        {
          "output_type": "stream",
          "name": "stdout",
          "text": [
            "Epoch 1/50\n",
            "1025/1025 [==============================] - 20s 12ms/step - loss: 7.4475 - accuracy: 0.0622 - val_loss: 7.5470 - val_accuracy: 0.0589\n",
            "Epoch 2/50\n",
            "1025/1025 [==============================] - 10s 10ms/step - loss: 6.8959 - accuracy: 0.0628 - val_loss: 7.7011 - val_accuracy: 0.0589\n",
            "Epoch 3/50\n",
            "1025/1025 [==============================] - 10s 9ms/step - loss: 6.7360 - accuracy: 0.0629 - val_loss: 7.9185 - val_accuracy: 0.0598\n",
            "Epoch 4/50\n",
            "1025/1025 [==============================] - 10s 9ms/step - loss: 6.4708 - accuracy: 0.0740 - val_loss: 8.0300 - val_accuracy: 0.0639\n",
            "Epoch 5/50\n",
            "1025/1025 [==============================] - 10s 9ms/step - loss: 6.2244 - accuracy: 0.0794 - val_loss: 8.3562 - val_accuracy: 0.0671\n",
            "Epoch 6/50\n",
            "1025/1025 [==============================] - 10s 10ms/step - loss: 6.0274 - accuracy: 0.0825 - val_loss: 8.4510 - val_accuracy: 0.0672\n",
            "Epoch 7/50\n",
            "1025/1025 [==============================] - 9s 9ms/step - loss: 5.8681 - accuracy: 0.0855 - val_loss: 8.7728 - val_accuracy: 0.0674\n",
            "Epoch 8/50\n",
            "1025/1025 [==============================] - 10s 10ms/step - loss: 5.7212 - accuracy: 0.0883 - val_loss: 8.9248 - val_accuracy: 0.0643\n",
            "Epoch 9/50\n",
            "1025/1025 [==============================] - 10s 9ms/step - loss: 5.5839 - accuracy: 0.0906 - val_loss: 9.2518 - val_accuracy: 0.0619\n",
            "Epoch 10/50\n",
            "1025/1025 [==============================] - 9s 9ms/step - loss: 5.4498 - accuracy: 0.0945 - val_loss: 9.5509 - val_accuracy: 0.0631\n",
            "Epoch 11/50\n",
            "1025/1025 [==============================] - 9s 9ms/step - loss: 5.3184 - accuracy: 0.0976 - val_loss: 9.9762 - val_accuracy: 0.0617\n",
            "Epoch 12/50\n",
            "1025/1025 [==============================] - 9s 9ms/step - loss: 5.1884 - accuracy: 0.1035 - val_loss: 10.1624 - val_accuracy: 0.0604\n",
            "Epoch 13/50\n",
            "1025/1025 [==============================] - 9s 9ms/step - loss: 5.0539 - accuracy: 0.1084 - val_loss: 10.3547 - val_accuracy: 0.0604\n",
            "Epoch 14/50\n",
            "1025/1025 [==============================] - 10s 9ms/step - loss: 4.9204 - accuracy: 0.1126 - val_loss: 10.7407 - val_accuracy: 0.0574\n",
            "Epoch 15/50\n",
            "1025/1025 [==============================] - 9s 9ms/step - loss: 4.7894 - accuracy: 0.1198 - val_loss: 11.0763 - val_accuracy: 0.0616\n",
            "Epoch 16/50\n",
            "1025/1025 [==============================] - 10s 9ms/step - loss: 4.6577 - accuracy: 0.1265 - val_loss: 11.7092 - val_accuracy: 0.0563\n",
            "Epoch 17/50\n",
            "1025/1025 [==============================] - 10s 9ms/step - loss: 4.5259 - accuracy: 0.1350 - val_loss: 11.8611 - val_accuracy: 0.0552\n",
            "Epoch 18/50\n",
            "1025/1025 [==============================] - 9s 9ms/step - loss: 4.4001 - accuracy: 0.1417 - val_loss: 12.4050 - val_accuracy: 0.0548\n",
            "Epoch 19/50\n",
            "1025/1025 [==============================] - 10s 10ms/step - loss: 4.2717 - accuracy: 0.1517 - val_loss: 13.4515 - val_accuracy: 0.0569\n",
            "Epoch 20/50\n",
            "1025/1025 [==============================] - 10s 9ms/step - loss: 4.1483 - accuracy: 0.1599 - val_loss: 13.8470 - val_accuracy: 0.0527\n",
            "Epoch 21/50\n",
            "1025/1025 [==============================] - 11s 10ms/step - loss: 4.0344 - accuracy: 0.1672 - val_loss: 14.2462 - val_accuracy: 0.0504\n",
            "Epoch 22/50\n",
            "1025/1025 [==============================] - 10s 10ms/step - loss: 3.9194 - accuracy: 0.1789 - val_loss: 15.3119 - val_accuracy: 0.0508\n",
            "Epoch 23/50\n",
            "1025/1025 [==============================] - 10s 10ms/step - loss: 3.8090 - accuracy: 0.1913 - val_loss: 16.1275 - val_accuracy: 0.0477\n",
            "Epoch 24/50\n",
            "1025/1025 [==============================] - 10s 10ms/step - loss: 3.7042 - accuracy: 0.2023 - val_loss: 16.8396 - val_accuracy: 0.0482\n",
            "Epoch 25/50\n",
            "1025/1025 [==============================] - 11s 11ms/step - loss: 3.6210 - accuracy: 0.2133 - val_loss: 17.2514 - val_accuracy: 0.0473\n",
            "Epoch 26/50\n",
            "1025/1025 [==============================] - 10s 10ms/step - loss: 3.5353 - accuracy: 0.2239 - val_loss: 17.8853 - val_accuracy: 0.0469\n",
            "Epoch 27/50\n",
            "1025/1025 [==============================] - 10s 10ms/step - loss: 3.4546 - accuracy: 0.2345 - val_loss: 18.7884 - val_accuracy: 0.0465\n",
            "Epoch 28/50\n",
            "1025/1025 [==============================] - 10s 10ms/step - loss: 3.3780 - accuracy: 0.2486 - val_loss: 19.4678 - val_accuracy: 0.0449\n",
            "Epoch 29/50\n",
            "1025/1025 [==============================] - 11s 10ms/step - loss: 3.3045 - accuracy: 0.2565 - val_loss: 19.8240 - val_accuracy: 0.0422\n",
            "Epoch 30/50\n",
            "1025/1025 [==============================] - 10s 10ms/step - loss: 3.2436 - accuracy: 0.2681 - val_loss: 20.2490 - val_accuracy: 0.0399\n",
            "Epoch 31/50\n",
            "1025/1025 [==============================] - 10s 10ms/step - loss: 3.1806 - accuracy: 0.2776 - val_loss: 21.1288 - val_accuracy: 0.0405\n",
            "Epoch 32/50\n",
            "1025/1025 [==============================] - 10s 10ms/step - loss: 3.1257 - accuracy: 0.2885 - val_loss: 21.6794 - val_accuracy: 0.0448\n",
            "Epoch 33/50\n",
            "1025/1025 [==============================] - 10s 10ms/step - loss: 3.0680 - accuracy: 0.2968 - val_loss: 21.7895 - val_accuracy: 0.0403\n",
            "Epoch 34/50\n",
            "1025/1025 [==============================] - 11s 10ms/step - loss: 3.0163 - accuracy: 0.3054 - val_loss: 22.3824 - val_accuracy: 0.0365\n",
            "Epoch 35/50\n",
            "1025/1025 [==============================] - 10s 10ms/step - loss: 2.9621 - accuracy: 0.3130 - val_loss: 22.7622 - val_accuracy: 0.0395\n",
            "Epoch 36/50\n",
            "1025/1025 [==============================] - 10s 10ms/step - loss: 2.9153 - accuracy: 0.3236 - val_loss: 23.4141 - val_accuracy: 0.0401\n",
            "Epoch 37/50\n",
            "1025/1025 [==============================] - 10s 9ms/step - loss: 2.8685 - accuracy: 0.3320 - val_loss: 23.7976 - val_accuracy: 0.0386\n",
            "Epoch 38/50\n",
            "1025/1025 [==============================] - 10s 10ms/step - loss: 2.8298 - accuracy: 0.3364 - val_loss: 24.2351 - val_accuracy: 0.0372\n",
            "Epoch 39/50\n",
            "1025/1025 [==============================] - 12s 12ms/step - loss: 2.7894 - accuracy: 0.3441 - val_loss: 24.7752 - val_accuracy: 0.0378\n",
            "Epoch 40/50\n",
            "1025/1025 [==============================] - 11s 10ms/step - loss: 2.7455 - accuracy: 0.3538 - val_loss: 24.7533 - val_accuracy: 0.0398\n",
            "Epoch 41/50\n",
            "1025/1025 [==============================] - 10s 10ms/step - loss: 2.7048 - accuracy: 0.3599 - val_loss: 25.4221 - val_accuracy: 0.0382\n",
            "Epoch 42/50\n",
            "1025/1025 [==============================] - 10s 10ms/step - loss: 2.6612 - accuracy: 0.3716 - val_loss: 25.3920 - val_accuracy: 0.0376\n",
            "Epoch 43/50\n",
            "1025/1025 [==============================] - 10s 10ms/step - loss: 2.6225 - accuracy: 0.3775 - val_loss: 25.9834 - val_accuracy: 0.0326\n",
            "Epoch 44/50\n",
            "1025/1025 [==============================] - 10s 9ms/step - loss: 2.5837 - accuracy: 0.3850 - val_loss: 26.1727 - val_accuracy: 0.0360\n",
            "Epoch 45/50\n",
            "1025/1025 [==============================] - 10s 10ms/step - loss: 2.5601 - accuracy: 0.3896 - val_loss: 26.4263 - val_accuracy: 0.0333\n",
            "Epoch 46/50\n",
            "1025/1025 [==============================] - 10s 9ms/step - loss: 2.5165 - accuracy: 0.3946 - val_loss: 26.8516 - val_accuracy: 0.0342\n",
            "Epoch 47/50\n",
            "1025/1025 [==============================] - 10s 10ms/step - loss: 2.4797 - accuracy: 0.4056 - val_loss: 27.4930 - val_accuracy: 0.0376\n",
            "Epoch 48/50\n",
            "1025/1025 [==============================] - 10s 9ms/step - loss: 2.4631 - accuracy: 0.4118 - val_loss: 27.3519 - val_accuracy: 0.0333\n",
            "Epoch 49/50\n",
            "1025/1025 [==============================] - 10s 10ms/step - loss: 2.4190 - accuracy: 0.4191 - val_loss: 27.7597 - val_accuracy: 0.0329\n",
            "Epoch 50/50\n",
            "1025/1025 [==============================] - 10s 10ms/step - loss: 2.3929 - accuracy: 0.4214 - val_loss: 28.2722 - val_accuracy: 0.0348\n"
          ]
        }
      ]
    },
    {
      "cell_type": "code",
      "metadata": {
        "id": "q_orBXOrCsNn",
        "colab": {
          "base_uri": "https://localhost:8080/",
          "height": 265
        },
        "outputId": "3240bb94-a1ad-45da-b2e3-c02fa46f10d6"
      },
      "source": [
        "import matplotlib.pyplot as plt\n",
        "import seaborn as sns\n",
        "\n",
        "# Entrenamiento\n",
        "epoch_count = range(1, len(hist.history['accuracy']) + 1)\n",
        "sns.lineplot(x=epoch_count,  y=hist.history['accuracy'], label='train')\n",
        "sns.lineplot(x=epoch_count,  y=hist.history['val_accuracy'], label='valid')\n",
        "plt.show()"
      ],
      "execution_count": 24,
      "outputs": [
        {
          "output_type": "display_data",
          "data": {
            "text/plain": [
              "<Figure size 432x288 with 1 Axes>"
            ],
            "image/png": "[encoded data removed]"
          },
          "metadata": {
            "needs_background": "light"
          }
        }
      ]
    },
    {
      "cell_type": "markdown",
      "metadata": {
        "id": "KN6Fg_BsxJe6"
      },
      "source": [
        "### 5 - Predicción de próxima palabra"
      ]
    },
    {
      "cell_type": "code",
      "metadata": {
        "id": "iy_AXWQWzeeE"
      },
      "source": [
        "# Keras pad_sequences\n",
        "# https://www.tensorflow.org/api_docs/python/tf/keras/preprocessing/sequence/pad_sequences\n",
        "# Si la secuencia de entrada supera al input_seq_len (3) se trunca\n",
        "# Si la secuencia es más corta se agregna ceros al comienzo"
      ],
      "execution_count": 25,
      "outputs": []
    },
    {
      "cell_type": "code",
      "metadata": {
        "id": "IBvKHFPmzpy2",
        "colab": {
          "base_uri": "https://localhost:8080/"
        },
        "outputId": "cede8f7e-b190-4226-ea77-1876d7b6f3ce"
      },
      "source": [
        "# Se utilizará gradio para ensayar el modelo\n",
        "# Herramienta poderosa para crear interfaces rápidas para ensayar modelos\n",
        "# https://gradio.app/\n",
        "import sys\n",
        "!{sys.executable} -m pip install gradio --quiet"
      ],
      "execution_count": 26,
      "outputs": [
        {
          "output_type": "stream",
          "name": "stdout",
          "text": [
            "\u001b[K     |████████████████████████████████| 5.6 MB 5.0 MB/s \n",
            "\u001b[K     |████████████████████████████████| 84 kB 4.0 MB/s \n",
            "\u001b[K     |████████████████████████████████| 84 kB 4.0 MB/s \n",
            "\u001b[K     |████████████████████████████████| 54 kB 3.8 MB/s \n",
            "\u001b[K     |████████████████████████████████| 2.3 MB 46.8 MB/s \n",
            "\u001b[K     |████████████████████████████████| 212 kB 59.8 MB/s \n",
            "\u001b[K     |████████████████████████████████| 275 kB 61.1 MB/s \n",
            "\u001b[K     |████████████████████████████████| 54 kB 3.7 MB/s \n",
            "\u001b[K     |████████████████████████████████| 141 kB 76.9 MB/s \n",
            "\u001b[K     |████████████████████████████████| 57 kB 6.2 MB/s \n",
            "\u001b[K     |████████████████████████████████| 63 kB 2.5 MB/s \n",
            "\u001b[K     |████████████████████████████████| 80 kB 7.7 MB/s \n",
            "\u001b[K     |████████████████████████████████| 68 kB 8.1 MB/s \n",
            "\u001b[K     |████████████████████████████████| 43 kB 2.0 MB/s \n",
            "\u001b[K     |████████████████████████████████| 856 kB 55.3 MB/s \n",
            "\u001b[K     |████████████████████████████████| 62 kB 1.1 MB/s \n",
            "\u001b[K     |████████████████████████████████| 4.1 MB 52.2 MB/s \n",
            "\u001b[?25h  Building wheel for ffmpy (setup.py) ... \u001b[?25l\u001b[?25hdone\n",
            "  Building wheel for python-multipart (setup.py) ... \u001b[?25l\u001b[?25hdone\n"
          ]
        }
      ]
    },
    {
      "cell_type": "code",
      "metadata": {
        "id": "HNyBykvhzs7-",
        "colab": {
          "base_uri": "https://localhost:8080/",
          "height": 707
        },
        "outputId": "40c5b778-7f63-4366-d59e-5cd95e34fe7f"
      },
      "source": [
        "import gradio as gr\n",
        "\n",
        "def model_response(human_text):\n",
        "\n",
        "    # Encodeamos\n",
        "    encoded = tok.texts_to_sequences([human_text])[0]\n",
        "    # Si tienen distinto largo\n",
        "    encoded = pad_sequences([encoded], maxlen=3, padding='pre')\n",
        "    \n",
        "    # Predicción softmax\n",
        "    y_hat = model.predict(encoded).argmax(axis=-1)\n",
        "\n",
        "    # Debemos buscar en el vocabulario la palabra\n",
        "    # que corresopnde al indice (y_hat) predicho por le modelo\n",
        "    out_word = ''\n",
        "    for word, index in tok.word_index.items():\n",
        "        if index == y_hat:\n",
        "            out_word = word\n",
        "            break\n",
        "\n",
        "    # Agrego la palabra a la frase predicha\n",
        "    return human_text + ' ' + out_word\n",
        "\n",
        "iface = gr.Interface(\n",
        "    fn=model_response,\n",
        "    inputs=[\"textbox\"],\n",
        "    outputs=\"text\",\n",
        "    layout=\"vertical\")\n",
        "\n",
        "iface.launch(debug=True)"
      ],
      "execution_count": 27,
      "outputs": [
        {
          "output_type": "stream",
          "name": "stderr",
          "text": [
            "/usr/local/lib/python3.7/dist-packages/gradio/deprecation.py:40: UserWarning: `layout` parameter is deprecated, and it has no effect\n",
            "  warnings.warn(value)\n"
          ]
        },
        {
          "output_type": "stream",
          "name": "stdout",
          "text": [
            "Colab notebook detected. This cell will run indefinitely so that you can see errors and logs. To turn off, set debug=False in launch().\n",
            "Running on public URL: https://28860.gradio.app\n",
            "\n",
            "This share link expires in 72 hours. For free permanent hosting, check out Spaces: https://huggingface.co/spaces\n"
          ]
        },
        {
          "output_type": "display_data",
          "data": {
            "text/plain": [
              "<IPython.core.display.HTML object>"
            ],
            "text/html": [
              "<div><iframe src=\"https://28860.gradio.app\" width=\"900\" height=\"500\" allow=\"autoplay; camera; microphone;\" frameborder=\"0\" allowfullscreen></iframe></div>"
            ]
          },
          "metadata": {}
        },
        {
          "output_type": "stream",
          "name": "stdout",
          "text": [
            "Keyboard interruption in main thread... closing server.\n"
          ]
        },
        {
          "output_type": "execute_result",
          "data": {
            "text/plain": [
              "(<gradio.routes.App at 0x7f2077b9a410>,\n",
              " 'http://127.0.0.1:7860/',\n",
              " 'https://28860.gradio.app')"
            ]
          },
          "metadata": {},
          "execution_count": 27
        }
      ]
    },
    {
      "cell_type": "markdown",
      "metadata": {
        "id": "mCeMWWupxN1-"
      },
      "source": [
        "### 6 - Generación de secuencias nuevas"
      ]
    },
    {
      "cell_type": "code",
      "metadata": {
        "id": "bwbS_pfhxvB3"
      },
      "source": [
        "def generate_seq(model, tokenizer, seed_text, max_length, n_words):\n",
        "    \"\"\"\n",
        "        Exec model sequence prediction\n",
        "\n",
        "        Args:\n",
        "            model (keras): modelo entrenado\n",
        "            tokenizer (keras tokenizer): tonenizer utilizado en el preprocesamiento\n",
        "            seed_text (string): texto de entrada (input_seq)\n",
        "            max_length (int): máxima longitud de la sequencia de entrada\n",
        "            n_words (int): números de palabras a agregar a la sequencia de entrada\n",
        "        returns:\n",
        "            output_text (string): sentencia con las \"n_words\" agregadas\n",
        "    \"\"\"\n",
        "    output_text = seed_text\n",
        "\t# generate a fixed number of words\n",
        "    for _ in range(n_words):\n",
        "\t\t# Encodeamos\n",
        "        encoded = tokenizer.texts_to_sequences([output_text])[0]\n",
        "\t\t# Si tienen distinto largo\n",
        "        encoded = pad_sequences([encoded], maxlen=max_length, padding='pre')\n",
        "\t\t\n",
        "\t\t# Predicción softmax\n",
        "        y_hat = model.predict(encoded).argmax(axis=-1)\n",
        "\t\t# Vamos concatenando las predicciones\n",
        "        out_word = ''\n",
        "\n",
        "        # Debemos buscar en el vocabulario la palabra\n",
        "        # que corresopnde al indice (y_hat) predicho por le modelo\n",
        "        for word, index in tokenizer.word_index.items():\n",
        "            if index == y_hat:\n",
        "                out_word = word\n",
        "                break\n",
        "\n",
        "\t\t# Agrego las palabras a la frase predicha\n",
        "        output_text += ' ' + out_word\n",
        "    return output_text"
      ],
      "execution_count": 28,
      "outputs": []
    },
    {
      "cell_type": "code",
      "metadata": {
        "id": "JoFqRC5pxzqS",
        "colab": {
          "base_uri": "https://localhost:8080/",
          "height": 36
        },
        "outputId": "484425ef-5ebb-4158-a6b8-4b37537fa323"
      },
      "source": [
        "input_text='hola Borges varas'\n",
        "\n",
        "generate_seq(model, tok, input_text, max_length=3, n_words=2)"
      ],
      "execution_count": 33,
      "outputs": [
        {
          "output_type": "execute_result",
          "data": {
            "text/plain": [
              "'hola Borges varas y buena'"
            ],
            "application/vnd.google.colaboratory.intrinsic+json": {
              "type": "string"
            }
          },
          "metadata": {},
          "execution_count": 33
        }
      ]
    },
    {
      "cell_type": "markdown",
      "metadata": {
        "id": "T2SHmXbgxQH9"
      },
      "source": [
        "### 7 - Conclusiones\n",
        "El modelo entrenado tuvo un muy mail desempeño en el entrenamiento además de overfitting. Cuestiones que podrían mejorarse:\n",
        "- Agregar un pre-procesado para eliminar los símbolos del idioma Español.\n",
        "- Lematizar el texto \n",
        "- Probar con distintos hiperparámetros del modelo\n",
        "- Utilizar una matriz de Embeddings ya pre-entrenada\n",
        "\n"
      ]
    }
  ]
}