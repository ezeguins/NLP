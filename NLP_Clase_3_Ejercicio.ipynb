{
  "nbformat": 4,
  "nbformat_minor": 0,
  "metadata": {
    "colab": {
      "name": "NLP_Clase_3_Ejercicio.ipynb",
      "provenance": [],
      "collapsed_sections": []
    },
    "kernelspec": {
      "name": "python3",
      "display_name": "Python 3"
    }
  },
  "cells": [
    {
      "cell_type": "markdown",
      "metadata": {
        "id": "vA7nqkumo9z9"
      },
      "source": [
        "### Objetivo\n",
        "El objetivo es utilizar documentos / corpus para crear embeddings de palabras basado en ese contexto. Se utilizará canciones de bandas para generar los embeddings, es decir, que los vectores tendrán la forma en función de como esa banda haya utilizado las palabras en sus canciones."
      ]
    },
    {
      "cell_type": "code",
      "metadata": {
        "id": "lFToQs5FK5uZ"
      },
      "source": [
        "import pandas as pd\n",
        "import matplotlib.pyplot as plt\n",
        "import seaborn as sns\n",
        "\n",
        "import multiprocessing\n",
        "from gensim.models import Word2Vec"
      ],
      "execution_count": 1,
      "outputs": []
    },
    {
      "cell_type": "markdown",
      "metadata": {
        "id": "g07zJxG7H9vG"
      },
      "source": [
        "### Datos\n",
        "Cargamos las Obras Completas de JL Borges"
      ]
    },
    {
      "cell_type": "code",
      "source": [
        "file = '/content/boc.csv'\n",
        "df = pd.read_csv(file,sep='/n', header=None)\n",
        "# Dataset is now stored in a Pandas Dataframe"
      ],
      "metadata": {
        "colab": {
          "base_uri": "https://localhost:8080/"
        },
        "id": "-bqlxl2qrrSc",
        "outputId": "142aa94d-2fd8-44c5-8f86-020a5722ecde"
      },
      "execution_count": 31,
      "outputs": [
        {
          "output_type": "stream",
          "name": "stderr",
          "text": [
            "/usr/local/lib/python3.7/dist-packages/pandas/util/_decorators.py:311: ParserWarning: Falling back to the 'python' engine because the 'c' engine does not support regex separators (separators > 1 char and different from '\\s+' are interpreted as regex); you can avoid this warning by specifying engine='python'.\n",
            "  return func(*args, **kwargs)\n"
          ]
        }
      ]
    },
    {
      "cell_type": "code",
      "metadata": {
        "id": "LEpKubK9XzXN",
        "colab": {
          "base_uri": "https://localhost:8080/"
        },
        "outputId": "e781937a-3c48-4c1c-8e5e-f372cc0970b4"
      },
      "source": [
        "print(\"Cantidad de documentos:\", df.shape[0])"
      ],
      "execution_count": 32,
      "outputs": [
        {
          "output_type": "stream",
          "name": "stdout",
          "text": [
            "Cantidad de documentos: 36332\n"
          ]
        }
      ]
    },
    {
      "cell_type": "markdown",
      "metadata": {
        "id": "ab94qaFlrA1G"
      },
      "source": [
        "### 1 - Preprocesamiento"
      ]
    },
    {
      "cell_type": "code",
      "metadata": {
        "id": "rIsmMWmjrDHd"
      },
      "source": [
        "from keras.preprocessing.text import text_to_word_sequence\n",
        "\n",
        "sentence_tokens = []\n",
        "# Recorrer todas las filas y transformar las oraciones\n",
        "# en una secuencia de palabras (esto podría realizarse con NLTK o spaCy también)\n",
        "for _, row in df[:None].iterrows():\n",
        "    sentence_tokens.append(text_to_word_sequence(row[0]))"
      ],
      "execution_count": 33,
      "outputs": []
    },
    {
      "cell_type": "code",
      "metadata": {
        "id": "CHepi_DGrbhq",
        "colab": {
          "base_uri": "https://localhost:8080/"
        },
        "outputId": "1d0c021e-713a-47d5-b046-2fdf0df4da56"
      },
      "source": [
        "# Demos un vistazo\n",
        "sentence_tokens[:2]"
      ],
      "execution_count": 34,
      "outputs": [
        {
          "output_type": "execute_result",
          "data": {
            "text/plain": [
              "[['quiero',\n",
              "  'dejar',\n",
              "  'escrita',\n",
              "  'una',\n",
              "  'confesión',\n",
              "  'que',\n",
              "  'a',\n",
              "  'un',\n",
              "  'tiempo',\n",
              "  'será'],\n",
              " ['íntima',\n",
              "  'y',\n",
              "  'general',\n",
              "  'ya',\n",
              "  'que',\n",
              "  'las',\n",
              "  'cosas',\n",
              "  'que',\n",
              "  'le',\n",
              "  'ocurren',\n",
              "  'a',\n",
              "  'un']]"
            ]
          },
          "metadata": {},
          "execution_count": 34
        }
      ]
    },
    {
      "cell_type": "markdown",
      "metadata": {
        "id": "BaXV6nlHr5Aa"
      },
      "source": [
        "### 2 - Crear los vectores (word2vec)"
      ]
    },
    {
      "cell_type": "code",
      "metadata": {
        "id": "OSb0v7h8r7hK"
      },
      "source": [
        "from gensim.models.callbacks import CallbackAny2Vec\n",
        "# Durante el entrenamiento gensim por defecto no informa el \"loss\" en cada época\n",
        "# Sobracargamos el callback para poder tener esta información\n",
        "class callback(CallbackAny2Vec):\n",
        "    \"\"\"\n",
        "    Callback to print loss after each epoch\n",
        "    \"\"\"\n",
        "    def __init__(self):\n",
        "        self.epoch = 0\n",
        "\n",
        "    def on_epoch_end(self, model):\n",
        "        loss = model.get_latest_training_loss()\n",
        "        if self.epoch == 0:\n",
        "            print('Loss after epoch {}: {}'.format(self.epoch, loss))\n",
        "        else:\n",
        "            print('Loss after epoch {}: {}'.format(self.epoch, loss- self.loss_previous_step))\n",
        "        self.epoch += 1\n",
        "        self.loss_previous_step = loss"
      ],
      "execution_count": 35,
      "outputs": []
    },
    {
      "cell_type": "code",
      "metadata": {
        "id": "i0wnDdv9sJ47"
      },
      "source": [
        "# Crearmos el modelo generador de vectoeres\n",
        "# En este caso utilizaremos la estructura modelo Skipgram\n",
        "w2v_model = Word2Vec(min_count=5,    # frecuencia mínima de palabra para incluirla en el vocabulario\n",
        "                     window=2,       # cant de palabras antes y desp de la predicha\n",
        "                     size=300,       # dimensionalidad de los vectores \n",
        "                     negative=20,    # cantidad de negative samples... 0 es no se usa\n",
        "                     workers=1,      # si tienen más cores pueden cambiar este valor\n",
        "                     sg=1)           # modelo 0:CBOW  1:skipgram"
      ],
      "execution_count": 36,
      "outputs": []
    },
    {
      "cell_type": "code",
      "metadata": {
        "id": "5lTt8wErsf17"
      },
      "source": [
        "# Buildear el vocabularui con los tokens\n",
        "w2v_model.build_vocab(sentence_tokens)"
      ],
      "execution_count": 37,
      "outputs": []
    },
    {
      "cell_type": "code",
      "metadata": {
        "id": "TNc9qt4os5AT",
        "colab": {
          "base_uri": "https://localhost:8080/"
        },
        "outputId": "ec0ad2d7-7f2b-4251-b8de-e35dbdfb52de"
      },
      "source": [
        "# Cantidad de filas/docs encontradas en el corpus\n",
        "print(\"Cantidad de docs en el corpus:\", w2v_model.corpus_count)"
      ],
      "execution_count": 38,
      "outputs": [
        {
          "output_type": "stream",
          "name": "stdout",
          "text": [
            "Cantidad de docs en el corpus: 36332\n"
          ]
        }
      ]
    },
    {
      "cell_type": "code",
      "metadata": {
        "id": "idw9cHF3tSMl",
        "colab": {
          "base_uri": "https://localhost:8080/"
        },
        "outputId": "689ba67e-0075-4cae-e2ba-97f8068379b0"
      },
      "source": [
        "# Cantidad de words encontradas en el corpus\n",
        "print(\"Cantidad de words distintas en el corpus:\", len(w2v_model.wv.vocab))"
      ],
      "execution_count": 39,
      "outputs": [
        {
          "output_type": "stream",
          "name": "stdout",
          "text": [
            "Cantidad de words distintas en el corpus: 6861\n"
          ]
        }
      ]
    },
    {
      "cell_type": "markdown",
      "metadata": {
        "id": "fC9mZ8DPk-UC"
      },
      "source": [
        "### 3 - Entrenar el modelo generador"
      ]
    },
    {
      "cell_type": "code",
      "metadata": {
        "id": "QSp-x0PAsq56",
        "colab": {
          "base_uri": "https://localhost:8080/"
        },
        "outputId": "4462a454-12f7-4fee-c0ae-4dace01bf445"
      },
      "source": [
        "# Entrenamos el modelo generador de vectores\n",
        "# Utilizamos nuestro callback\n",
        "w2v_model.train(sentence_tokens,\n",
        "                 total_examples=w2v_model.corpus_count,\n",
        "                 epochs=20,\n",
        "                 compute_loss = True,\n",
        "                 callbacks=[callback()]\n",
        "                 )"
      ],
      "execution_count": 40,
      "outputs": [
        {
          "output_type": "stream",
          "name": "stdout",
          "text": [
            "Loss after epoch 0: 2179417.25\n",
            "Loss after epoch 1: 1332969.0\n",
            "Loss after epoch 2: 1284020.25\n",
            "Loss after epoch 3: 1240830.0\n",
            "Loss after epoch 4: 1229027.0\n",
            "Loss after epoch 5: 1210015.5\n",
            "Loss after epoch 6: 1166922.0\n",
            "Loss after epoch 7: 1153147.0\n",
            "Loss after epoch 8: 1140818.0\n",
            "Loss after epoch 9: 1130526.0\n",
            "Loss after epoch 10: 1115833.0\n",
            "Loss after epoch 11: 1106948.0\n",
            "Loss after epoch 12: 1096154.0\n",
            "Loss after epoch 13: 1072073.0\n",
            "Loss after epoch 14: 1051122.0\n",
            "Loss after epoch 15: 1046726.0\n",
            "Loss after epoch 16: 1039770.0\n",
            "Loss after epoch 17: 1033054.0\n",
            "Loss after epoch 18: 1027540.0\n",
            "Loss after epoch 19: 1025520.0\n"
          ]
        },
        {
          "output_type": "execute_result",
          "data": {
            "text/plain": [
              "(3873945, 6687940)"
            ]
          },
          "metadata": {},
          "execution_count": 40
        }
      ]
    },
    {
      "cell_type": "markdown",
      "metadata": {
        "id": "ddT9NVuNlCAe"
      },
      "source": [
        "### 4 - Ensayar"
      ]
    },
    {
      "cell_type": "markdown",
      "source": [
        "##### VEMOS PALABRAS QUE SON ICÓNICAS EN EL LENGUAJE DEL AUTOR Y TIENEN UN SIGNIFICADO MUY PARTICULAR EN SUS OBRAS"
      ],
      "metadata": {
        "id": "WjCD5ZhLzMVk"
      }
    },
    {
      "cell_type": "code",
      "metadata": {
        "id": "6cHN9xGLuPEm",
        "colab": {
          "base_uri": "https://localhost:8080/"
        },
        "outputId": "db170d70-dfb0-4d66-f0a0-30afb674579e"
      },
      "source": [
        "# Palabras que MÁS se relacionan con \"Argentina\":\n",
        "palabra = 'argentina'\n",
        "print('Palabras que mas se relacionan con ', palabra)\n",
        "print('\\n')\n",
        "w2v_model.wv.most_similar(positive=[palabra], topn=10)\n"
      ],
      "execution_count": 59,
      "outputs": [
        {
          "output_type": "stream",
          "name": "stdout",
          "text": [
            "Palabras que mas se relacionan con  argentina\n",
            "\n",
            "\n"
          ]
        },
        {
          "output_type": "execute_result",
          "data": {
            "text/plain": [
              "[('liminar', 0.7941634058952332),\n",
              " ('cíclica', 0.7803575992584229),\n",
              " ('croce', 0.7772975564002991),\n",
              " ('deliberada', 0.7752829194068909),\n",
              " ('sofismas', 0.7751613855361938),\n",
              " ('contemporánea', 0.7704449892044067),\n",
              " ('previa', 0.768276572227478),\n",
              " ('platónica', 0.7677533030509949),\n",
              " ('piadosa', 0.7632854580879211),\n",
              " ('gauchesca', 0.7615621089935303)]"
            ]
          },
          "metadata": {},
          "execution_count": 59
        }
      ]
    },
    {
      "cell_type": "code",
      "source": [
        "# Palabras que MENOS se relacionan con \"Argentina\":\n",
        "print('Palabras que menos se relacionan con ', palabra)\n",
        "print('\\n')\n",
        "w2v_model.wv.most_similar(negative=[palabra], topn=10)"
      ],
      "metadata": {
        "colab": {
          "base_uri": "https://localhost:8080/"
        },
        "id": "Tfz28kZU0gIr",
        "outputId": "3263d47f-f364-40b5-b798-0d516f5d405c"
      },
      "execution_count": 60,
      "outputs": [
        {
          "output_type": "stream",
          "name": "stdout",
          "text": [
            "Palabras que menos se relacionan con  argentina\n",
            "\n",
            "\n"
          ]
        },
        {
          "output_type": "execute_result",
          "data": {
            "text/plain": [
              "[('monedas', -0.051038410514593124),\n",
              " ('unas', -0.05111860856413841),\n",
              " ('cuyas', -0.0651317909359932),\n",
              " ('ni', -0.09138272702693939),\n",
              " ('al', -0.09296976774930954),\n",
              " ('tus', -0.09434295445680618),\n",
              " ('hacia', -0.09645665436983109),\n",
              " ('palabras', -0.0983056128025055),\n",
              " ('otro', -0.099836066365242),\n",
              " ('chambergo', -0.10500982403755188)]"
            ]
          },
          "metadata": {},
          "execution_count": 60
        }
      ]
    },
    {
      "cell_type": "code",
      "source": [
        "# Palabras que MÁS se relacionan con \"infinito\":\n",
        "palabra = 'infinito'\n",
        "print('Palabras que mas se relacionan con ', palabra)\n",
        "print('\\n')\n",
        "w2v_model.wv.most_similar(positive=[palabra], topn=10)"
      ],
      "metadata": {
        "colab": {
          "base_uri": "https://localhost:8080/"
        },
        "id": "Ma-K0jHm5-fp",
        "outputId": "79148905-11dc-42bf-cfc2-0c321b7bef9c"
      },
      "execution_count": 85,
      "outputs": [
        {
          "output_type": "stream",
          "name": "stdout",
          "text": [
            "Palabras que mas se relacionan con  infinito\n",
            "\n",
            "\n"
          ]
        },
        {
          "output_type": "execute_result",
          "data": {
            "text/plain": [
              "[('ilimitado', 0.7029339075088501),\n",
              " ('indefinido', 0.6981865167617798),\n",
              " ('elevado', 0.6784825325012207),\n",
              " ('infinitesimal', 0.663684070110321),\n",
              " ('tahúr', 0.6535478830337524),\n",
              " ('subdivisiones', 0.6531436443328857),\n",
              " ('alegórico', 0.6513125896453857),\n",
              " ('variable', 0.6450049877166748),\n",
              " ('aparte', 0.6397697925567627),\n",
              " ('intrincado', 0.6364815831184387)]"
            ]
          },
          "metadata": {},
          "execution_count": 85
        }
      ]
    },
    {
      "cell_type": "code",
      "source": [
        "# Palabras que MÁS se relacionan con \"dios\":\n",
        "palabra = 'dios'\n",
        "print('Palabras que mas se relacionan con ', palabra)\n",
        "print('\\n')\n",
        "w2v_model.wv.most_similar(positive=[palabra], topn=10)"
      ],
      "metadata": {
        "colab": {
          "base_uri": "https://localhost:8080/"
        },
        "id": "L5slTfU50rsq",
        "outputId": "01e5fe07-e0e0-42a9-8a6d-07b50e2c25e4"
      },
      "execution_count": 69,
      "outputs": [
        {
          "output_type": "stream",
          "name": "stdout",
          "text": [
            "Palabras que mas se relacionan con  dios\n",
            "\n",
            "\n"
          ]
        },
        {
          "output_type": "execute_result",
          "data": {
            "text/plain": [
              "[('demonio', 0.5407249331474304),\n",
              " ('buddha', 0.5332194566726685),\n",
              " ('tribunal', 0.5127353668212891),\n",
              " ('subalterno', 0.5101310014724731),\n",
              " ('trueno', 0.5034234523773193),\n",
              " ('arte', 0.5018683075904846),\n",
              " ('misericordioso', 0.4992934763431549),\n",
              " ('thor', 0.4987759590148926),\n",
              " ('edificio', 0.497972309589386),\n",
              " ('artificio', 0.490837037563324)]"
            ]
          },
          "metadata": {},
          "execution_count": 69
        }
      ]
    },
    {
      "cell_type": "code",
      "source": [
        "# Palabras que MÁS se relacionan con \"sueño\":\n",
        "palabra = 'sueño'\n",
        "print('Palabras que mas se relacionan con ', palabra)\n",
        "print('\\n')\n",
        "w2v_model.wv.most_similar(positive=[palabra], topn=10)"
      ],
      "metadata": {
        "colab": {
          "base_uri": "https://localhost:8080/"
        },
        "id": "2cWe3SU1074v",
        "outputId": "f056544f-137b-45b2-de14-8a19ffec28e5"
      },
      "execution_count": 70,
      "outputs": [
        {
          "output_type": "stream",
          "name": "stdout",
          "text": [
            "Palabras que mas se relacionan con  sueño\n",
            "\n",
            "\n"
          ]
        },
        {
          "output_type": "execute_result",
          "data": {
            "text/plain": [
              "[('simétrico', 0.6364108324050903),\n",
              " ('vigilia', 0.6347007155418396),\n",
              " ('fluencia', 0.6320925354957581),\n",
              " ('inquieta', 0.6304628849029541),\n",
              " ('frío', 0.6303454637527466),\n",
              " ('irreversible', 0.6264906525611877),\n",
              " ('encrucijada', 0.6224621534347534),\n",
              " ('domingo', 0.6207628846168518),\n",
              " ('águila', 0.6154237985610962),\n",
              " ('tapiz', 0.6123214960098267)]"
            ]
          },
          "metadata": {},
          "execution_count": 70
        }
      ]
    },
    {
      "cell_type": "code",
      "source": [
        "# Palabras que MÁS se relacionan con \"muerte\":\n",
        "palabra = 'muerte'\n",
        "print('Palabras que mas se relacionan con ', palabra)\n",
        "print('\\n')\n",
        "w2v_model.wv.most_similar(positive=[palabra], topn=10)"
      ],
      "metadata": {
        "colab": {
          "base_uri": "https://localhost:8080/"
        },
        "id": "7cJG_y3A1A7m",
        "outputId": "726caf0e-26d9-4939-de55-28c2ba6de106"
      },
      "execution_count": 64,
      "outputs": [
        {
          "output_type": "stream",
          "name": "stdout",
          "text": [
            "Palabras que mas se relacionan con  muerte\n",
            "\n",
            "\n"
          ]
        },
        {
          "output_type": "execute_result",
          "data": {
            "text/plain": [
              "[('vida', 0.6465276479721069),\n",
              " ('vuelta', 0.6154322028160095),\n",
              " ('prisión', 0.5882643461227417),\n",
              " ('visita', 0.5872514247894287),\n",
              " ('perra', 0.5796576738357544),\n",
              " ('garganta', 0.5761924386024475),\n",
              " ('vigilia', 0.5757505893707275),\n",
              " ('debido', 0.5747835636138916),\n",
              " ('chacarita', 0.5747679471969604),\n",
              " ('hija', 0.5720855593681335)]"
            ]
          },
          "metadata": {},
          "execution_count": 64
        }
      ]
    },
    {
      "cell_type": "code",
      "source": [
        "# Palabras que MÁS se relacionan con \"laberinto\":\n",
        "palabra = 'laberinto'\n",
        "print('Palabras que mas se relacionan con ', palabra)\n",
        "print('\\n')\n",
        "w2v_model.wv.most_similar(positive=[palabra], topn=10)"
      ],
      "metadata": {
        "colab": {
          "base_uri": "https://localhost:8080/"
        },
        "id": "2dY87VSA1LPK",
        "outputId": "5f656614-e9e8-453f-d192-2aed88a6cad5"
      },
      "execution_count": 66,
      "outputs": [
        {
          "output_type": "stream",
          "name": "stdout",
          "text": [
            "Palabras que mas se relacionan con  laberinto\n",
            "\n",
            "\n"
          ]
        },
        {
          "output_type": "execute_result",
          "data": {
            "text/plain": [
              "[('yelmo', 0.7099664807319641),\n",
              " ('simétrico', 0.7074602842330933),\n",
              " ('metal', 0.7067455053329468),\n",
              " ('vertiginoso', 0.7047392129898071),\n",
              " ('balcón', 0.7029560804367065),\n",
              " ('cristal', 0.6934791803359985),\n",
              " ('pesado', 0.691338062286377),\n",
              " ('gato', 0.6879094243049622),\n",
              " ('sordo', 0.6868997812271118),\n",
              " ('oscuro', 0.686290979385376)]"
            ]
          },
          "metadata": {},
          "execution_count": 66
        }
      ]
    },
    {
      "cell_type": "code",
      "source": [
        "# Palabras que MÁS se relacionan con \"aleph\":\n",
        "palabra = 'aleph'\n",
        "print('Palabras que mas se relacionan con ', palabra)\n",
        "print('\\n')\n",
        "w2v_model.wv.most_similar(positive=[palabra], topn=10)"
      ],
      "metadata": {
        "colab": {
          "base_uri": "https://localhost:8080/"
        },
        "id": "PbqiVCTs1eBK",
        "outputId": "2d053847-5d09-473b-dd04-bc151d8448fa"
      },
      "execution_count": 74,
      "outputs": [
        {
          "output_type": "stream",
          "name": "stdout",
          "text": [
            "Palabras que mas se relacionan con  aleph\n",
            "\n",
            "\n"
          ]
        },
        {
          "output_type": "execute_result",
          "data": {
            "text/plain": [
              "[('espectador', 0.7747349739074707),\n",
              " ('sótano', 0.7555372714996338),\n",
              " ('barco', 0.7526008486747742),\n",
              " ('maldonado', 0.7454703450202942),\n",
              " ('verlaine', 0.7396864295005798),\n",
              " ('cenizas', 0.7283073663711548),\n",
              " ('hacedor', 0.7244381308555603),\n",
              " ('ascetismo', 0.7203271985054016),\n",
              " ('antebrazo', 0.7164846658706665),\n",
              " ('agotado', 0.7154183387756348)]"
            ]
          },
          "metadata": {},
          "execution_count": 74
        }
      ]
    },
    {
      "cell_type": "code",
      "source": [
        "# Palabras que MÁS se relacionan con \"amor\":\n",
        "palabra = 'amor'\n",
        "print('Palabras que mas se relacionan con ', palabra)\n",
        "print('\\n')\n",
        "w2v_model.wv.most_similar(positive=[palabra], topn=10)"
      ],
      "metadata": {
        "colab": {
          "base_uri": "https://localhost:8080/"
        },
        "id": "mzTheVh01irD",
        "outputId": "86ce7cff-b79a-49b3-acc7-a1819f3ae389"
      },
      "execution_count": 72,
      "outputs": [
        {
          "output_type": "stream",
          "name": "stdout",
          "text": [
            "Palabras que mas se relacionan con  amor\n",
            "\n",
            "\n"
          ]
        },
        {
          "output_type": "execute_result",
          "data": {
            "text/plain": [
              "[('tedio', 0.6962491273880005),\n",
              " ('pálido', 0.6852408647537231),\n",
              " ('crueldad', 0.6846229434013367),\n",
              " ('atravesar', 0.6825698614120483),\n",
              " ('purifica', 0.681066632270813),\n",
              " ('temor', 0.679689347743988),\n",
              " ('ave', 0.6760972142219543),\n",
              " ('escudo', 0.6735124588012695),\n",
              " ('tumulto', 0.6728698015213013),\n",
              " ('molino', 0.6723179817199707)]"
            ]
          },
          "metadata": {},
          "execution_count": 72
        }
      ]
    },
    {
      "cell_type": "markdown",
      "metadata": {
        "id": "_g8UVWe6lFmh"
      },
      "source": [
        "### 5 - Visualizar agrupación de vectores"
      ]
    },
    {
      "cell_type": "code",
      "metadata": {
        "id": "pDxEVXAivjr9"
      },
      "source": [
        "from sklearn.decomposition import IncrementalPCA    \n",
        "from sklearn.manifold import TSNE                   \n",
        "import numpy as np                                  \n",
        "\n",
        "def reduce_dimensions(model):\n",
        "    num_dimensions = 3  \n",
        "\n",
        "    vectors = np.asarray(model.wv.vectors)\n",
        "    labels = np.asarray(model.wv.index2word)  \n",
        "\n",
        "    tsne = TSNE(n_components=num_dimensions, random_state=0)\n",
        "    vectors = tsne.fit_transform(vectors)\n",
        "\n",
        "    x_vals = [v[0] for v in vectors]\n",
        "    y_vals = [v[1] for v in vectors]\n",
        "    z_vals = [v[2] for v in vectors]\n",
        "\n",
        "    return x_vals, y_vals, z_vals, labels"
      ],
      "execution_count": 83,
      "outputs": []
    },
    {
      "cell_type": "code",
      "metadata": {
        "id": "NCCXtDpcugmd",
        "colab": {
          "base_uri": "https://localhost:8080/",
          "height": 690
        },
        "outputId": "d3e6d78e-e434-48b5-e0a0-477a4056bc76"
      },
      "source": [
        "# Graficar los embedddings en 2D\n",
        "import plotly.graph_objects as go\n",
        "import plotly.express as px\n",
        "\n",
        "x_vals, y_vals,z_vals, labels = reduce_dimensions(w2v_model)\n",
        "\n",
        "MAX_WORDS=200\n",
        "fig = px.scatter_3d(x=x_vals[:MAX_WORDS], y=y_vals[:MAX_WORDS],z=z_vals[:MAX_WORDS], text=labels[:MAX_WORDS])\n",
        "fig.show(renderer=\"colab\") # esto para plotly en colab"
      ],
      "execution_count": 84,
      "outputs": [
        {
          "output_type": "stream",
          "name": "stderr",
          "text": [
            "/usr/local/lib/python3.7/dist-packages/sklearn/manifold/_t_sne.py:783: FutureWarning:\n",
            "\n",
            "The default initialization in TSNE will change from 'random' to 'pca' in 1.2.\n",
            "\n",
            "/usr/local/lib/python3.7/dist-packages/sklearn/manifold/_t_sne.py:793: FutureWarning:\n",
            "\n",
            "The default learning rate in TSNE will change from 200.0 to 'auto' in 1.2.\n",
            "\n"
          ]
        },
        {
          "output_type": "display_data",
          "data": {
            "text/html": [
              "<html>\n",
              "<head><meta charset=\"utf-8\" /></head>\n",
              "<body>\n",
              "    <div>            <script src=\"https://cdnjs.cloudflare.com/ajax/libs/mathjax/2.7.5/MathJax.js?config=TeX-AMS-MML_SVG\"></script><script type=\"text/javascript\">if (window.MathJax) {MathJax.Hub.Config({SVG: {font: \"STIX-Web\"}});}</script>                <script type=\"text/javascript\">window.PlotlyConfig = {MathJaxConfig: 'local'};</script>\n",
              "        <script src=\"https://cdn.plot.ly/plotly-2.8.3.min.js\"></script>                <div id=\"88a33b74-1f48-40ad-bc9e-ab34f4d8d4b2\" class=\"plotly-graph-div\" style=\"height:525px; width:100%;\"></div>            <script type=\"text/javascript\">                                    window.PLOTLYENV=window.PLOTLYENV || {};                                    if (document.getElementById(\"88a33b74-1f48-40ad-bc9e-ab34f4d8d4b2\")) {                    Plotly.newPlot(                        \"88a33b74-1f48-40ad-bc9e-ab34f4d8d4b2\",                        [{\"hovertemplate\":\"x=%{x}<br>y=%{y}<br>z=%{z}<br>text=%{text}<extra></extra>\",\"legendgroup\":\"\",\"marker\":{\"color\":\"#636efa\",\"symbol\":\"circle\"},\"mode\":\"markers+text\",\"name\":\"\",\"scene\":\"scene\",\"showlegend\":false,\"text\":[\"de\",\"la\",\"que\",\"el\",\"y\",\"en\",\"los\",\"a\",\"un\",\"no\",\"del\",\"las\",\"es\",\"una\",\"lo\",\"se\",\"su\",\"con\",\"por\",\"o\",\"para\",\"como\",\"al\",\"me\",\"pero\",\"m\\u00e1s\",\"le\",\"esa\",\"era\",\"sin\",\"hombre\",\"mi\",\"hab\\u00eda\",\"sus\",\"ya\",\"son\",\"yo\",\"ese\",\"si\",\"ha\",\"dos\",\"tiempo\",\"otro\",\"fue\",\"ser\",\"luis\",\"completas\",\"jorge\",\"hay\",\"tambi\\u00e9n\",\"hombres\",\"historia\",\"vez\",\"he\",\"borges\\u2014obras\",\"dios\",\"\\u00e9l\",\"todos\",\"nos\",\"a\\u00f1os\",\"noche\",\"ni\",\"todo\",\"porque\",\"otra\",\"est\\u00e1\",\"esta\",\"libro\",\"despu\\u00e9s\",\"sobre\",\"ahora\",\"uno\",\"menos\",\"mundo\",\"hasta\",\"cuando\",\"entre\",\"muerte\",\"puede\",\"este\",\"as\\u00ed\",\"nombre\",\"palabras\",\"d\\u00eda\",\"otros\",\"cada\",\"tan\",\"tal\",\"cosas\",\"1\",\"vida\",\"sue\\u00f1o\",\"nadie\",\"esas\",\"muy\",\"siempre\",\"sino\",\"the\",\"dijo\",\"casi\",\"tierra\",\"aquel\",\"desde\",\"mismo\",\"hecho\",\"otras\",\"antes\",\"eran\",\"todas\",\"fin\",\"sido\",\"s\\u00f3lo\",\"qu\\u00e9\",\"casa\",\"obra\",\"tu\",\"estaba\",\"\\u00e9ste\",\"d\\u00edas\",\"s\\u00e9\",\"nada\",\"siglo\",\"mis\",\"cosa\",\"han\",\"tres\",\"alg\\u00fan\",\"esos\",\"ojos\",\"nunca\",\"alguna\",\"bien\",\"sombra\",\"primera\",\"modo\",\"universo\",\"quien\",\"tarde\",\"memoria\",\"donde\",\"voz\",\"tiene\",\"noches\",\"palabra\",\"libros\",\"buenos\",\"i\",\"muerto\",\"les\",\"soy\",\"aires\",\"cielo\",\"acaso\",\"fueron\",\"te\",\"algo\",\"muchos\",\"luna\",\"decir\",\"unos\",\"cara\",\"destino\",\"of\",\"veces\",\"luego\",\"hacia\",\"mar\",\"primer\",\"mano\",\"luz\",\"calle\",\"toda\",\"hace\",\"cuyo\",\"aqu\\u00ed\",\"eternidad\",\"entonces\",\"ciudad\",\"unas\",\"solo\",\"sea\",\"e\",\"haber\",\"sabe\",\"poco\",\"fuera\",\"parece\",\"mil\",\"lugar\",\"recuerdo\",\"'\",\"nuestra\",\"segundo\",\"pasado\",\"bajo\",\"oro\",\"rey\",\"infinito\",\"literatura\",\"\\u00faltimo\"],\"x\":[-36.196956634521484,-6.081794261932373,6.572157859802246,-6.784122943878174,-2.3457090854644775,-0.03214341029524803,29.217941284179688,17.858476638793945,-10.632942199707031,33.13706588745117,-24.778905868530273,1.1001969575881958,4.305587291717529,3.943687677383423,17.27043914794922,14.032503128051758,-14.835916519165039,2.5111136436462402,-1.171721339225769,-19.573957443237305,29.497547149658203,0.5337479114532471,-25.76866912841797,41.46346664428711,26.201601028442383,6.872159481048584,41.283607482910156,-11.94023323059082,34.109275817871094,6.684198379516602,-26.86276626586914,-26.628660202026367,30.133394241333008,25.338237762451172,41.12232971191406,39.894466400146484,23.287490844726562,-4.261991500854492,36.40754318237305,34.85770034790039,7.277921199798584,27.579265594482422,38.05021286010742,-36.53109359741211,35.323265075683594,-45.20728302001953,-46.80569839477539,-47.17158126831055,35.80665969848633,30.525226593017578,29.833707809448242,-26.132715225219727,14.374113082885742,31.956491470336914,-43.94225311279297,2.317172050476074,49.101341247558594,25.859214782714844,30.080814361572266,8.40241527557373,-12.27927303314209,23.654491424560547,20.647802352905273,30.900287628173828,20.945907592773438,20.478290557861328,-13.450135231018066,-33.00986862182617,20.014266967773438,-6.170018672943115,22.599584579467773,19.231563568115234,8.2108793258667,3.834486246109009,15.150360107421875,4.864475250244141,32.14822769165039,29.155609130859375,32.65227127075195,-9.579643249511719,11.695523262023926,-16.834331512451172,-10.210893630981445,-16.912181854248047,28.92206382751465,7.0151567459106445,6.5838799476623535,21.708093643188477,-12.887856483459473,-41.77226638793945,29.806697845458984,-20.854555130004883,33.71977233886719,-3.1278417110443115,9.709338188171387,3.309473752975464,-18.34906005859375,-57.30854797363281,22.718791961669922,7.148501873016357,9.916423797607422,-16.014896392822266,4.764146327972412,3.5630762577056885,38.23419189453125,-1.9586482048034668,-6.168430328369141,22.24422836303711,0.765128493309021,-13.942896842956543,43.23503112792969,34.06079864501953,35.177040100097656,-12.13609790802002,-3.5560526847839355,-27.322772979736328,19.147367477416992,-25.29674530029297,8.626832008361816,32.91523361206055,34.55375671386719,-34.54399871826172,13.015955924987793,18.727628707885742,32.79068374633789,6.171080589294434,-1.4502887725830078,29.769582748413086,24.100217819213867,37.18770217895508,22.930646896362305,42.3424186706543,12.750533103942871,-0.0008684132480993867,-9.121807098388672,3.581346273422241,36.44914245605469,-10.93521785736084,30.452402114868164,-0.3428632616996765,19.174291610717773,18.549814224243164,-22.682861328125,17.32209014892578,19.12375831604004,-47.19475555419922,-45.101837158203125,46.42626953125,40.33407211303711,26.652006149291992,-51.27099609375,-15.315555572509766,18.843509674072266,17.10413360595703,41.169342041015625,23.595256805419922,17.371559143066406,8.715248107910156,32.744293212890625,10.015393257141113,-9.30087661743164,-26.761886596679688,-57.46057891845703,3.098102331161499,12.651506423950195,-13.96667766571045,-13.610305786132812,-28.64036750793457,15.075740814208984,2.0781571865081787,-5.542538642883301,-11.59143352508545,11.2989501953125,-9.967894554138184,43.79104232788086,5.253620624542236,-0.6456877589225769,-13.057299613952637,-2.1377153396606445,-6.641321182250977,-1.5483193397521973,-9.167594909667969,30.390827178955078,13.214851379394531,14.681567192077637,15.010647773742676,10.737093925476074,6.326345920562744,-27.362934112548828,2.640873670578003,-36.611473083496094,-6.476267337799072,-28.816574096679688,8.922774314880371,-4.134880542755127,18.253948211669922,-12.207625389099121,-7.18255090713501,-4.771326065063477,-31.09690284729004],\"y\":[-5.782382488250732,-34.1923713684082,27.693222045898438,-30.043264389038086,-3.268944501876831,6.717346668243408,23.143423080444336,-32.611534118652344,32.04889678955078,1.5910453796386719,-20.972721099853516,-1.6361277103424072,3.817981004714966,-42.36272048950195,31.549150466918945,38.36881637573242,-24.197261810302734,-18.832666397094727,-34.9877815246582,-25.68328094482422,26.14952850341797,32.848819732666016,-28.19742774963379,-0.6582414507865906,25.92573356628418,13.948476791381836,-3.034842014312744,-37.46330642700195,22.96369743347168,46.223594665527344,-2.7538490295410156,-28.149789810180664,34.22943878173828,20.27739906311035,27.41747283935547,10.6490478515625,17.983680725097656,31.360376358032227,-5.755956172943115,29.407371520996094,21.254419326782227,12.69080638885498,-24.285959243774414,-11.793624877929688,-10.43358039855957,-14.883336067199707,-17.438386917114258,-17.832626342773438,19.59716033935547,26.41903305053711,20.44211769104004,0.5232377648353577,-3.899550437927246,32.92822265625,-18.741880416870117,3.9695186614990234,-4.732700824737549,21.416757583618164,-0.10646646469831467,21.578487396240234,45.29292297363281,32.62366485595703,23.92173957824707,-7.194156169891357,-26.164094924926758,28.650915145874023,-32.60422897338867,-3.665925979614258,32.88713455200195,-28.3050594329834,37.500526428222656,23.19859504699707,14.395608901977539,27.085407257080078,36.95161437988281,-20.58382797241211,7.870294570922852,-27.250675201416016,20.194664001464844,16.389015197753906,38.169647216796875,2.5568320751190186,-0.871864914894104,-7.774405002593994,19.56926918029785,35.627742767333984,16.935914993286133,25.427444458007812,-2.062594175338745,-18.287071228027344,-25.147939682006836,37.853511810302734,-2.591923475265503,1.571075439453125,12.649744033813477,15.305395126342773,-15.260079383850098,1.8014837503433228,-8.443002700805664,4.7045135498046875,-36.15867233276367,29.872896194458008,-28.42408561706543,-41.747886657714844,16.050537109375,-2.854363441467285,44.67841720581055,11.988271713256836,3.107752561569214,-5.031408786773682,12.00121784210205,-6.319246768951416,-6.37975549697876,-42.64573287963867,-21.946149826049805,-26.681066513061523,30.835067749023438,27.9477596282959,24.31148910522461,-2.024315595626831,0.10406099259853363,-15.132447242736816,4.697136878967285,-0.9307445287704468,29.86935806274414,23.82056427001953,22.24675941467285,20.500795364379883,-9.142706871032715,6.3656816482543945,23.920513153076172,-17.127727508544922,-40.57695388793945,-38.0914421081543,20.10614776611328,27.008811950683594,-4.843392848968506,45.75100326538086,-21.245487213134766,-32.408756256103516,-23.905323028564453,12.191213607788086,-12.455124855041504,4.162685871124268,11.753874778747559,-9.504895210266113,-8.124467849731445,-0.47830432653427124,-2.041245698928833,26.889638900756836,-9.058305740356445,-27.56358528137207,2.55641508102417,15.240302085876465,-3.440305233001709,31.41068458557129,19.48175048828125,-37.82448959350586,-17.483152389526367,23.62428092956543,-38.19510269165039,16.288280487060547,-0.9136776924133301,11.95727825164795,34.17302322387695,-14.931694030761719,-28.655858993530273,-11.283878326416016,46.138362884521484,-34.43938446044922,-41.89111328125,-37.786827087402344,-27.832143783569336,7.206423759460449,-7.399557113647461,-26.335102081298828,40.633235931396484,-26.20693016052246,6.780322074890137,35.55518341064453,33.49537658691406,18.910749435424805,31.79345703125,33.55445861816406,36.984642028808594,6.050134181976318,5.063847541809082,30.392606735229492,-12.70425796508789,-2.2880454063415527,-18.988914489746094,-30.6177978515625,-4.438406944274902,31.65584373474121,-36.815818786621094,-15.26392936706543,-11.896100997924805,34.29180908203125,-21.634912490844727,-29.189716339111328],\"z\":[28.933988571166992,-22.159902572631836,3.119684934616089,8.62922191619873,15.737512588500977,1.6414672136306763,27.349138259887695,20.326892852783203,-34.31980514526367,3.3967173099517822,31.785797119140625,50.7923698425293,-35.532894134521484,-15.816245079040527,-23.84228515625,21.31863021850586,-39.13017272949219,24.49306869506836,29.639217376708984,34.32378387451172,-18.782711029052734,16.295988082885742,26.45707130432129,5.138415336608887,9.585182189941406,-40.49138259887695,9.229203224182129,-20.14645004272461,8.253682136535645,7.712519645690918,-25.80888557434082,-24.440160751342773,3.3062846660614014,36.85820007324219,-8.876386642456055,18.328136444091797,3.272758722305298,-35.14423370361328,2.8552956581115723,4.001327991485596,41.77747344970703,-38.54975509643555,-5.908714771270752,20.87461280822754,-22.12625503540039,-6.782342910766602,-7.018595218658447,-5.740280628204346,2.8728833198547363,-26.33458137512207,22.81570816040039,-38.710670471191406,-49.24479293823242,6.326601982116699,-2.854055881500244,-10.132834434509277,-3.8174822330474854,26.397418975830078,-29.251161575317383,24.1817684173584,-5.053130149841309,-19.48720932006836,-24.75521469116211,3.623652696609497,-32.119300842285156,10.583422660827637,-32.68389892578125,-10.75549030303955,17.53150749206543,2.458447217941284,-11.226167678833008,27.681732177734375,-37.36077117919922,-37.67022705078125,-9.140408515930176,12.27314281463623,3.9320929050445557,-14.216288566589355,-15.298778533935547,-39.334754943847656,-17.812498092651367,-35.89737319946289,54.88352584838867,-8.999696731567383,27.820133209228516,2.892573356628418,-44.610721588134766,-31.36223793029785,51.674983978271484,3.3025007247924805,-14.097705841064453,-17.690732955932617,-5.22960901260376,55.61187744140625,-40.225830078125,15.726970672607422,32.91056823730469,-17.66193199157715,3.9404489994049072,-17.941097259521484,-2.971730947494507,-28.74662208557129,15.717446327209473,19.840208053588867,-16.949872970581055,51.43877410888672,7.238751411437988,43.649051666259766,43.0784912109375,-8.057342529296875,-19.537172317504883,9.239973068237305,-0.9080933332443237,-10.289453506469727,-44.63843536376953,-24.09885025024414,2.681572198867798,-10.316219329833984,27.57353973388672,1.0808181762695312,-0.5983726382255554,7.555840015411377,48.0225715637207,-40.393104553222656,6.39771032333374,38.37865447998047,-34.262577056884766,32.4162483215332,41.725982666015625,1.2880620956420898,-35.625511169433594,-5.085208415985107,-12.186423301696777,-35.684757232666016,-33.689697265625,-35.88514709472656,-6.324815273284912,-1.8270241022109985,-11.77225112915039,13.996418952941895,-8.919179916381836,-42.397762298583984,37.524837493896484,-47.121822357177734,36.29603576660156,11.702085494995117,-0.1489553451538086,-18.059751510620117,8.319086074829102,-8.55737590789795,10.370872497558594,11.267815589904785,-33.01008605957031,41.80890655517578,3.4564614295959473,0.4819810688495636,35.42842102050781,-5.557066917419434,-22.45097541809082,36.06205749511719,-6.804788112640381,-22.632125854492188,-16.699689865112305,51.71752166748047,9.312759399414062,20.562908172607422,18.156492233276367,-1.8341195583343506,-14.275901794433594,-1.9547282457351685,-5.488966464996338,-17.426029205322266,19.68779754638672,-36.16020584106445,4.104337215423584,-43.0184326171875,-3.091369867324829,25.502086639404297,55.2307014465332,-32.41360855102539,-33.27742004394531,37.7431640625,0.029756993055343628,-29.3317813873291,2.006723642349243,-18.714162826538086,-36.79894256591797,36.409278869628906,-11.583240509033203,-0.8728600740432739,-4.762843132019043,-39.673213958740234,-5.13582181930542,-33.08882141113281,9.168924331665039,21.42623519897461,-6.695716381072998,6.945638179779053,-31.12459945678711,-5.7114787101745605],\"type\":\"scatter3d\"}],                        {\"template\":{\"data\":{\"bar\":[{\"error_x\":{\"color\":\"#2a3f5f\"},\"error_y\":{\"color\":\"#2a3f5f\"},\"marker\":{\"line\":{\"color\":\"#E5ECF6\",\"width\":0.5},\"pattern\":{\"fillmode\":\"overlay\",\"size\":10,\"solidity\":0.2}},\"type\":\"bar\"}],\"barpolar\":[{\"marker\":{\"line\":{\"color\":\"#E5ECF6\",\"width\":0.5},\"pattern\":{\"fillmode\":\"overlay\",\"size\":10,\"solidity\":0.2}},\"type\":\"barpolar\"}],\"carpet\":[{\"aaxis\":{\"endlinecolor\":\"#2a3f5f\",\"gridcolor\":\"white\",\"linecolor\":\"white\",\"minorgridcolor\":\"white\",\"startlinecolor\":\"#2a3f5f\"},\"baxis\":{\"endlinecolor\":\"#2a3f5f\",\"gridcolor\":\"white\",\"linecolor\":\"white\",\"minorgridcolor\":\"white\",\"startlinecolor\":\"#2a3f5f\"},\"type\":\"carpet\"}],\"choropleth\":[{\"colorbar\":{\"outlinewidth\":0,\"ticks\":\"\"},\"type\":\"choropleth\"}],\"contour\":[{\"colorbar\":{\"outlinewidth\":0,\"ticks\":\"\"},\"colorscale\":[[0.0,\"#0d0887\"],[0.1111111111111111,\"#46039f\"],[0.2222222222222222,\"#7201a8\"],[0.3333333333333333,\"#9c179e\"],[0.4444444444444444,\"#bd3786\"],[0.5555555555555556,\"#d8576b\"],[0.6666666666666666,\"#ed7953\"],[0.7777777777777778,\"#fb9f3a\"],[0.8888888888888888,\"#fdca26\"],[1.0,\"#f0f921\"]],\"type\":\"contour\"}],\"contourcarpet\":[{\"colorbar\":{\"outlinewidth\":0,\"ticks\":\"\"},\"type\":\"contourcarpet\"}],\"heatmap\":[{\"colorbar\":{\"outlinewidth\":0,\"ticks\":\"\"},\"colorscale\":[[0.0,\"#0d0887\"],[0.1111111111111111,\"#46039f\"],[0.2222222222222222,\"#7201a8\"],[0.3333333333333333,\"#9c179e\"],[0.4444444444444444,\"#bd3786\"],[0.5555555555555556,\"#d8576b\"],[0.6666666666666666,\"#ed7953\"],[0.7777777777777778,\"#fb9f3a\"],[0.8888888888888888,\"#fdca26\"],[1.0,\"#f0f921\"]],\"type\":\"heatmap\"}],\"heatmapgl\":[{\"colorbar\":{\"outlinewidth\":0,\"ticks\":\"\"},\"colorscale\":[[0.0,\"#0d0887\"],[0.1111111111111111,\"#46039f\"],[0.2222222222222222,\"#7201a8\"],[0.3333333333333333,\"#9c179e\"],[0.4444444444444444,\"#bd3786\"],[0.5555555555555556,\"#d8576b\"],[0.6666666666666666,\"#ed7953\"],[0.7777777777777778,\"#fb9f3a\"],[0.8888888888888888,\"#fdca26\"],[1.0,\"#f0f921\"]],\"type\":\"heatmapgl\"}],\"histogram\":[{\"marker\":{\"pattern\":{\"fillmode\":\"overlay\",\"size\":10,\"solidity\":0.2}},\"type\":\"histogram\"}],\"histogram2d\":[{\"colorbar\":{\"outlinewidth\":0,\"ticks\":\"\"},\"colorscale\":[[0.0,\"#0d0887\"],[0.1111111111111111,\"#46039f\"],[0.2222222222222222,\"#7201a8\"],[0.3333333333333333,\"#9c179e\"],[0.4444444444444444,\"#bd3786\"],[0.5555555555555556,\"#d8576b\"],[0.6666666666666666,\"#ed7953\"],[0.7777777777777778,\"#fb9f3a\"],[0.8888888888888888,\"#fdca26\"],[1.0,\"#f0f921\"]],\"type\":\"histogram2d\"}],\"histogram2dcontour\":[{\"colorbar\":{\"outlinewidth\":0,\"ticks\":\"\"},\"colorscale\":[[0.0,\"#0d0887\"],[0.1111111111111111,\"#46039f\"],[0.2222222222222222,\"#7201a8\"],[0.3333333333333333,\"#9c179e\"],[0.4444444444444444,\"#bd3786\"],[0.5555555555555556,\"#d8576b\"],[0.6666666666666666,\"#ed7953\"],[0.7777777777777778,\"#fb9f3a\"],[0.8888888888888888,\"#fdca26\"],[1.0,\"#f0f921\"]],\"type\":\"histogram2dcontour\"}],\"mesh3d\":[{\"colorbar\":{\"outlinewidth\":0,\"ticks\":\"\"},\"type\":\"mesh3d\"}],\"parcoords\":[{\"line\":{\"colorbar\":{\"outlinewidth\":0,\"ticks\":\"\"}},\"type\":\"parcoords\"}],\"pie\":[{\"automargin\":true,\"type\":\"pie\"}],\"scatter\":[{\"marker\":{\"colorbar\":{\"outlinewidth\":0,\"ticks\":\"\"}},\"type\":\"scatter\"}],\"scatter3d\":[{\"line\":{\"colorbar\":{\"outlinewidth\":0,\"ticks\":\"\"}},\"marker\":{\"colorbar\":{\"outlinewidth\":0,\"ticks\":\"\"}},\"type\":\"scatter3d\"}],\"scattercarpet\":[{\"marker\":{\"colorbar\":{\"outlinewidth\":0,\"ticks\":\"\"}},\"type\":\"scattercarpet\"}],\"scattergeo\":[{\"marker\":{\"colorbar\":{\"outlinewidth\":0,\"ticks\":\"\"}},\"type\":\"scattergeo\"}],\"scattergl\":[{\"marker\":{\"colorbar\":{\"outlinewidth\":0,\"ticks\":\"\"}},\"type\":\"scattergl\"}],\"scattermapbox\":[{\"marker\":{\"colorbar\":{\"outlinewidth\":0,\"ticks\":\"\"}},\"type\":\"scattermapbox\"}],\"scatterpolar\":[{\"marker\":{\"colorbar\":{\"outlinewidth\":0,\"ticks\":\"\"}},\"type\":\"scatterpolar\"}],\"scatterpolargl\":[{\"marker\":{\"colorbar\":{\"outlinewidth\":0,\"ticks\":\"\"}},\"type\":\"scatterpolargl\"}],\"scatterternary\":[{\"marker\":{\"colorbar\":{\"outlinewidth\":0,\"ticks\":\"\"}},\"type\":\"scatterternary\"}],\"surface\":[{\"colorbar\":{\"outlinewidth\":0,\"ticks\":\"\"},\"colorscale\":[[0.0,\"#0d0887\"],[0.1111111111111111,\"#46039f\"],[0.2222222222222222,\"#7201a8\"],[0.3333333333333333,\"#9c179e\"],[0.4444444444444444,\"#bd3786\"],[0.5555555555555556,\"#d8576b\"],[0.6666666666666666,\"#ed7953\"],[0.7777777777777778,\"#fb9f3a\"],[0.8888888888888888,\"#fdca26\"],[1.0,\"#f0f921\"]],\"type\":\"surface\"}],\"table\":[{\"cells\":{\"fill\":{\"color\":\"#EBF0F8\"},\"line\":{\"color\":\"white\"}},\"header\":{\"fill\":{\"color\":\"#C8D4E3\"},\"line\":{\"color\":\"white\"}},\"type\":\"table\"}]},\"layout\":{\"annotationdefaults\":{\"arrowcolor\":\"#2a3f5f\",\"arrowhead\":0,\"arrowwidth\":1},\"autotypenumbers\":\"strict\",\"coloraxis\":{\"colorbar\":{\"outlinewidth\":0,\"ticks\":\"\"}},\"colorscale\":{\"diverging\":[[0,\"#8e0152\"],[0.1,\"#c51b7d\"],[0.2,\"#de77ae\"],[0.3,\"#f1b6da\"],[0.4,\"#fde0ef\"],[0.5,\"#f7f7f7\"],[0.6,\"#e6f5d0\"],[0.7,\"#b8e186\"],[0.8,\"#7fbc41\"],[0.9,\"#4d9221\"],[1,\"#276419\"]],\"sequential\":[[0.0,\"#0d0887\"],[0.1111111111111111,\"#46039f\"],[0.2222222222222222,\"#7201a8\"],[0.3333333333333333,\"#9c179e\"],[0.4444444444444444,\"#bd3786\"],[0.5555555555555556,\"#d8576b\"],[0.6666666666666666,\"#ed7953\"],[0.7777777777777778,\"#fb9f3a\"],[0.8888888888888888,\"#fdca26\"],[1.0,\"#f0f921\"]],\"sequentialminus\":[[0.0,\"#0d0887\"],[0.1111111111111111,\"#46039f\"],[0.2222222222222222,\"#7201a8\"],[0.3333333333333333,\"#9c179e\"],[0.4444444444444444,\"#bd3786\"],[0.5555555555555556,\"#d8576b\"],[0.6666666666666666,\"#ed7953\"],[0.7777777777777778,\"#fb9f3a\"],[0.8888888888888888,\"#fdca26\"],[1.0,\"#f0f921\"]]},\"colorway\":[\"#636efa\",\"#EF553B\",\"#00cc96\",\"#ab63fa\",\"#FFA15A\",\"#19d3f3\",\"#FF6692\",\"#B6E880\",\"#FF97FF\",\"#FECB52\"],\"font\":{\"color\":\"#2a3f5f\"},\"geo\":{\"bgcolor\":\"white\",\"lakecolor\":\"white\",\"landcolor\":\"#E5ECF6\",\"showlakes\":true,\"showland\":true,\"subunitcolor\":\"white\"},\"hoverlabel\":{\"align\":\"left\"},\"hovermode\":\"closest\",\"mapbox\":{\"style\":\"light\"},\"paper_bgcolor\":\"white\",\"plot_bgcolor\":\"#E5ECF6\",\"polar\":{\"angularaxis\":{\"gridcolor\":\"white\",\"linecolor\":\"white\",\"ticks\":\"\"},\"bgcolor\":\"#E5ECF6\",\"radialaxis\":{\"gridcolor\":\"white\",\"linecolor\":\"white\",\"ticks\":\"\"}},\"scene\":{\"xaxis\":{\"backgroundcolor\":\"#E5ECF6\",\"gridcolor\":\"white\",\"gridwidth\":2,\"linecolor\":\"white\",\"showbackground\":true,\"ticks\":\"\",\"zerolinecolor\":\"white\"},\"yaxis\":{\"backgroundcolor\":\"#E5ECF6\",\"gridcolor\":\"white\",\"gridwidth\":2,\"linecolor\":\"white\",\"showbackground\":true,\"ticks\":\"\",\"zerolinecolor\":\"white\"},\"zaxis\":{\"backgroundcolor\":\"#E5ECF6\",\"gridcolor\":\"white\",\"gridwidth\":2,\"linecolor\":\"white\",\"showbackground\":true,\"ticks\":\"\",\"zerolinecolor\":\"white\"}},\"shapedefaults\":{\"line\":{\"color\":\"#2a3f5f\"}},\"ternary\":{\"aaxis\":{\"gridcolor\":\"white\",\"linecolor\":\"white\",\"ticks\":\"\"},\"baxis\":{\"gridcolor\":\"white\",\"linecolor\":\"white\",\"ticks\":\"\"},\"bgcolor\":\"#E5ECF6\",\"caxis\":{\"gridcolor\":\"white\",\"linecolor\":\"white\",\"ticks\":\"\"}},\"title\":{\"x\":0.05},\"xaxis\":{\"automargin\":true,\"gridcolor\":\"white\",\"linecolor\":\"white\",\"ticks\":\"\",\"title\":{\"standoff\":15},\"zerolinecolor\":\"white\",\"zerolinewidth\":2},\"yaxis\":{\"automargin\":true,\"gridcolor\":\"white\",\"linecolor\":\"white\",\"ticks\":\"\",\"title\":{\"standoff\":15},\"zerolinecolor\":\"white\",\"zerolinewidth\":2}}},\"scene\":{\"domain\":{\"x\":[0.0,1.0],\"y\":[0.0,1.0]},\"xaxis\":{\"title\":{\"text\":\"x\"}},\"yaxis\":{\"title\":{\"text\":\"y\"}},\"zaxis\":{\"title\":{\"text\":\"z\"}}},\"legend\":{\"tracegroupgap\":0},\"margin\":{\"t\":60}},                        {\"responsive\": true}                    ).then(function(){\n",
              "                            \n",
              "var gd = document.getElementById('88a33b74-1f48-40ad-bc9e-ab34f4d8d4b2');\n",
              "var x = new MutationObserver(function (mutations, observer) {{\n",
              "        var display = window.getComputedStyle(gd).display;\n",
              "        if (!display || display === 'none') {{\n",
              "            console.log([gd, 'removed!']);\n",
              "            Plotly.purge(gd);\n",
              "            observer.disconnect();\n",
              "        }}\n",
              "}});\n",
              "\n",
              "// Listen for the removal of the full notebook cells\n",
              "var notebookContainer = gd.closest('#notebook-container');\n",
              "if (notebookContainer) {{\n",
              "    x.observe(notebookContainer, {childList: true});\n",
              "}}\n",
              "\n",
              "// Listen for the clearing of the current output cell\n",
              "var outputEl = gd.closest('.output');\n",
              "if (outputEl) {{\n",
              "    x.observe(outputEl, {childList: true});\n",
              "}}\n",
              "\n",
              "                        })                };                            </script>        </div>\n",
              "</body>\n",
              "</html>"
            ]
          },
          "metadata": {}
        }
      ]
    },
    {
      "cell_type": "code",
      "source": [
        ""
      ],
      "metadata": {
        "id": "oqgg6I1d2dMi"
      },
      "execution_count": null,
      "outputs": []
    }
  ]
}