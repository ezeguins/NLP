{
  "nbformat": 4,
  "nbformat_minor": 0,
  "metadata": {
    "colab": {
      "name": "1a - word2vec.ipynb",
      "provenance": [],
      "collapsed_sections": []
    },
    "kernelspec": {
      "name": "python3",
      "display_name": "Python 3"
    },
    "language_info": {
      "name": "python"
    }
  },
  "cells": [
    {
      "cell_type": "markdown",
      "metadata": {
        "id": "Ue5hxxkdAQJg"
      },
      "source": [
        "<img src=\"https://github.com/FIUBA-Posgrado-Inteligencia-Artificial/procesamiento_lenguaje_natural/raw/main/logoFIUBA.jpg\" width=\"500\" align=\"center\">\n",
        "\n",
        "\n",
        "# Procesamiento de lenguaje natural\n",
        "## Word2vect\n"
      ]
    },
    {
      "cell_type": "code",
      "metadata": {
        "id": "kCED1hh-Ioyf"
      },
      "source": [
        "import numpy as np"
      ],
      "execution_count": 245,
      "outputs": []
    },
    {
      "cell_type": "code",
      "source": [
        "corpus = []"
      ],
      "metadata": {
        "id": "kdQgUYXY3PTT"
      },
      "execution_count": 246,
      "outputs": []
    },
    {
      "cell_type": "code",
      "metadata": {
        "id": "PUbfVnzIIoMj"
      },
      "source": [
        "def cosine_similarity(a, b):\n",
        "    return np.dot(a, b) / (np.linalg.norm(a) * (np.linalg.norm(b)))"
      ],
      "execution_count": 247,
      "outputs": []
    },
    {
      "cell_type": "markdown",
      "metadata": {
        "id": "DMOa4JPSCJ29"
      },
      "source": [
        "### Datos"
      ]
    },
    {
      "cell_type": "code",
      "metadata": {
        "id": "RIO7b8GjAC17"
      },
      "source": [
        "corpus = np.array(['que dia es hoy', 'martes el dia de hoy es martes', 'martes muchas gracias'])"
      ],
      "execution_count": 248,
      "outputs": []
    },
    {
      "cell_type": "markdown",
      "metadata": {
        "id": "8WqdaTmO8P1r"
      },
      "source": [
        "Documento 1 --> que dia es hoy \\\n",
        "Documento 2 --> martes el dia de hoy es martes \\\n",
        "Documento 3 --> martes muchas gracias"
      ]
    },
    {
      "cell_type": "markdown",
      "metadata": {
        "id": "FVHxBRNzCMOS"
      },
      "source": [
        "### 1 - Obtener el vocabulario del corpus (los términos utilizados)\n",
        "- Cada documento transformarlo en una lista de términos\n",
        "- Armar un vector de términos no repetidos de todos los documentos"
      ]
    },
    {
      "cell_type": "code",
      "metadata": {
        "id": "3ZqTOZzDI7uv",
        "colab": {
          "base_uri": "https://localhost:8080/"
        },
        "outputId": "c1874bc0-72bc-40d2-e8ae-36f0e185bc05"
      },
      "source": [
        "d1 = corpus[0]\n",
        "t1 = np.char.split(d1,\" \")\n",
        "d2 = corpus[1]\n",
        "t2 = np.char.split(d2,\" \")\n",
        "d3 = corpus[2]\n",
        "t3 = np.char.split(d3,\" \")\n",
        "bow = set()\n",
        "for i in corpus:\n",
        "    bow.update(set(bow for bow in i.strip().split() ))\n",
        "print(bow)"
      ],
      "execution_count": 249,
      "outputs": [
        {
          "output_type": "stream",
          "name": "stdout",
          "text": [
            "{'es', 'dia', 'muchas', 'de', 'gracias', 'el', 'martes', 'hoy', 'que'}\n"
          ]
        }
      ]
    },
    {
      "cell_type": "code",
      "source": [
        "d2"
      ],
      "metadata": {
        "colab": {
          "base_uri": "https://localhost:8080/",
          "height": 36
        },
        "id": "TrYVT1RxSfI5",
        "outputId": "e1470d6c-48f6-44cb-9cfe-ac9c4b4c00b3"
      },
      "execution_count": 250,
      "outputs": [
        {
          "output_type": "execute_result",
          "data": {
            "text/plain": [
              "'martes el dia de hoy es martes'"
            ],
            "application/vnd.google.colaboratory.intrinsic+json": {
              "type": "string"
            }
          },
          "metadata": {},
          "execution_count": 250
        }
      ]
    },
    {
      "cell_type": "markdown",
      "metadata": {
        "id": "RUhH983FI7It"
      },
      "source": [
        "### 2- OneHot encoding\n",
        "Data una lista de textos, devolver una matriz con la representación oneHotEncoding de estos"
      ]
    },
    {
      "cell_type": "code",
      "metadata": {
        "id": "Os0AAQo6I6Z1"
      },
      "source": [
        "def onehotenc(corpus_):\n",
        "  bow = set()\n",
        "  for i in corpus_:\n",
        "    bow.update(set(bow for bow in i.strip().split() ))\n",
        "  size = len(bow)\n",
        "  ohe = np.zeros((len(corpus_), size))\n",
        "  for id, doc in enumerate(corpus_):\n",
        "\n",
        "    #print(id)\n",
        "\n",
        "    for i in doc.split():\n",
        "      \n",
        "      #print(i)\n",
        "      for idx, bw in enumerate(bow):\n",
        "        if i == bw:\n",
        "          ohe[id,idx] = 1\n",
        " \n",
        "  return ohe\n"
      ],
      "execution_count": 251,
      "outputs": []
    },
    {
      "cell_type": "code",
      "source": [
        "ohe = onehotenc(corpus)\n",
        "print('matriz de One Hot Encoding:\\n', ohe)"
      ],
      "metadata": {
        "colab": {
          "base_uri": "https://localhost:8080/"
        },
        "id": "MaHxAxp9BYY6",
        "outputId": "adc0c43b-2fd1-4e03-9bf5-60850167b2d8"
      },
      "execution_count": 252,
      "outputs": [
        {
          "output_type": "stream",
          "name": "stdout",
          "text": [
            "matriz de One Hot Encoding:\n",
            " [[1. 1. 0. 0. 0. 0. 0. 1. 1.]\n",
            " [1. 1. 0. 1. 0. 1. 1. 1. 0.]\n",
            " [0. 0. 1. 0. 1. 0. 1. 0. 0.]]\n"
          ]
        }
      ]
    },
    {
      "cell_type": "code",
      "source": [
        "ohe.shape"
      ],
      "metadata": {
        "colab": {
          "base_uri": "https://localhost:8080/"
        },
        "id": "am-nXyYYBmx-",
        "outputId": "479768af-7712-4c53-c56f-e4b0f9865ba2"
      },
      "execution_count": 253,
      "outputs": [
        {
          "output_type": "execute_result",
          "data": {
            "text/plain": [
              "(3, 9)"
            ]
          },
          "metadata": {},
          "execution_count": 253
        }
      ]
    },
    {
      "cell_type": "markdown",
      "metadata": {
        "id": "IIyWGmCpJVQL"
      },
      "source": [
        "### 3- Vectores de frecuencia\n",
        "Data una lista de textos, devolver una matriz con la representación de frecuencia de estos"
      ]
    },
    {
      "cell_type": "code",
      "metadata": {
        "id": "yqij_7eHJbUi"
      },
      "source": [
        "def frecu(corpus_):\n",
        "  bow = set()\n",
        "  for i in corpus_:\n",
        "    bow.update(set(bow for bow in i.strip().split() ))\n",
        "  size = len(bow)\n",
        " \n",
        "  frec = np.zeros((len(corpus_), size))\n",
        "  for id, doc in enumerate(corpus_):\n",
        "\n",
        "    #print(id)\n",
        "\n",
        "    for i in doc.split():\n",
        "      \n",
        "      #print(i)\n",
        "      for idx, bw in enumerate(bow):\n",
        "        if i == bw:\n",
        "          frec[id,idx] += 1\n",
        "\n",
        "  return frec"
      ],
      "execution_count": 254,
      "outputs": []
    },
    {
      "cell_type": "code",
      "source": [
        "frec = frecu(corpus)\n",
        "print('matriz de Frecuencia:\\n', frec)"
      ],
      "metadata": {
        "colab": {
          "base_uri": "https://localhost:8080/"
        },
        "id": "AxMHOl2bVw9K",
        "outputId": "502d0474-e27e-49ed-db23-d717c526f8e4"
      },
      "execution_count": 255,
      "outputs": [
        {
          "output_type": "stream",
          "name": "stdout",
          "text": [
            "matriz de Frecuencia:\n",
            " [[1. 1. 0. 0. 0. 0. 0. 1. 1.]\n",
            " [1. 1. 0. 1. 0. 1. 2. 1. 0.]\n",
            " [0. 0. 1. 0. 1. 0. 1. 0. 0.]]\n"
          ]
        }
      ]
    },
    {
      "cell_type": "markdown",
      "metadata": {
        "id": "z_Ot8HvWJcBu"
      },
      "source": [
        "### 4- TF-IDF\n",
        "Data una lista de textos, devolver una matriz con la representacion TFIDF"
      ]
    },
    {
      "cell_type": "code",
      "metadata": {
        "id": "waG_oWtpJjRw"
      },
      "source": [
        "def idf(corpus_):\n",
        "  ohe_ = onehotenc(corpus_)\n",
        "  sum = np.zeros(ohe.shape[1])\n",
        "  for cols in range(ohe.shape[1]):\n",
        "    sum[cols] = np.sum(ohe_[:,cols])\n",
        "  return np.log10(ohe.shape[0]/sum)\n",
        "\n",
        "\n"
      ],
      "execution_count": 256,
      "outputs": []
    },
    {
      "cell_type": "code",
      "source": [
        "idf(corpus)\n",
        "TF_IDF = frecu(corpus)*idf(corpus)\n",
        "print('Matriz de TF-IDF: \\n,', TF_IDF)\n"
      ],
      "metadata": {
        "colab": {
          "base_uri": "https://localhost:8080/"
        },
        "id": "HmUYfsPDXnIQ",
        "outputId": "4ef2ffd2-0ea5-4db7-c27d-a8b726e30f32"
      },
      "execution_count": 257,
      "outputs": [
        {
          "output_type": "stream",
          "name": "stdout",
          "text": [
            "Matriz de TF-IDF: \n",
            ", [[0.17609126 0.17609126 0.         0.         0.         0.\n",
            "  0.         0.17609126 0.47712125]\n",
            " [0.17609126 0.17609126 0.         0.47712125 0.         0.47712125\n",
            "  0.35218252 0.17609126 0.        ]\n",
            " [0.         0.         0.47712125 0.         0.47712125 0.\n",
            "  0.17609126 0.         0.        ]]\n"
          ]
        }
      ]
    },
    {
      "cell_type": "markdown",
      "metadata": {
        "id": "xMcsfndWJjm_"
      },
      "source": [
        "### 5 - Comparación de documentos\n",
        "Realizar una funcion que reciba el corpus y el índice de un documento y devuelva los documentos ordenados por la similitud coseno"
      ]
    },
    {
      "cell_type": "code",
      "metadata": {
        "id": "CZdiop6IJpZN"
      },
      "source": [
        "def simcoseno(corpus_, doc_idx):\n",
        "  tfidf = frecu(corpus_)*idf(corpus_)\n",
        "  index = np.zeros(len(corpus_))\n",
        "  for i in range(len(corpus_)):\n",
        "    sc = cosine_similarity(tfidf[doc_idx,:],tfidf[i,:])\n",
        "    print('valor de similitud de coseno del documento {} vs documento {}: {}'.format(doc_idx, i, sc))\n",
        "    #index[i] = sc\n",
        "  return index.argsort()[::-1][:len(corpus_)]"
      ],
      "execution_count": 258,
      "outputs": []
    },
    {
      "cell_type": "code",
      "source": [
        "a= simcoseno(corpus,2)"
      ],
      "metadata": {
        "colab": {
          "base_uri": "https://localhost:8080/"
        },
        "id": "L-_A2sRvljzK",
        "outputId": "fe548628-3596-422c-eb5d-1dfddd560f18"
      },
      "execution_count": 259,
      "outputs": [
        {
          "output_type": "stream",
          "name": "stdout",
          "text": [
            "valor de similitud de coseno del documento 2 vs documento 0: 0.0\n",
            "valor de similitud de coseno del documento 2 vs documento 1: 0.10845711727883083\n",
            "valor de similitud de coseno del documento 2 vs documento 2: 1.0\n"
          ]
        }
      ]
    },
    {
      "cell_type": "code",
      "source": [
        "print('El ínidice de similitud de coseno para los documentos del corpus es: \\n', a)"
      ],
      "metadata": {
        "colab": {
          "base_uri": "https://localhost:8080/"
        },
        "id": "nWxcaaI4lmkk",
        "outputId": "2467354c-fde3-42fd-b061-c62f501a8f86"
      },
      "execution_count": 260,
      "outputs": [
        {
          "output_type": "stream",
          "name": "stdout",
          "text": [
            "El ínidice de similitud de coseno para los documentos del corpus es: \n",
            " [2 1 0]\n"
          ]
        }
      ]
    },
    {
      "cell_type": "code",
      "source": [
        ""
      ],
      "metadata": {
        "id": "E8CPiyhou6EJ"
      },
      "execution_count": 260,
      "outputs": []
    }
  ]
}